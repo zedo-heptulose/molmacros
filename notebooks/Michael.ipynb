{
 "cells": [
  {
   "cell_type": "code",
   "execution_count": 1,
   "id": "2daa81e2-0b4e-415f-b49b-11c0f35b05e6",
   "metadata": {},
   "outputs": [
    {
     "name": "stdout",
     "output_type": "stream",
     "text": [
      "/gpfs/home/gdb20/code/mol_maker/MolMakerClean\n"
     ]
    }
   ],
   "source": [
    "cd MolMakerClean"
   ]
  },
  {
   "cell_type": "code",
   "execution_count": 2,
   "id": "5384eadd-9c13-4039-af32-162714bb4062",
   "metadata": {},
   "outputs": [],
   "source": [
    "import numpy as np\n",
    "import os\n",
    "import molecule as mol\n",
    "import utilities as util\n",
    "import mol_tree as mt \n",
    "import unitcell"
   ]
  },
  {
   "cell_type": "code",
   "execution_count": 3,
   "id": "991b4a37-25b1-4fa2-bb38-b64c63a19ff2",
   "metadata": {},
   "outputs": [
    {
     "name": "stdout",
     "output_type": "stream",
     "text": [
      "cyclopentadienyl.json\n",
      "tbu.json\n",
      "halfcore.json\n",
      "pyrrole.json\n",
      "p_quinodimethane.json\n",
      "sp3.json\n",
      "big_core.json\n",
      "furan.json\n",
      "sp.json\n",
      "thiophene.json\n",
      "benzene.json\n",
      "alkyne.json\n",
      "alkene.json\n",
      "diphenylmethylene.json\n",
      "i2.json\n",
      "benzophenalenyl.json\n",
      "coronene.json\n",
      "sp2.json\n",
      "triphenylene.json\n"
     ]
    }
   ],
   "source": [
    "path = '../data/lib/gen'\n",
    "newtemp = {}\n",
    "for file in [file for file in os.listdir(path) if not file.startswith('.')]:\n",
    "    print(file)\n",
    "    #newtemp[file.split('.')[0]] = mol.Molecule(filename=f'{path}/{file}').copy()\n",
    "    mol_obj = mol.Molecule(filename=f'{path}/{file}')\n",
    "    copied_mol = mol_obj.copy()\n",
    "    newtemp[file.split('.')[0]] = copied_mol\n"
   ]
  },
  {
   "cell_type": "code",
   "execution_count": 4,
   "id": "bff5ec7c-3498-45bb-9d38-0b4973001ccb",
   "metadata": {},
   "outputs": [
    {
     "data": {
      "text/plain": [
       "{'cyclopentadienyl': <molecule.Molecule at 0x150e36a51b50>,\n",
       " 'tbu': <molecule.Molecule at 0x150e2b2d9950>,\n",
       " 'halfcore': <molecule.Molecule at 0x150e36311110>,\n",
       " 'pyrrole': <molecule.Molecule at 0x150e2a4a46d0>,\n",
       " 'p_quinodimethane': <molecule.Molecule at 0x150e29c5dd50>,\n",
       " 'sp3': <molecule.Molecule at 0x150e29c5ec90>,\n",
       " 'furan': <molecule.Molecule at 0x150e29c5ed10>,\n",
       " 'sp': <molecule.Molecule at 0x150e29c5ff90>,\n",
       " 'thiophene': <molecule.Molecule at 0x150e29c5ff50>,\n",
       " 'benzene': <molecule.Molecule at 0x150e29c5ca90>,\n",
       " 'alkyne': <molecule.Molecule at 0x150e29c5fad0>,\n",
       " 'alkene': <molecule.Molecule at 0x150e29c65590>,\n",
       " 'diphenylmethylene': <molecule.Molecule at 0x150e29c655d0>,\n",
       " 'i2': <molecule.Molecule at 0x150e36c1e610>,\n",
       " 'benzophenalenyl': <molecule.Molecule at 0x150e36f7e750>,\n",
       " 'coronene': <molecule.Molecule at 0x150e29bb59d0>,\n",
       " 'sp2': <molecule.Molecule at 0x150e29c64ed0>,\n",
       " 'triphenylene': <molecule.Molecule at 0x150e29c67510>}"
      ]
     },
     "execution_count": 4,
     "metadata": {},
     "output_type": "execute_result"
    }
   ],
   "source": [
    "newtemp"
   ]
  },
  {
   "cell_type": "code",
   "execution_count": 5,
   "id": "d1eed641-3ddc-4589-9113-2068c56a6dab",
   "metadata": {},
   "outputs": [],
   "source": [
    "benzene = newtemp['benzene']"
   ]
  },
  {
   "cell_type": "code",
   "execution_count": 6,
   "id": "be067171-23c0-40d4-8f4d-a8661fb1f3c0",
   "metadata": {
    "scrolled": true
   },
   "outputs": [],
   "source": [
    "benzene.active_site = '1b'\n",
    "nap = benzene.add_across_bond(benzene)\n",
    "nap.active_site = '4b'\n",
    "anthracene = benzene.add_across_bond(nap)\n",
    "anthracene.active_site = '2b'\n",
    "benzophenalenyl = anthracene.add_across_bond(benzene)\n",
    "benzophenalenyl.name = 'benzophenalenyl'\n",
    "benzophenalenyl = benzophenalenyl.collapse_atom_numbers()"
   ]
  },
  {
   "cell_type": "code",
   "execution_count": 7,
   "id": "42a91667-e14c-422c-935c-85379362c8ef",
   "metadata": {},
   "outputs": [
    {
     "name": "stdout",
     "output_type": "stream",
     "text": [
      "1:['H26', 'C23', 'C10']\n",
      "2:['H27', 'C24', 'C23']\n",
      "3:['H28', 'C25', 'C24']\n",
      "4:['H9', 'C3', 'C4']\n",
      "5:['H8', 'C2', 'C3']\n",
      "6:['H7', 'C1', 'C2']\n",
      "7:['H14', 'C11', 'C6']\n",
      "8:['H22', 'C18', 'C12']\n",
      "9:['H21', 'C17', 'C18']\n",
      "10:['H20', 'C16', 'C17']\n",
      "11:['H19', 'C15', 'C16']\n",
      "1b:['C23', 'C24', 'C10']\n",
      "2b:['C24', 'C25', 'C23']\n"
     ]
    }
   ],
   "source": [
    "benzophenalenyl.inplace = True\n",
    "benzophenalenyl.reset_sites()\n",
    "benzophenalenyl.add_bonding_site('1',['H26','C23','C10'],update=True)\n",
    "benzophenalenyl.add_bonding_site('2',['H27','C24','C23'],update=True)\n",
    "benzophenalenyl.add_bonding_site('3',['H28','C25','C24'],update=True)\n",
    "benzophenalenyl.add_bonding_site('4',['H9','C3','C4'],update=True)\n",
    "benzophenalenyl.add_bonding_site('5',['H8','C2','C3'],update=True)\n",
    "benzophenalenyl.add_bonding_site('6',['H7','C1','C2'],update=True)\n",
    "benzophenalenyl.add_bonding_site('7',['H14','C11','C6'],update=True)\n",
    "benzophenalenyl.add_bonding_site('8',['H22','C18','C12'],update=True)\n",
    "benzophenalenyl.add_bonding_site('9',['H21','C17','C18'],update=True)\n",
    "benzophenalenyl.add_bonding_site('10',['H20','C16','C17'],update=True)\n",
    "benzophenalenyl.add_bonding_site('11',['H19','C15','C16'],update=True)\n",
    "benzophenalenyl.add_bonding_site('1b',['C23','C24','C10'],update=True)\n",
    "benzophenalenyl.add_bonding_site('2b',['C24','C25','C23'],update=True)\n",
    "benzophenalenyl.write_json()\n",
    "benzophenalenyl.print_sites()\n",
    "benzophenalenyl.inplace=False"
   ]
  },
  {
   "cell_type": "code",
   "execution_count": 8,
   "id": "f1eb21cd-b434-41f1-8d4d-d2b3208c903e",
   "metadata": {},
   "outputs": [],
   "source": [
    "alkyne = newtemp['alkyne']\n",
    "alkene = newtemp['alkene']\n"
   ]
  },
  {
   "cell_type": "code",
   "execution_count": null,
   "id": "62e8bb73-154b-4526-bc41-c76602faefc0",
   "metadata": {},
   "outputs": [],
   "source": [
    "benzophenalenyl.active_site = '2'\n",
    "alkyne.active_site = '1'\n",
    "nomy_frag1 = alkyne.add_group(benzophenalenyl)\n",
    "nomy_frag1.active_site = '2'\n",
    "nomy = nomy_frag1.add_group(benzophenalenyl)\n",
    "nomy.name = 'nomy'\n",
    "nomy.write_xyz(directory='../data/mike/mike_molecules')\n",
    "nomy.show()"
   ]
  },
  {
   "cell_type": "code",
   "execution_count": 10,
   "id": "55e45956-6c53-4f11-b698-45134ddc1e3e",
   "metadata": {},
   "outputs": [],
   "source": [
    "benzene = newtemp['benzene']\n",
    "benzene.active_site = '1'\n",
    "nomph_frag1 = benzene.add_group(benzophenalenyl,dihedral_angle=1)\n",
    "nomph_frag1.active_site = '4'\n",
    "nomph = nomph_frag1.add_group(benzophenalenyl,dihedral_angle=1)\n",
    "nomph.name = 'nomph'\n",
    "nomph.write_xyz(directory='../data/mike/mike_molecules')"
   ]
  },
  {
   "cell_type": "code",
   "execution_count": 11,
   "id": "a57123a7-58b6-48a1-b5de-e515ea37c2cd",
   "metadata": {},
   "outputs": [],
   "source": [
    "noby = nomy_frag1.add_group(nomy_frag1)\n",
    "noby.name = 'noby'\n",
    "noby.write_xyz(directory='../data/mike/mike_molecules')"
   ]
  },
  {
   "cell_type": "code",
   "execution_count": 12,
   "id": "e350d04a-d695-48b6-bd07-69bc55c409b9",
   "metadata": {},
   "outputs": [],
   "source": [
    "alkene.active_site = '1'\n",
    "nome_frag1 = alkene.add_group(benzophenalenyl,dihedral_angle=0.5)\n",
    "nome_frag1.active_site = '4'\n",
    "nome = nome_frag1.add_group(benzophenalenyl,dihedral_angle=0.5)\n",
    "nome.name = 'nome'\n",
    "nome.write_xyz(directory='../data/mike/mike_molecules')"
   ]
  },
  {
   "cell_type": "code",
   "execution_count": 13,
   "id": "6a7c5cc9-f922-47d5-a5fe-a029d0692793",
   "metadata": {},
   "outputs": [],
   "source": [
    "benzophenalenyl.active_site = '3'\n",
    "nomy2_frag1 = alkyne.add_group(benzophenalenyl)\n",
    "nomy2_frag1.active_site = '2'\n",
    "nomy2 = nomy2_frag1.add_group(benzophenalenyl)\n",
    "nomy2.name = 'nomy2'\n",
    "nomy2.write_xyz(directory='../data/mike/mike_molecules')"
   ]
  },
  {
   "cell_type": "code",
   "execution_count": 14,
   "id": "10d942ec-0fec-4cdb-87ae-75fe5fce74c4",
   "metadata": {},
   "outputs": [],
   "source": [
    "nody2 = nomy2_frag1.add_group(nomy2_frag1)\n",
    "nody2.name = 'nody2'\n",
    "nody2.write_xyz(directory='../data/mike/mike_molecules')"
   ]
  },
  {
   "cell_type": "code",
   "execution_count": 15,
   "id": "3a375d40-cb02-46f5-af20-828faf9ac566",
   "metadata": {},
   "outputs": [],
   "source": [
    "alkene.active_site = '1'\n",
    "nome2_frag1 = alkene.add_group(benzophenalenyl,dihedral_angle=3.14)\n",
    "nome2_frag1.active_site = '4'\n",
    "nome2 = nome2_frag1.add_group(benzophenalenyl,dihedral_angle=3.14)\n",
    "nome2.name = 'nome2'\n",
    "nome2.write_xyz(directory='../data/mike/mike_molecules')"
   ]
  },
  {
   "cell_type": "code",
   "execution_count": 16,
   "id": "97aa97ea-5318-4393-b517-be37b6c3f6e1",
   "metadata": {},
   "outputs": [],
   "source": [
    "benzene.active_site = '1b'\n",
    "benzophenalenyl.active_site='2b'\n",
    "ncmy_frag1 = benzene.add_across_bond(benzophenalenyl)\n",
    "ncmy_frag1.active_site = '5b'\n",
    "ncmy = ncmy_frag1.add_across_bond(ncmy_frag1,reverse=True)\n",
    "ncmy.name = 'ncmy'\n",
    "ncmy.write_xyz(directory='../data/mike/mike_molecules')"
   ]
  },
  {
   "cell_type": "code",
   "execution_count": 17,
   "id": "37f3b73f-eb82-44e3-9d25-9b9822da727b",
   "metadata": {},
   "outputs": [],
   "source": [
    "benzene.active_site = '1'\n",
    "benzophenalenyl.active_site = '3'\n",
    "ph_bz_1 = benzophenalenyl.add_group(benzene,dihedral_angle=-1)\n",
    "ph_bz_2 = benzophenalenyl.add_group(benzene,dihedral_angle=1)"
   ]
  },
  {
   "cell_type": "code",
   "execution_count": 18,
   "id": "80371ea7-cd32-4d11-867c-9473386fe1d0",
   "metadata": {},
   "outputs": [],
   "source": [
    "alkene.active_site = '1'\n",
    "ph_bz_1.active_site = '2'\n",
    "ph_bz_2.active_site = '2'\n",
    "npome_frag1 = alkene.add_group(ph_bz_1,dihedral_angle=-1)\n",
    "npome_frag1.active_site = '4'\n",
    "npome = npome_frag1.add_group(ph_bz_2,dihedral_angle=1)\n",
    "npome.name = 'npome'\n",
    "npome.write_xyz(directory='../data/mike/mike_molecules')"
   ]
  },
  {
   "cell_type": "code",
   "execution_count": null,
   "id": "3af05d28-2059-4f38-a286-d9103042c6ae",
   "metadata": {
    "editable": true,
    "slideshow": {
     "slide_type": ""
    },
    "tags": []
   },
   "outputs": [],
   "source": [
    "npome.inplace=True\n",
    "npome.add_bonding_site('1',['H19','C16','C11'],update=True)\n",
    "npome.add_bonding_site('2',['H56','C53','C48'],update=True)\n",
    "npome.inplace=False\n",
    "npome1 = npome.bs('1').add_group(alkyne).bs('2').add_group(alkyne)\n",
    "npome1.show()\n",
    "npome1.name = 'npome'\n",
    "npome1.write_xyz(directory='../data/mike/mike_molecules')"
   ]
  },
  {
   "cell_type": "code",
   "execution_count": 4,
   "id": "a7a86dc6-fca2-443e-9e5c-8b9837240f1a",
   "metadata": {},
   "outputs": [
    {
     "data": {
      "text/plain": [
       "{'1b': ['C19', 'C20', 'C4'],\n",
       " '2b': ['C19', 'C20', 'C4'],\n",
       " '3b': ['C20', 'C21', 'C19'],\n",
       " '4b': ['C27', 'C28', 'C2'],\n",
       " '5b': ['C28', 'C29', 'C27'],\n",
       " '6b': ['C29', 'C30', 'C28'],\n",
       " '7b': ['C11', 'C12', 'C6'],\n",
       " '8b': ['C12', 'C13', 'C11'],\n",
       " '9b': ['C13', 'C14', 'C12']}"
      ]
     },
     "execution_count": 4,
     "metadata": {},
     "output_type": "execute_result"
    }
   ],
   "source": [
    "triphenylene = newtemp['triphenylene'].copy()\n",
    "triphenylene.sites"
   ]
  },
  {
   "cell_type": "code",
   "execution_count": 5,
   "id": "47417e7c-ebfe-4f03-b266-15a545d15d5a",
   "metadata": {},
   "outputs": [
    {
     "data": {
      "text/plain": [
       "False"
      ]
     },
     "execution_count": 5,
     "metadata": {},
     "output_type": "execute_result"
    }
   ],
   "source": [
    "triphenylene.inplace"
   ]
  },
  {
   "cell_type": "code",
   "execution_count": 6,
   "id": "118fbf1d-9bc0-4476-b3db-29a5e6724959",
   "metadata": {},
   "outputs": [
    {
     "data": {
      "text/plain": [
       "<molecule.Molecule at 0x14e5c6746410>"
      ]
     },
     "execution_count": 6,
     "metadata": {},
     "output_type": "execute_result"
    }
   ],
   "source": [
    "triphenylene.add_bonding_site('1i',['C1','C2','C6'])\n",
    "triphenylene.add_bonding_site('2i',['C2','C3','C1'])\n",
    "triphenylene.add_bonding_site('3i',['C3','C4','C2'])"
   ]
  },
  {
   "cell_type": "code",
   "execution_count": 8,
   "id": "c115bd50-e491-4d51-8187-6cda73f0b585",
   "metadata": {},
   "outputs": [
    {
     "data": {
      "application/vnd.plotly.v1+json": {
       "config": {
        "plotlyServerURL": "https://plot.ly"
       },
       "data": [
        {
         "hoverinfo": "text",
         "marker": {
          "color": [
           "black",
           "black",
           "black",
           "black",
           "black",
           "black",
           "black",
           "black",
           "black",
           "black",
           "white",
           "white",
           "white",
           "black",
           "black",
           "black",
           "black",
           "white",
           "white",
           "white",
           "black",
           "black",
           "black",
           "black",
           "black",
           "black",
           "black",
           "black",
           "black",
           "black",
           "black",
           "black",
           "white",
           "white",
           "white",
           "black",
           "black",
           "black",
           "black",
           "white",
           "white",
           "white",
           "black",
           "black",
           "black",
           "black",
           "black",
           "black",
           "black",
           "black",
           "white",
           "white",
           "white",
           "black",
           "black",
           "black",
           "black",
           "white",
           "white",
           "white"
          ],
          "colorscale": [
           [
            0,
            "#440154"
           ],
           [
            0.1111111111111111,
            "#482878"
           ],
           [
            0.2222222222222222,
            "#3e4989"
           ],
           [
            0.3333333333333333,
            "#31688e"
           ],
           [
            0.4444444444444444,
            "#26828e"
           ],
           [
            0.5555555555555556,
            "#1f9e89"
           ],
           [
            0.6666666666666666,
            "#35b779"
           ],
           [
            0.7777777777777778,
            "#6ece58"
           ],
           [
            0.8888888888888888,
            "#b5de2b"
           ],
           [
            1,
            "#fde725"
           ]
          ],
          "opacity": 0.8,
          "size": 3
         },
         "mode": "markers+text",
         "text": [
          "C1",
          "C2",
          "C3",
          "C4",
          "C5",
          "C6",
          "C11",
          "C12",
          "C13",
          "C14",
          "H16",
          "H17",
          "H18",
          "C19",
          "C20",
          "C21",
          "C22",
          "H23",
          "H24",
          "H25",
          "C27",
          "C28",
          "C29",
          "C30",
          "C35",
          "C36",
          "C39",
          "C40",
          "C41",
          "C42",
          "C43",
          "C44",
          "H45",
          "H46",
          "H47",
          "C53",
          "C54",
          "C55",
          "C56",
          "H58",
          "H59",
          "H60",
          "C61",
          "C62",
          "C65",
          "C66",
          "C67",
          "C68",
          "C69",
          "C70",
          "H71",
          "H72",
          "H73",
          "C79",
          "C80",
          "C81",
          "C82",
          "H84",
          "H85",
          "H86"
         ],
         "type": "scatter3d",
         "x": [
          0.68103,
          -0.70601,
          -1.38702,
          -0.68101,
          0.70603,
          1.38704,
          2.7740507721474907,
          3.480070443054662,
          2.7990512669000918,
          1.412040494752601,
          4.561272493543597,
          3.3493898811703238,
          0.8811803619729295,
          -1.362018811423403,
          -2.749058620450002,
          -3.4550708381922015,
          -2.7740620267687977,
          -0.8116905088837088,
          -3.280017493450736,
          -4.536264715902161,
          -1.4120008540260884,
          -0.7309776664617227,
          0.6560444857267476,
          1.3620353397528357,
          2.7240788114234027,
          1.337038811423403,
          2.749078811423403,
          3.4300888114234027,
          4.817099583570894,
          5.523119254478065,
          4.842100078323495,
          3.4550893061760037,
          5.347977963638467,
          6.604321304967,
          5.392438692593727,
          0.6310479573973147,
          1.3120711449616804,
          2.6990932971501502,
          3.405084151176239,
          0.7618418561132925,
          3.229944854516045,
          4.486271650768528,
          -2.824104763249048,
          -1.4370651453847214,
          -2.7990743254890464,
          -3.505099470666229,
          -4.892109756446731,
          -5.573113520628473,
          -4.8670798478911905,
          -3.480069562110688,
          -5.442478106371368,
          -6.654309257557514,
          -5.397922734937029,
          -0.7560898610675566,
          -1.4621286782202543,
          -2.8491511146434085,
          -3.530126398960573,
          -0.9313971983258416,
          -3.399506322939441,
          -4.611323744217975
         ],
         "y": [
          -0.09218,
          -0.03513,
          0.05706,
          0.09219,
          0.03513,
          -0.05705,
          -0.11409875093839378,
          -0.07896735281534562,
          0.01320388924854226,
          0.07025264018693606,
          -0.12338877073001644,
          0.040538752960631703,
          0.14198336402304731,
          0.18436983911691374,
          0.24142125252170643,
          0.2062812317448231,
          0.11410139262790939,
          0.21187042982569654,
          0.3133209680931068,
          0.2507028173356929,
          -0.07026193938351726,
          -0.16244372442291916,
          -0.21950217127998,
          -0.18437023189646273,
          -0.3687298391169137,
          -0.3116798391169137,
          -0.24141983911691373,
          -0.3335998391169137,
          -0.3906485900553075,
          -0.35551719193225934,
          -0.26334594986837145,
          -0.20629719892997767,
          -0.4623890766482048,
          -0.39993860984693014,
          -0.23601108615628202,
          -0.346811778500431,
          -0.4389935635398329,
          -0.49605201039689373,
          -0.46092007101337645,
          -0.4663439705500325,
          -0.5679571541002575,
          -0.5055149742362923,
          -0.14052318440924924,
          -0.19757601121106602,
          -0.013214436368433988,
          -0.04834321479605995,
          0.00870845239306614,
          0.10089059043173838,
          0.13600988273799186,
          0.07895821554886577,
          -0.018558433814376912,
          0.14541243810521925,
          0.2078156638641142,
          -0.2897563337931888,
          -0.324885792479587,
          -0.26784285335027425,
          -0.1756625307681515,
          -0.3966980377806338,
          -0.29527604047214207,
          -0.13131470075376012
         ],
         "z": [
          1.2062,
          1.19479,
          -0.01142,
          -1.2062,
          -1.19478,
          0.01142,
          0.02282365569419366,
          -1.1719846391205222,
          -2.378190891859311,
          -2.3895945475535045,
          -1.1632104355115391,
          -3.3095410373303693,
          -3.3298478768127513,
          -2.4123978948017046,
          -2.423824031680406,
          -1.229031954522818,
          -0.022834059721113853,
          -3.3437478339945126,
          -3.364016155175675,
          -1.2379426299233607,
          2.3895812563568026,
          3.5958046140756865,
          3.607209143032394,
          2.4124178866755916,
          4.824797894801705,
          4.813387894801704,
          2.4238178948017044,
          3.630017894801705,
          3.6414215504958984,
          2.446613255681182,
          1.2404070029423937,
          1.2290033472482,
          4.58166177536412,
          2.4553874592901654,
          0.30905685747133527,
          6.008179151158507,
          7.214402508877391,
          7.225807037834099,
          6.031015781477296,
          8.145824973675065,
          8.16605123640764,
          6.03990317884161,
          4.779093146791004,
          4.790535420546851,
          2.3781133975307522,
          3.572887299071844,
          3.561439163414404,
          2.355204866605978,
          1.160424858165508,
          1.171872993822948,
          4.492772309296039,
          2.346165700371901,
          0.22016817104772723,
          5.996752206899044,
          7.191549244895883,
          7.180101788660224,
          5.973885002308032,
          8.131876432992616,
          8.111439237464776,
          5.9649591364473915
         ]
        },
        {
         "line": {
          "color": "black",
          "width": 3
         },
         "mode": "lines",
         "type": "scatter3d",
         "x": [
          0.68103,
          -0.70601
         ],
         "y": [
          -0.09218,
          -0.03513
         ],
         "z": [
          1.2062,
          1.19479
         ]
        },
        {
         "line": {
          "color": "black",
          "width": 3
         },
         "mode": "lines",
         "type": "scatter3d",
         "x": [
          0.68103,
          1.38704
         ],
         "y": [
          -0.09218,
          -0.05705
         ],
         "z": [
          1.2062,
          0.01142
         ]
        },
        {
         "line": {
          "color": "black",
          "width": 3
         },
         "mode": "lines",
         "type": "scatter3d",
         "x": [
          0.68103,
          1.3620353397528357
         ],
         "y": [
          -0.09218,
          -0.18437023189646273
         ],
         "z": [
          1.2062,
          2.4124178866755916
         ]
        },
        {
         "line": {
          "color": "black",
          "width": 3
         },
         "mode": "lines",
         "type": "scatter3d",
         "x": [
          -0.70601,
          -1.38702
         ],
         "y": [
          -0.03513,
          0.05706
         ],
         "z": [
          1.19479,
          -0.01142
         ]
        },
        {
         "line": {
          "color": "black",
          "width": 3
         },
         "mode": "lines",
         "type": "scatter3d",
         "x": [
          -0.70601,
          -1.4120008540260884
         ],
         "y": [
          -0.03513,
          -0.07026193938351726
         ],
         "z": [
          1.19479,
          2.3895812563568026
         ]
        },
        {
         "line": {
          "color": "black",
          "width": 3
         },
         "mode": "lines",
         "type": "scatter3d",
         "x": [
          -1.38702,
          -0.68101
         ],
         "y": [
          0.05706,
          0.09219
         ],
         "z": [
          -0.01142,
          -1.2062
         ]
        },
        {
         "line": {
          "color": "black",
          "width": 3
         },
         "mode": "lines",
         "type": "scatter3d",
         "x": [
          -1.38702,
          -2.7740620267687977
         ],
         "y": [
          0.05706,
          0.11410139262790939
         ],
         "z": [
          -0.01142,
          -0.022834059721113853
         ]
        },
        {
         "line": {
          "color": "black",
          "width": 3
         },
         "mode": "lines",
         "type": "scatter3d",
         "x": [
          -0.68101,
          0.70603
         ],
         "y": [
          0.09219,
          0.03513
         ],
         "z": [
          -1.2062,
          -1.19478
         ]
        },
        {
         "line": {
          "color": "black",
          "width": 3
         },
         "mode": "lines",
         "type": "scatter3d",
         "x": [
          -0.68101,
          -1.362018811423403
         ],
         "y": [
          0.09219,
          0.18436983911691374
         ],
         "z": [
          -1.2062,
          -2.4123978948017046
         ]
        },
        {
         "line": {
          "color": "black",
          "width": 3
         },
         "mode": "lines",
         "type": "scatter3d",
         "x": [
          0.70603,
          1.38704
         ],
         "y": [
          0.03513,
          -0.05705
         ],
         "z": [
          -1.19478,
          0.01142
         ]
        },
        {
         "line": {
          "color": "black",
          "width": 3
         },
         "mode": "lines",
         "type": "scatter3d",
         "x": [
          0.70603,
          1.412040494752601
         ],
         "y": [
          0.03513,
          0.07025264018693606
         ],
         "z": [
          -1.19478,
          -2.3895945475535045
         ]
        },
        {
         "line": {
          "color": "black",
          "width": 3
         },
         "mode": "lines",
         "type": "scatter3d",
         "x": [
          1.38704,
          2.7740507721474907
         ],
         "y": [
          -0.05705,
          -0.11409875093839378
         ],
         "z": [
          0.01142,
          0.02282365569419366
         ]
        },
        {
         "line": {
          "color": "black",
          "width": 3
         },
         "mode": "lines",
         "type": "scatter3d",
         "x": [
          2.7740507721474907,
          3.480070443054662
         ],
         "y": [
          -0.11409875093839378,
          -0.07896735281534562
         ],
         "z": [
          0.02282365569419366,
          -1.1719846391205222
         ]
        },
        {
         "line": {
          "color": "black",
          "width": 3
         },
         "mode": "lines",
         "type": "scatter3d",
         "x": [
          2.7740507721474907,
          3.4550893061760037
         ],
         "y": [
          -0.11409875093839378,
          -0.20629719892997767
         ],
         "z": [
          0.02282365569419366,
          1.2290033472482
         ]
        },
        {
         "line": {
          "color": "black",
          "width": 3
         },
         "mode": "lines",
         "type": "scatter3d",
         "x": [
          3.480070443054662,
          2.7990512669000918
         ],
         "y": [
          -0.07896735281534562,
          0.01320388924854226
         ],
         "z": [
          -1.1719846391205222,
          -2.378190891859311
         ]
        },
        {
         "line": {
          "color": "black",
          "width": 3
         },
         "mode": "lines",
         "type": "scatter3d",
         "x": [
          3.480070443054662,
          4.561272493543597
         ],
         "y": [
          -0.07896735281534562,
          -0.12338877073001644
         ],
         "z": [
          -1.1719846391205222,
          -1.1632104355115391
         ]
        },
        {
         "line": {
          "color": "black",
          "width": 3
         },
         "mode": "lines",
         "type": "scatter3d",
         "x": [
          2.7990512669000918,
          1.412040494752601
         ],
         "y": [
          0.01320388924854226,
          0.07025264018693606
         ],
         "z": [
          -2.378190891859311,
          -2.3895945475535045
         ]
        },
        {
         "line": {
          "color": "black",
          "width": 3
         },
         "mode": "lines",
         "type": "scatter3d",
         "x": [
          2.7990512669000918,
          3.3493898811703238
         ],
         "y": [
          0.01320388924854226,
          0.040538752960631703
         ],
         "z": [
          -2.378190891859311,
          -3.3095410373303693
         ]
        },
        {
         "line": {
          "color": "black",
          "width": 3
         },
         "mode": "lines",
         "type": "scatter3d",
         "x": [
          1.412040494752601,
          0.8811803619729295
         ],
         "y": [
          0.07025264018693606,
          0.14198336402304731
         ],
         "z": [
          -2.3895945475535045,
          -3.3298478768127513
         ]
        },
        {
         "line": {
          "color": "black",
          "width": 3
         },
         "mode": "lines",
         "type": "scatter3d",
         "x": [
          -1.362018811423403,
          -2.749058620450002
         ],
         "y": [
          0.18436983911691374,
          0.24142125252170643
         ],
         "z": [
          -2.4123978948017046,
          -2.423824031680406
         ]
        },
        {
         "line": {
          "color": "black",
          "width": 3
         },
         "mode": "lines",
         "type": "scatter3d",
         "x": [
          -1.362018811423403,
          -0.8116905088837088
         ],
         "y": [
          0.18436983911691374,
          0.21187042982569654
         ],
         "z": [
          -2.4123978948017046,
          -3.3437478339945126
         ]
        },
        {
         "line": {
          "color": "black",
          "width": 3
         },
         "mode": "lines",
         "type": "scatter3d",
         "x": [
          -2.749058620450002,
          -3.4550708381922015
         ],
         "y": [
          0.24142125252170643,
          0.2062812317448231
         ],
         "z": [
          -2.423824031680406,
          -1.229031954522818
         ]
        },
        {
         "line": {
          "color": "black",
          "width": 3
         },
         "mode": "lines",
         "type": "scatter3d",
         "x": [
          -2.749058620450002,
          -3.280017493450736
         ],
         "y": [
          0.24142125252170643,
          0.3133209680931068
         ],
         "z": [
          -2.423824031680406,
          -3.364016155175675
         ]
        },
        {
         "line": {
          "color": "black",
          "width": 3
         },
         "mode": "lines",
         "type": "scatter3d",
         "x": [
          -3.4550708381922015,
          -2.7740620267687977
         ],
         "y": [
          0.2062812317448231,
          0.11410139262790939
         ],
         "z": [
          -1.229031954522818,
          -0.022834059721113853
         ]
        },
        {
         "line": {
          "color": "black",
          "width": 3
         },
         "mode": "lines",
         "type": "scatter3d",
         "x": [
          -3.4550708381922015,
          -4.536264715902161
         ],
         "y": [
          0.2062812317448231,
          0.2507028173356929
         ],
         "z": [
          -1.229031954522818,
          -1.2379426299233607
         ]
        },
        {
         "line": {
          "color": "black",
          "width": 3
         },
         "mode": "lines",
         "type": "scatter3d",
         "x": [
          -2.7740620267687977,
          -3.480069562110688
         ],
         "y": [
          0.11410139262790939,
          0.07895821554886577
         ],
         "z": [
          -0.022834059721113853,
          1.171872993822948
         ]
        },
        {
         "line": {
          "color": "black",
          "width": 3
         },
         "mode": "lines",
         "type": "scatter3d",
         "x": [
          -1.4120008540260884,
          -0.7309776664617227
         ],
         "y": [
          -0.07026193938351726,
          -0.16244372442291916
         ],
         "z": [
          2.3895812563568026,
          3.5958046140756865
         ]
        },
        {
         "line": {
          "color": "black",
          "width": 3
         },
         "mode": "lines",
         "type": "scatter3d",
         "x": [
          -1.4120008540260884,
          -2.7990743254890464
         ],
         "y": [
          -0.07026193938351726,
          -0.013214436368433988
         ],
         "z": [
          2.3895812563568026,
          2.3781133975307522
         ]
        },
        {
         "line": {
          "color": "black",
          "width": 3
         },
         "mode": "lines",
         "type": "scatter3d",
         "x": [
          -0.7309776664617227,
          0.6560444857267476
         ],
         "y": [
          -0.16244372442291916,
          -0.21950217127998
         ],
         "z": [
          3.5958046140756865,
          3.607209143032394
         ]
        },
        {
         "line": {
          "color": "black",
          "width": 3
         },
         "mode": "lines",
         "type": "scatter3d",
         "x": [
          -0.7309776664617227,
          -1.4370651453847214
         ],
         "y": [
          -0.16244372442291916,
          -0.19757601121106602
         ],
         "z": [
          3.5958046140756865,
          4.790535420546851
         ]
        },
        {
         "line": {
          "color": "black",
          "width": 3
         },
         "mode": "lines",
         "type": "scatter3d",
         "x": [
          0.6560444857267476,
          1.3620353397528357
         ],
         "y": [
          -0.21950217127998,
          -0.18437023189646273
         ],
         "z": [
          3.607209143032394,
          2.4124178866755916
         ]
        },
        {
         "line": {
          "color": "black",
          "width": 3
         },
         "mode": "lines",
         "type": "scatter3d",
         "x": [
          0.6560444857267476,
          1.337038811423403
         ],
         "y": [
          -0.21950217127998,
          -0.3116798391169137
         ],
         "z": [
          3.607209143032394,
          4.813387894801704
         ]
        },
        {
         "line": {
          "color": "black",
          "width": 3
         },
         "mode": "lines",
         "type": "scatter3d",
         "x": [
          1.3620353397528357,
          2.749078811423403
         ],
         "y": [
          -0.18437023189646273,
          -0.24141983911691373
         ],
         "z": [
          2.4124178866755916,
          2.4238178948017044
         ]
        },
        {
         "line": {
          "color": "black",
          "width": 3
         },
         "mode": "lines",
         "type": "scatter3d",
         "x": [
          2.7240788114234027,
          1.337038811423403
         ],
         "y": [
          -0.3687298391169137,
          -0.3116798391169137
         ],
         "z": [
          4.824797894801705,
          4.813387894801704
         ]
        },
        {
         "line": {
          "color": "black",
          "width": 3
         },
         "mode": "lines",
         "type": "scatter3d",
         "x": [
          2.7240788114234027,
          3.4300888114234027
         ],
         "y": [
          -0.3687298391169137,
          -0.3335998391169137
         ],
         "z": [
          4.824797894801705,
          3.630017894801705
         ]
        },
        {
         "line": {
          "color": "black",
          "width": 3
         },
         "mode": "lines",
         "type": "scatter3d",
         "x": [
          2.7240788114234027,
          3.405084151176239
         ],
         "y": [
          -0.3687298391169137,
          -0.46092007101337645
         ],
         "z": [
          4.824797894801705,
          6.031015781477296
         ]
        },
        {
         "line": {
          "color": "black",
          "width": 3
         },
         "mode": "lines",
         "type": "scatter3d",
         "x": [
          1.337038811423403,
          0.6310479573973147
         ],
         "y": [
          -0.3116798391169137,
          -0.346811778500431
         ],
         "z": [
          4.813387894801704,
          6.008179151158507
         ]
        },
        {
         "line": {
          "color": "black",
          "width": 3
         },
         "mode": "lines",
         "type": "scatter3d",
         "x": [
          2.749078811423403,
          3.4300888114234027
         ],
         "y": [
          -0.24141983911691373,
          -0.3335998391169137
         ],
         "z": [
          2.4238178948017044,
          3.630017894801705
         ]
        },
        {
         "line": {
          "color": "black",
          "width": 3
         },
         "mode": "lines",
         "type": "scatter3d",
         "x": [
          2.749078811423403,
          3.4550893061760037
         ],
         "y": [
          -0.24141983911691373,
          -0.20629719892997767
         ],
         "z": [
          2.4238178948017044,
          1.2290033472482
         ]
        },
        {
         "line": {
          "color": "black",
          "width": 3
         },
         "mode": "lines",
         "type": "scatter3d",
         "x": [
          3.4300888114234027,
          4.817099583570894
         ],
         "y": [
          -0.3335998391169137,
          -0.3906485900553075
         ],
         "z": [
          3.630017894801705,
          3.6414215504958984
         ]
        },
        {
         "line": {
          "color": "black",
          "width": 3
         },
         "mode": "lines",
         "type": "scatter3d",
         "x": [
          4.817099583570894,
          5.523119254478065
         ],
         "y": [
          -0.3906485900553075,
          -0.35551719193225934
         ],
         "z": [
          3.6414215504958984,
          2.446613255681182
         ]
        },
        {
         "line": {
          "color": "black",
          "width": 3
         },
         "mode": "lines",
         "type": "scatter3d",
         "x": [
          4.817099583570894,
          5.347977963638467
         ],
         "y": [
          -0.3906485900553075,
          -0.4623890766482048
         ],
         "z": [
          3.6414215504958984,
          4.58166177536412
         ]
        },
        {
         "line": {
          "color": "black",
          "width": 3
         },
         "mode": "lines",
         "type": "scatter3d",
         "x": [
          5.523119254478065,
          4.842100078323495
         ],
         "y": [
          -0.35551719193225934,
          -0.26334594986837145
         ],
         "z": [
          2.446613255681182,
          1.2404070029423937
         ]
        },
        {
         "line": {
          "color": "black",
          "width": 3
         },
         "mode": "lines",
         "type": "scatter3d",
         "x": [
          5.523119254478065,
          6.604321304967
         ],
         "y": [
          -0.35551719193225934,
          -0.39993860984693014
         ],
         "z": [
          2.446613255681182,
          2.4553874592901654
         ]
        },
        {
         "line": {
          "color": "black",
          "width": 3
         },
         "mode": "lines",
         "type": "scatter3d",
         "x": [
          4.842100078323495,
          3.4550893061760037
         ],
         "y": [
          -0.26334594986837145,
          -0.20629719892997767
         ],
         "z": [
          1.2404070029423937,
          1.2290033472482
         ]
        },
        {
         "line": {
          "color": "black",
          "width": 3
         },
         "mode": "lines",
         "type": "scatter3d",
         "x": [
          4.842100078323495,
          5.392438692593727
         ],
         "y": [
          -0.26334594986837145,
          -0.23601108615628202
         ],
         "z": [
          1.2404070029423937,
          0.30905685747133527
         ]
        },
        {
         "line": {
          "color": "black",
          "width": 3
         },
         "mode": "lines",
         "type": "scatter3d",
         "x": [
          0.6310479573973147,
          1.3120711449616804
         ],
         "y": [
          -0.346811778500431,
          -0.4389935635398329
         ],
         "z": [
          6.008179151158507,
          7.214402508877391
         ]
        },
        {
         "line": {
          "color": "black",
          "width": 3
         },
         "mode": "lines",
         "type": "scatter3d",
         "x": [
          0.6310479573973147,
          -0.7560898610675566
         ],
         "y": [
          -0.346811778500431,
          -0.2897563337931888
         ],
         "z": [
          6.008179151158507,
          5.996752206899044
         ]
        },
        {
         "line": {
          "color": "black",
          "width": 3
         },
         "mode": "lines",
         "type": "scatter3d",
         "x": [
          1.3120711449616804,
          2.6990932971501502
         ],
         "y": [
          -0.4389935635398329,
          -0.49605201039689373
         ],
         "z": [
          7.214402508877391,
          7.225807037834099
         ]
        },
        {
         "line": {
          "color": "black",
          "width": 3
         },
         "mode": "lines",
         "type": "scatter3d",
         "x": [
          1.3120711449616804,
          0.7618418561132925
         ],
         "y": [
          -0.4389935635398329,
          -0.4663439705500325
         ],
         "z": [
          7.214402508877391,
          8.145824973675065
         ]
        },
        {
         "line": {
          "color": "black",
          "width": 3
         },
         "mode": "lines",
         "type": "scatter3d",
         "x": [
          2.6990932971501502,
          3.405084151176239
         ],
         "y": [
          -0.49605201039689373,
          -0.46092007101337645
         ],
         "z": [
          7.225807037834099,
          6.031015781477296
         ]
        },
        {
         "line": {
          "color": "black",
          "width": 3
         },
         "mode": "lines",
         "type": "scatter3d",
         "x": [
          2.6990932971501502,
          3.229944854516045
         ],
         "y": [
          -0.49605201039689373,
          -0.5679571541002575
         ],
         "z": [
          7.225807037834099,
          8.16605123640764
         ]
        },
        {
         "line": {
          "color": "black",
          "width": 3
         },
         "mode": "lines",
         "type": "scatter3d",
         "x": [
          3.405084151176239,
          4.486271650768528
         ],
         "y": [
          -0.46092007101337645,
          -0.5055149742362923
         ],
         "z": [
          6.031015781477296,
          6.03990317884161
         ]
        },
        {
         "line": {
          "color": "black",
          "width": 3
         },
         "mode": "lines",
         "type": "scatter3d",
         "x": [
          -2.824104763249048,
          -1.4370651453847214
         ],
         "y": [
          -0.14052318440924924,
          -0.19757601121106602
         ],
         "z": [
          4.779093146791004,
          4.790535420546851
         ]
        },
        {
         "line": {
          "color": "black",
          "width": 3
         },
         "mode": "lines",
         "type": "scatter3d",
         "x": [
          -2.824104763249048,
          -3.505099470666229
         ],
         "y": [
          -0.14052318440924924,
          -0.04834321479605995
         ],
         "z": [
          4.779093146791004,
          3.572887299071844
         ]
        },
        {
         "line": {
          "color": "black",
          "width": 3
         },
         "mode": "lines",
         "type": "scatter3d",
         "x": [
          -2.824104763249048,
          -3.530126398960573
         ],
         "y": [
          -0.14052318440924924,
          -0.1756625307681515
         ],
         "z": [
          4.779093146791004,
          5.973885002308032
         ]
        },
        {
         "line": {
          "color": "black",
          "width": 3
         },
         "mode": "lines",
         "type": "scatter3d",
         "x": [
          -1.4370651453847214,
          -0.7560898610675566
         ],
         "y": [
          -0.19757601121106602,
          -0.2897563337931888
         ],
         "z": [
          4.790535420546851,
          5.996752206899044
         ]
        },
        {
         "line": {
          "color": "black",
          "width": 3
         },
         "mode": "lines",
         "type": "scatter3d",
         "x": [
          -2.7990743254890464,
          -3.505099470666229
         ],
         "y": [
          -0.013214436368433988,
          -0.04834321479605995
         ],
         "z": [
          2.3781133975307522,
          3.572887299071844
         ]
        },
        {
         "line": {
          "color": "black",
          "width": 3
         },
         "mode": "lines",
         "type": "scatter3d",
         "x": [
          -2.7990743254890464,
          -3.480069562110688
         ],
         "y": [
          -0.013214436368433988,
          0.07895821554886577
         ],
         "z": [
          2.3781133975307522,
          1.171872993822948
         ]
        },
        {
         "line": {
          "color": "black",
          "width": 3
         },
         "mode": "lines",
         "type": "scatter3d",
         "x": [
          -3.505099470666229,
          -4.892109756446731
         ],
         "y": [
          -0.04834321479605995,
          0.00870845239306614
         ],
         "z": [
          3.572887299071844,
          3.561439163414404
         ]
        },
        {
         "line": {
          "color": "black",
          "width": 3
         },
         "mode": "lines",
         "type": "scatter3d",
         "x": [
          -4.892109756446731,
          -5.573113520628473
         ],
         "y": [
          0.00870845239306614,
          0.10089059043173838
         ],
         "z": [
          3.561439163414404,
          2.355204866605978
         ]
        },
        {
         "line": {
          "color": "black",
          "width": 3
         },
         "mode": "lines",
         "type": "scatter3d",
         "x": [
          -4.892109756446731,
          -5.442478106371368
         ],
         "y": [
          0.00870845239306614,
          -0.018558433814376912
         ],
         "z": [
          3.561439163414404,
          4.492772309296039
         ]
        },
        {
         "line": {
          "color": "black",
          "width": 3
         },
         "mode": "lines",
         "type": "scatter3d",
         "x": [
          -5.573113520628473,
          -4.8670798478911905
         ],
         "y": [
          0.10089059043173838,
          0.13600988273799186
         ],
         "z": [
          2.355204866605978,
          1.160424858165508
         ]
        },
        {
         "line": {
          "color": "black",
          "width": 3
         },
         "mode": "lines",
         "type": "scatter3d",
         "x": [
          -5.573113520628473,
          -6.654309257557514
         ],
         "y": [
          0.10089059043173838,
          0.14541243810521925
         ],
         "z": [
          2.355204866605978,
          2.346165700371901
         ]
        },
        {
         "line": {
          "color": "black",
          "width": 3
         },
         "mode": "lines",
         "type": "scatter3d",
         "x": [
          -4.8670798478911905,
          -3.480069562110688
         ],
         "y": [
          0.13600988273799186,
          0.07895821554886577
         ],
         "z": [
          1.160424858165508,
          1.171872993822948
         ]
        },
        {
         "line": {
          "color": "black",
          "width": 3
         },
         "mode": "lines",
         "type": "scatter3d",
         "x": [
          -4.8670798478911905,
          -5.397922734937029
         ],
         "y": [
          0.13600988273799186,
          0.2078156638641142
         ],
         "z": [
          1.160424858165508,
          0.22016817104772723
         ]
        },
        {
         "line": {
          "color": "black",
          "width": 3
         },
         "mode": "lines",
         "type": "scatter3d",
         "x": [
          -0.7560898610675566,
          -1.4621286782202543
         ],
         "y": [
          -0.2897563337931888,
          -0.324885792479587
         ],
         "z": [
          5.996752206899044,
          7.191549244895883
         ]
        },
        {
         "line": {
          "color": "black",
          "width": 3
         },
         "mode": "lines",
         "type": "scatter3d",
         "x": [
          -1.4621286782202543,
          -2.8491511146434085
         ],
         "y": [
          -0.324885792479587,
          -0.26784285335027425
         ],
         "z": [
          7.191549244895883,
          7.180101788660224
         ]
        },
        {
         "line": {
          "color": "black",
          "width": 3
         },
         "mode": "lines",
         "type": "scatter3d",
         "x": [
          -1.4621286782202543,
          -0.9313971983258416
         ],
         "y": [
          -0.324885792479587,
          -0.3966980377806338
         ],
         "z": [
          7.191549244895883,
          8.131876432992616
         ]
        },
        {
         "line": {
          "color": "black",
          "width": 3
         },
         "mode": "lines",
         "type": "scatter3d",
         "x": [
          -2.8491511146434085,
          -3.530126398960573
         ],
         "y": [
          -0.26784285335027425,
          -0.1756625307681515
         ],
         "z": [
          7.180101788660224,
          5.973885002308032
         ]
        },
        {
         "line": {
          "color": "black",
          "width": 3
         },
         "mode": "lines",
         "type": "scatter3d",
         "x": [
          -2.8491511146434085,
          -3.399506322939441
         ],
         "y": [
          -0.26784285335027425,
          -0.29527604047214207
         ],
         "z": [
          7.180101788660224,
          8.111439237464776
         ]
        },
        {
         "line": {
          "color": "black",
          "width": 3
         },
         "mode": "lines",
         "type": "scatter3d",
         "x": [
          -3.530126398960573,
          -4.611323744217975
         ],
         "y": [
          -0.1756625307681515,
          -0.13131470075376012
         ],
         "z": [
          5.973885002308032,
          5.9649591364473915
         ]
        }
       ],
       "layout": {
        "autosize": false,
        "height": 500,
        "margin": {
         "b": 100,
         "l": 50,
         "pad": 10,
         "r": 50,
         "t": 100
        },
        "paper_bgcolor": "rgba(140,140,140,0.5)",
        "plot_bgcolor": "rgba(0,100,140,0.5)",
        "scene": {
         "aspectmode": "data",
         "aspectratio": {
          "x": 2.58633137458684,
          "y": 0.17190894990377398,
          "z": 2.2491444274976904
         },
         "camera": {
          "center": {
           "x": 0,
           "y": 0,
           "z": 0
          },
          "eye": {
           "x": 0.28527107246008765,
           "y": 3.228246590743253,
           "z": 0.7341809252223228
          },
          "projection": {
           "type": "perspective"
          },
          "up": {
           "x": 0,
           "y": 0,
           "z": 1
          }
         },
         "xaxis": {
          "gridcolor": "red",
          "showbackground": false,
          "showgrid": true,
          "type": "linear",
          "zeroline": true,
          "zerolinecolor": "green"
         },
         "yaxis": {
          "gridcolor": "red",
          "showbackground": false,
          "showgrid": true,
          "type": "linear",
          "zeroline": true,
          "zerolinecolor": "green"
         },
         "zaxis": {
          "gridcolor": "red",
          "showbackground": false,
          "showgrid": true,
          "type": "linear",
          "zeroline": true,
          "zerolinecolor": "green"
         }
        },
        "showlegend": false,
        "template": {
         "data": {
          "bar": [
           {
            "error_x": {
             "color": "#2a3f5f"
            },
            "error_y": {
             "color": "#2a3f5f"
            },
            "marker": {
             "line": {
              "color": "#E5ECF6",
              "width": 0.5
             },
             "pattern": {
              "fillmode": "overlay",
              "size": 10,
              "solidity": 0.2
             }
            },
            "type": "bar"
           }
          ],
          "barpolar": [
           {
            "marker": {
             "line": {
              "color": "#E5ECF6",
              "width": 0.5
             },
             "pattern": {
              "fillmode": "overlay",
              "size": 10,
              "solidity": 0.2
             }
            },
            "type": "barpolar"
           }
          ],
          "carpet": [
           {
            "aaxis": {
             "endlinecolor": "#2a3f5f",
             "gridcolor": "white",
             "linecolor": "white",
             "minorgridcolor": "white",
             "startlinecolor": "#2a3f5f"
            },
            "baxis": {
             "endlinecolor": "#2a3f5f",
             "gridcolor": "white",
             "linecolor": "white",
             "minorgridcolor": "white",
             "startlinecolor": "#2a3f5f"
            },
            "type": "carpet"
           }
          ],
          "choropleth": [
           {
            "colorbar": {
             "outlinewidth": 0,
             "ticks": ""
            },
            "type": "choropleth"
           }
          ],
          "contour": [
           {
            "colorbar": {
             "outlinewidth": 0,
             "ticks": ""
            },
            "colorscale": [
             [
              0,
              "#0d0887"
             ],
             [
              0.1111111111111111,
              "#46039f"
             ],
             [
              0.2222222222222222,
              "#7201a8"
             ],
             [
              0.3333333333333333,
              "#9c179e"
             ],
             [
              0.4444444444444444,
              "#bd3786"
             ],
             [
              0.5555555555555556,
              "#d8576b"
             ],
             [
              0.6666666666666666,
              "#ed7953"
             ],
             [
              0.7777777777777778,
              "#fb9f3a"
             ],
             [
              0.8888888888888888,
              "#fdca26"
             ],
             [
              1,
              "#f0f921"
             ]
            ],
            "type": "contour"
           }
          ],
          "contourcarpet": [
           {
            "colorbar": {
             "outlinewidth": 0,
             "ticks": ""
            },
            "type": "contourcarpet"
           }
          ],
          "heatmap": [
           {
            "colorbar": {
             "outlinewidth": 0,
             "ticks": ""
            },
            "colorscale": [
             [
              0,
              "#0d0887"
             ],
             [
              0.1111111111111111,
              "#46039f"
             ],
             [
              0.2222222222222222,
              "#7201a8"
             ],
             [
              0.3333333333333333,
              "#9c179e"
             ],
             [
              0.4444444444444444,
              "#bd3786"
             ],
             [
              0.5555555555555556,
              "#d8576b"
             ],
             [
              0.6666666666666666,
              "#ed7953"
             ],
             [
              0.7777777777777778,
              "#fb9f3a"
             ],
             [
              0.8888888888888888,
              "#fdca26"
             ],
             [
              1,
              "#f0f921"
             ]
            ],
            "type": "heatmap"
           }
          ],
          "heatmapgl": [
           {
            "colorbar": {
             "outlinewidth": 0,
             "ticks": ""
            },
            "colorscale": [
             [
              0,
              "#0d0887"
             ],
             [
              0.1111111111111111,
              "#46039f"
             ],
             [
              0.2222222222222222,
              "#7201a8"
             ],
             [
              0.3333333333333333,
              "#9c179e"
             ],
             [
              0.4444444444444444,
              "#bd3786"
             ],
             [
              0.5555555555555556,
              "#d8576b"
             ],
             [
              0.6666666666666666,
              "#ed7953"
             ],
             [
              0.7777777777777778,
              "#fb9f3a"
             ],
             [
              0.8888888888888888,
              "#fdca26"
             ],
             [
              1,
              "#f0f921"
             ]
            ],
            "type": "heatmapgl"
           }
          ],
          "histogram": [
           {
            "marker": {
             "pattern": {
              "fillmode": "overlay",
              "size": 10,
              "solidity": 0.2
             }
            },
            "type": "histogram"
           }
          ],
          "histogram2d": [
           {
            "colorbar": {
             "outlinewidth": 0,
             "ticks": ""
            },
            "colorscale": [
             [
              0,
              "#0d0887"
             ],
             [
              0.1111111111111111,
              "#46039f"
             ],
             [
              0.2222222222222222,
              "#7201a8"
             ],
             [
              0.3333333333333333,
              "#9c179e"
             ],
             [
              0.4444444444444444,
              "#bd3786"
             ],
             [
              0.5555555555555556,
              "#d8576b"
             ],
             [
              0.6666666666666666,
              "#ed7953"
             ],
             [
              0.7777777777777778,
              "#fb9f3a"
             ],
             [
              0.8888888888888888,
              "#fdca26"
             ],
             [
              1,
              "#f0f921"
             ]
            ],
            "type": "histogram2d"
           }
          ],
          "histogram2dcontour": [
           {
            "colorbar": {
             "outlinewidth": 0,
             "ticks": ""
            },
            "colorscale": [
             [
              0,
              "#0d0887"
             ],
             [
              0.1111111111111111,
              "#46039f"
             ],
             [
              0.2222222222222222,
              "#7201a8"
             ],
             [
              0.3333333333333333,
              "#9c179e"
             ],
             [
              0.4444444444444444,
              "#bd3786"
             ],
             [
              0.5555555555555556,
              "#d8576b"
             ],
             [
              0.6666666666666666,
              "#ed7953"
             ],
             [
              0.7777777777777778,
              "#fb9f3a"
             ],
             [
              0.8888888888888888,
              "#fdca26"
             ],
             [
              1,
              "#f0f921"
             ]
            ],
            "type": "histogram2dcontour"
           }
          ],
          "mesh3d": [
           {
            "colorbar": {
             "outlinewidth": 0,
             "ticks": ""
            },
            "type": "mesh3d"
           }
          ],
          "parcoords": [
           {
            "line": {
             "colorbar": {
              "outlinewidth": 0,
              "ticks": ""
             }
            },
            "type": "parcoords"
           }
          ],
          "pie": [
           {
            "automargin": true,
            "type": "pie"
           }
          ],
          "scatter": [
           {
            "fillpattern": {
             "fillmode": "overlay",
             "size": 10,
             "solidity": 0.2
            },
            "type": "scatter"
           }
          ],
          "scatter3d": [
           {
            "line": {
             "colorbar": {
              "outlinewidth": 0,
              "ticks": ""
             }
            },
            "marker": {
             "colorbar": {
              "outlinewidth": 0,
              "ticks": ""
             }
            },
            "type": "scatter3d"
           }
          ],
          "scattercarpet": [
           {
            "marker": {
             "colorbar": {
              "outlinewidth": 0,
              "ticks": ""
             }
            },
            "type": "scattercarpet"
           }
          ],
          "scattergeo": [
           {
            "marker": {
             "colorbar": {
              "outlinewidth": 0,
              "ticks": ""
             }
            },
            "type": "scattergeo"
           }
          ],
          "scattergl": [
           {
            "marker": {
             "colorbar": {
              "outlinewidth": 0,
              "ticks": ""
             }
            },
            "type": "scattergl"
           }
          ],
          "scattermapbox": [
           {
            "marker": {
             "colorbar": {
              "outlinewidth": 0,
              "ticks": ""
             }
            },
            "type": "scattermapbox"
           }
          ],
          "scatterpolar": [
           {
            "marker": {
             "colorbar": {
              "outlinewidth": 0,
              "ticks": ""
             }
            },
            "type": "scatterpolar"
           }
          ],
          "scatterpolargl": [
           {
            "marker": {
             "colorbar": {
              "outlinewidth": 0,
              "ticks": ""
             }
            },
            "type": "scatterpolargl"
           }
          ],
          "scatterternary": [
           {
            "marker": {
             "colorbar": {
              "outlinewidth": 0,
              "ticks": ""
             }
            },
            "type": "scatterternary"
           }
          ],
          "surface": [
           {
            "colorbar": {
             "outlinewidth": 0,
             "ticks": ""
            },
            "colorscale": [
             [
              0,
              "#0d0887"
             ],
             [
              0.1111111111111111,
              "#46039f"
             ],
             [
              0.2222222222222222,
              "#7201a8"
             ],
             [
              0.3333333333333333,
              "#9c179e"
             ],
             [
              0.4444444444444444,
              "#bd3786"
             ],
             [
              0.5555555555555556,
              "#d8576b"
             ],
             [
              0.6666666666666666,
              "#ed7953"
             ],
             [
              0.7777777777777778,
              "#fb9f3a"
             ],
             [
              0.8888888888888888,
              "#fdca26"
             ],
             [
              1,
              "#f0f921"
             ]
            ],
            "type": "surface"
           }
          ],
          "table": [
           {
            "cells": {
             "fill": {
              "color": "#EBF0F8"
             },
             "line": {
              "color": "white"
             }
            },
            "header": {
             "fill": {
              "color": "#C8D4E3"
             },
             "line": {
              "color": "white"
             }
            },
            "type": "table"
           }
          ]
         },
         "layout": {
          "annotationdefaults": {
           "arrowcolor": "#2a3f5f",
           "arrowhead": 0,
           "arrowwidth": 1
          },
          "autotypenumbers": "strict",
          "coloraxis": {
           "colorbar": {
            "outlinewidth": 0,
            "ticks": ""
           }
          },
          "colorscale": {
           "diverging": [
            [
             0,
             "#8e0152"
            ],
            [
             0.1,
             "#c51b7d"
            ],
            [
             0.2,
             "#de77ae"
            ],
            [
             0.3,
             "#f1b6da"
            ],
            [
             0.4,
             "#fde0ef"
            ],
            [
             0.5,
             "#f7f7f7"
            ],
            [
             0.6,
             "#e6f5d0"
            ],
            [
             0.7,
             "#b8e186"
            ],
            [
             0.8,
             "#7fbc41"
            ],
            [
             0.9,
             "#4d9221"
            ],
            [
             1,
             "#276419"
            ]
           ],
           "sequential": [
            [
             0,
             "#0d0887"
            ],
            [
             0.1111111111111111,
             "#46039f"
            ],
            [
             0.2222222222222222,
             "#7201a8"
            ],
            [
             0.3333333333333333,
             "#9c179e"
            ],
            [
             0.4444444444444444,
             "#bd3786"
            ],
            [
             0.5555555555555556,
             "#d8576b"
            ],
            [
             0.6666666666666666,
             "#ed7953"
            ],
            [
             0.7777777777777778,
             "#fb9f3a"
            ],
            [
             0.8888888888888888,
             "#fdca26"
            ],
            [
             1,
             "#f0f921"
            ]
           ],
           "sequentialminus": [
            [
             0,
             "#0d0887"
            ],
            [
             0.1111111111111111,
             "#46039f"
            ],
            [
             0.2222222222222222,
             "#7201a8"
            ],
            [
             0.3333333333333333,
             "#9c179e"
            ],
            [
             0.4444444444444444,
             "#bd3786"
            ],
            [
             0.5555555555555556,
             "#d8576b"
            ],
            [
             0.6666666666666666,
             "#ed7953"
            ],
            [
             0.7777777777777778,
             "#fb9f3a"
            ],
            [
             0.8888888888888888,
             "#fdca26"
            ],
            [
             1,
             "#f0f921"
            ]
           ]
          },
          "colorway": [
           "#636efa",
           "#EF553B",
           "#00cc96",
           "#ab63fa",
           "#FFA15A",
           "#19d3f3",
           "#FF6692",
           "#B6E880",
           "#FF97FF",
           "#FECB52"
          ],
          "font": {
           "color": "#2a3f5f"
          },
          "geo": {
           "bgcolor": "white",
           "lakecolor": "white",
           "landcolor": "#E5ECF6",
           "showlakes": true,
           "showland": true,
           "subunitcolor": "white"
          },
          "hoverlabel": {
           "align": "left"
          },
          "hovermode": "closest",
          "mapbox": {
           "style": "light"
          },
          "paper_bgcolor": "white",
          "plot_bgcolor": "#E5ECF6",
          "polar": {
           "angularaxis": {
            "gridcolor": "white",
            "linecolor": "white",
            "ticks": ""
           },
           "bgcolor": "#E5ECF6",
           "radialaxis": {
            "gridcolor": "white",
            "linecolor": "white",
            "ticks": ""
           }
          },
          "scene": {
           "xaxis": {
            "backgroundcolor": "#E5ECF6",
            "gridcolor": "white",
            "gridwidth": 2,
            "linecolor": "white",
            "showbackground": true,
            "ticks": "",
            "zerolinecolor": "white"
           },
           "yaxis": {
            "backgroundcolor": "#E5ECF6",
            "gridcolor": "white",
            "gridwidth": 2,
            "linecolor": "white",
            "showbackground": true,
            "ticks": "",
            "zerolinecolor": "white"
           },
           "zaxis": {
            "backgroundcolor": "#E5ECF6",
            "gridcolor": "white",
            "gridwidth": 2,
            "linecolor": "white",
            "showbackground": true,
            "ticks": "",
            "zerolinecolor": "white"
           }
          },
          "shapedefaults": {
           "line": {
            "color": "#2a3f5f"
           }
          },
          "ternary": {
           "aaxis": {
            "gridcolor": "white",
            "linecolor": "white",
            "ticks": ""
           },
           "baxis": {
            "gridcolor": "white",
            "linecolor": "white",
            "ticks": ""
           },
           "bgcolor": "#E5ECF6",
           "caxis": {
            "gridcolor": "white",
            "linecolor": "white",
            "ticks": ""
           }
          },
          "title": {
           "x": 0.05
          },
          "xaxis": {
           "automargin": true,
           "gridcolor": "white",
           "linecolor": "white",
           "ticks": "",
           "title": {
            "standoff": 15
           },
           "zerolinecolor": "white",
           "zerolinewidth": 2
          },
          "yaxis": {
           "automargin": true,
           "gridcolor": "white",
           "linecolor": "white",
           "ticks": "",
           "title": {
            "standoff": 15
           },
           "zerolinecolor": "white",
           "zerolinewidth": 2
          }
         }
        },
        "width": 500
       }
      },
      "image/png": "[encoded data removed]",
      "text/html": [
       "<div>                            <div id=\"08a9432f-a0ba-446e-94f2-16ba5bfc1d72\" class=\"plotly-graph-div\" style=\"height:500px; width:500px;\"></div>            <script type=\"text/javascript\">                require([\"plotly\"], function(Plotly) {                    window.PLOTLYENV=window.PLOTLYENV || {};                                    if (document.getElementById(\"08a9432f-a0ba-446e-94f2-16ba5bfc1d72\")) {                    Plotly.newPlot(                        \"08a9432f-a0ba-446e-94f2-16ba5bfc1d72\",                        [{\"hoverinfo\":\"text\",\"marker\":{\"color\":[\"black\",\"black\",\"black\",\"black\",\"black\",\"black\",\"black\",\"black\",\"black\",\"black\",\"white\",\"white\",\"white\",\"black\",\"black\",\"black\",\"black\",\"white\",\"white\",\"white\",\"black\",\"black\",\"black\",\"black\",\"black\",\"black\",\"black\",\"black\",\"black\",\"black\",\"black\",\"black\",\"white\",\"white\",\"white\",\"black\",\"black\",\"black\",\"black\",\"white\",\"white\",\"white\",\"black\",\"black\",\"black\",\"black\",\"black\",\"black\",\"black\",\"black\",\"white\",\"white\",\"white\",\"black\",\"black\",\"black\",\"black\",\"white\",\"white\",\"white\"],\"colorscale\":[[0.0,\"#440154\"],[0.1111111111111111,\"#482878\"],[0.2222222222222222,\"#3e4989\"],[0.3333333333333333,\"#31688e\"],[0.4444444444444444,\"#26828e\"],[0.5555555555555556,\"#1f9e89\"],[0.6666666666666666,\"#35b779\"],[0.7777777777777778,\"#6ece58\"],[0.8888888888888888,\"#b5de2b\"],[1.0,\"#fde725\"]],\"opacity\":0.8,\"size\":3},\"mode\":\"markers+text\",\"text\":[\"C1\",\"C2\",\"C3\",\"C4\",\"C5\",\"C6\",\"C11\",\"C12\",\"C13\",\"C14\",\"H16\",\"H17\",\"H18\",\"C19\",\"C20\",\"C21\",\"C22\",\"H23\",\"H24\",\"H25\",\"C27\",\"C28\",\"C29\",\"C30\",\"C35\",\"C36\",\"C39\",\"C40\",\"C41\",\"C42\",\"C43\",\"C44\",\"H45\",\"H46\",\"H47\",\"C53\",\"C54\",\"C55\",\"C56\",\"H58\",\"H59\",\"H60\",\"C61\",\"C62\",\"C65\",\"C66\",\"C67\",\"C68\",\"C69\",\"C70\",\"H71\",\"H72\",\"H73\",\"C79\",\"C80\",\"C81\",\"C82\",\"H84\",\"H85\",\"H86\"],\"x\":[0.68103,-0.70601,-1.38702,-0.68101,0.70603,1.38704,2.7740507721474907,3.480070443054662,2.7990512669000918,1.412040494752601,4.561272493543597,3.3493898811703238,0.8811803619729295,-1.362018811423403,-2.749058620450002,-3.4550708381922015,-2.7740620267687977,-0.8116905088837088,-3.280017493450736,-4.536264715902161,-1.4120008540260884,-0.7309776664617227,0.6560444857267476,1.3620353397528357,2.7240788114234027,1.337038811423403,2.749078811423403,3.4300888114234027,4.817099583570894,5.523119254478065,4.842100078323495,3.4550893061760037,5.347977963638467,6.604321304967,5.392438692593727,0.6310479573973147,1.3120711449616804,2.6990932971501502,3.405084151176239,0.7618418561132925,3.229944854516045,4.486271650768528,-2.824104763249048,-1.4370651453847214,-2.7990743254890464,-3.505099470666229,-4.892109756446731,-5.573113520628473,-4.8670798478911905,-3.480069562110688,-5.442478106371368,-6.654309257557514,-5.397922734937029,-0.7560898610675566,-1.4621286782202543,-2.8491511146434085,-3.530126398960573,-0.9313971983258416,-3.399506322939441,-4.611323744217975],\"y\":[-0.09218,-0.03513,0.05706,0.09219,0.03513,-0.05705,-0.11409875093839378,-0.07896735281534562,0.01320388924854226,0.07025264018693606,-0.12338877073001644,0.040538752960631703,0.14198336402304731,0.18436983911691374,0.24142125252170643,0.2062812317448231,0.11410139262790939,0.21187042982569654,0.3133209680931068,0.2507028173356929,-0.07026193938351726,-0.16244372442291916,-0.21950217127998,-0.18437023189646273,-0.3687298391169137,-0.3116798391169137,-0.24141983911691373,-0.3335998391169137,-0.3906485900553075,-0.35551719193225934,-0.26334594986837145,-0.20629719892997767,-0.4623890766482048,-0.39993860984693014,-0.23601108615628202,-0.346811778500431,-0.4389935635398329,-0.49605201039689373,-0.46092007101337645,-0.4663439705500325,-0.5679571541002575,-0.5055149742362923,-0.14052318440924924,-0.19757601121106602,-0.013214436368433988,-0.04834321479605995,0.00870845239306614,0.10089059043173838,0.13600988273799186,0.07895821554886577,-0.018558433814376912,0.14541243810521925,0.2078156638641142,-0.2897563337931888,-0.324885792479587,-0.26784285335027425,-0.1756625307681515,-0.3966980377806338,-0.29527604047214207,-0.13131470075376012],\"z\":[1.2062,1.19479,-0.01142,-1.2062,-1.19478,0.01142,0.02282365569419366,-1.1719846391205222,-2.378190891859311,-2.3895945475535045,-1.1632104355115391,-3.3095410373303693,-3.3298478768127513,-2.4123978948017046,-2.423824031680406,-1.229031954522818,-0.022834059721113853,-3.3437478339945126,-3.364016155175675,-1.2379426299233607,2.3895812563568026,3.5958046140756865,3.607209143032394,2.4124178866755916,4.824797894801705,4.813387894801704,2.4238178948017044,3.630017894801705,3.6414215504958984,2.446613255681182,1.2404070029423937,1.2290033472482,4.58166177536412,2.4553874592901654,0.30905685747133527,6.008179151158507,7.214402508877391,7.225807037834099,6.031015781477296,8.145824973675065,8.16605123640764,6.03990317884161,4.779093146791004,4.790535420546851,2.3781133975307522,3.572887299071844,3.561439163414404,2.355204866605978,1.160424858165508,1.171872993822948,4.492772309296039,2.346165700371901,0.22016817104772723,5.996752206899044,7.191549244895883,7.180101788660224,5.973885002308032,8.131876432992616,8.111439237464776,5.9649591364473915],\"type\":\"scatter3d\"},{\"line\":{\"color\":\"black\",\"width\":3},\"mode\":\"lines\",\"x\":[0.68103,-0.70601],\"y\":[-0.09218,-0.03513],\"z\":[1.2062,1.19479],\"type\":\"scatter3d\"},{\"line\":{\"color\":\"black\",\"width\":3},\"mode\":\"lines\",\"x\":[0.68103,1.38704],\"y\":[-0.09218,-0.05705],\"z\":[1.2062,0.01142],\"type\":\"scatter3d\"},{\"line\":{\"color\":\"black\",\"width\":3},\"mode\":\"lines\",\"x\":[0.68103,1.3620353397528357],\"y\":[-0.09218,-0.18437023189646273],\"z\":[1.2062,2.4124178866755916],\"type\":\"scatter3d\"},{\"line\":{\"color\":\"black\",\"width\":3},\"mode\":\"lines\",\"x\":[-0.70601,-1.38702],\"y\":[-0.03513,0.05706],\"z\":[1.19479,-0.01142],\"type\":\"scatter3d\"},{\"line\":{\"color\":\"black\",\"width\":3},\"mode\":\"lines\",\"x\":[-0.70601,-1.4120008540260884],\"y\":[-0.03513,-0.07026193938351726],\"z\":[1.19479,2.3895812563568026],\"type\":\"scatter3d\"},{\"line\":{\"color\":\"black\",\"width\":3},\"mode\":\"lines\",\"x\":[-1.38702,-0.68101],\"y\":[0.05706,0.09219],\"z\":[-0.01142,-1.2062],\"type\":\"scatter3d\"},{\"line\":{\"color\":\"black\",\"width\":3},\"mode\":\"lines\",\"x\":[-1.38702,-2.7740620267687977],\"y\":[0.05706,0.11410139262790939],\"z\":[-0.01142,-0.022834059721113853],\"type\":\"scatter3d\"},{\"line\":{\"color\":\"black\",\"width\":3},\"mode\":\"lines\",\"x\":[-0.68101,0.70603],\"y\":[0.09219,0.03513],\"z\":[-1.2062,-1.19478],\"type\":\"scatter3d\"},{\"line\":{\"color\":\"black\",\"width\":3},\"mode\":\"lines\",\"x\":[-0.68101,-1.362018811423403],\"y\":[0.09219,0.18436983911691374],\"z\":[-1.2062,-2.4123978948017046],\"type\":\"scatter3d\"},{\"line\":{\"color\":\"black\",\"width\":3},\"mode\":\"lines\",\"x\":[0.70603,1.38704],\"y\":[0.03513,-0.05705],\"z\":[-1.19478,0.01142],\"type\":\"scatter3d\"},{\"line\":{\"color\":\"black\",\"width\":3},\"mode\":\"lines\",\"x\":[0.70603,1.412040494752601],\"y\":[0.03513,0.07025264018693606],\"z\":[-1.19478,-2.3895945475535045],\"type\":\"scatter3d\"},{\"line\":{\"color\":\"black\",\"width\":3},\"mode\":\"lines\",\"x\":[1.38704,2.7740507721474907],\"y\":[-0.05705,-0.11409875093839378],\"z\":[0.01142,0.02282365569419366],\"type\":\"scatter3d\"},{\"line\":{\"color\":\"black\",\"width\":3},\"mode\":\"lines\",\"x\":[2.7740507721474907,3.480070443054662],\"y\":[-0.11409875093839378,-0.07896735281534562],\"z\":[0.02282365569419366,-1.1719846391205222],\"type\":\"scatter3d\"},{\"line\":{\"color\":\"black\",\"width\":3},\"mode\":\"lines\",\"x\":[2.7740507721474907,3.4550893061760037],\"y\":[-0.11409875093839378,-0.20629719892997767],\"z\":[0.02282365569419366,1.2290033472482],\"type\":\"scatter3d\"},{\"line\":{\"color\":\"black\",\"width\":3},\"mode\":\"lines\",\"x\":[3.480070443054662,2.7990512669000918],\"y\":[-0.07896735281534562,0.01320388924854226],\"z\":[-1.1719846391205222,-2.378190891859311],\"type\":\"scatter3d\"},{\"line\":{\"color\":\"black\",\"width\":3},\"mode\":\"lines\",\"x\":[3.480070443054662,4.561272493543597],\"y\":[-0.07896735281534562,-0.12338877073001644],\"z\":[-1.1719846391205222,-1.1632104355115391],\"type\":\"scatter3d\"},{\"line\":{\"color\":\"black\",\"width\":3},\"mode\":\"lines\",\"x\":[2.7990512669000918,1.412040494752601],\"y\":[0.01320388924854226,0.07025264018693606],\"z\":[-2.378190891859311,-2.3895945475535045],\"type\":\"scatter3d\"},{\"line\":{\"color\":\"black\",\"width\":3},\"mode\":\"lines\",\"x\":[2.7990512669000918,3.3493898811703238],\"y\":[0.01320388924854226,0.040538752960631703],\"z\":[-2.378190891859311,-3.3095410373303693],\"type\":\"scatter3d\"},{\"line\":{\"color\":\"black\",\"width\":3},\"mode\":\"lines\",\"x\":[1.412040494752601,0.8811803619729295],\"y\":[0.07025264018693606,0.14198336402304731],\"z\":[-2.3895945475535045,-3.3298478768127513],\"type\":\"scatter3d\"},{\"line\":{\"color\":\"black\",\"width\":3},\"mode\":\"lines\",\"x\":[-1.362018811423403,-2.749058620450002],\"y\":[0.18436983911691374,0.24142125252170643],\"z\":[-2.4123978948017046,-2.423824031680406],\"type\":\"scatter3d\"},{\"line\":{\"color\":\"black\",\"width\":3},\"mode\":\"lines\",\"x\":[-1.362018811423403,-0.8116905088837088],\"y\":[0.18436983911691374,0.21187042982569654],\"z\":[-2.4123978948017046,-3.3437478339945126],\"type\":\"scatter3d\"},{\"line\":{\"color\":\"black\",\"width\":3},\"mode\":\"lines\",\"x\":[-2.749058620450002,-3.4550708381922015],\"y\":[0.24142125252170643,0.2062812317448231],\"z\":[-2.423824031680406,-1.229031954522818],\"type\":\"scatter3d\"},{\"line\":{\"color\":\"black\",\"width\":3},\"mode\":\"lines\",\"x\":[-2.749058620450002,-3.280017493450736],\"y\":[0.24142125252170643,0.3133209680931068],\"z\":[-2.423824031680406,-3.364016155175675],\"type\":\"scatter3d\"},{\"line\":{\"color\":\"black\",\"width\":3},\"mode\":\"lines\",\"x\":[-3.4550708381922015,-2.7740620267687977],\"y\":[0.2062812317448231,0.11410139262790939],\"z\":[-1.229031954522818,-0.022834059721113853],\"type\":\"scatter3d\"},{\"line\":{\"color\":\"black\",\"width\":3},\"mode\":\"lines\",\"x\":[-3.4550708381922015,-4.536264715902161],\"y\":[0.2062812317448231,0.2507028173356929],\"z\":[-1.229031954522818,-1.2379426299233607],\"type\":\"scatter3d\"},{\"line\":{\"color\":\"black\",\"width\":3},\"mode\":\"lines\",\"x\":[-2.7740620267687977,-3.480069562110688],\"y\":[0.11410139262790939,0.07895821554886577],\"z\":[-0.022834059721113853,1.171872993822948],\"type\":\"scatter3d\"},{\"line\":{\"color\":\"black\",\"width\":3},\"mode\":\"lines\",\"x\":[-1.4120008540260884,-0.7309776664617227],\"y\":[-0.07026193938351726,-0.16244372442291916],\"z\":[2.3895812563568026,3.5958046140756865],\"type\":\"scatter3d\"},{\"line\":{\"color\":\"black\",\"width\":3},\"mode\":\"lines\",\"x\":[-1.4120008540260884,-2.7990743254890464],\"y\":[-0.07026193938351726,-0.013214436368433988],\"z\":[2.3895812563568026,2.3781133975307522],\"type\":\"scatter3d\"},{\"line\":{\"color\":\"black\",\"width\":3},\"mode\":\"lines\",\"x\":[-0.7309776664617227,0.6560444857267476],\"y\":[-0.16244372442291916,-0.21950217127998],\"z\":[3.5958046140756865,3.607209143032394],\"type\":\"scatter3d\"},{\"line\":{\"color\":\"black\",\"width\":3},\"mode\":\"lines\",\"x\":[-0.7309776664617227,-1.4370651453847214],\"y\":[-0.16244372442291916,-0.19757601121106602],\"z\":[3.5958046140756865,4.790535420546851],\"type\":\"scatter3d\"},{\"line\":{\"color\":\"black\",\"width\":3},\"mode\":\"lines\",\"x\":[0.6560444857267476,1.3620353397528357],\"y\":[-0.21950217127998,-0.18437023189646273],\"z\":[3.607209143032394,2.4124178866755916],\"type\":\"scatter3d\"},{\"line\":{\"color\":\"black\",\"width\":3},\"mode\":\"lines\",\"x\":[0.6560444857267476,1.337038811423403],\"y\":[-0.21950217127998,-0.3116798391169137],\"z\":[3.607209143032394,4.813387894801704],\"type\":\"scatter3d\"},{\"line\":{\"color\":\"black\",\"width\":3},\"mode\":\"lines\",\"x\":[1.3620353397528357,2.749078811423403],\"y\":[-0.18437023189646273,-0.24141983911691373],\"z\":[2.4124178866755916,2.4238178948017044],\"type\":\"scatter3d\"},{\"line\":{\"color\":\"black\",\"width\":3},\"mode\":\"lines\",\"x\":[2.7240788114234027,1.337038811423403],\"y\":[-0.3687298391169137,-0.3116798391169137],\"z\":[4.824797894801705,4.813387894801704],\"type\":\"scatter3d\"},{\"line\":{\"color\":\"black\",\"width\":3},\"mode\":\"lines\",\"x\":[2.7240788114234027,3.4300888114234027],\"y\":[-0.3687298391169137,-0.3335998391169137],\"z\":[4.824797894801705,3.630017894801705],\"type\":\"scatter3d\"},{\"line\":{\"color\":\"black\",\"width\":3},\"mode\":\"lines\",\"x\":[2.7240788114234027,3.405084151176239],\"y\":[-0.3687298391169137,-0.46092007101337645],\"z\":[4.824797894801705,6.031015781477296],\"type\":\"scatter3d\"},{\"line\":{\"color\":\"black\",\"width\":3},\"mode\":\"lines\",\"x\":[1.337038811423403,0.6310479573973147],\"y\":[-0.3116798391169137,-0.346811778500431],\"z\":[4.813387894801704,6.008179151158507],\"type\":\"scatter3d\"},{\"line\":{\"color\":\"black\",\"width\":3},\"mode\":\"lines\",\"x\":[2.749078811423403,3.4300888114234027],\"y\":[-0.24141983911691373,-0.3335998391169137],\"z\":[2.4238178948017044,3.630017894801705],\"type\":\"scatter3d\"},{\"line\":{\"color\":\"black\",\"width\":3},\"mode\":\"lines\",\"x\":[2.749078811423403,3.4550893061760037],\"y\":[-0.24141983911691373,-0.20629719892997767],\"z\":[2.4238178948017044,1.2290033472482],\"type\":\"scatter3d\"},{\"line\":{\"color\":\"black\",\"width\":3},\"mode\":\"lines\",\"x\":[3.4300888114234027,4.817099583570894],\"y\":[-0.3335998391169137,-0.3906485900553075],\"z\":[3.630017894801705,3.6414215504958984],\"type\":\"scatter3d\"},{\"line\":{\"color\":\"black\",\"width\":3},\"mode\":\"lines\",\"x\":[4.817099583570894,5.523119254478065],\"y\":[-0.3906485900553075,-0.35551719193225934],\"z\":[3.6414215504958984,2.446613255681182],\"type\":\"scatter3d\"},{\"line\":{\"color\":\"black\",\"width\":3},\"mode\":\"lines\",\"x\":[4.817099583570894,5.347977963638467],\"y\":[-0.3906485900553075,-0.4623890766482048],\"z\":[3.6414215504958984,4.58166177536412],\"type\":\"scatter3d\"},{\"line\":{\"color\":\"black\",\"width\":3},\"mode\":\"lines\",\"x\":[5.523119254478065,4.842100078323495],\"y\":[-0.35551719193225934,-0.26334594986837145],\"z\":[2.446613255681182,1.2404070029423937],\"type\":\"scatter3d\"},{\"line\":{\"color\":\"black\",\"width\":3},\"mode\":\"lines\",\"x\":[5.523119254478065,6.604321304967],\"y\":[-0.35551719193225934,-0.39993860984693014],\"z\":[2.446613255681182,2.4553874592901654],\"type\":\"scatter3d\"},{\"line\":{\"color\":\"black\",\"width\":3},\"mode\":\"lines\",\"x\":[4.842100078323495,3.4550893061760037],\"y\":[-0.26334594986837145,-0.20629719892997767],\"z\":[1.2404070029423937,1.2290033472482],\"type\":\"scatter3d\"},{\"line\":{\"color\":\"black\",\"width\":3},\"mode\":\"lines\",\"x\":[4.842100078323495,5.392438692593727],\"y\":[-0.26334594986837145,-0.23601108615628202],\"z\":[1.2404070029423937,0.30905685747133527],\"type\":\"scatter3d\"},{\"line\":{\"color\":\"black\",\"width\":3},\"mode\":\"lines\",\"x\":[0.6310479573973147,1.3120711449616804],\"y\":[-0.346811778500431,-0.4389935635398329],\"z\":[6.008179151158507,7.214402508877391],\"type\":\"scatter3d\"},{\"line\":{\"color\":\"black\",\"width\":3},\"mode\":\"lines\",\"x\":[0.6310479573973147,-0.7560898610675566],\"y\":[-0.346811778500431,-0.2897563337931888],\"z\":[6.008179151158507,5.996752206899044],\"type\":\"scatter3d\"},{\"line\":{\"color\":\"black\",\"width\":3},\"mode\":\"lines\",\"x\":[1.3120711449616804,2.6990932971501502],\"y\":[-0.4389935635398329,-0.49605201039689373],\"z\":[7.214402508877391,7.225807037834099],\"type\":\"scatter3d\"},{\"line\":{\"color\":\"black\",\"width\":3},\"mode\":\"lines\",\"x\":[1.3120711449616804,0.7618418561132925],\"y\":[-0.4389935635398329,-0.4663439705500325],\"z\":[7.214402508877391,8.145824973675065],\"type\":\"scatter3d\"},{\"line\":{\"color\":\"black\",\"width\":3},\"mode\":\"lines\",\"x\":[2.6990932971501502,3.405084151176239],\"y\":[-0.49605201039689373,-0.46092007101337645],\"z\":[7.225807037834099,6.031015781477296],\"type\":\"scatter3d\"},{\"line\":{\"color\":\"black\",\"width\":3},\"mode\":\"lines\",\"x\":[2.6990932971501502,3.229944854516045],\"y\":[-0.49605201039689373,-0.5679571541002575],\"z\":[7.225807037834099,8.16605123640764],\"type\":\"scatter3d\"},{\"line\":{\"color\":\"black\",\"width\":3},\"mode\":\"lines\",\"x\":[3.405084151176239,4.486271650768528],\"y\":[-0.46092007101337645,-0.5055149742362923],\"z\":[6.031015781477296,6.03990317884161],\"type\":\"scatter3d\"},{\"line\":{\"color\":\"black\",\"width\":3},\"mode\":\"lines\",\"x\":[-2.824104763249048,-1.4370651453847214],\"y\":[-0.14052318440924924,-0.19757601121106602],\"z\":[4.779093146791004,4.790535420546851],\"type\":\"scatter3d\"},{\"line\":{\"color\":\"black\",\"width\":3},\"mode\":\"lines\",\"x\":[-2.824104763249048,-3.505099470666229],\"y\":[-0.14052318440924924,-0.04834321479605995],\"z\":[4.779093146791004,3.572887299071844],\"type\":\"scatter3d\"},{\"line\":{\"color\":\"black\",\"width\":3},\"mode\":\"lines\",\"x\":[-2.824104763249048,-3.530126398960573],\"y\":[-0.14052318440924924,-0.1756625307681515],\"z\":[4.779093146791004,5.973885002308032],\"type\":\"scatter3d\"},{\"line\":{\"color\":\"black\",\"width\":3},\"mode\":\"lines\",\"x\":[-1.4370651453847214,-0.7560898610675566],\"y\":[-0.19757601121106602,-0.2897563337931888],\"z\":[4.790535420546851,5.996752206899044],\"type\":\"scatter3d\"},{\"line\":{\"color\":\"black\",\"width\":3},\"mode\":\"lines\",\"x\":[-2.7990743254890464,-3.505099470666229],\"y\":[-0.013214436368433988,-0.04834321479605995],\"z\":[2.3781133975307522,3.572887299071844],\"type\":\"scatter3d\"},{\"line\":{\"color\":\"black\",\"width\":3},\"mode\":\"lines\",\"x\":[-2.7990743254890464,-3.480069562110688],\"y\":[-0.013214436368433988,0.07895821554886577],\"z\":[2.3781133975307522,1.171872993822948],\"type\":\"scatter3d\"},{\"line\":{\"color\":\"black\",\"width\":3},\"mode\":\"lines\",\"x\":[-3.505099470666229,-4.892109756446731],\"y\":[-0.04834321479605995,0.00870845239306614],\"z\":[3.572887299071844,3.561439163414404],\"type\":\"scatter3d\"},{\"line\":{\"color\":\"black\",\"width\":3},\"mode\":\"lines\",\"x\":[-4.892109756446731,-5.573113520628473],\"y\":[0.00870845239306614,0.10089059043173838],\"z\":[3.561439163414404,2.355204866605978],\"type\":\"scatter3d\"},{\"line\":{\"color\":\"black\",\"width\":3},\"mode\":\"lines\",\"x\":[-4.892109756446731,-5.442478106371368],\"y\":[0.00870845239306614,-0.018558433814376912],\"z\":[3.561439163414404,4.492772309296039],\"type\":\"scatter3d\"},{\"line\":{\"color\":\"black\",\"width\":3},\"mode\":\"lines\",\"x\":[-5.573113520628473,-4.8670798478911905],\"y\":[0.10089059043173838,0.13600988273799186],\"z\":[2.355204866605978,1.160424858165508],\"type\":\"scatter3d\"},{\"line\":{\"color\":\"black\",\"width\":3},\"mode\":\"lines\",\"x\":[-5.573113520628473,-6.654309257557514],\"y\":[0.10089059043173838,0.14541243810521925],\"z\":[2.355204866605978,2.346165700371901],\"type\":\"scatter3d\"},{\"line\":{\"color\":\"black\",\"width\":3},\"mode\":\"lines\",\"x\":[-4.8670798478911905,-3.480069562110688],\"y\":[0.13600988273799186,0.07895821554886577],\"z\":[1.160424858165508,1.171872993822948],\"type\":\"scatter3d\"},{\"line\":{\"color\":\"black\",\"width\":3},\"mode\":\"lines\",\"x\":[-4.8670798478911905,-5.397922734937029],\"y\":[0.13600988273799186,0.2078156638641142],\"z\":[1.160424858165508,0.22016817104772723],\"type\":\"scatter3d\"},{\"line\":{\"color\":\"black\",\"width\":3},\"mode\":\"lines\",\"x\":[-0.7560898610675566,-1.4621286782202543],\"y\":[-0.2897563337931888,-0.324885792479587],\"z\":[5.996752206899044,7.191549244895883],\"type\":\"scatter3d\"},{\"line\":{\"color\":\"black\",\"width\":3},\"mode\":\"lines\",\"x\":[-1.4621286782202543,-2.8491511146434085],\"y\":[-0.324885792479587,-0.26784285335027425],\"z\":[7.191549244895883,7.180101788660224],\"type\":\"scatter3d\"},{\"line\":{\"color\":\"black\",\"width\":3},\"mode\":\"lines\",\"x\":[-1.4621286782202543,-0.9313971983258416],\"y\":[-0.324885792479587,-0.3966980377806338],\"z\":[7.191549244895883,8.131876432992616],\"type\":\"scatter3d\"},{\"line\":{\"color\":\"black\",\"width\":3},\"mode\":\"lines\",\"x\":[-2.8491511146434085,-3.530126398960573],\"y\":[-0.26784285335027425,-0.1756625307681515],\"z\":[7.180101788660224,5.973885002308032],\"type\":\"scatter3d\"},{\"line\":{\"color\":\"black\",\"width\":3},\"mode\":\"lines\",\"x\":[-2.8491511146434085,-3.399506322939441],\"y\":[-0.26784285335027425,-0.29527604047214207],\"z\":[7.180101788660224,8.111439237464776],\"type\":\"scatter3d\"},{\"line\":{\"color\":\"black\",\"width\":3},\"mode\":\"lines\",\"x\":[-3.530126398960573,-4.611323744217975],\"y\":[-0.1756625307681515,-0.13131470075376012],\"z\":[5.973885002308032,5.9649591364473915],\"type\":\"scatter3d\"}],                        {\"template\":{\"data\":{\"histogram2dcontour\":[{\"type\":\"histogram2dcontour\",\"colorbar\":{\"outlinewidth\":0,\"ticks\":\"\"},\"colorscale\":[[0.0,\"#0d0887\"],[0.1111111111111111,\"#46039f\"],[0.2222222222222222,\"#7201a8\"],[0.3333333333333333,\"#9c179e\"],[0.4444444444444444,\"#bd3786\"],[0.5555555555555556,\"#d8576b\"],[0.6666666666666666,\"#ed7953\"],[0.7777777777777778,\"#fb9f3a\"],[0.8888888888888888,\"#fdca26\"],[1.0,\"#f0f921\"]]}],\"choropleth\":[{\"type\":\"choropleth\",\"colorbar\":{\"outlinewidth\":0,\"ticks\":\"\"}}],\"histogram2d\":[{\"type\":\"histogram2d\",\"colorbar\":{\"outlinewidth\":0,\"ticks\":\"\"},\"colorscale\":[[0.0,\"#0d0887\"],[0.1111111111111111,\"#46039f\"],[0.2222222222222222,\"#7201a8\"],[0.3333333333333333,\"#9c179e\"],[0.4444444444444444,\"#bd3786\"],[0.5555555555555556,\"#d8576b\"],[0.6666666666666666,\"#ed7953\"],[0.7777777777777778,\"#fb9f3a\"],[0.8888888888888888,\"#fdca26\"],[1.0,\"#f0f921\"]]}],\"heatmap\":[{\"type\":\"heatmap\",\"colorbar\":{\"outlinewidth\":0,\"ticks\":\"\"},\"colorscale\":[[0.0,\"#0d0887\"],[0.1111111111111111,\"#46039f\"],[0.2222222222222222,\"#7201a8\"],[0.3333333333333333,\"#9c179e\"],[0.4444444444444444,\"#bd3786\"],[0.5555555555555556,\"#d8576b\"],[0.6666666666666666,\"#ed7953\"],[0.7777777777777778,\"#fb9f3a\"],[0.8888888888888888,\"#fdca26\"],[1.0,\"#f0f921\"]]}],\"heatmapgl\":[{\"type\":\"heatmapgl\",\"colorbar\":{\"outlinewidth\":0,\"ticks\":\"\"},\"colorscale\":[[0.0,\"#0d0887\"],[0.1111111111111111,\"#46039f\"],[0.2222222222222222,\"#7201a8\"],[0.3333333333333333,\"#9c179e\"],[0.4444444444444444,\"#bd3786\"],[0.5555555555555556,\"#d8576b\"],[0.6666666666666666,\"#ed7953\"],[0.7777777777777778,\"#fb9f3a\"],[0.8888888888888888,\"#fdca26\"],[1.0,\"#f0f921\"]]}],\"contourcarpet\":[{\"type\":\"contourcarpet\",\"colorbar\":{\"outlinewidth\":0,\"ticks\":\"\"}}],\"contour\":[{\"type\":\"contour\",\"colorbar\":{\"outlinewidth\":0,\"ticks\":\"\"},\"colorscale\":[[0.0,\"#0d0887\"],[0.1111111111111111,\"#46039f\"],[0.2222222222222222,\"#7201a8\"],[0.3333333333333333,\"#9c179e\"],[0.4444444444444444,\"#bd3786\"],[0.5555555555555556,\"#d8576b\"],[0.6666666666666666,\"#ed7953\"],[0.7777777777777778,\"#fb9f3a\"],[0.8888888888888888,\"#fdca26\"],[1.0,\"#f0f921\"]]}],\"surface\":[{\"type\":\"surface\",\"colorbar\":{\"outlinewidth\":0,\"ticks\":\"\"},\"colorscale\":[[0.0,\"#0d0887\"],[0.1111111111111111,\"#46039f\"],[0.2222222222222222,\"#7201a8\"],[0.3333333333333333,\"#9c179e\"],[0.4444444444444444,\"#bd3786\"],[0.5555555555555556,\"#d8576b\"],[0.6666666666666666,\"#ed7953\"],[0.7777777777777778,\"#fb9f3a\"],[0.8888888888888888,\"#fdca26\"],[1.0,\"#f0f921\"]]}],\"mesh3d\":[{\"type\":\"mesh3d\",\"colorbar\":{\"outlinewidth\":0,\"ticks\":\"\"}}],\"scatter\":[{\"fillpattern\":{\"fillmode\":\"overlay\",\"size\":10,\"solidity\":0.2},\"type\":\"scatter\"}],\"parcoords\":[{\"type\":\"parcoords\",\"line\":{\"colorbar\":{\"outlinewidth\":0,\"ticks\":\"\"}}}],\"scatterpolargl\":[{\"type\":\"scatterpolargl\",\"marker\":{\"colorbar\":{\"outlinewidth\":0,\"ticks\":\"\"}}}],\"bar\":[{\"error_x\":{\"color\":\"#2a3f5f\"},\"error_y\":{\"color\":\"#2a3f5f\"},\"marker\":{\"line\":{\"color\":\"#E5ECF6\",\"width\":0.5},\"pattern\":{\"fillmode\":\"overlay\",\"size\":10,\"solidity\":0.2}},\"type\":\"bar\"}],\"scattergeo\":[{\"type\":\"scattergeo\",\"marker\":{\"colorbar\":{\"outlinewidth\":0,\"ticks\":\"\"}}}],\"scatterpolar\":[{\"type\":\"scatterpolar\",\"marker\":{\"colorbar\":{\"outlinewidth\":0,\"ticks\":\"\"}}}],\"histogram\":[{\"marker\":{\"pattern\":{\"fillmode\":\"overlay\",\"size\":10,\"solidity\":0.2}},\"type\":\"histogram\"}],\"scattergl\":[{\"type\":\"scattergl\",\"marker\":{\"colorbar\":{\"outlinewidth\":0,\"ticks\":\"\"}}}],\"scatter3d\":[{\"type\":\"scatter3d\",\"line\":{\"colorbar\":{\"outlinewidth\":0,\"ticks\":\"\"}},\"marker\":{\"colorbar\":{\"outlinewidth\":0,\"ticks\":\"\"}}}],\"scattermapbox\":[{\"type\":\"scattermapbox\",\"marker\":{\"colorbar\":{\"outlinewidth\":0,\"ticks\":\"\"}}}],\"scatterternary\":[{\"type\":\"scatterternary\",\"marker\":{\"colorbar\":{\"outlinewidth\":0,\"ticks\":\"\"}}}],\"scattercarpet\":[{\"type\":\"scattercarpet\",\"marker\":{\"colorbar\":{\"outlinewidth\":0,\"ticks\":\"\"}}}],\"carpet\":[{\"aaxis\":{\"endlinecolor\":\"#2a3f5f\",\"gridcolor\":\"white\",\"linecolor\":\"white\",\"minorgridcolor\":\"white\",\"startlinecolor\":\"#2a3f5f\"},\"baxis\":{\"endlinecolor\":\"#2a3f5f\",\"gridcolor\":\"white\",\"linecolor\":\"white\",\"minorgridcolor\":\"white\",\"startlinecolor\":\"#2a3f5f\"},\"type\":\"carpet\"}],\"table\":[{\"cells\":{\"fill\":{\"color\":\"#EBF0F8\"},\"line\":{\"color\":\"white\"}},\"header\":{\"fill\":{\"color\":\"#C8D4E3\"},\"line\":{\"color\":\"white\"}},\"type\":\"table\"}],\"barpolar\":[{\"marker\":{\"line\":{\"color\":\"#E5ECF6\",\"width\":0.5},\"pattern\":{\"fillmode\":\"overlay\",\"size\":10,\"solidity\":0.2}},\"type\":\"barpolar\"}],\"pie\":[{\"automargin\":true,\"type\":\"pie\"}]},\"layout\":{\"autotypenumbers\":\"strict\",\"colorway\":[\"#636efa\",\"#EF553B\",\"#00cc96\",\"#ab63fa\",\"#FFA15A\",\"#19d3f3\",\"#FF6692\",\"#B6E880\",\"#FF97FF\",\"#FECB52\"],\"font\":{\"color\":\"#2a3f5f\"},\"hovermode\":\"closest\",\"hoverlabel\":{\"align\":\"left\"},\"paper_bgcolor\":\"white\",\"plot_bgcolor\":\"#E5ECF6\",\"polar\":{\"bgcolor\":\"#E5ECF6\",\"angularaxis\":{\"gridcolor\":\"white\",\"linecolor\":\"white\",\"ticks\":\"\"},\"radialaxis\":{\"gridcolor\":\"white\",\"linecolor\":\"white\",\"ticks\":\"\"}},\"ternary\":{\"bgcolor\":\"#E5ECF6\",\"aaxis\":{\"gridcolor\":\"white\",\"linecolor\":\"white\",\"ticks\":\"\"},\"baxis\":{\"gridcolor\":\"white\",\"linecolor\":\"white\",\"ticks\":\"\"},\"caxis\":{\"gridcolor\":\"white\",\"linecolor\":\"white\",\"ticks\":\"\"}},\"coloraxis\":{\"colorbar\":{\"outlinewidth\":0,\"ticks\":\"\"}},\"colorscale\":{\"sequential\":[[0.0,\"#0d0887\"],[0.1111111111111111,\"#46039f\"],[0.2222222222222222,\"#7201a8\"],[0.3333333333333333,\"#9c179e\"],[0.4444444444444444,\"#bd3786\"],[0.5555555555555556,\"#d8576b\"],[0.6666666666666666,\"#ed7953\"],[0.7777777777777778,\"#fb9f3a\"],[0.8888888888888888,\"#fdca26\"],[1.0,\"#f0f921\"]],\"sequentialminus\":[[0.0,\"#0d0887\"],[0.1111111111111111,\"#46039f\"],[0.2222222222222222,\"#7201a8\"],[0.3333333333333333,\"#9c179e\"],[0.4444444444444444,\"#bd3786\"],[0.5555555555555556,\"#d8576b\"],[0.6666666666666666,\"#ed7953\"],[0.7777777777777778,\"#fb9f3a\"],[0.8888888888888888,\"#fdca26\"],[1.0,\"#f0f921\"]],\"diverging\":[[0,\"#8e0152\"],[0.1,\"#c51b7d\"],[0.2,\"#de77ae\"],[0.3,\"#f1b6da\"],[0.4,\"#fde0ef\"],[0.5,\"#f7f7f7\"],[0.6,\"#e6f5d0\"],[0.7,\"#b8e186\"],[0.8,\"#7fbc41\"],[0.9,\"#4d9221\"],[1,\"#276419\"]]},\"xaxis\":{\"gridcolor\":\"white\",\"linecolor\":\"white\",\"ticks\":\"\",\"title\":{\"standoff\":15},\"zerolinecolor\":\"white\",\"automargin\":true,\"zerolinewidth\":2},\"yaxis\":{\"gridcolor\":\"white\",\"linecolor\":\"white\",\"ticks\":\"\",\"title\":{\"standoff\":15},\"zerolinecolor\":\"white\",\"automargin\":true,\"zerolinewidth\":2},\"scene\":{\"xaxis\":{\"backgroundcolor\":\"#E5ECF6\",\"gridcolor\":\"white\",\"linecolor\":\"white\",\"showbackground\":true,\"ticks\":\"\",\"zerolinecolor\":\"white\",\"gridwidth\":2},\"yaxis\":{\"backgroundcolor\":\"#E5ECF6\",\"gridcolor\":\"white\",\"linecolor\":\"white\",\"showbackground\":true,\"ticks\":\"\",\"zerolinecolor\":\"white\",\"gridwidth\":2},\"zaxis\":{\"backgroundcolor\":\"#E5ECF6\",\"gridcolor\":\"white\",\"linecolor\":\"white\",\"showbackground\":true,\"ticks\":\"\",\"zerolinecolor\":\"white\",\"gridwidth\":2}},\"shapedefaults\":{\"line\":{\"color\":\"#2a3f5f\"}},\"annotationdefaults\":{\"arrowcolor\":\"#2a3f5f\",\"arrowhead\":0,\"arrowwidth\":1},\"geo\":{\"bgcolor\":\"white\",\"landcolor\":\"#E5ECF6\",\"subunitcolor\":\"white\",\"showland\":true,\"showlakes\":true,\"lakecolor\":\"white\"},\"title\":{\"x\":0.05},\"mapbox\":{\"style\":\"light\"}}},\"scene\":{\"xaxis\":{\"showbackground\":false,\"showgrid\":true,\"zeroline\":true,\"gridcolor\":\"red\",\"zerolinecolor\":\"green\"},\"yaxis\":{\"showbackground\":false,\"showgrid\":true,\"zeroline\":true,\"gridcolor\":\"red\",\"zerolinecolor\":\"green\"},\"zaxis\":{\"showbackground\":false,\"showgrid\":true,\"zeroline\":true,\"gridcolor\":\"red\",\"zerolinecolor\":\"green\"},\"aspectmode\":\"data\"},\"margin\":{\"l\":50,\"r\":50,\"b\":100,\"t\":100,\"pad\":10},\"showlegend\":false,\"width\":500,\"height\":500,\"autosize\":false,\"paper_bgcolor\":\"rgba(140,140,140,0.5)\",\"plot_bgcolor\":\"rgba(0,100,140,0.5)\"},                        {\"responsive\": true}                    ).then(function(){\n",
       "                            \n",
       "var gd = document.getElementById('08a9432f-a0ba-446e-94f2-16ba5bfc1d72');\n",
       "var x = new MutationObserver(function (mutations, observer) {{\n",
       "        var display = window.getComputedStyle(gd).display;\n",
       "        if (!display || display === 'none') {{\n",
       "            console.log([gd, 'removed!']);\n",
       "            Plotly.purge(gd);\n",
       "            observer.disconnect();\n",
       "        }}\n",
       "}});\n",
       "\n",
       "// Listen for the removal of the full notebook cells\n",
       "var notebookContainer = gd.closest('#notebook-container');\n",
       "if (notebookContainer) {{\n",
       "    x.observe(notebookContainer, {childList: true});\n",
       "}}\n",
       "\n",
       "// Listen for the clearing of the current output cell\n",
       "var outputEl = gd.closest('.output');\n",
       "if (outputEl) {{\n",
       "    x.observe(outputEl, {childList: true});\n",
       "}}\n",
       "\n",
       "                        })                };                });            </script>        </div>"
      ]
     },
     "metadata": {},
     "output_type": "display_data"
    }
   ],
   "source": [
    "bigfrag = triphenylene.bs('1i').add_across_bond(triphenylene.bs('1b'))\\\n",
    ".add_across_bond(triphenylene.bs('1b'),reverse=True)\n",
    "bigfrag.show(show_labels=True)"
   ]
  },
  {
   "cell_type": "code",
   "execution_count": 9,
   "id": "cea39478-edf6-4d2c-8144-5e395e1a46d6",
   "metadata": {},
   "outputs": [
    {
     "data": {
      "application/vnd.plotly.v1+json": {
       "config": {
        "plotlyServerURL": "https://plot.ly"
       },
       "data": [
        {
         "hoverinfo": "text",
         "marker": {
          "color": [
           "black",
           "black",
           "black",
           "black",
           "black",
           "black",
           "black",
           "black",
           "black",
           "black",
           "white",
           "white",
           "white",
           "black",
           "black",
           "black",
           "black",
           "white",
           "white",
           "white",
           "black",
           "black",
           "black",
           "black",
           "black",
           "black",
           "black",
           "black",
           "black",
           "black",
           "black",
           "black",
           "white",
           "white",
           "white",
           "black",
           "black",
           "black",
           "black",
           "white",
           "white",
           "white",
           "black",
           "black",
           "black",
           "black",
           "black",
           "black",
           "black",
           "black",
           "white",
           "white",
           "white",
           "black",
           "black",
           "black",
           "black",
           "white",
           "white",
           "white"
          ],
          "colorscale": [
           [
            0,
            "#440154"
           ],
           [
            0.1111111111111111,
            "#482878"
           ],
           [
            0.2222222222222222,
            "#3e4989"
           ],
           [
            0.3333333333333333,
            "#31688e"
           ],
           [
            0.4444444444444444,
            "#26828e"
           ],
           [
            0.5555555555555556,
            "#1f9e89"
           ],
           [
            0.6666666666666666,
            "#35b779"
           ],
           [
            0.7777777777777778,
            "#6ece58"
           ],
           [
            0.8888888888888888,
            "#b5de2b"
           ],
           [
            1,
            "#fde725"
           ]
          ],
          "opacity": 0.8,
          "size": 3
         },
         "mode": "markers+text",
         "text": [
          "C1",
          "C2",
          "C3",
          "C4",
          "C5",
          "C6",
          "C11",
          "C12",
          "C13",
          "C14",
          "H16",
          "H17",
          "H18",
          "C19",
          "C20",
          "C21",
          "C22",
          "H23",
          "H24",
          "H25",
          "C27",
          "C28",
          "C29",
          "C30",
          "C35",
          "C36",
          "C39",
          "C40",
          "C41",
          "C42",
          "C43",
          "C44",
          "H45",
          "H46",
          "H47",
          "C53",
          "C54",
          "C55",
          "C56",
          "H58",
          "H59",
          "H60",
          "C61",
          "C62",
          "C65",
          "C66",
          "C67",
          "C68",
          "C69",
          "C70",
          "H71",
          "H72",
          "H73",
          "C79",
          "C80",
          "C81",
          "C82",
          "H84",
          "H85",
          "H86"
         ],
         "type": "scatter3d",
         "x": [
          0.68103,
          -0.70601,
          -1.38702,
          -0.68101,
          0.70603,
          1.38704,
          2.7740507721474907,
          3.480070443054662,
          2.7990512669000918,
          1.412040494752601,
          4.561272493543597,
          3.3493898811703238,
          0.8811803619729295,
          -1.362018811423403,
          -2.749058620450002,
          -3.4550708381922015,
          -2.7740620267687977,
          -0.8116905088837088,
          -3.280017493450736,
          -4.536264715902161,
          -1.4120008540260884,
          -0.7309776664617227,
          0.6560444857267476,
          1.3620353397528357,
          2.7240788114234027,
          1.337038811423403,
          2.749078811423403,
          3.4300888114234027,
          4.817099583570894,
          5.523119254478065,
          4.842100078323495,
          3.4550893061760037,
          5.347977963638467,
          6.604321304967,
          5.392438692593727,
          0.6310479573973147,
          1.3120711449616804,
          2.6990932971501502,
          3.405084151176239,
          0.7618418561132925,
          3.229944854516045,
          4.486271650768528,
          -2.824104763249048,
          -1.4370651453847214,
          -2.7990743254890464,
          -3.505099470666229,
          -4.892109756446731,
          -5.573113520628473,
          -4.8670798478911905,
          -3.480069562110688,
          -5.442478106371368,
          -6.654309257557514,
          -5.397922734937029,
          -0.7560898610675566,
          -1.4621286782202543,
          -2.8491511146434085,
          -3.530126398960573,
          -0.9313971983258416,
          -3.399506322939441,
          -4.611323744217975
         ],
         "y": [
          -0.09218,
          -0.03513,
          0.05706,
          0.09219,
          0.03513,
          -0.05705,
          -0.11409875093839378,
          -0.07896735281534562,
          0.01320388924854226,
          0.07025264018693606,
          -0.12338877073001644,
          0.040538752960631703,
          0.14198336402304731,
          0.18436983911691374,
          0.24142125252170643,
          -0.49371876825517685,
          0.11410139262790939,
          0.21187042982569654,
          0.3133209680931068,
          -1.149297182664307,
          -0.07026193938351726,
          -0.16244372442291916,
          -0.21950217127998,
          -0.18437023189646273,
          -0.3687298391169137,
          -0.3116798391169137,
          -0.24141983911691373,
          -0.3335998391169137,
          -0.3906485900553075,
          -0.35551719193225934,
          -0.26334594986837145,
          -0.20629719892997767,
          -0.4623890766482048,
          -0.39993860984693014,
          -0.23601108615628202,
          -0.346811778500431,
          -1.1389935635398327,
          -0.49605201039689373,
          -0.46092007101337645,
          -1.8663439705500324,
          -0.5679571541002575,
          -0.5055149742362923,
          -0.14052318440924924,
          -0.19757601121106602,
          -0.013214436368433988,
          -0.04834321479605995,
          0.00870845239306614,
          0.10089059043173838,
          0.13600988273799186,
          0.07895821554886577,
          -0.018558433814376912,
          0.14541243810521925,
          0.2078156638641142,
          -0.2897563337931888,
          -0.324885792479587,
          -0.26784285335027425,
          -0.1756625307681515,
          -0.3966980377806338,
          -0.29527604047214207,
          -0.13131470075376012
         ],
         "z": [
          1.2062,
          1.19479,
          -0.01142,
          -1.2062,
          -1.19478,
          0.01142,
          0.02282365569419366,
          -1.1719846391205222,
          -2.378190891859311,
          -2.3895945475535045,
          -1.1632104355115391,
          -3.3095410373303693,
          -3.3298478768127513,
          -2.4123978948017046,
          -2.423824031680406,
          -1.229031954522818,
          -0.022834059721113853,
          -3.3437478339945126,
          -3.364016155175675,
          -1.2379426299233607,
          2.3895812563568026,
          3.5958046140756865,
          3.607209143032394,
          2.4124178866755916,
          4.824797894801705,
          4.813387894801704,
          2.4238178948017044,
          3.630017894801705,
          3.6414215504958984,
          2.446613255681182,
          1.2404070029423937,
          1.2290033472482,
          4.58166177536412,
          2.4553874592901654,
          0.30905685747133527,
          6.008179151158507,
          7.214402508877391,
          7.225807037834099,
          6.031015781477296,
          8.145824973675065,
          8.16605123640764,
          6.03990317884161,
          4.779093146791004,
          4.790535420546851,
          2.3781133975307522,
          3.572887299071844,
          3.561439163414404,
          2.355204866605978,
          1.160424858165508,
          1.171872993822948,
          4.492772309296039,
          2.346165700371901,
          0.22016817104772723,
          5.996752206899044,
          7.191549244895883,
          7.180101788660224,
          5.973885002308032,
          8.131876432992616,
          8.111439237464776,
          5.9649591364473915
         ]
        },
        {
         "line": {
          "color": "black",
          "width": 3
         },
         "mode": "lines",
         "type": "scatter3d",
         "x": [
          0.68103,
          -0.70601
         ],
         "y": [
          -0.09218,
          -0.03513
         ],
         "z": [
          1.2062,
          1.19479
         ]
        },
        {
         "line": {
          "color": "black",
          "width": 3
         },
         "mode": "lines",
         "type": "scatter3d",
         "x": [
          0.68103,
          1.38704
         ],
         "y": [
          -0.09218,
          -0.05705
         ],
         "z": [
          1.2062,
          0.01142
         ]
        },
        {
         "line": {
          "color": "black",
          "width": 3
         },
         "mode": "lines",
         "type": "scatter3d",
         "x": [
          0.68103,
          1.3620353397528357
         ],
         "y": [
          -0.09218,
          -0.18437023189646273
         ],
         "z": [
          1.2062,
          2.4124178866755916
         ]
        },
        {
         "line": {
          "color": "black",
          "width": 3
         },
         "mode": "lines",
         "type": "scatter3d",
         "x": [
          -0.70601,
          -1.38702
         ],
         "y": [
          -0.03513,
          0.05706
         ],
         "z": [
          1.19479,
          -0.01142
         ]
        },
        {
         "line": {
          "color": "black",
          "width": 3
         },
         "mode": "lines",
         "type": "scatter3d",
         "x": [
          -0.70601,
          -1.4120008540260884
         ],
         "y": [
          -0.03513,
          -0.07026193938351726
         ],
         "z": [
          1.19479,
          2.3895812563568026
         ]
        },
        {
         "line": {
          "color": "black",
          "width": 3
         },
         "mode": "lines",
         "type": "scatter3d",
         "x": [
          -1.38702,
          -0.68101
         ],
         "y": [
          0.05706,
          0.09219
         ],
         "z": [
          -0.01142,
          -1.2062
         ]
        },
        {
         "line": {
          "color": "black",
          "width": 3
         },
         "mode": "lines",
         "type": "scatter3d",
         "x": [
          -1.38702,
          -2.7740620267687977
         ],
         "y": [
          0.05706,
          0.11410139262790939
         ],
         "z": [
          -0.01142,
          -0.022834059721113853
         ]
        },
        {
         "line": {
          "color": "black",
          "width": 3
         },
         "mode": "lines",
         "type": "scatter3d",
         "x": [
          -0.68101,
          0.70603
         ],
         "y": [
          0.09219,
          0.03513
         ],
         "z": [
          -1.2062,
          -1.19478
         ]
        },
        {
         "line": {
          "color": "black",
          "width": 3
         },
         "mode": "lines",
         "type": "scatter3d",
         "x": [
          -0.68101,
          -1.362018811423403
         ],
         "y": [
          0.09219,
          0.18436983911691374
         ],
         "z": [
          -1.2062,
          -2.4123978948017046
         ]
        },
        {
         "line": {
          "color": "black",
          "width": 3
         },
         "mode": "lines",
         "type": "scatter3d",
         "x": [
          0.70603,
          1.38704
         ],
         "y": [
          0.03513,
          -0.05705
         ],
         "z": [
          -1.19478,
          0.01142
         ]
        },
        {
         "line": {
          "color": "black",
          "width": 3
         },
         "mode": "lines",
         "type": "scatter3d",
         "x": [
          0.70603,
          1.412040494752601
         ],
         "y": [
          0.03513,
          0.07025264018693606
         ],
         "z": [
          -1.19478,
          -2.3895945475535045
         ]
        },
        {
         "line": {
          "color": "black",
          "width": 3
         },
         "mode": "lines",
         "type": "scatter3d",
         "x": [
          1.38704,
          2.7740507721474907
         ],
         "y": [
          -0.05705,
          -0.11409875093839378
         ],
         "z": [
          0.01142,
          0.02282365569419366
         ]
        },
        {
         "line": {
          "color": "black",
          "width": 3
         },
         "mode": "lines",
         "type": "scatter3d",
         "x": [
          2.7740507721474907,
          3.480070443054662
         ],
         "y": [
          -0.11409875093839378,
          -0.07896735281534562
         ],
         "z": [
          0.02282365569419366,
          -1.1719846391205222
         ]
        },
        {
         "line": {
          "color": "black",
          "width": 3
         },
         "mode": "lines",
         "type": "scatter3d",
         "x": [
          2.7740507721474907,
          3.4550893061760037
         ],
         "y": [
          -0.11409875093839378,
          -0.20629719892997767
         ],
         "z": [
          0.02282365569419366,
          1.2290033472482
         ]
        },
        {
         "line": {
          "color": "black",
          "width": 3
         },
         "mode": "lines",
         "type": "scatter3d",
         "x": [
          3.480070443054662,
          2.7990512669000918
         ],
         "y": [
          -0.07896735281534562,
          0.01320388924854226
         ],
         "z": [
          -1.1719846391205222,
          -2.378190891859311
         ]
        },
        {
         "line": {
          "color": "black",
          "width": 3
         },
         "mode": "lines",
         "type": "scatter3d",
         "x": [
          3.480070443054662,
          4.561272493543597
         ],
         "y": [
          -0.07896735281534562,
          -0.12338877073001644
         ],
         "z": [
          -1.1719846391205222,
          -1.1632104355115391
         ]
        },
        {
         "line": {
          "color": "black",
          "width": 3
         },
         "mode": "lines",
         "type": "scatter3d",
         "x": [
          2.7990512669000918,
          1.412040494752601
         ],
         "y": [
          0.01320388924854226,
          0.07025264018693606
         ],
         "z": [
          -2.378190891859311,
          -2.3895945475535045
         ]
        },
        {
         "line": {
          "color": "black",
          "width": 3
         },
         "mode": "lines",
         "type": "scatter3d",
         "x": [
          2.7990512669000918,
          3.3493898811703238
         ],
         "y": [
          0.01320388924854226,
          0.040538752960631703
         ],
         "z": [
          -2.378190891859311,
          -3.3095410373303693
         ]
        },
        {
         "line": {
          "color": "black",
          "width": 3
         },
         "mode": "lines",
         "type": "scatter3d",
         "x": [
          1.412040494752601,
          0.8811803619729295
         ],
         "y": [
          0.07025264018693606,
          0.14198336402304731
         ],
         "z": [
          -2.3895945475535045,
          -3.3298478768127513
         ]
        },
        {
         "line": {
          "color": "black",
          "width": 3
         },
         "mode": "lines",
         "type": "scatter3d",
         "x": [
          -1.362018811423403,
          -2.749058620450002
         ],
         "y": [
          0.18436983911691374,
          0.24142125252170643
         ],
         "z": [
          -2.4123978948017046,
          -2.423824031680406
         ]
        },
        {
         "line": {
          "color": "black",
          "width": 3
         },
         "mode": "lines",
         "type": "scatter3d",
         "x": [
          -1.362018811423403,
          -0.8116905088837088
         ],
         "y": [
          0.18436983911691374,
          0.21187042982569654
         ],
         "z": [
          -2.4123978948017046,
          -3.3437478339945126
         ]
        },
        {
         "line": {
          "color": "black",
          "width": 3
         },
         "mode": "lines",
         "type": "scatter3d",
         "x": [
          -2.749058620450002,
          -3.4550708381922015
         ],
         "y": [
          0.24142125252170643,
          -0.49371876825517685
         ],
         "z": [
          -2.423824031680406,
          -1.229031954522818
         ]
        },
        {
         "line": {
          "color": "black",
          "width": 3
         },
         "mode": "lines",
         "type": "scatter3d",
         "x": [
          -2.749058620450002,
          -3.280017493450736
         ],
         "y": [
          0.24142125252170643,
          0.3133209680931068
         ],
         "z": [
          -2.423824031680406,
          -3.364016155175675
         ]
        },
        {
         "line": {
          "color": "black",
          "width": 3
         },
         "mode": "lines",
         "type": "scatter3d",
         "x": [
          -3.4550708381922015,
          -2.7740620267687977
         ],
         "y": [
          -0.49371876825517685,
          0.11410139262790939
         ],
         "z": [
          -1.229031954522818,
          -0.022834059721113853
         ]
        },
        {
         "line": {
          "color": "black",
          "width": 3
         },
         "mode": "lines",
         "type": "scatter3d",
         "x": [
          -3.4550708381922015,
          -4.536264715902161
         ],
         "y": [
          -0.49371876825517685,
          -1.149297182664307
         ],
         "z": [
          -1.229031954522818,
          -1.2379426299233607
         ]
        },
        {
         "line": {
          "color": "black",
          "width": 3
         },
         "mode": "lines",
         "type": "scatter3d",
         "x": [
          -2.7740620267687977,
          -3.480069562110688
         ],
         "y": [
          0.11410139262790939,
          0.07895821554886577
         ],
         "z": [
          -0.022834059721113853,
          1.171872993822948
         ]
        },
        {
         "line": {
          "color": "black",
          "width": 3
         },
         "mode": "lines",
         "type": "scatter3d",
         "x": [
          -1.4120008540260884,
          -0.7309776664617227
         ],
         "y": [
          -0.07026193938351726,
          -0.16244372442291916
         ],
         "z": [
          2.3895812563568026,
          3.5958046140756865
         ]
        },
        {
         "line": {
          "color": "black",
          "width": 3
         },
         "mode": "lines",
         "type": "scatter3d",
         "x": [
          -1.4120008540260884,
          -2.7990743254890464
         ],
         "y": [
          -0.07026193938351726,
          -0.013214436368433988
         ],
         "z": [
          2.3895812563568026,
          2.3781133975307522
         ]
        },
        {
         "line": {
          "color": "black",
          "width": 3
         },
         "mode": "lines",
         "type": "scatter3d",
         "x": [
          -0.7309776664617227,
          0.6560444857267476
         ],
         "y": [
          -0.16244372442291916,
          -0.21950217127998
         ],
         "z": [
          3.5958046140756865,
          3.607209143032394
         ]
        },
        {
         "line": {
          "color": "black",
          "width": 3
         },
         "mode": "lines",
         "type": "scatter3d",
         "x": [
          -0.7309776664617227,
          -1.4370651453847214
         ],
         "y": [
          -0.16244372442291916,
          -0.19757601121106602
         ],
         "z": [
          3.5958046140756865,
          4.790535420546851
         ]
        },
        {
         "line": {
          "color": "black",
          "width": 3
         },
         "mode": "lines",
         "type": "scatter3d",
         "x": [
          0.6560444857267476,
          1.3620353397528357
         ],
         "y": [
          -0.21950217127998,
          -0.18437023189646273
         ],
         "z": [
          3.607209143032394,
          2.4124178866755916
         ]
        },
        {
         "line": {
          "color": "black",
          "width": 3
         },
         "mode": "lines",
         "type": "scatter3d",
         "x": [
          0.6560444857267476,
          1.337038811423403
         ],
         "y": [
          -0.21950217127998,
          -0.3116798391169137
         ],
         "z": [
          3.607209143032394,
          4.813387894801704
         ]
        },
        {
         "line": {
          "color": "black",
          "width": 3
         },
         "mode": "lines",
         "type": "scatter3d",
         "x": [
          1.3620353397528357,
          2.749078811423403
         ],
         "y": [
          -0.18437023189646273,
          -0.24141983911691373
         ],
         "z": [
          2.4124178866755916,
          2.4238178948017044
         ]
        },
        {
         "line": {
          "color": "black",
          "width": 3
         },
         "mode": "lines",
         "type": "scatter3d",
         "x": [
          2.7240788114234027,
          1.337038811423403
         ],
         "y": [
          -0.3687298391169137,
          -0.3116798391169137
         ],
         "z": [
          4.824797894801705,
          4.813387894801704
         ]
        },
        {
         "line": {
          "color": "black",
          "width": 3
         },
         "mode": "lines",
         "type": "scatter3d",
         "x": [
          2.7240788114234027,
          3.4300888114234027
         ],
         "y": [
          -0.3687298391169137,
          -0.3335998391169137
         ],
         "z": [
          4.824797894801705,
          3.630017894801705
         ]
        },
        {
         "line": {
          "color": "black",
          "width": 3
         },
         "mode": "lines",
         "type": "scatter3d",
         "x": [
          2.7240788114234027,
          3.405084151176239
         ],
         "y": [
          -0.3687298391169137,
          -0.46092007101337645
         ],
         "z": [
          4.824797894801705,
          6.031015781477296
         ]
        },
        {
         "line": {
          "color": "black",
          "width": 3
         },
         "mode": "lines",
         "type": "scatter3d",
         "x": [
          1.337038811423403,
          0.6310479573973147
         ],
         "y": [
          -0.3116798391169137,
          -0.346811778500431
         ],
         "z": [
          4.813387894801704,
          6.008179151158507
         ]
        },
        {
         "line": {
          "color": "black",
          "width": 3
         },
         "mode": "lines",
         "type": "scatter3d",
         "x": [
          2.749078811423403,
          3.4300888114234027
         ],
         "y": [
          -0.24141983911691373,
          -0.3335998391169137
         ],
         "z": [
          2.4238178948017044,
          3.630017894801705
         ]
        },
        {
         "line": {
          "color": "black",
          "width": 3
         },
         "mode": "lines",
         "type": "scatter3d",
         "x": [
          2.749078811423403,
          3.4550893061760037
         ],
         "y": [
          -0.24141983911691373,
          -0.20629719892997767
         ],
         "z": [
          2.4238178948017044,
          1.2290033472482
         ]
        },
        {
         "line": {
          "color": "black",
          "width": 3
         },
         "mode": "lines",
         "type": "scatter3d",
         "x": [
          3.4300888114234027,
          4.817099583570894
         ],
         "y": [
          -0.3335998391169137,
          -0.3906485900553075
         ],
         "z": [
          3.630017894801705,
          3.6414215504958984
         ]
        },
        {
         "line": {
          "color": "black",
          "width": 3
         },
         "mode": "lines",
         "type": "scatter3d",
         "x": [
          4.817099583570894,
          5.523119254478065
         ],
         "y": [
          -0.3906485900553075,
          -0.35551719193225934
         ],
         "z": [
          3.6414215504958984,
          2.446613255681182
         ]
        },
        {
         "line": {
          "color": "black",
          "width": 3
         },
         "mode": "lines",
         "type": "scatter3d",
         "x": [
          4.817099583570894,
          5.347977963638467
         ],
         "y": [
          -0.3906485900553075,
          -0.4623890766482048
         ],
         "z": [
          3.6414215504958984,
          4.58166177536412
         ]
        },
        {
         "line": {
          "color": "black",
          "width": 3
         },
         "mode": "lines",
         "type": "scatter3d",
         "x": [
          5.523119254478065,
          4.842100078323495
         ],
         "y": [
          -0.35551719193225934,
          -0.26334594986837145
         ],
         "z": [
          2.446613255681182,
          1.2404070029423937
         ]
        },
        {
         "line": {
          "color": "black",
          "width": 3
         },
         "mode": "lines",
         "type": "scatter3d",
         "x": [
          5.523119254478065,
          6.604321304967
         ],
         "y": [
          -0.35551719193225934,
          -0.39993860984693014
         ],
         "z": [
          2.446613255681182,
          2.4553874592901654
         ]
        },
        {
         "line": {
          "color": "black",
          "width": 3
         },
         "mode": "lines",
         "type": "scatter3d",
         "x": [
          4.842100078323495,
          3.4550893061760037
         ],
         "y": [
          -0.26334594986837145,
          -0.20629719892997767
         ],
         "z": [
          1.2404070029423937,
          1.2290033472482
         ]
        },
        {
         "line": {
          "color": "black",
          "width": 3
         },
         "mode": "lines",
         "type": "scatter3d",
         "x": [
          4.842100078323495,
          5.392438692593727
         ],
         "y": [
          -0.26334594986837145,
          -0.23601108615628202
         ],
         "z": [
          1.2404070029423937,
          0.30905685747133527
         ]
        },
        {
         "line": {
          "color": "black",
          "width": 3
         },
         "mode": "lines",
         "type": "scatter3d",
         "x": [
          0.6310479573973147,
          1.3120711449616804
         ],
         "y": [
          -0.346811778500431,
          -1.1389935635398327
         ],
         "z": [
          6.008179151158507,
          7.214402508877391
         ]
        },
        {
         "line": {
          "color": "black",
          "width": 3
         },
         "mode": "lines",
         "type": "scatter3d",
         "x": [
          0.6310479573973147,
          -0.7560898610675566
         ],
         "y": [
          -0.346811778500431,
          -0.2897563337931888
         ],
         "z": [
          6.008179151158507,
          5.996752206899044
         ]
        },
        {
         "line": {
          "color": "black",
          "width": 3
         },
         "mode": "lines",
         "type": "scatter3d",
         "x": [
          1.3120711449616804,
          2.6990932971501502
         ],
         "y": [
          -1.1389935635398327,
          -0.49605201039689373
         ],
         "z": [
          7.214402508877391,
          7.225807037834099
         ]
        },
        {
         "line": {
          "color": "black",
          "width": 3
         },
         "mode": "lines",
         "type": "scatter3d",
         "x": [
          1.3120711449616804,
          0.7618418561132925
         ],
         "y": [
          -1.1389935635398327,
          -1.8663439705500324
         ],
         "z": [
          7.214402508877391,
          8.145824973675065
         ]
        },
        {
         "line": {
          "color": "black",
          "width": 3
         },
         "mode": "lines",
         "type": "scatter3d",
         "x": [
          2.6990932971501502,
          3.405084151176239
         ],
         "y": [
          -0.49605201039689373,
          -0.46092007101337645
         ],
         "z": [
          7.225807037834099,
          6.031015781477296
         ]
        },
        {
         "line": {
          "color": "black",
          "width": 3
         },
         "mode": "lines",
         "type": "scatter3d",
         "x": [
          2.6990932971501502,
          3.229944854516045
         ],
         "y": [
          -0.49605201039689373,
          -0.5679571541002575
         ],
         "z": [
          7.225807037834099,
          8.16605123640764
         ]
        },
        {
         "line": {
          "color": "black",
          "width": 3
         },
         "mode": "lines",
         "type": "scatter3d",
         "x": [
          3.405084151176239,
          4.486271650768528
         ],
         "y": [
          -0.46092007101337645,
          -0.5055149742362923
         ],
         "z": [
          6.031015781477296,
          6.03990317884161
         ]
        },
        {
         "line": {
          "color": "black",
          "width": 3
         },
         "mode": "lines",
         "type": "scatter3d",
         "x": [
          -2.824104763249048,
          -1.4370651453847214
         ],
         "y": [
          -0.14052318440924924,
          -0.19757601121106602
         ],
         "z": [
          4.779093146791004,
          4.790535420546851
         ]
        },
        {
         "line": {
          "color": "black",
          "width": 3
         },
         "mode": "lines",
         "type": "scatter3d",
         "x": [
          -2.824104763249048,
          -3.505099470666229
         ],
         "y": [
          -0.14052318440924924,
          -0.04834321479605995
         ],
         "z": [
          4.779093146791004,
          3.572887299071844
         ]
        },
        {
         "line": {
          "color": "black",
          "width": 3
         },
         "mode": "lines",
         "type": "scatter3d",
         "x": [
          -2.824104763249048,
          -3.530126398960573
         ],
         "y": [
          -0.14052318440924924,
          -0.1756625307681515
         ],
         "z": [
          4.779093146791004,
          5.973885002308032
         ]
        },
        {
         "line": {
          "color": "black",
          "width": 3
         },
         "mode": "lines",
         "type": "scatter3d",
         "x": [
          -1.4370651453847214,
          -0.7560898610675566
         ],
         "y": [
          -0.19757601121106602,
          -0.2897563337931888
         ],
         "z": [
          4.790535420546851,
          5.996752206899044
         ]
        },
        {
         "line": {
          "color": "black",
          "width": 3
         },
         "mode": "lines",
         "type": "scatter3d",
         "x": [
          -2.7990743254890464,
          -3.505099470666229
         ],
         "y": [
          -0.013214436368433988,
          -0.04834321479605995
         ],
         "z": [
          2.3781133975307522,
          3.572887299071844
         ]
        },
        {
         "line": {
          "color": "black",
          "width": 3
         },
         "mode": "lines",
         "type": "scatter3d",
         "x": [
          -2.7990743254890464,
          -3.480069562110688
         ],
         "y": [
          -0.013214436368433988,
          0.07895821554886577
         ],
         "z": [
          2.3781133975307522,
          1.171872993822948
         ]
        },
        {
         "line": {
          "color": "black",
          "width": 3
         },
         "mode": "lines",
         "type": "scatter3d",
         "x": [
          -3.505099470666229,
          -4.892109756446731
         ],
         "y": [
          -0.04834321479605995,
          0.00870845239306614
         ],
         "z": [
          3.572887299071844,
          3.561439163414404
         ]
        },
        {
         "line": {
          "color": "black",
          "width": 3
         },
         "mode": "lines",
         "type": "scatter3d",
         "x": [
          -4.892109756446731,
          -5.573113520628473
         ],
         "y": [
          0.00870845239306614,
          0.10089059043173838
         ],
         "z": [
          3.561439163414404,
          2.355204866605978
         ]
        },
        {
         "line": {
          "color": "black",
          "width": 3
         },
         "mode": "lines",
         "type": "scatter3d",
         "x": [
          -4.892109756446731,
          -5.442478106371368
         ],
         "y": [
          0.00870845239306614,
          -0.018558433814376912
         ],
         "z": [
          3.561439163414404,
          4.492772309296039
         ]
        },
        {
         "line": {
          "color": "black",
          "width": 3
         },
         "mode": "lines",
         "type": "scatter3d",
         "x": [
          -5.573113520628473,
          -4.8670798478911905
         ],
         "y": [
          0.10089059043173838,
          0.13600988273799186
         ],
         "z": [
          2.355204866605978,
          1.160424858165508
         ]
        },
        {
         "line": {
          "color": "black",
          "width": 3
         },
         "mode": "lines",
         "type": "scatter3d",
         "x": [
          -5.573113520628473,
          -6.654309257557514
         ],
         "y": [
          0.10089059043173838,
          0.14541243810521925
         ],
         "z": [
          2.355204866605978,
          2.346165700371901
         ]
        },
        {
         "line": {
          "color": "black",
          "width": 3
         },
         "mode": "lines",
         "type": "scatter3d",
         "x": [
          -4.8670798478911905,
          -3.480069562110688
         ],
         "y": [
          0.13600988273799186,
          0.07895821554886577
         ],
         "z": [
          1.160424858165508,
          1.171872993822948
         ]
        },
        {
         "line": {
          "color": "black",
          "width": 3
         },
         "mode": "lines",
         "type": "scatter3d",
         "x": [
          -4.8670798478911905,
          -5.397922734937029
         ],
         "y": [
          0.13600988273799186,
          0.2078156638641142
         ],
         "z": [
          1.160424858165508,
          0.22016817104772723
         ]
        },
        {
         "line": {
          "color": "black",
          "width": 3
         },
         "mode": "lines",
         "type": "scatter3d",
         "x": [
          -0.7560898610675566,
          -1.4621286782202543
         ],
         "y": [
          -0.2897563337931888,
          -0.324885792479587
         ],
         "z": [
          5.996752206899044,
          7.191549244895883
         ]
        },
        {
         "line": {
          "color": "black",
          "width": 3
         },
         "mode": "lines",
         "type": "scatter3d",
         "x": [
          -1.4621286782202543,
          -2.8491511146434085
         ],
         "y": [
          -0.324885792479587,
          -0.26784285335027425
         ],
         "z": [
          7.191549244895883,
          7.180101788660224
         ]
        },
        {
         "line": {
          "color": "black",
          "width": 3
         },
         "mode": "lines",
         "type": "scatter3d",
         "x": [
          -1.4621286782202543,
          -0.9313971983258416
         ],
         "y": [
          -0.324885792479587,
          -0.3966980377806338
         ],
         "z": [
          7.191549244895883,
          8.131876432992616
         ]
        },
        {
         "line": {
          "color": "black",
          "width": 3
         },
         "mode": "lines",
         "type": "scatter3d",
         "x": [
          -2.8491511146434085,
          -3.530126398960573
         ],
         "y": [
          -0.26784285335027425,
          -0.1756625307681515
         ],
         "z": [
          7.180101788660224,
          5.973885002308032
         ]
        },
        {
         "line": {
          "color": "black",
          "width": 3
         },
         "mode": "lines",
         "type": "scatter3d",
         "x": [
          -2.8491511146434085,
          -3.399506322939441
         ],
         "y": [
          -0.26784285335027425,
          -0.29527604047214207
         ],
         "z": [
          7.180101788660224,
          8.111439237464776
         ]
        },
        {
         "line": {
          "color": "black",
          "width": 3
         },
         "mode": "lines",
         "type": "scatter3d",
         "x": [
          -3.530126398960573,
          -4.611323744217975
         ],
         "y": [
          -0.1756625307681515,
          -0.13131470075376012
         ],
         "z": [
          5.973885002308032,
          5.9649591364473915
         ]
        }
       ],
       "layout": {
        "autosize": false,
        "height": 500,
        "margin": {
         "b": 100,
         "l": 50,
         "pad": 10,
         "r": 50,
         "t": 100
        },
        "paper_bgcolor": "rgba(140,140,140,0.5)",
        "plot_bgcolor": "rgba(0,100,140,0.5)",
        "scene": {
         "aspectmode": "data",
         "aspectratio": {
          "x": 1.9124580534480398,
          "y": 0.3144003255893338,
          "z": 1.6631257757613815
         },
         "camera": {
          "center": {
           "x": 0,
           "y": 0,
           "z": 0
          },
          "eye": {
           "x": -0.08424558222042934,
           "y": 2.610611861869157,
           "z": -0.28300955973453695
          },
          "projection": {
           "type": "perspective"
          },
          "up": {
           "x": 0,
           "y": 0,
           "z": 1
          }
         },
         "xaxis": {
          "gridcolor": "red",
          "showbackground": false,
          "showgrid": true,
          "type": "linear",
          "zeroline": true,
          "zerolinecolor": "green"
         },
         "yaxis": {
          "gridcolor": "red",
          "showbackground": false,
          "showgrid": true,
          "type": "linear",
          "zeroline": true,
          "zerolinecolor": "green"
         },
         "zaxis": {
          "gridcolor": "red",
          "showbackground": false,
          "showgrid": true,
          "type": "linear",
          "zeroline": true,
          "zerolinecolor": "green"
         }
        },
        "showlegend": false,
        "template": {
         "data": {
          "bar": [
           {
            "error_x": {
             "color": "#2a3f5f"
            },
            "error_y": {
             "color": "#2a3f5f"
            },
            "marker": {
             "line": {
              "color": "#E5ECF6",
              "width": 0.5
             },
             "pattern": {
              "fillmode": "overlay",
              "size": 10,
              "solidity": 0.2
             }
            },
            "type": "bar"
           }
          ],
          "barpolar": [
           {
            "marker": {
             "line": {
              "color": "#E5ECF6",
              "width": 0.5
             },
             "pattern": {
              "fillmode": "overlay",
              "size": 10,
              "solidity": 0.2
             }
            },
            "type": "barpolar"
           }
          ],
          "carpet": [
           {
            "aaxis": {
             "endlinecolor": "#2a3f5f",
             "gridcolor": "white",
             "linecolor": "white",
             "minorgridcolor": "white",
             "startlinecolor": "#2a3f5f"
            },
            "baxis": {
             "endlinecolor": "#2a3f5f",
             "gridcolor": "white",
             "linecolor": "white",
             "minorgridcolor": "white",
             "startlinecolor": "#2a3f5f"
            },
            "type": "carpet"
           }
          ],
          "choropleth": [
           {
            "colorbar": {
             "outlinewidth": 0,
             "ticks": ""
            },
            "type": "choropleth"
           }
          ],
          "contour": [
           {
            "colorbar": {
             "outlinewidth": 0,
             "ticks": ""
            },
            "colorscale": [
             [
              0,
              "#0d0887"
             ],
             [
              0.1111111111111111,
              "#46039f"
             ],
             [
              0.2222222222222222,
              "#7201a8"
             ],
             [
              0.3333333333333333,
              "#9c179e"
             ],
             [
              0.4444444444444444,
              "#bd3786"
             ],
             [
              0.5555555555555556,
              "#d8576b"
             ],
             [
              0.6666666666666666,
              "#ed7953"
             ],
             [
              0.7777777777777778,
              "#fb9f3a"
             ],
             [
              0.8888888888888888,
              "#fdca26"
             ],
             [
              1,
              "#f0f921"
             ]
            ],
            "type": "contour"
           }
          ],
          "contourcarpet": [
           {
            "colorbar": {
             "outlinewidth": 0,
             "ticks": ""
            },
            "type": "contourcarpet"
           }
          ],
          "heatmap": [
           {
            "colorbar": {
             "outlinewidth": 0,
             "ticks": ""
            },
            "colorscale": [
             [
              0,
              "#0d0887"
             ],
             [
              0.1111111111111111,
              "#46039f"
             ],
             [
              0.2222222222222222,
              "#7201a8"
             ],
             [
              0.3333333333333333,
              "#9c179e"
             ],
             [
              0.4444444444444444,
              "#bd3786"
             ],
             [
              0.5555555555555556,
              "#d8576b"
             ],
             [
              0.6666666666666666,
              "#ed7953"
             ],
             [
              0.7777777777777778,
              "#fb9f3a"
             ],
             [
              0.8888888888888888,
              "#fdca26"
             ],
             [
              1,
              "#f0f921"
             ]
            ],
            "type": "heatmap"
           }
          ],
          "heatmapgl": [
           {
            "colorbar": {
             "outlinewidth": 0,
             "ticks": ""
            },
            "colorscale": [
             [
              0,
              "#0d0887"
             ],
             [
              0.1111111111111111,
              "#46039f"
             ],
             [
              0.2222222222222222,
              "#7201a8"
             ],
             [
              0.3333333333333333,
              "#9c179e"
             ],
             [
              0.4444444444444444,
              "#bd3786"
             ],
             [
              0.5555555555555556,
              "#d8576b"
             ],
             [
              0.6666666666666666,
              "#ed7953"
             ],
             [
              0.7777777777777778,
              "#fb9f3a"
             ],
             [
              0.8888888888888888,
              "#fdca26"
             ],
             [
              1,
              "#f0f921"
             ]
            ],
            "type": "heatmapgl"
           }
          ],
          "histogram": [
           {
            "marker": {
             "pattern": {
              "fillmode": "overlay",
              "size": 10,
              "solidity": 0.2
             }
            },
            "type": "histogram"
           }
          ],
          "histogram2d": [
           {
            "colorbar": {
             "outlinewidth": 0,
             "ticks": ""
            },
            "colorscale": [
             [
              0,
              "#0d0887"
             ],
             [
              0.1111111111111111,
              "#46039f"
             ],
             [
              0.2222222222222222,
              "#7201a8"
             ],
             [
              0.3333333333333333,
              "#9c179e"
             ],
             [
              0.4444444444444444,
              "#bd3786"
             ],
             [
              0.5555555555555556,
              "#d8576b"
             ],
             [
              0.6666666666666666,
              "#ed7953"
             ],
             [
              0.7777777777777778,
              "#fb9f3a"
             ],
             [
              0.8888888888888888,
              "#fdca26"
             ],
             [
              1,
              "#f0f921"
             ]
            ],
            "type": "histogram2d"
           }
          ],
          "histogram2dcontour": [
           {
            "colorbar": {
             "outlinewidth": 0,
             "ticks": ""
            },
            "colorscale": [
             [
              0,
              "#0d0887"
             ],
             [
              0.1111111111111111,
              "#46039f"
             ],
             [
              0.2222222222222222,
              "#7201a8"
             ],
             [
              0.3333333333333333,
              "#9c179e"
             ],
             [
              0.4444444444444444,
              "#bd3786"
             ],
             [
              0.5555555555555556,
              "#d8576b"
             ],
             [
              0.6666666666666666,
              "#ed7953"
             ],
             [
              0.7777777777777778,
              "#fb9f3a"
             ],
             [
              0.8888888888888888,
              "#fdca26"
             ],
             [
              1,
              "#f0f921"
             ]
            ],
            "type": "histogram2dcontour"
           }
          ],
          "mesh3d": [
           {
            "colorbar": {
             "outlinewidth": 0,
             "ticks": ""
            },
            "type": "mesh3d"
           }
          ],
          "parcoords": [
           {
            "line": {
             "colorbar": {
              "outlinewidth": 0,
              "ticks": ""
             }
            },
            "type": "parcoords"
           }
          ],
          "pie": [
           {
            "automargin": true,
            "type": "pie"
           }
          ],
          "scatter": [
           {
            "fillpattern": {
             "fillmode": "overlay",
             "size": 10,
             "solidity": 0.2
            },
            "type": "scatter"
           }
          ],
          "scatter3d": [
           {
            "line": {
             "colorbar": {
              "outlinewidth": 0,
              "ticks": ""
             }
            },
            "marker": {
             "colorbar": {
              "outlinewidth": 0,
              "ticks": ""
             }
            },
            "type": "scatter3d"
           }
          ],
          "scattercarpet": [
           {
            "marker": {
             "colorbar": {
              "outlinewidth": 0,
              "ticks": ""
             }
            },
            "type": "scattercarpet"
           }
          ],
          "scattergeo": [
           {
            "marker": {
             "colorbar": {
              "outlinewidth": 0,
              "ticks": ""
             }
            },
            "type": "scattergeo"
           }
          ],
          "scattergl": [
           {
            "marker": {
             "colorbar": {
              "outlinewidth": 0,
              "ticks": ""
             }
            },
            "type": "scattergl"
           }
          ],
          "scattermapbox": [
           {
            "marker": {
             "colorbar": {
              "outlinewidth": 0,
              "ticks": ""
             }
            },
            "type": "scattermapbox"
           }
          ],
          "scatterpolar": [
           {
            "marker": {
             "colorbar": {
              "outlinewidth": 0,
              "ticks": ""
             }
            },
            "type": "scatterpolar"
           }
          ],
          "scatterpolargl": [
           {
            "marker": {
             "colorbar": {
              "outlinewidth": 0,
              "ticks": ""
             }
            },
            "type": "scatterpolargl"
           }
          ],
          "scatterternary": [
           {
            "marker": {
             "colorbar": {
              "outlinewidth": 0,
              "ticks": ""
             }
            },
            "type": "scatterternary"
           }
          ],
          "surface": [
           {
            "colorbar": {
             "outlinewidth": 0,
             "ticks": ""
            },
            "colorscale": [
             [
              0,
              "#0d0887"
             ],
             [
              0.1111111111111111,
              "#46039f"
             ],
             [
              0.2222222222222222,
              "#7201a8"
             ],
             [
              0.3333333333333333,
              "#9c179e"
             ],
             [
              0.4444444444444444,
              "#bd3786"
             ],
             [
              0.5555555555555556,
              "#d8576b"
             ],
             [
              0.6666666666666666,
              "#ed7953"
             ],
             [
              0.7777777777777778,
              "#fb9f3a"
             ],
             [
              0.8888888888888888,
              "#fdca26"
             ],
             [
              1,
              "#f0f921"
             ]
            ],
            "type": "surface"
           }
          ],
          "table": [
           {
            "cells": {
             "fill": {
              "color": "#EBF0F8"
             },
             "line": {
              "color": "white"
             }
            },
            "header": {
             "fill": {
              "color": "#C8D4E3"
             },
             "line": {
              "color": "white"
             }
            },
            "type": "table"
           }
          ]
         },
         "layout": {
          "annotationdefaults": {
           "arrowcolor": "#2a3f5f",
           "arrowhead": 0,
           "arrowwidth": 1
          },
          "autotypenumbers": "strict",
          "coloraxis": {
           "colorbar": {
            "outlinewidth": 0,
            "ticks": ""
           }
          },
          "colorscale": {
           "diverging": [
            [
             0,
             "#8e0152"
            ],
            [
             0.1,
             "#c51b7d"
            ],
            [
             0.2,
             "#de77ae"
            ],
            [
             0.3,
             "#f1b6da"
            ],
            [
             0.4,
             "#fde0ef"
            ],
            [
             0.5,
             "#f7f7f7"
            ],
            [
             0.6,
             "#e6f5d0"
            ],
            [
             0.7,
             "#b8e186"
            ],
            [
             0.8,
             "#7fbc41"
            ],
            [
             0.9,
             "#4d9221"
            ],
            [
             1,
             "#276419"
            ]
           ],
           "sequential": [
            [
             0,
             "#0d0887"
            ],
            [
             0.1111111111111111,
             "#46039f"
            ],
            [
             0.2222222222222222,
             "#7201a8"
            ],
            [
             0.3333333333333333,
             "#9c179e"
            ],
            [
             0.4444444444444444,
             "#bd3786"
            ],
            [
             0.5555555555555556,
             "#d8576b"
            ],
            [
             0.6666666666666666,
             "#ed7953"
            ],
            [
             0.7777777777777778,
             "#fb9f3a"
            ],
            [
             0.8888888888888888,
             "#fdca26"
            ],
            [
             1,
             "#f0f921"
            ]
           ],
           "sequentialminus": [
            [
             0,
             "#0d0887"
            ],
            [
             0.1111111111111111,
             "#46039f"
            ],
            [
             0.2222222222222222,
             "#7201a8"
            ],
            [
             0.3333333333333333,
             "#9c179e"
            ],
            [
             0.4444444444444444,
             "#bd3786"
            ],
            [
             0.5555555555555556,
             "#d8576b"
            ],
            [
             0.6666666666666666,
             "#ed7953"
            ],
            [
             0.7777777777777778,
             "#fb9f3a"
            ],
            [
             0.8888888888888888,
             "#fdca26"
            ],
            [
             1,
             "#f0f921"
            ]
           ]
          },
          "colorway": [
           "#636efa",
           "#EF553B",
           "#00cc96",
           "#ab63fa",
           "#FFA15A",
           "#19d3f3",
           "#FF6692",
           "#B6E880",
           "#FF97FF",
           "#FECB52"
          ],
          "font": {
           "color": "#2a3f5f"
          },
          "geo": {
           "bgcolor": "white",
           "lakecolor": "white",
           "landcolor": "#E5ECF6",
           "showlakes": true,
           "showland": true,
           "subunitcolor": "white"
          },
          "hoverlabel": {
           "align": "left"
          },
          "hovermode": "closest",
          "mapbox": {
           "style": "light"
          },
          "paper_bgcolor": "white",
          "plot_bgcolor": "#E5ECF6",
          "polar": {
           "angularaxis": {
            "gridcolor": "white",
            "linecolor": "white",
            "ticks": ""
           },
           "bgcolor": "#E5ECF6",
           "radialaxis": {
            "gridcolor": "white",
            "linecolor": "white",
            "ticks": ""
           }
          },
          "scene": {
           "xaxis": {
            "backgroundcolor": "#E5ECF6",
            "gridcolor": "white",
            "gridwidth": 2,
            "linecolor": "white",
            "showbackground": true,
            "ticks": "",
            "zerolinecolor": "white"
           },
           "yaxis": {
            "backgroundcolor": "#E5ECF6",
            "gridcolor": "white",
            "gridwidth": 2,
            "linecolor": "white",
            "showbackground": true,
            "ticks": "",
            "zerolinecolor": "white"
           },
           "zaxis": {
            "backgroundcolor": "#E5ECF6",
            "gridcolor": "white",
            "gridwidth": 2,
            "linecolor": "white",
            "showbackground": true,
            "ticks": "",
            "zerolinecolor": "white"
           }
          },
          "shapedefaults": {
           "line": {
            "color": "#2a3f5f"
           }
          },
          "ternary": {
           "aaxis": {
            "gridcolor": "white",
            "linecolor": "white",
            "ticks": ""
           },
           "baxis": {
            "gridcolor": "white",
            "linecolor": "white",
            "ticks": ""
           },
           "bgcolor": "#E5ECF6",
           "caxis": {
            "gridcolor": "white",
            "linecolor": "white",
            "ticks": ""
           }
          },
          "title": {
           "x": 0.05
          },
          "xaxis": {
           "automargin": true,
           "gridcolor": "white",
           "linecolor": "white",
           "ticks": "",
           "title": {
            "standoff": 15
           },
           "zerolinecolor": "white",
           "zerolinewidth": 2
          },
          "yaxis": {
           "automargin": true,
           "gridcolor": "white",
           "linecolor": "white",
           "ticks": "",
           "title": {
            "standoff": 15
           },
           "zerolinecolor": "white",
           "zerolinewidth": 2
          }
         }
        },
        "width": 500
       }
      },
      "image/png": "[encoded data removed]",
      "text/html": [
       "<div>                            <div id=\"a46fe45a-1cf6-46a3-9948-60ab6ef744b4\" class=\"plotly-graph-div\" style=\"height:500px; width:500px;\"></div>            <script type=\"text/javascript\">                require([\"plotly\"], function(Plotly) {                    window.PLOTLYENV=window.PLOTLYENV || {};                                    if (document.getElementById(\"a46fe45a-1cf6-46a3-9948-60ab6ef744b4\")) {                    Plotly.newPlot(                        \"a46fe45a-1cf6-46a3-9948-60ab6ef744b4\",                        [{\"hoverinfo\":\"text\",\"marker\":{\"color\":[\"black\",\"black\",\"black\",\"black\",\"black\",\"black\",\"black\",\"black\",\"black\",\"black\",\"white\",\"white\",\"white\",\"black\",\"black\",\"black\",\"black\",\"white\",\"white\",\"white\",\"black\",\"black\",\"black\",\"black\",\"black\",\"black\",\"black\",\"black\",\"black\",\"black\",\"black\",\"black\",\"white\",\"white\",\"white\",\"black\",\"black\",\"black\",\"black\",\"white\",\"white\",\"white\",\"black\",\"black\",\"black\",\"black\",\"black\",\"black\",\"black\",\"black\",\"white\",\"white\",\"white\",\"black\",\"black\",\"black\",\"black\",\"white\",\"white\",\"white\"],\"colorscale\":[[0.0,\"#440154\"],[0.1111111111111111,\"#482878\"],[0.2222222222222222,\"#3e4989\"],[0.3333333333333333,\"#31688e\"],[0.4444444444444444,\"#26828e\"],[0.5555555555555556,\"#1f9e89\"],[0.6666666666666666,\"#35b779\"],[0.7777777777777778,\"#6ece58\"],[0.8888888888888888,\"#b5de2b\"],[1.0,\"#fde725\"]],\"opacity\":0.8,\"size\":3},\"mode\":\"markers+text\",\"text\":[\"C1\",\"C2\",\"C3\",\"C4\",\"C5\",\"C6\",\"C11\",\"C12\",\"C13\",\"C14\",\"H16\",\"H17\",\"H18\",\"C19\",\"C20\",\"C21\",\"C22\",\"H23\",\"H24\",\"H25\",\"C27\",\"C28\",\"C29\",\"C30\",\"C35\",\"C36\",\"C39\",\"C40\",\"C41\",\"C42\",\"C43\",\"C44\",\"H45\",\"H46\",\"H47\",\"C53\",\"C54\",\"C55\",\"C56\",\"H58\",\"H59\",\"H60\",\"C61\",\"C62\",\"C65\",\"C66\",\"C67\",\"C68\",\"C69\",\"C70\",\"H71\",\"H72\",\"H73\",\"C79\",\"C80\",\"C81\",\"C82\",\"H84\",\"H85\",\"H86\"],\"x\":[0.68103,-0.70601,-1.38702,-0.68101,0.70603,1.38704,2.7740507721474907,3.480070443054662,2.7990512669000918,1.412040494752601,4.561272493543597,3.3493898811703238,0.8811803619729295,-1.362018811423403,-2.749058620450002,-3.4550708381922015,-2.7740620267687977,-0.8116905088837088,-3.280017493450736,-4.536264715902161,-1.4120008540260884,-0.7309776664617227,0.6560444857267476,1.3620353397528357,2.7240788114234027,1.337038811423403,2.749078811423403,3.4300888114234027,4.817099583570894,5.523119254478065,4.842100078323495,3.4550893061760037,5.347977963638467,6.604321304967,5.392438692593727,0.6310479573973147,1.3120711449616804,2.6990932971501502,3.405084151176239,0.7618418561132925,3.229944854516045,4.486271650768528,-2.824104763249048,-1.4370651453847214,-2.7990743254890464,-3.505099470666229,-4.892109756446731,-5.573113520628473,-4.8670798478911905,-3.480069562110688,-5.442478106371368,-6.654309257557514,-5.397922734937029,-0.7560898610675566,-1.4621286782202543,-2.8491511146434085,-3.530126398960573,-0.9313971983258416,-3.399506322939441,-4.611323744217975],\"y\":[-0.09218,-0.03513,0.05706,0.09219,0.03513,-0.05705,-0.11409875093839378,-0.07896735281534562,0.01320388924854226,0.07025264018693606,-0.12338877073001644,0.040538752960631703,0.14198336402304731,0.18436983911691374,0.24142125252170643,-0.49371876825517685,0.11410139262790939,0.21187042982569654,0.3133209680931068,-1.149297182664307,-0.07026193938351726,-0.16244372442291916,-0.21950217127998,-0.18437023189646273,-0.3687298391169137,-0.3116798391169137,-0.24141983911691373,-0.3335998391169137,-0.3906485900553075,-0.35551719193225934,-0.26334594986837145,-0.20629719892997767,-0.4623890766482048,-0.39993860984693014,-0.23601108615628202,-0.346811778500431,-1.1389935635398327,-0.49605201039689373,-0.46092007101337645,-1.8663439705500324,-0.5679571541002575,-0.5055149742362923,-0.14052318440924924,-0.19757601121106602,-0.013214436368433988,-0.04834321479605995,0.00870845239306614,0.10089059043173838,0.13600988273799186,0.07895821554886577,-0.018558433814376912,0.14541243810521925,0.2078156638641142,-0.2897563337931888,-0.324885792479587,-0.26784285335027425,-0.1756625307681515,-0.3966980377806338,-0.29527604047214207,-0.13131470075376012],\"z\":[1.2062,1.19479,-0.01142,-1.2062,-1.19478,0.01142,0.02282365569419366,-1.1719846391205222,-2.378190891859311,-2.3895945475535045,-1.1632104355115391,-3.3095410373303693,-3.3298478768127513,-2.4123978948017046,-2.423824031680406,-1.229031954522818,-0.022834059721113853,-3.3437478339945126,-3.364016155175675,-1.2379426299233607,2.3895812563568026,3.5958046140756865,3.607209143032394,2.4124178866755916,4.824797894801705,4.813387894801704,2.4238178948017044,3.630017894801705,3.6414215504958984,2.446613255681182,1.2404070029423937,1.2290033472482,4.58166177536412,2.4553874592901654,0.30905685747133527,6.008179151158507,7.214402508877391,7.225807037834099,6.031015781477296,8.145824973675065,8.16605123640764,6.03990317884161,4.779093146791004,4.790535420546851,2.3781133975307522,3.572887299071844,3.561439163414404,2.355204866605978,1.160424858165508,1.171872993822948,4.492772309296039,2.346165700371901,0.22016817104772723,5.996752206899044,7.191549244895883,7.180101788660224,5.973885002308032,8.131876432992616,8.111439237464776,5.9649591364473915],\"type\":\"scatter3d\"},{\"line\":{\"color\":\"black\",\"width\":3},\"mode\":\"lines\",\"x\":[0.68103,-0.70601],\"y\":[-0.09218,-0.03513],\"z\":[1.2062,1.19479],\"type\":\"scatter3d\"},{\"line\":{\"color\":\"black\",\"width\":3},\"mode\":\"lines\",\"x\":[0.68103,1.38704],\"y\":[-0.09218,-0.05705],\"z\":[1.2062,0.01142],\"type\":\"scatter3d\"},{\"line\":{\"color\":\"black\",\"width\":3},\"mode\":\"lines\",\"x\":[0.68103,1.3620353397528357],\"y\":[-0.09218,-0.18437023189646273],\"z\":[1.2062,2.4124178866755916],\"type\":\"scatter3d\"},{\"line\":{\"color\":\"black\",\"width\":3},\"mode\":\"lines\",\"x\":[-0.70601,-1.38702],\"y\":[-0.03513,0.05706],\"z\":[1.19479,-0.01142],\"type\":\"scatter3d\"},{\"line\":{\"color\":\"black\",\"width\":3},\"mode\":\"lines\",\"x\":[-0.70601,-1.4120008540260884],\"y\":[-0.03513,-0.07026193938351726],\"z\":[1.19479,2.3895812563568026],\"type\":\"scatter3d\"},{\"line\":{\"color\":\"black\",\"width\":3},\"mode\":\"lines\",\"x\":[-1.38702,-0.68101],\"y\":[0.05706,0.09219],\"z\":[-0.01142,-1.2062],\"type\":\"scatter3d\"},{\"line\":{\"color\":\"black\",\"width\":3},\"mode\":\"lines\",\"x\":[-1.38702,-2.7740620267687977],\"y\":[0.05706,0.11410139262790939],\"z\":[-0.01142,-0.022834059721113853],\"type\":\"scatter3d\"},{\"line\":{\"color\":\"black\",\"width\":3},\"mode\":\"lines\",\"x\":[-0.68101,0.70603],\"y\":[0.09219,0.03513],\"z\":[-1.2062,-1.19478],\"type\":\"scatter3d\"},{\"line\":{\"color\":\"black\",\"width\":3},\"mode\":\"lines\",\"x\":[-0.68101,-1.362018811423403],\"y\":[0.09219,0.18436983911691374],\"z\":[-1.2062,-2.4123978948017046],\"type\":\"scatter3d\"},{\"line\":{\"color\":\"black\",\"width\":3},\"mode\":\"lines\",\"x\":[0.70603,1.38704],\"y\":[0.03513,-0.05705],\"z\":[-1.19478,0.01142],\"type\":\"scatter3d\"},{\"line\":{\"color\":\"black\",\"width\":3},\"mode\":\"lines\",\"x\":[0.70603,1.412040494752601],\"y\":[0.03513,0.07025264018693606],\"z\":[-1.19478,-2.3895945475535045],\"type\":\"scatter3d\"},{\"line\":{\"color\":\"black\",\"width\":3},\"mode\":\"lines\",\"x\":[1.38704,2.7740507721474907],\"y\":[-0.05705,-0.11409875093839378],\"z\":[0.01142,0.02282365569419366],\"type\":\"scatter3d\"},{\"line\":{\"color\":\"black\",\"width\":3},\"mode\":\"lines\",\"x\":[2.7740507721474907,3.480070443054662],\"y\":[-0.11409875093839378,-0.07896735281534562],\"z\":[0.02282365569419366,-1.1719846391205222],\"type\":\"scatter3d\"},{\"line\":{\"color\":\"black\",\"width\":3},\"mode\":\"lines\",\"x\":[2.7740507721474907,3.4550893061760037],\"y\":[-0.11409875093839378,-0.20629719892997767],\"z\":[0.02282365569419366,1.2290033472482],\"type\":\"scatter3d\"},{\"line\":{\"color\":\"black\",\"width\":3},\"mode\":\"lines\",\"x\":[3.480070443054662,2.7990512669000918],\"y\":[-0.07896735281534562,0.01320388924854226],\"z\":[-1.1719846391205222,-2.378190891859311],\"type\":\"scatter3d\"},{\"line\":{\"color\":\"black\",\"width\":3},\"mode\":\"lines\",\"x\":[3.480070443054662,4.561272493543597],\"y\":[-0.07896735281534562,-0.12338877073001644],\"z\":[-1.1719846391205222,-1.1632104355115391],\"type\":\"scatter3d\"},{\"line\":{\"color\":\"black\",\"width\":3},\"mode\":\"lines\",\"x\":[2.7990512669000918,1.412040494752601],\"y\":[0.01320388924854226,0.07025264018693606],\"z\":[-2.378190891859311,-2.3895945475535045],\"type\":\"scatter3d\"},{\"line\":{\"color\":\"black\",\"width\":3},\"mode\":\"lines\",\"x\":[2.7990512669000918,3.3493898811703238],\"y\":[0.01320388924854226,0.040538752960631703],\"z\":[-2.378190891859311,-3.3095410373303693],\"type\":\"scatter3d\"},{\"line\":{\"color\":\"black\",\"width\":3},\"mode\":\"lines\",\"x\":[1.412040494752601,0.8811803619729295],\"y\":[0.07025264018693606,0.14198336402304731],\"z\":[-2.3895945475535045,-3.3298478768127513],\"type\":\"scatter3d\"},{\"line\":{\"color\":\"black\",\"width\":3},\"mode\":\"lines\",\"x\":[-1.362018811423403,-2.749058620450002],\"y\":[0.18436983911691374,0.24142125252170643],\"z\":[-2.4123978948017046,-2.423824031680406],\"type\":\"scatter3d\"},{\"line\":{\"color\":\"black\",\"width\":3},\"mode\":\"lines\",\"x\":[-1.362018811423403,-0.8116905088837088],\"y\":[0.18436983911691374,0.21187042982569654],\"z\":[-2.4123978948017046,-3.3437478339945126],\"type\":\"scatter3d\"},{\"line\":{\"color\":\"black\",\"width\":3},\"mode\":\"lines\",\"x\":[-2.749058620450002,-3.4550708381922015],\"y\":[0.24142125252170643,-0.49371876825517685],\"z\":[-2.423824031680406,-1.229031954522818],\"type\":\"scatter3d\"},{\"line\":{\"color\":\"black\",\"width\":3},\"mode\":\"lines\",\"x\":[-2.749058620450002,-3.280017493450736],\"y\":[0.24142125252170643,0.3133209680931068],\"z\":[-2.423824031680406,-3.364016155175675],\"type\":\"scatter3d\"},{\"line\":{\"color\":\"black\",\"width\":3},\"mode\":\"lines\",\"x\":[-3.4550708381922015,-2.7740620267687977],\"y\":[-0.49371876825517685,0.11410139262790939],\"z\":[-1.229031954522818,-0.022834059721113853],\"type\":\"scatter3d\"},{\"line\":{\"color\":\"black\",\"width\":3},\"mode\":\"lines\",\"x\":[-3.4550708381922015,-4.536264715902161],\"y\":[-0.49371876825517685,-1.149297182664307],\"z\":[-1.229031954522818,-1.2379426299233607],\"type\":\"scatter3d\"},{\"line\":{\"color\":\"black\",\"width\":3},\"mode\":\"lines\",\"x\":[-2.7740620267687977,-3.480069562110688],\"y\":[0.11410139262790939,0.07895821554886577],\"z\":[-0.022834059721113853,1.171872993822948],\"type\":\"scatter3d\"},{\"line\":{\"color\":\"black\",\"width\":3},\"mode\":\"lines\",\"x\":[-1.4120008540260884,-0.7309776664617227],\"y\":[-0.07026193938351726,-0.16244372442291916],\"z\":[2.3895812563568026,3.5958046140756865],\"type\":\"scatter3d\"},{\"line\":{\"color\":\"black\",\"width\":3},\"mode\":\"lines\",\"x\":[-1.4120008540260884,-2.7990743254890464],\"y\":[-0.07026193938351726,-0.013214436368433988],\"z\":[2.3895812563568026,2.3781133975307522],\"type\":\"scatter3d\"},{\"line\":{\"color\":\"black\",\"width\":3},\"mode\":\"lines\",\"x\":[-0.7309776664617227,0.6560444857267476],\"y\":[-0.16244372442291916,-0.21950217127998],\"z\":[3.5958046140756865,3.607209143032394],\"type\":\"scatter3d\"},{\"line\":{\"color\":\"black\",\"width\":3},\"mode\":\"lines\",\"x\":[-0.7309776664617227,-1.4370651453847214],\"y\":[-0.16244372442291916,-0.19757601121106602],\"z\":[3.5958046140756865,4.790535420546851],\"type\":\"scatter3d\"},{\"line\":{\"color\":\"black\",\"width\":3},\"mode\":\"lines\",\"x\":[0.6560444857267476,1.3620353397528357],\"y\":[-0.21950217127998,-0.18437023189646273],\"z\":[3.607209143032394,2.4124178866755916],\"type\":\"scatter3d\"},{\"line\":{\"color\":\"black\",\"width\":3},\"mode\":\"lines\",\"x\":[0.6560444857267476,1.337038811423403],\"y\":[-0.21950217127998,-0.3116798391169137],\"z\":[3.607209143032394,4.813387894801704],\"type\":\"scatter3d\"},{\"line\":{\"color\":\"black\",\"width\":3},\"mode\":\"lines\",\"x\":[1.3620353397528357,2.749078811423403],\"y\":[-0.18437023189646273,-0.24141983911691373],\"z\":[2.4124178866755916,2.4238178948017044],\"type\":\"scatter3d\"},{\"line\":{\"color\":\"black\",\"width\":3},\"mode\":\"lines\",\"x\":[2.7240788114234027,1.337038811423403],\"y\":[-0.3687298391169137,-0.3116798391169137],\"z\":[4.824797894801705,4.813387894801704],\"type\":\"scatter3d\"},{\"line\":{\"color\":\"black\",\"width\":3},\"mode\":\"lines\",\"x\":[2.7240788114234027,3.4300888114234027],\"y\":[-0.3687298391169137,-0.3335998391169137],\"z\":[4.824797894801705,3.630017894801705],\"type\":\"scatter3d\"},{\"line\":{\"color\":\"black\",\"width\":3},\"mode\":\"lines\",\"x\":[2.7240788114234027,3.405084151176239],\"y\":[-0.3687298391169137,-0.46092007101337645],\"z\":[4.824797894801705,6.031015781477296],\"type\":\"scatter3d\"},{\"line\":{\"color\":\"black\",\"width\":3},\"mode\":\"lines\",\"x\":[1.337038811423403,0.6310479573973147],\"y\":[-0.3116798391169137,-0.346811778500431],\"z\":[4.813387894801704,6.008179151158507],\"type\":\"scatter3d\"},{\"line\":{\"color\":\"black\",\"width\":3},\"mode\":\"lines\",\"x\":[2.749078811423403,3.4300888114234027],\"y\":[-0.24141983911691373,-0.3335998391169137],\"z\":[2.4238178948017044,3.630017894801705],\"type\":\"scatter3d\"},{\"line\":{\"color\":\"black\",\"width\":3},\"mode\":\"lines\",\"x\":[2.749078811423403,3.4550893061760037],\"y\":[-0.24141983911691373,-0.20629719892997767],\"z\":[2.4238178948017044,1.2290033472482],\"type\":\"scatter3d\"},{\"line\":{\"color\":\"black\",\"width\":3},\"mode\":\"lines\",\"x\":[3.4300888114234027,4.817099583570894],\"y\":[-0.3335998391169137,-0.3906485900553075],\"z\":[3.630017894801705,3.6414215504958984],\"type\":\"scatter3d\"},{\"line\":{\"color\":\"black\",\"width\":3},\"mode\":\"lines\",\"x\":[4.817099583570894,5.523119254478065],\"y\":[-0.3906485900553075,-0.35551719193225934],\"z\":[3.6414215504958984,2.446613255681182],\"type\":\"scatter3d\"},{\"line\":{\"color\":\"black\",\"width\":3},\"mode\":\"lines\",\"x\":[4.817099583570894,5.347977963638467],\"y\":[-0.3906485900553075,-0.4623890766482048],\"z\":[3.6414215504958984,4.58166177536412],\"type\":\"scatter3d\"},{\"line\":{\"color\":\"black\",\"width\":3},\"mode\":\"lines\",\"x\":[5.523119254478065,4.842100078323495],\"y\":[-0.35551719193225934,-0.26334594986837145],\"z\":[2.446613255681182,1.2404070029423937],\"type\":\"scatter3d\"},{\"line\":{\"color\":\"black\",\"width\":3},\"mode\":\"lines\",\"x\":[5.523119254478065,6.604321304967],\"y\":[-0.35551719193225934,-0.39993860984693014],\"z\":[2.446613255681182,2.4553874592901654],\"type\":\"scatter3d\"},{\"line\":{\"color\":\"black\",\"width\":3},\"mode\":\"lines\",\"x\":[4.842100078323495,3.4550893061760037],\"y\":[-0.26334594986837145,-0.20629719892997767],\"z\":[1.2404070029423937,1.2290033472482],\"type\":\"scatter3d\"},{\"line\":{\"color\":\"black\",\"width\":3},\"mode\":\"lines\",\"x\":[4.842100078323495,5.392438692593727],\"y\":[-0.26334594986837145,-0.23601108615628202],\"z\":[1.2404070029423937,0.30905685747133527],\"type\":\"scatter3d\"},{\"line\":{\"color\":\"black\",\"width\":3},\"mode\":\"lines\",\"x\":[0.6310479573973147,1.3120711449616804],\"y\":[-0.346811778500431,-1.1389935635398327],\"z\":[6.008179151158507,7.214402508877391],\"type\":\"scatter3d\"},{\"line\":{\"color\":\"black\",\"width\":3},\"mode\":\"lines\",\"x\":[0.6310479573973147,-0.7560898610675566],\"y\":[-0.346811778500431,-0.2897563337931888],\"z\":[6.008179151158507,5.996752206899044],\"type\":\"scatter3d\"},{\"line\":{\"color\":\"black\",\"width\":3},\"mode\":\"lines\",\"x\":[1.3120711449616804,2.6990932971501502],\"y\":[-1.1389935635398327,-0.49605201039689373],\"z\":[7.214402508877391,7.225807037834099],\"type\":\"scatter3d\"},{\"line\":{\"color\":\"black\",\"width\":3},\"mode\":\"lines\",\"x\":[1.3120711449616804,0.7618418561132925],\"y\":[-1.1389935635398327,-1.8663439705500324],\"z\":[7.214402508877391,8.145824973675065],\"type\":\"scatter3d\"},{\"line\":{\"color\":\"black\",\"width\":3},\"mode\":\"lines\",\"x\":[2.6990932971501502,3.405084151176239],\"y\":[-0.49605201039689373,-0.46092007101337645],\"z\":[7.225807037834099,6.031015781477296],\"type\":\"scatter3d\"},{\"line\":{\"color\":\"black\",\"width\":3},\"mode\":\"lines\",\"x\":[2.6990932971501502,3.229944854516045],\"y\":[-0.49605201039689373,-0.5679571541002575],\"z\":[7.225807037834099,8.16605123640764],\"type\":\"scatter3d\"},{\"line\":{\"color\":\"black\",\"width\":3},\"mode\":\"lines\",\"x\":[3.405084151176239,4.486271650768528],\"y\":[-0.46092007101337645,-0.5055149742362923],\"z\":[6.031015781477296,6.03990317884161],\"type\":\"scatter3d\"},{\"line\":{\"color\":\"black\",\"width\":3},\"mode\":\"lines\",\"x\":[-2.824104763249048,-1.4370651453847214],\"y\":[-0.14052318440924924,-0.19757601121106602],\"z\":[4.779093146791004,4.790535420546851],\"type\":\"scatter3d\"},{\"line\":{\"color\":\"black\",\"width\":3},\"mode\":\"lines\",\"x\":[-2.824104763249048,-3.505099470666229],\"y\":[-0.14052318440924924,-0.04834321479605995],\"z\":[4.779093146791004,3.572887299071844],\"type\":\"scatter3d\"},{\"line\":{\"color\":\"black\",\"width\":3},\"mode\":\"lines\",\"x\":[-2.824104763249048,-3.530126398960573],\"y\":[-0.14052318440924924,-0.1756625307681515],\"z\":[4.779093146791004,5.973885002308032],\"type\":\"scatter3d\"},{\"line\":{\"color\":\"black\",\"width\":3},\"mode\":\"lines\",\"x\":[-1.4370651453847214,-0.7560898610675566],\"y\":[-0.19757601121106602,-0.2897563337931888],\"z\":[4.790535420546851,5.996752206899044],\"type\":\"scatter3d\"},{\"line\":{\"color\":\"black\",\"width\":3},\"mode\":\"lines\",\"x\":[-2.7990743254890464,-3.505099470666229],\"y\":[-0.013214436368433988,-0.04834321479605995],\"z\":[2.3781133975307522,3.572887299071844],\"type\":\"scatter3d\"},{\"line\":{\"color\":\"black\",\"width\":3},\"mode\":\"lines\",\"x\":[-2.7990743254890464,-3.480069562110688],\"y\":[-0.013214436368433988,0.07895821554886577],\"z\":[2.3781133975307522,1.171872993822948],\"type\":\"scatter3d\"},{\"line\":{\"color\":\"black\",\"width\":3},\"mode\":\"lines\",\"x\":[-3.505099470666229,-4.892109756446731],\"y\":[-0.04834321479605995,0.00870845239306614],\"z\":[3.572887299071844,3.561439163414404],\"type\":\"scatter3d\"},{\"line\":{\"color\":\"black\",\"width\":3},\"mode\":\"lines\",\"x\":[-4.892109756446731,-5.573113520628473],\"y\":[0.00870845239306614,0.10089059043173838],\"z\":[3.561439163414404,2.355204866605978],\"type\":\"scatter3d\"},{\"line\":{\"color\":\"black\",\"width\":3},\"mode\":\"lines\",\"x\":[-4.892109756446731,-5.442478106371368],\"y\":[0.00870845239306614,-0.018558433814376912],\"z\":[3.561439163414404,4.492772309296039],\"type\":\"scatter3d\"},{\"line\":{\"color\":\"black\",\"width\":3},\"mode\":\"lines\",\"x\":[-5.573113520628473,-4.8670798478911905],\"y\":[0.10089059043173838,0.13600988273799186],\"z\":[2.355204866605978,1.160424858165508],\"type\":\"scatter3d\"},{\"line\":{\"color\":\"black\",\"width\":3},\"mode\":\"lines\",\"x\":[-5.573113520628473,-6.654309257557514],\"y\":[0.10089059043173838,0.14541243810521925],\"z\":[2.355204866605978,2.346165700371901],\"type\":\"scatter3d\"},{\"line\":{\"color\":\"black\",\"width\":3},\"mode\":\"lines\",\"x\":[-4.8670798478911905,-3.480069562110688],\"y\":[0.13600988273799186,0.07895821554886577],\"z\":[1.160424858165508,1.171872993822948],\"type\":\"scatter3d\"},{\"line\":{\"color\":\"black\",\"width\":3},\"mode\":\"lines\",\"x\":[-4.8670798478911905,-5.397922734937029],\"y\":[0.13600988273799186,0.2078156638641142],\"z\":[1.160424858165508,0.22016817104772723],\"type\":\"scatter3d\"},{\"line\":{\"color\":\"black\",\"width\":3},\"mode\":\"lines\",\"x\":[-0.7560898610675566,-1.4621286782202543],\"y\":[-0.2897563337931888,-0.324885792479587],\"z\":[5.996752206899044,7.191549244895883],\"type\":\"scatter3d\"},{\"line\":{\"color\":\"black\",\"width\":3},\"mode\":\"lines\",\"x\":[-1.4621286782202543,-2.8491511146434085],\"y\":[-0.324885792479587,-0.26784285335027425],\"z\":[7.191549244895883,7.180101788660224],\"type\":\"scatter3d\"},{\"line\":{\"color\":\"black\",\"width\":3},\"mode\":\"lines\",\"x\":[-1.4621286782202543,-0.9313971983258416],\"y\":[-0.324885792479587,-0.3966980377806338],\"z\":[7.191549244895883,8.131876432992616],\"type\":\"scatter3d\"},{\"line\":{\"color\":\"black\",\"width\":3},\"mode\":\"lines\",\"x\":[-2.8491511146434085,-3.530126398960573],\"y\":[-0.26784285335027425,-0.1756625307681515],\"z\":[7.180101788660224,5.973885002308032],\"type\":\"scatter3d\"},{\"line\":{\"color\":\"black\",\"width\":3},\"mode\":\"lines\",\"x\":[-2.8491511146434085,-3.399506322939441],\"y\":[-0.26784285335027425,-0.29527604047214207],\"z\":[7.180101788660224,8.111439237464776],\"type\":\"scatter3d\"},{\"line\":{\"color\":\"black\",\"width\":3},\"mode\":\"lines\",\"x\":[-3.530126398960573,-4.611323744217975],\"y\":[-0.1756625307681515,-0.13131470075376012],\"z\":[5.973885002308032,5.9649591364473915],\"type\":\"scatter3d\"}],                        {\"template\":{\"data\":{\"histogram2dcontour\":[{\"type\":\"histogram2dcontour\",\"colorbar\":{\"outlinewidth\":0,\"ticks\":\"\"},\"colorscale\":[[0.0,\"#0d0887\"],[0.1111111111111111,\"#46039f\"],[0.2222222222222222,\"#7201a8\"],[0.3333333333333333,\"#9c179e\"],[0.4444444444444444,\"#bd3786\"],[0.5555555555555556,\"#d8576b\"],[0.6666666666666666,\"#ed7953\"],[0.7777777777777778,\"#fb9f3a\"],[0.8888888888888888,\"#fdca26\"],[1.0,\"#f0f921\"]]}],\"choropleth\":[{\"type\":\"choropleth\",\"colorbar\":{\"outlinewidth\":0,\"ticks\":\"\"}}],\"histogram2d\":[{\"type\":\"histogram2d\",\"colorbar\":{\"outlinewidth\":0,\"ticks\":\"\"},\"colorscale\":[[0.0,\"#0d0887\"],[0.1111111111111111,\"#46039f\"],[0.2222222222222222,\"#7201a8\"],[0.3333333333333333,\"#9c179e\"],[0.4444444444444444,\"#bd3786\"],[0.5555555555555556,\"#d8576b\"],[0.6666666666666666,\"#ed7953\"],[0.7777777777777778,\"#fb9f3a\"],[0.8888888888888888,\"#fdca26\"],[1.0,\"#f0f921\"]]}],\"heatmap\":[{\"type\":\"heatmap\",\"colorbar\":{\"outlinewidth\":0,\"ticks\":\"\"},\"colorscale\":[[0.0,\"#0d0887\"],[0.1111111111111111,\"#46039f\"],[0.2222222222222222,\"#7201a8\"],[0.3333333333333333,\"#9c179e\"],[0.4444444444444444,\"#bd3786\"],[0.5555555555555556,\"#d8576b\"],[0.6666666666666666,\"#ed7953\"],[0.7777777777777778,\"#fb9f3a\"],[0.8888888888888888,\"#fdca26\"],[1.0,\"#f0f921\"]]}],\"heatmapgl\":[{\"type\":\"heatmapgl\",\"colorbar\":{\"outlinewidth\":0,\"ticks\":\"\"},\"colorscale\":[[0.0,\"#0d0887\"],[0.1111111111111111,\"#46039f\"],[0.2222222222222222,\"#7201a8\"],[0.3333333333333333,\"#9c179e\"],[0.4444444444444444,\"#bd3786\"],[0.5555555555555556,\"#d8576b\"],[0.6666666666666666,\"#ed7953\"],[0.7777777777777778,\"#fb9f3a\"],[0.8888888888888888,\"#fdca26\"],[1.0,\"#f0f921\"]]}],\"contourcarpet\":[{\"type\":\"contourcarpet\",\"colorbar\":{\"outlinewidth\":0,\"ticks\":\"\"}}],\"contour\":[{\"type\":\"contour\",\"colorbar\":{\"outlinewidth\":0,\"ticks\":\"\"},\"colorscale\":[[0.0,\"#0d0887\"],[0.1111111111111111,\"#46039f\"],[0.2222222222222222,\"#7201a8\"],[0.3333333333333333,\"#9c179e\"],[0.4444444444444444,\"#bd3786\"],[0.5555555555555556,\"#d8576b\"],[0.6666666666666666,\"#ed7953\"],[0.7777777777777778,\"#fb9f3a\"],[0.8888888888888888,\"#fdca26\"],[1.0,\"#f0f921\"]]}],\"surface\":[{\"type\":\"surface\",\"colorbar\":{\"outlinewidth\":0,\"ticks\":\"\"},\"colorscale\":[[0.0,\"#0d0887\"],[0.1111111111111111,\"#46039f\"],[0.2222222222222222,\"#7201a8\"],[0.3333333333333333,\"#9c179e\"],[0.4444444444444444,\"#bd3786\"],[0.5555555555555556,\"#d8576b\"],[0.6666666666666666,\"#ed7953\"],[0.7777777777777778,\"#fb9f3a\"],[0.8888888888888888,\"#fdca26\"],[1.0,\"#f0f921\"]]}],\"mesh3d\":[{\"type\":\"mesh3d\",\"colorbar\":{\"outlinewidth\":0,\"ticks\":\"\"}}],\"scatter\":[{\"fillpattern\":{\"fillmode\":\"overlay\",\"size\":10,\"solidity\":0.2},\"type\":\"scatter\"}],\"parcoords\":[{\"type\":\"parcoords\",\"line\":{\"colorbar\":{\"outlinewidth\":0,\"ticks\":\"\"}}}],\"scatterpolargl\":[{\"type\":\"scatterpolargl\",\"marker\":{\"colorbar\":{\"outlinewidth\":0,\"ticks\":\"\"}}}],\"bar\":[{\"error_x\":{\"color\":\"#2a3f5f\"},\"error_y\":{\"color\":\"#2a3f5f\"},\"marker\":{\"line\":{\"color\":\"#E5ECF6\",\"width\":0.5},\"pattern\":{\"fillmode\":\"overlay\",\"size\":10,\"solidity\":0.2}},\"type\":\"bar\"}],\"scattergeo\":[{\"type\":\"scattergeo\",\"marker\":{\"colorbar\":{\"outlinewidth\":0,\"ticks\":\"\"}}}],\"scatterpolar\":[{\"type\":\"scatterpolar\",\"marker\":{\"colorbar\":{\"outlinewidth\":0,\"ticks\":\"\"}}}],\"histogram\":[{\"marker\":{\"pattern\":{\"fillmode\":\"overlay\",\"size\":10,\"solidity\":0.2}},\"type\":\"histogram\"}],\"scattergl\":[{\"type\":\"scattergl\",\"marker\":{\"colorbar\":{\"outlinewidth\":0,\"ticks\":\"\"}}}],\"scatter3d\":[{\"type\":\"scatter3d\",\"line\":{\"colorbar\":{\"outlinewidth\":0,\"ticks\":\"\"}},\"marker\":{\"colorbar\":{\"outlinewidth\":0,\"ticks\":\"\"}}}],\"scattermapbox\":[{\"type\":\"scattermapbox\",\"marker\":{\"colorbar\":{\"outlinewidth\":0,\"ticks\":\"\"}}}],\"scatterternary\":[{\"type\":\"scatterternary\",\"marker\":{\"colorbar\":{\"outlinewidth\":0,\"ticks\":\"\"}}}],\"scattercarpet\":[{\"type\":\"scattercarpet\",\"marker\":{\"colorbar\":{\"outlinewidth\":0,\"ticks\":\"\"}}}],\"carpet\":[{\"aaxis\":{\"endlinecolor\":\"#2a3f5f\",\"gridcolor\":\"white\",\"linecolor\":\"white\",\"minorgridcolor\":\"white\",\"startlinecolor\":\"#2a3f5f\"},\"baxis\":{\"endlinecolor\":\"#2a3f5f\",\"gridcolor\":\"white\",\"linecolor\":\"white\",\"minorgridcolor\":\"white\",\"startlinecolor\":\"#2a3f5f\"},\"type\":\"carpet\"}],\"table\":[{\"cells\":{\"fill\":{\"color\":\"#EBF0F8\"},\"line\":{\"color\":\"white\"}},\"header\":{\"fill\":{\"color\":\"#C8D4E3\"},\"line\":{\"color\":\"white\"}},\"type\":\"table\"}],\"barpolar\":[{\"marker\":{\"line\":{\"color\":\"#E5ECF6\",\"width\":0.5},\"pattern\":{\"fillmode\":\"overlay\",\"size\":10,\"solidity\":0.2}},\"type\":\"barpolar\"}],\"pie\":[{\"automargin\":true,\"type\":\"pie\"}]},\"layout\":{\"autotypenumbers\":\"strict\",\"colorway\":[\"#636efa\",\"#EF553B\",\"#00cc96\",\"#ab63fa\",\"#FFA15A\",\"#19d3f3\",\"#FF6692\",\"#B6E880\",\"#FF97FF\",\"#FECB52\"],\"font\":{\"color\":\"#2a3f5f\"},\"hovermode\":\"closest\",\"hoverlabel\":{\"align\":\"left\"},\"paper_bgcolor\":\"white\",\"plot_bgcolor\":\"#E5ECF6\",\"polar\":{\"bgcolor\":\"#E5ECF6\",\"angularaxis\":{\"gridcolor\":\"white\",\"linecolor\":\"white\",\"ticks\":\"\"},\"radialaxis\":{\"gridcolor\":\"white\",\"linecolor\":\"white\",\"ticks\":\"\"}},\"ternary\":{\"bgcolor\":\"#E5ECF6\",\"aaxis\":{\"gridcolor\":\"white\",\"linecolor\":\"white\",\"ticks\":\"\"},\"baxis\":{\"gridcolor\":\"white\",\"linecolor\":\"white\",\"ticks\":\"\"},\"caxis\":{\"gridcolor\":\"white\",\"linecolor\":\"white\",\"ticks\":\"\"}},\"coloraxis\":{\"colorbar\":{\"outlinewidth\":0,\"ticks\":\"\"}},\"colorscale\":{\"sequential\":[[0.0,\"#0d0887\"],[0.1111111111111111,\"#46039f\"],[0.2222222222222222,\"#7201a8\"],[0.3333333333333333,\"#9c179e\"],[0.4444444444444444,\"#bd3786\"],[0.5555555555555556,\"#d8576b\"],[0.6666666666666666,\"#ed7953\"],[0.7777777777777778,\"#fb9f3a\"],[0.8888888888888888,\"#fdca26\"],[1.0,\"#f0f921\"]],\"sequentialminus\":[[0.0,\"#0d0887\"],[0.1111111111111111,\"#46039f\"],[0.2222222222222222,\"#7201a8\"],[0.3333333333333333,\"#9c179e\"],[0.4444444444444444,\"#bd3786\"],[0.5555555555555556,\"#d8576b\"],[0.6666666666666666,\"#ed7953\"],[0.7777777777777778,\"#fb9f3a\"],[0.8888888888888888,\"#fdca26\"],[1.0,\"#f0f921\"]],\"diverging\":[[0,\"#8e0152\"],[0.1,\"#c51b7d\"],[0.2,\"#de77ae\"],[0.3,\"#f1b6da\"],[0.4,\"#fde0ef\"],[0.5,\"#f7f7f7\"],[0.6,\"#e6f5d0\"],[0.7,\"#b8e186\"],[0.8,\"#7fbc41\"],[0.9,\"#4d9221\"],[1,\"#276419\"]]},\"xaxis\":{\"gridcolor\":\"white\",\"linecolor\":\"white\",\"ticks\":\"\",\"title\":{\"standoff\":15},\"zerolinecolor\":\"white\",\"automargin\":true,\"zerolinewidth\":2},\"yaxis\":{\"gridcolor\":\"white\",\"linecolor\":\"white\",\"ticks\":\"\",\"title\":{\"standoff\":15},\"zerolinecolor\":\"white\",\"automargin\":true,\"zerolinewidth\":2},\"scene\":{\"xaxis\":{\"backgroundcolor\":\"#E5ECF6\",\"gridcolor\":\"white\",\"linecolor\":\"white\",\"showbackground\":true,\"ticks\":\"\",\"zerolinecolor\":\"white\",\"gridwidth\":2},\"yaxis\":{\"backgroundcolor\":\"#E5ECF6\",\"gridcolor\":\"white\",\"linecolor\":\"white\",\"showbackground\":true,\"ticks\":\"\",\"zerolinecolor\":\"white\",\"gridwidth\":2},\"zaxis\":{\"backgroundcolor\":\"#E5ECF6\",\"gridcolor\":\"white\",\"linecolor\":\"white\",\"showbackground\":true,\"ticks\":\"\",\"zerolinecolor\":\"white\",\"gridwidth\":2}},\"shapedefaults\":{\"line\":{\"color\":\"#2a3f5f\"}},\"annotationdefaults\":{\"arrowcolor\":\"#2a3f5f\",\"arrowhead\":0,\"arrowwidth\":1},\"geo\":{\"bgcolor\":\"white\",\"landcolor\":\"#E5ECF6\",\"subunitcolor\":\"white\",\"showland\":true,\"showlakes\":true,\"lakecolor\":\"white\"},\"title\":{\"x\":0.05},\"mapbox\":{\"style\":\"light\"}}},\"scene\":{\"xaxis\":{\"showbackground\":false,\"showgrid\":true,\"zeroline\":true,\"gridcolor\":\"red\",\"zerolinecolor\":\"green\"},\"yaxis\":{\"showbackground\":false,\"showgrid\":true,\"zeroline\":true,\"gridcolor\":\"red\",\"zerolinecolor\":\"green\"},\"zaxis\":{\"showbackground\":false,\"showgrid\":true,\"zeroline\":true,\"gridcolor\":\"red\",\"zerolinecolor\":\"green\"},\"aspectmode\":\"data\"},\"margin\":{\"l\":50,\"r\":50,\"b\":100,\"t\":100,\"pad\":10},\"showlegend\":false,\"width\":500,\"height\":500,\"autosize\":false,\"paper_bgcolor\":\"rgba(140,140,140,0.5)\",\"plot_bgcolor\":\"rgba(0,100,140,0.5)\"},                        {\"responsive\": true}                    ).then(function(){\n",
       "                            \n",
       "var gd = document.getElementById('a46fe45a-1cf6-46a3-9948-60ab6ef744b4');\n",
       "var x = new MutationObserver(function (mutations, observer) {{\n",
       "        var display = window.getComputedStyle(gd).display;\n",
       "        if (!display || display === 'none') {{\n",
       "            console.log([gd, 'removed!']);\n",
       "            Plotly.purge(gd);\n",
       "            observer.disconnect();\n",
       "        }}\n",
       "}});\n",
       "\n",
       "// Listen for the removal of the full notebook cells\n",
       "var notebookContainer = gd.closest('#notebook-container');\n",
       "if (notebookContainer) {{\n",
       "    x.observe(notebookContainer, {childList: true});\n",
       "}}\n",
       "\n",
       "// Listen for the clearing of the current output cell\n",
       "var outputEl = gd.closest('.output');\n",
       "if (outputEl) {{\n",
       "    x.observe(outputEl, {childList: true});\n",
       "}}\n",
       "\n",
       "                        })                };                });            </script>        </div>"
      ]
     },
     "metadata": {},
     "output_type": "display_data"
    }
   ],
   "source": [
    "bigfrag1 = bigfrag.distort(lambda x: np.array([x[0],x[1]-0.7,x[2]]),atom_mask=['C54','H58','H25','C21'])\\\n",
    ".distort(lambda x: np.array([x[0],x[1]-0.7,x[2]]),atom_mask=['H58','H25'])\n",
    "bigfrag1.show(show_labels=True)"
   ]
  },
  {
   "cell_type": "code",
   "execution_count": 10,
   "id": "0010ec78-5683-48c4-afe5-52400527f30a",
   "metadata": {},
   "outputs": [],
   "source": [
    "bigfrag1.add_bonding_site('1a',['C62','C79','C28'])\n",
    "bigcore = bigfrag1.bs('1a').add_across_bond(bigfrag1.bs('1a'))\\\n",
    ".remove_atoms(['H142','H84','H138','H73'])"
   ]
  },
  {
   "cell_type": "code",
   "execution_count": 11,
   "id": "e1dce2f6-ae81-44cd-b64c-70944423f4d6",
   "metadata": {},
   "outputs": [
    {
     "data": {
      "text/plain": [
       "<molecule.Molecule at 0x14e58a97b510>"
      ]
     },
     "execution_count": 11,
     "metadata": {},
     "output_type": "execute_result"
    }
   ],
   "source": [
    "bigcore.reset_sites()\n",
    "bigcore.name = 'big_core'\n",
    "bigcore.write_json()\n",
    "bigcore.write_xyz(directory='../data/mike/mike_molecules')\n",
    "bigcore.add_bonding_site('1',['H59','C55','C54'])\n",
    "bigcore.add_bonding_site('2',['H24','C20','C21'])\n",
    "bigcore.add_bonding_site('3',['H105','C101','C102'])\n",
    "bigcore.add_bonding_site('4',['H127','C124','C123'])"
   ]
  },
  {
   "cell_type": "code",
   "execution_count": 44,
   "id": "893962c7-b0a8-4b37-bb37-167f3574f886",
   "metadata": {},
   "outputs": [],
   "source": [
    "#tbu = newtemp['tbu']\n",
    "tbu = tbu.bs('1')\n",
    "tbu_core = bigcore.bs('1').add_group(tbu,dihedral_angle=2).bs('2').add_group(tbu,dihedral_angle=0)\\\n",
    ".bs('3',dihedral_angle=5).add_group(tbu,dihedral_angle=2).bs('4').add_group(tbu)"
   ]
  },
  {
   "cell_type": "code",
   "execution_count": 45,
   "id": "273fd7f0-e578-4989-909c-12711191822c",
   "metadata": {},
   "outputs": [],
   "source": [
    "tbu_core.name = 'tbucore'\n",
    "tbu_core.write_xyz(directory='../data/mike/mike_molecules')"
   ]
  },
  {
   "cell_type": "code",
   "execution_count": 42,
   "id": "1ba00b27-6dd5-464f-ba10-d59cbc920cd0",
   "metadata": {},
   "outputs": [],
   "source": [
    "tbu.add_bonding_site('1',['H10','C2','C1'])\n",
    "tbu.write_json()"
   ]
  },
  {
   "cell_type": "code",
   "execution_count": 46,
   "id": "d796794f-a487-48dc-ba31-c21f00a19441",
   "metadata": {},
   "outputs": [],
   "source": [
    "triphenylene.write_json()"
   ]
  },
  {
   "cell_type": "code",
   "execution_count": null,
   "id": "76e70217-b31a-4b2a-8f80-92b7e93ef1be",
   "metadata": {},
   "outputs": [],
   "source": []
  }
 ],
 "metadata": {
  "kernelspec": {
   "display_name": "Python 3 (ipykernel)",
   "language": "python",
   "name": "python3"
  },
  "language_info": {
   "codemirror_mode": {
    "name": "ipython",
    "version": 3
   },
   "file_extension": ".py",
   "mimetype": "text/x-python",
   "name": "python",
   "nbconvert_exporter": "python",
   "pygments_lexer": "ipython3",
   "version": "3.11.5"
  }
 },
 "nbformat": 4,
 "nbformat_minor": 5
}
