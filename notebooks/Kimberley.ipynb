{
 "cells": [
  {
   "cell_type": "code",
   "execution_count": 1,
   "id": "1aa69945-0fcd-48d0-b4b0-7413fd436a9d",
   "metadata": {},
   "outputs": [
    {
     "name": "stdout",
     "output_type": "stream",
     "text": [
      "/gpfs/home/gdb20/code/mol-maker\n"
     ]
    }
   ],
   "source": [
    "cd .."
   ]
  },
  {
   "cell_type": "code",
   "execution_count": 2,
   "id": "b2954c05-5c45-4daa-a9c9-b6c5c6f655cb",
   "metadata": {},
   "outputs": [],
   "source": [
    "import numpy as np\n",
    "import os\n",
    "import molecule as mol\n",
    "import utilities as util\n",
    "import mol_tree as mt \n",
    "import unitcell"
   ]
  },
  {
   "cell_type": "code",
   "execution_count": 3,
   "id": "02bdb288-6c1c-4b63-bc1c-49bcd125dfbf",
   "metadata": {},
   "outputs": [],
   "source": [
    "#once we have optimized and written our structures, \n",
    "#we can just start from this cell. \n",
    "\n",
    "#this loads all the molecule fragments from the library of json files\n",
    "path = 'data/lib/gen'\n",
    "lib = {}\n",
    "for file in [file for file in os.listdir(path) if not file.startswith('.')]:\n",
    "    mol_obj = mol.Molecule(filename=f'{path}/{file}')\n",
    "    copied_mol = mol_obj.copy()\n",
    "    lib[file.split('.')[0]] = copied_mol\n",
    "\n"
   ]
  },
  {
   "cell_type": "code",
   "execution_count": null,
   "id": "fe0a28ca-ff4e-4067-a650-a0b2ee5a8de2",
   "metadata": {},
   "outputs": [],
   "source": [
    "h2so4 = mol.Molecule().add_atoms({\n",
    "    'S1' : [0.000,0.000,0.000],\n",
    "    'O2' : [1.000,1.000,1.000],\n",
    "    'O3' : [1.000,-1.000,-1.000],\n",
    "    'O4' : [-1.00,1.000,-1.000],\n",
    "    'O5' : [-1.00,-1.000,1.000],\n",
    "    'H6' : [2.000,-1.000,-1.000],\n",
    "    'H7' : [2.000,1.000,1.000],\n",
    "}).set_name('H2SO4').gfn2opt()\n",
    "h2so4.write_json()\n",
    "hso4 = h2so4.remove_atoms(['H7']).set_name('HSO4')\\\n",
    "    .add_bonding_site('1',['O2','S1','O3'])\n",
    "hso4.write_json()\n",
    "so4 = hso4.remove_atoms(['H6']).set_name('SO4')\n",
    "so4.write_json()\n",
    "\n",
    "#check that our structures came out okay!\n",
    "hso4.show()\n",
    "so4.show()"
   ]
  },
  {
   "cell_type": "code",
   "execution_count": null,
   "id": "80067751-a05a-4bc0-bec9-44b4fa1a60f3",
   "metadata": {},
   "outputs": [],
   "source": [
    "#this really should take atoms in a \"\"\" string, in a known format\n",
    "hco3 = mol.Molecule().add_atoms({\n",
    "    'C1' : [0.000,0.000,0.000],\n",
    "    'O2' : [0.000,0.000,1.400],\n",
    "    'O3' : [1.000,0.000,-1.000],\n",
    "    'O4' : [-1.000,0.000,-1.000],\n",
    "    'H5' : [2.000,0.000,0.000],\n",
    "}).set_name('HCO3').gfn2opt().add_bonding_site('1',['O2','C1','O3'])\n",
    "hco3.write_json()\n",
    "co3 = hco3.remove_atoms(['H5']).set_name('CO3')\n",
    "co3.write_json()\n",
    "\n",
    "#check that our structures came out okay!\n",
    "hco3.show()\n",
    "co3.show()"
   ]
  },
  {
   "cell_type": "code",
   "execution_count": null,
   "id": "722f5c96-3d38-4e0d-b7fe-687b64b918a8",
   "metadata": {},
   "outputs": [],
   "source": []
  },
  {
   "cell_type": "code",
   "execution_count": null,
   "id": "dc944cab-4007-4445-a624-1c80b3fe6a2f",
   "metadata": {},
   "outputs": [],
   "source": [
    "#show building cf3so3h and cf3so3 here.\n",
    "hso4 = lib['HSO4']\n",
    "so4 = lib['SO4']\n",
    "hco3 = lib['HCO3'] #do carboxylic acids as well\n",
    "co3 = lib['CO3']\n",
    "\n",
    "cf4 = lib['sp3'].copy()\n",
    "cf4 = cf4.replace_atoms([('H','F')])\n",
    "print('atoms replaced')\n",
    "cf4.show(show_labels=True)\n",
    "cf4.set_name('CF4').gfn2opt(print_log=True)\n",
    "cf4.write_json()\n",
    "print('CF4 step finished')\n",
    "#bs means 'bonding site', choose where to make a bond\n",
    "write_dir = 'data/kimberley/'\n",
    "cf3so3h = cf4.bs('1').add_group(hso4.bs('1'),bond_length=2)\\\n",
    "    .gfn2opt(print_log=True).set_name('HSO3_CF2_0_CF3') \n",
    "#this name chosen for uniformity with longer chains\n",
    "#easier for automation\n",
    "cf3so3h.write_xyz(directory=write_dir)\n",
    "print('HSO3CF3 step finished')\n",
    "\n",
    "cf3so3 = cf4.bs('1').add_group(so4.bs('1'),bond_length=2)\\\n",
    "    .gfn2opt(charge=-1,print_log=True).set_name('SO3_CF2_0_CF3')\n",
    "cf3so3.write_xyz(directory=write_dir)\n",
    "print('SO3CF3 step finished')\n",
    "\n",
    "#check our structures!\n",
    "cf4.show(show_labels=True)\n",
    "cf3so3h.show()\n",
    "cf3so3.show()\n",
    "\n",
    "cf3co2h = cf4.bs('1').add_group(hco3.bs('1'))\\\n",
    "    .set_name('HCO2_CF2_0_CF3').gfn2opt()\n",
    "cf3co2h.write_xyz(directory=write_dir)\n"
   ]
  },
  {
   "cell_type": "code",
   "execution_count": null,
   "id": "f1de15ea-b72d-4317-b5e1-89f52837cf06",
   "metadata": {},
   "outputs": [],
   "source": [
    "\n",
    "cf3co2 = cf4.bs('1').add_group(co3.bs('1'))\\\n",
    "    .set_name('CO2_CF2_0_CF3').gfn2opt(charge=-1)\n",
    "cf3co2.write_xyz(directory=write_dir)\n",
    "\n",
    "#check our carboxylic structures as well!\n",
    "cf3co2.show()\n",
    "cf3co2h.show()"
   ]
  },
  {
   "cell_type": "code",
   "execution_count": 4,
   "id": "6736c1a2-b433-4e24-8f25-397f7244570f",
   "metadata": {},
   "outputs": [],
   "source": [
    "#START HERE WHEN REDOING\n",
    "write_dir = 'data/kimberley/'\n",
    "#These fragments are used to build everything\n",
    "hso4 = lib['HSO4']\n",
    "so4 = lib['SO4']\n",
    "hco3 = lib['HCO3'] #do carboxylic acids as well\n",
    "co3 = lib['CO3']\n",
    "\n",
    "cf4 = lib['CF4']\n",
    "cf3_frag = cf4.remove_atoms(['F2'])\n",
    "cf3so3h = mol.Molecule(filename='data/kimberley/HSO3_CF2_0_CF3.xyz')\n",
    "cf3so3h.sites = cf4.sites\n",
    "cf3so3 = mol.Molecule(filename='data/kimberley/SO3_CF2_0_CF3.xyz')\n",
    "cf3so3.sites = cf4.sites\n",
    "\n",
    "cf3co2h = mol.Molecule(filename='data/kimberley/HCO2_CF2_0_CF3.xyz')\n",
    "cf3co2h.sites = cf4.sites\n",
    "cf3co2 = mol.Molecule(filename='data/kimberley/CO2_CF2_0_CF3.xyz')\n",
    "cf3co2.sites = cf4.sites\n"
   ]
  },
  {
   "cell_type": "code",
   "execution_count": 11,
   "id": "0e0f255c-c2fa-4e17-a307-5c2c2eb6c27f",
   "metadata": {},
   "outputs": [],
   "source": [
    "\n",
    "#################################Intact PFOS####################\n",
    "#chains of length one already written and used as starting points for these\n",
    "#also a little brutal, but it gets it done\n",
    "\n",
    "def iterate_write_pfacid_chains(starting_structure,chain_group,\\\n",
    "                      head_name,max_chain_length,write_directory):\n",
    "    #this is a bit brutal, could definitely be made better\n",
    "    mol_accum = starting_structure.copy()\n",
    "    mol_accum.set_name(f\"{head_name}_CF2_0_CF3\").write_xyz(directory=write_directory)\n",
    "    for i in range(0,max_chain_length-1):\n",
    "        name = f\"{head_name}_CF2_{i+1}_CF3\"\n",
    "        \n",
    "        mol_accum = chain_group.bs('1').join(mol_accum.bs('2'))\n",
    "        \n",
    "        mol_accum.set_name(name).write_xyz(directory=write_directory)\n",
    "        #mol_accum.show()\n",
    "\n",
    "\n",
    "intact_sulfonic_acids_dir = 'data/kimberley/intact_sulfonic_acids'\n",
    "intact_sulfonates_dir = 'data/kimberley/intact_sulfonates'\n",
    "\n",
    "intact_carboxylic_acids_dir = 'data/kimberley/intact_carboxylic_acids'\n",
    "intact_carboxylates_dir = 'data/kimberley/intact_carboxylates'\n",
    "#SO3H\n",
    "iterate_write_pfacid_chains(cf3so3h,cf4,'HSO3',8,intact_sulfonic_acids_dir)\n",
    "#SO3\n",
    "iterate_write_pfacid_chains(cf3so3,cf4,'SO3',8,intact_sulfonates_dir)\n",
    "#CO2H\n",
    "iterate_write_pfacid_chains(cf3co2h,cf4,'HCO2',8,intact_carboxylic_acids_dir)\n",
    "#CO2\n",
    "iterate_write_pfacid_chains(cf3co2,cf4,'CO2',8,intact_carboxylates_dir)\n",
    "\n"
   ]
  },
  {
   "cell_type": "code",
   "execution_count": 14,
   "id": "52b7c503-a262-4dd8-a4ed-b786fd233b0c",
   "metadata": {},
   "outputs": [
    {
     "name": "stdout",
     "output_type": "stream",
     "text": [
      "FINDING DIHEDRAL ANGLE FAILED\n"
     ]
    }
   ],
   "source": [
    "\n",
    "#####FOR C-C BDES (ALKYL RADICALS, NO SULFONYL GROUP)################\n",
    "\n",
    "#we don't define a function here because we're only doing this once.\n",
    "#it doesn't need to be generalized \n",
    "fragment_dir = 'data/kimberley/perfluoroalkyl_fragments'\n",
    "\n",
    "cf3_frag = cf4.remove_atoms(['F2'])\n",
    "cf3_frag.name = \"CF3_CF2_0\"\n",
    "cf3_frag.write_xyz(directory=fragment_dir)\n",
    "frag_accumulator = cf3_frag.copy()\n",
    "for i in range(0,7):\n",
    "    name = f\"CF3_CF2_{i+1}\"\n",
    "    frag_accumulator = cf4.bs('1').join(frag_accumulator.bs('2'))\n",
    "    frag_accumulator.name = name\n",
    "    frag_accumulator.write_xyz(directory=fragment_dir)"
   ]
  },
  {
   "cell_type": "code",
   "execution_count": 6,
   "id": "e4be2f4e-f733-4da1-a9b9-a77e4559db15",
   "metadata": {},
   "outputs": [
    {
     "name": "stdout",
     "output_type": "stream",
     "text": [
      "FINDING DIHEDRAL ANGLE FAILED\n",
      "FINDING DIHEDRAL ANGLE FAILED\n",
      "FINDING DIHEDRAL ANGLE FAILED\n",
      "FINDING DIHEDRAL ANGLE FAILED\n",
      "FINDING DIHEDRAL ANGLE FAILED\n",
      "FINDING DIHEDRAL ANGLE FAILED\n",
      "FINDING DIHEDRAL ANGLE FAILED\n",
      "FINDING DIHEDRAL ANGLE FAILED\n",
      "FINDING DIHEDRAL ANGLE FAILED\n",
      "FINDING DIHEDRAL ANGLE FAILED\n",
      "FINDING DIHEDRAL ANGLE FAILED\n",
      "FINDING DIHEDRAL ANGLE FAILED\n",
      "FINDING DIHEDRAL ANGLE FAILED\n",
      "FINDING DIHEDRAL ANGLE FAILED\n",
      "FINDING DIHEDRAL ANGLE FAILED\n",
      "FINDING DIHEDRAL ANGLE FAILED\n",
      "FINDING DIHEDRAL ANGLE FAILED\n",
      "FINDING DIHEDRAL ANGLE FAILED\n",
      "FINDING DIHEDRAL ANGLE FAILED\n",
      "FINDING DIHEDRAL ANGLE FAILED\n",
      "FINDING DIHEDRAL ANGLE FAILED\n",
      "FINDING DIHEDRAL ANGLE FAILED\n",
      "FINDING DIHEDRAL ANGLE FAILED\n",
      "FINDING DIHEDRAL ANGLE FAILED\n",
      "FINDING DIHEDRAL ANGLE FAILED\n",
      "FINDING DIHEDRAL ANGLE FAILED\n",
      "FINDING DIHEDRAL ANGLE FAILED\n",
      "FINDING DIHEDRAL ANGLE FAILED\n"
     ]
    }
   ],
   "source": [
    "####################C-C BDEs and terminal C-F BDEs#################\n",
    "\n",
    "\n",
    "def iterate_write_pfacid_frags(starting_structure,chain_group,frag_group,\\\n",
    "                      head_name,max_chain_length,write_directory):\n",
    "    starting_structure.set_name(f\"{head_name}_CF2_0_CF2\").write_xyz(directory=write_dir)\n",
    "    for i in range(0,max_chain_length-1):\n",
    "        frag_acc = starting_structure.copy()\n",
    "        name = f\"{head_name}_CF2_{i+1}_CF2\"\n",
    "        for j in range(0,i):\n",
    "            frag_acc = chain_group.bs('1').join(frag_acc.bs('2'))\n",
    "        \n",
    "        frag_acc = frag_group.bs('1').join(frag_acc.bs('2'))\n",
    "        #frag_acc.show()\n",
    "        frag_acc.set_name(name).write_xyz(directory=write_directory)\n",
    "\n",
    "sulfonic_acid_fragments_dir = 'data/kimberley/sulfonic_acid_fragments'\n",
    "sulfonate_fragments_dir = 'data/kimberley/sulfonate_fragments'\n",
    "\n",
    "carboxylic_acid_fragments_dir = 'data/kimberley/carboxylic_acid_fragments'\n",
    "carboxylate_fragments_dir = 'data/kimberley/carboxylate_fragments'\n",
    "#RSO3H\n",
    "cf2so3h = cf3so3h.remove_atoms(['F2'])\n",
    "iterate_write_pfacid_frags(cf3so3h,cf4,cf3_frag,'HSO3',8,sulfonic_acid_fragments_dir)\n",
    "\n",
    "#RSO3\n",
    "cf2so3 = cf3so3.remove_atoms(['F2'])\n",
    "iterate_write_pfacid_frags(cf3so3,cf4,cf3_frag,'SO3',8,sulfonate_fragments_dir)\n",
    "\n",
    "#RCO2H\n",
    "cf2co2h = cf3co2h.remove_atoms(['F2'])\n",
    "iterate_write_pfacid_frags(cf3co2h,cf4,cf3_frag,'HCO2',8,carboxylic_acid_fragments_dir)\n",
    "\n",
    "#RCO2\n",
    "cf2co2 = cf3co2.remove_atoms(['F2'])\n",
    "iterate_write_pfacid_frags(cf3co2,cf4,cf3_frag,'CO2',8,carboxylate_fragments_dir)\n"
   ]
  },
  {
   "cell_type": "code",
   "execution_count": 17,
   "id": "2b6c775d-1f9c-4e1c-baf9-dc6783e23b22",
   "metadata": {
    "scrolled": true
   },
   "outputs": [
    {
     "name": "stdout",
     "output_type": "stream",
     "text": [
      "shown below: HSO3_CF2_6_CF_CF2_0_CF3\n"
     ]
    },
    {
     "data": {
      "application/vnd.plotly.v1+json": {
       "config": {
        "plotlyServerURL": "https://plot.ly"
       },
       "data": [
        {
         "hoverinfo": "text",
         "marker": {
          "color": [
           "black",
           "lime",
           "lime",
           "lime",
           "black",
           "lime",
           "black",
           "lime",
           "lime",
           "black",
           "lime",
           "lime",
           "black",
           "lime",
           "lime",
           "black",
           "lime",
           "lime",
           "black",
           "lime",
           "lime",
           "black",
           "lime",
           "lime",
           "yellow",
           "red",
           "red",
           "red",
           "white"
          ],
          "colorscale": [
           [
            0,
            "#440154"
           ],
           [
            0.1111111111111111,
            "#482878"
           ],
           [
            0.2222222222222222,
            "#3e4989"
           ],
           [
            0.3333333333333333,
            "#31688e"
           ],
           [
            0.4444444444444444,
            "#26828e"
           ],
           [
            0.5555555555555556,
            "#1f9e89"
           ],
           [
            0.6666666666666666,
            "#35b779"
           ],
           [
            0.7777777777777778,
            "#6ece58"
           ],
           [
            0.8888888888888888,
            "#b5de2b"
           ],
           [
            1,
            "#fde725"
           ]
          ],
          "opacity": 0.8,
          "size": 3
         },
         "mode": "markers",
         "text": [
          "C1",
          "F2",
          "F3",
          "F4",
          "C5",
          "F7",
          "C8",
          "F9",
          "F10",
          "C11",
          "F12",
          "F13",
          "C14",
          "F15",
          "F16",
          "C17",
          "F18",
          "F19",
          "C20",
          "F21",
          "F22",
          "C23",
          "F24",
          "F25",
          "S26",
          "O27",
          "O28",
          "O29",
          "H30"
         ],
         "type": "scatter3d",
         "x": [
          0,
          -1.0169347302254699,
          -0.44557653768826,
          0.70940447840478,
          0.6876238827372908,
          1.1332003676305231,
          0.03990545111099586,
          -0.9770292791144747,
          -0.4056710865772636,
          0.7275293338482864,
          1.744464077683873,
          1.1731058187415182,
          0.07981090222199161,
          -0.9371238280034792,
          -0.36576563546626717,
          0.7674347849592824,
          1.7843695287948687,
          1.2130112698525135,
          0.11971635333298702,
          -0.8972183768924832,
          -0.325860184355271,
          0.8073402360702788,
          1.827171697571174,
          1.25438093745456,
          -0.2457711283922004,
          -1.3353998791478827,
          0.5350911802599893,
          -0.8457892412131413,
          -1.279598195899887
         ],
         "y": [
          0,
          -0.75246221681069,
          1.09984321741231,
          0.30949213355259003,
          -0.5997526212234046,
          -1.6995946713066508,
          -0.8823329621258713,
          -1.634795178936561,
          0.21751025528643853,
          -1.482085583349276,
          -0.7296236674662399,
          -2.5819276334325223,
          -1.7646659242517428,
          -2.5171281410624324,
          -0.6648227068394332,
          -2.3644185454751483,
          -1.6119566295921117,
          -3.464260595558395,
          -2.6469988863776157,
          -3.3994611031883046,
          -1.5471556689653054,
          -3.2467515076010205,
          -2.494341690966345,
          -4.3439074376567195,
          -3.756216277637847,
          -4.615765380581463,
          -4.601545813257569,
          -2.589962014461171,
          -4.716382390751652
         ],
         "z": [
          0,
          0.35634641152507,
          -0.5649302025294499,
          1.06221462745206,
          -0.7794037395502719,
          -0.21447122275294894,
          -1.7492538229482257,
          -1.3929074114231557,
          -2.3141840254776755,
          -2.5286575624984975,
          -2.8850045706224368,
          -1.963725045701175,
          -3.4985076458964524,
          -3.142161234371382,
          -4.063437848425902,
          -4.277911385446725,
          -4.634258393570664,
          -3.7129788686494027,
          -5.24776146884468,
          -4.891415057319609,
          -5.81269167137413,
          -6.027165208394953,
          -6.385593222447593,
          -5.4198097277508195,
          -7.489074284593028,
          -6.725046932361814,
          -8.309775667977583,
          -8.016055486621168,
          -5.7736188975446225
         ]
        },
        {
         "line": {
          "color": "black",
          "width": 3
         },
         "mode": "lines",
         "type": "scatter3d",
         "x": [
          0,
          -1.0169347302254699
         ],
         "y": [
          0,
          -0.75246221681069
         ],
         "z": [
          0,
          0.35634641152507
         ]
        },
        {
         "line": {
          "color": "black",
          "width": 3
         },
         "mode": "lines",
         "type": "scatter3d",
         "x": [
          0,
          -0.44557653768826
         ],
         "y": [
          0,
          1.09984321741231
         ],
         "z": [
          0,
          -0.5649302025294499
         ]
        },
        {
         "line": {
          "color": "black",
          "width": 3
         },
         "mode": "lines",
         "type": "scatter3d",
         "x": [
          0,
          0.70940447840478
         ],
         "y": [
          0,
          0.30949213355259003
         ],
         "z": [
          0,
          1.06221462745206
         ]
        },
        {
         "line": {
          "color": "black",
          "width": 3
         },
         "mode": "lines",
         "type": "scatter3d",
         "x": [
          0,
          0.6876238827372908
         ],
         "y": [
          0,
          -0.5997526212234046
         ],
         "z": [
          0,
          -0.7794037395502719
         ]
        },
        {
         "line": {
          "color": "black",
          "width": 3
         },
         "mode": "lines",
         "type": "scatter3d",
         "x": [
          0.6876238827372908,
          1.1332003676305231
         ],
         "y": [
          -0.5997526212234046,
          -1.6995946713066508
         ],
         "z": [
          -0.7794037395502719,
          -0.21447122275294894
         ]
        },
        {
         "line": {
          "color": "black",
          "width": 3
         },
         "mode": "lines",
         "type": "scatter3d",
         "x": [
          0.6876238827372908,
          0.03990545111099586
         ],
         "y": [
          -0.5997526212234046,
          -0.8823329621258713
         ],
         "z": [
          -0.7794037395502719,
          -1.7492538229482257
         ]
        },
        {
         "line": {
          "color": "black",
          "width": 3
         },
         "mode": "lines",
         "type": "scatter3d",
         "x": [
          0.03990545111099586,
          -0.9770292791144747
         ],
         "y": [
          -0.8823329621258713,
          -1.634795178936561
         ],
         "z": [
          -1.7492538229482257,
          -1.3929074114231557
         ]
        },
        {
         "line": {
          "color": "black",
          "width": 3
         },
         "mode": "lines",
         "type": "scatter3d",
         "x": [
          0.03990545111099586,
          -0.4056710865772636
         ],
         "y": [
          -0.8823329621258713,
          0.21751025528643853
         ],
         "z": [
          -1.7492538229482257,
          -2.3141840254776755
         ]
        },
        {
         "line": {
          "color": "black",
          "width": 3
         },
         "mode": "lines",
         "type": "scatter3d",
         "x": [
          0.03990545111099586,
          0.7275293338482864
         ],
         "y": [
          -0.8823329621258713,
          -1.482085583349276
         ],
         "z": [
          -1.7492538229482257,
          -2.5286575624984975
         ]
        },
        {
         "line": {
          "color": "black",
          "width": 3
         },
         "mode": "lines",
         "type": "scatter3d",
         "x": [
          0.7275293338482864,
          1.744464077683873
         ],
         "y": [
          -1.482085583349276,
          -0.7296236674662399
         ],
         "z": [
          -2.5286575624984975,
          -2.8850045706224368
         ]
        },
        {
         "line": {
          "color": "black",
          "width": 3
         },
         "mode": "lines",
         "type": "scatter3d",
         "x": [
          0.7275293338482864,
          1.1731058187415182
         ],
         "y": [
          -1.482085583349276,
          -2.5819276334325223
         ],
         "z": [
          -2.5286575624984975,
          -1.963725045701175
         ]
        },
        {
         "line": {
          "color": "black",
          "width": 3
         },
         "mode": "lines",
         "type": "scatter3d",
         "x": [
          0.7275293338482864,
          0.07981090222199161
         ],
         "y": [
          -1.482085583349276,
          -1.7646659242517428
         ],
         "z": [
          -2.5286575624984975,
          -3.4985076458964524
         ]
        },
        {
         "line": {
          "color": "black",
          "width": 3
         },
         "mode": "lines",
         "type": "scatter3d",
         "x": [
          0.07981090222199161,
          -0.9371238280034792
         ],
         "y": [
          -1.7646659242517428,
          -2.5171281410624324
         ],
         "z": [
          -3.4985076458964524,
          -3.142161234371382
         ]
        },
        {
         "line": {
          "color": "black",
          "width": 3
         },
         "mode": "lines",
         "type": "scatter3d",
         "x": [
          0.07981090222199161,
          -0.36576563546626717
         ],
         "y": [
          -1.7646659242517428,
          -0.6648227068394332
         ],
         "z": [
          -3.4985076458964524,
          -4.063437848425902
         ]
        },
        {
         "line": {
          "color": "black",
          "width": 3
         },
         "mode": "lines",
         "type": "scatter3d",
         "x": [
          0.07981090222199161,
          0.7674347849592824
         ],
         "y": [
          -1.7646659242517428,
          -2.3644185454751483
         ],
         "z": [
          -3.4985076458964524,
          -4.277911385446725
         ]
        },
        {
         "line": {
          "color": "black",
          "width": 3
         },
         "mode": "lines",
         "type": "scatter3d",
         "x": [
          0.7674347849592824,
          1.7843695287948687
         ],
         "y": [
          -2.3644185454751483,
          -1.6119566295921117
         ],
         "z": [
          -4.277911385446725,
          -4.634258393570664
         ]
        },
        {
         "line": {
          "color": "black",
          "width": 3
         },
         "mode": "lines",
         "type": "scatter3d",
         "x": [
          0.7674347849592824,
          1.2130112698525135
         ],
         "y": [
          -2.3644185454751483,
          -3.464260595558395
         ],
         "z": [
          -4.277911385446725,
          -3.7129788686494027
         ]
        },
        {
         "line": {
          "color": "black",
          "width": 3
         },
         "mode": "lines",
         "type": "scatter3d",
         "x": [
          0.7674347849592824,
          0.11971635333298702
         ],
         "y": [
          -2.3644185454751483,
          -2.6469988863776157
         ],
         "z": [
          -4.277911385446725,
          -5.24776146884468
         ]
        },
        {
         "line": {
          "color": "black",
          "width": 3
         },
         "mode": "lines",
         "type": "scatter3d",
         "x": [
          0.11971635333298702,
          -0.8972183768924832
         ],
         "y": [
          -2.6469988863776157,
          -3.3994611031883046
         ],
         "z": [
          -5.24776146884468,
          -4.891415057319609
         ]
        },
        {
         "line": {
          "color": "black",
          "width": 3
         },
         "mode": "lines",
         "type": "scatter3d",
         "x": [
          0.11971635333298702,
          -0.325860184355271
         ],
         "y": [
          -2.6469988863776157,
          -1.5471556689653054
         ],
         "z": [
          -5.24776146884468,
          -5.81269167137413
         ]
        },
        {
         "line": {
          "color": "black",
          "width": 3
         },
         "mode": "lines",
         "type": "scatter3d",
         "x": [
          0.11971635333298702,
          0.8073402360702788
         ],
         "y": [
          -2.6469988863776157,
          -3.2467515076010205
         ],
         "z": [
          -5.24776146884468,
          -6.027165208394953
         ]
        },
        {
         "line": {
          "color": "black",
          "width": 3
         },
         "mode": "lines",
         "type": "scatter3d",
         "x": [
          -0.8972183768924832,
          -1.279598195899887
         ],
         "y": [
          -3.3994611031883046,
          -4.716382390751652
         ],
         "z": [
          -4.891415057319609,
          -5.7736188975446225
         ]
        },
        {
         "line": {
          "color": "black",
          "width": 3
         },
         "mode": "lines",
         "type": "scatter3d",
         "x": [
          0.8073402360702788,
          1.827171697571174
         ],
         "y": [
          -3.2467515076010205,
          -2.494341690966345
         ],
         "z": [
          -6.027165208394953,
          -6.385593222447593
         ]
        },
        {
         "line": {
          "color": "black",
          "width": 3
         },
         "mode": "lines",
         "type": "scatter3d",
         "x": [
          0.8073402360702788,
          1.25438093745456
         ],
         "y": [
          -3.2467515076010205,
          -4.3439074376567195
         ],
         "z": [
          -6.027165208394953,
          -5.4198097277508195
         ]
        },
        {
         "line": {
          "color": "black",
          "width": 3
         },
         "mode": "lines",
         "type": "scatter3d",
         "x": [
          -0.2457711283922004,
          -1.3353998791478827
         ],
         "y": [
          -3.756216277637847,
          -4.615765380581463
         ],
         "z": [
          -7.489074284593028,
          -6.725046932361814
         ]
        },
        {
         "line": {
          "color": "black",
          "width": 3
         },
         "mode": "lines",
         "type": "scatter3d",
         "x": [
          -0.2457711283922004,
          0.5350911802599893
         ],
         "y": [
          -3.756216277637847,
          -4.601545813257569
         ],
         "z": [
          -7.489074284593028,
          -8.309775667977583
         ]
        },
        {
         "line": {
          "color": "black",
          "width": 3
         },
         "mode": "lines",
         "type": "scatter3d",
         "x": [
          -0.2457711283922004,
          -0.8457892412131413
         ],
         "y": [
          -3.756216277637847,
          -2.589962014461171
         ],
         "z": [
          -7.489074284593028,
          -8.016055486621168
         ]
        },
        {
         "line": {
          "color": "black",
          "width": 3
         },
         "mode": "lines",
         "type": "scatter3d",
         "x": [
          -1.3353998791478827,
          -1.279598195899887
         ],
         "y": [
          -4.615765380581463,
          -4.716382390751652
         ],
         "z": [
          -6.725046932361814,
          -5.7736188975446225
         ]
        }
       ],
       "layout": {
        "autosize": false,
        "height": 500,
        "margin": {
         "b": 100,
         "l": 50,
         "pad": 10,
         "r": 50,
         "t": 100
        },
        "paper_bgcolor": "rgba(140,140,140,0.5)",
        "plot_bgcolor": "rgba(0,100,140,0.5)",
        "scene": {
         "aspectmode": "data",
         "aspectratio": {
          "x": 0.5682453416314863,
          "y": 1.0450492668835267,
          "z": 1.683942860423198
         },
         "camera": {
          "center": {
           "x": 0,
           "y": 0,
           "z": 0
          },
          "eye": {
           "x": 1.3869662782794174,
           "y": -1.3631686167674824,
           "z": 0.9516280077719299
          },
          "projection": {
           "type": "perspective"
          },
          "up": {
           "x": 0,
           "y": 0,
           "z": 1
          }
         },
         "xaxis": {
          "gridcolor": "red",
          "showbackground": false,
          "showgrid": true,
          "type": "linear",
          "zeroline": true,
          "zerolinecolor": "green"
         },
         "yaxis": {
          "gridcolor": "red",
          "showbackground": false,
          "showgrid": true,
          "type": "linear",
          "zeroline": true,
          "zerolinecolor": "green"
         },
         "zaxis": {
          "gridcolor": "red",
          "showbackground": false,
          "showgrid": true,
          "type": "linear",
          "zeroline": true,
          "zerolinecolor": "green"
         }
        },
        "showlegend": false,
        "template": {
         "data": {
          "bar": [
           {
            "error_x": {
             "color": "#2a3f5f"
            },
            "error_y": {
             "color": "#2a3f5f"
            },
            "marker": {
             "line": {
              "color": "#E5ECF6",
              "width": 0.5
             },
             "pattern": {
              "fillmode": "overlay",
              "size": 10,
              "solidity": 0.2
             }
            },
            "type": "bar"
           }
          ],
          "barpolar": [
           {
            "marker": {
             "line": {
              "color": "#E5ECF6",
              "width": 0.5
             },
             "pattern": {
              "fillmode": "overlay",
              "size": 10,
              "solidity": 0.2
             }
            },
            "type": "barpolar"
           }
          ],
          "carpet": [
           {
            "aaxis": {
             "endlinecolor": "#2a3f5f",
             "gridcolor": "white",
             "linecolor": "white",
             "minorgridcolor": "white",
             "startlinecolor": "#2a3f5f"
            },
            "baxis": {
             "endlinecolor": "#2a3f5f",
             "gridcolor": "white",
             "linecolor": "white",
             "minorgridcolor": "white",
             "startlinecolor": "#2a3f5f"
            },
            "type": "carpet"
           }
          ],
          "choropleth": [
           {
            "colorbar": {
             "outlinewidth": 0,
             "ticks": ""
            },
            "type": "choropleth"
           }
          ],
          "contour": [
           {
            "colorbar": {
             "outlinewidth": 0,
             "ticks": ""
            },
            "colorscale": [
             [
              0,
              "#0d0887"
             ],
             [
              0.1111111111111111,
              "#46039f"
             ],
             [
              0.2222222222222222,
              "#7201a8"
             ],
             [
              0.3333333333333333,
              "#9c179e"
             ],
             [
              0.4444444444444444,
              "#bd3786"
             ],
             [
              0.5555555555555556,
              "#d8576b"
             ],
             [
              0.6666666666666666,
              "#ed7953"
             ],
             [
              0.7777777777777778,
              "#fb9f3a"
             ],
             [
              0.8888888888888888,
              "#fdca26"
             ],
             [
              1,
              "#f0f921"
             ]
            ],
            "type": "contour"
           }
          ],
          "contourcarpet": [
           {
            "colorbar": {
             "outlinewidth": 0,
             "ticks": ""
            },
            "type": "contourcarpet"
           }
          ],
          "heatmap": [
           {
            "colorbar": {
             "outlinewidth": 0,
             "ticks": ""
            },
            "colorscale": [
             [
              0,
              "#0d0887"
             ],
             [
              0.1111111111111111,
              "#46039f"
             ],
             [
              0.2222222222222222,
              "#7201a8"
             ],
             [
              0.3333333333333333,
              "#9c179e"
             ],
             [
              0.4444444444444444,
              "#bd3786"
             ],
             [
              0.5555555555555556,
              "#d8576b"
             ],
             [
              0.6666666666666666,
              "#ed7953"
             ],
             [
              0.7777777777777778,
              "#fb9f3a"
             ],
             [
              0.8888888888888888,
              "#fdca26"
             ],
             [
              1,
              "#f0f921"
             ]
            ],
            "type": "heatmap"
           }
          ],
          "heatmapgl": [
           {
            "colorbar": {
             "outlinewidth": 0,
             "ticks": ""
            },
            "colorscale": [
             [
              0,
              "#0d0887"
             ],
             [
              0.1111111111111111,
              "#46039f"
             ],
             [
              0.2222222222222222,
              "#7201a8"
             ],
             [
              0.3333333333333333,
              "#9c179e"
             ],
             [
              0.4444444444444444,
              "#bd3786"
             ],
             [
              0.5555555555555556,
              "#d8576b"
             ],
             [
              0.6666666666666666,
              "#ed7953"
             ],
             [
              0.7777777777777778,
              "#fb9f3a"
             ],
             [
              0.8888888888888888,
              "#fdca26"
             ],
             [
              1,
              "#f0f921"
             ]
            ],
            "type": "heatmapgl"
           }
          ],
          "histogram": [
           {
            "marker": {
             "pattern": {
              "fillmode": "overlay",
              "size": 10,
              "solidity": 0.2
             }
            },
            "type": "histogram"
           }
          ],
          "histogram2d": [
           {
            "colorbar": {
             "outlinewidth": 0,
             "ticks": ""
            },
            "colorscale": [
             [
              0,
              "#0d0887"
             ],
             [
              0.1111111111111111,
              "#46039f"
             ],
             [
              0.2222222222222222,
              "#7201a8"
             ],
             [
              0.3333333333333333,
              "#9c179e"
             ],
             [
              0.4444444444444444,
              "#bd3786"
             ],
             [
              0.5555555555555556,
              "#d8576b"
             ],
             [
              0.6666666666666666,
              "#ed7953"
             ],
             [
              0.7777777777777778,
              "#fb9f3a"
             ],
             [
              0.8888888888888888,
              "#fdca26"
             ],
             [
              1,
              "#f0f921"
             ]
            ],
            "type": "histogram2d"
           }
          ],
          "histogram2dcontour": [
           {
            "colorbar": {
             "outlinewidth": 0,
             "ticks": ""
            },
            "colorscale": [
             [
              0,
              "#0d0887"
             ],
             [
              0.1111111111111111,
              "#46039f"
             ],
             [
              0.2222222222222222,
              "#7201a8"
             ],
             [
              0.3333333333333333,
              "#9c179e"
             ],
             [
              0.4444444444444444,
              "#bd3786"
             ],
             [
              0.5555555555555556,
              "#d8576b"
             ],
             [
              0.6666666666666666,
              "#ed7953"
             ],
             [
              0.7777777777777778,
              "#fb9f3a"
             ],
             [
              0.8888888888888888,
              "#fdca26"
             ],
             [
              1,
              "#f0f921"
             ]
            ],
            "type": "histogram2dcontour"
           }
          ],
          "mesh3d": [
           {
            "colorbar": {
             "outlinewidth": 0,
             "ticks": ""
            },
            "type": "mesh3d"
           }
          ],
          "parcoords": [
           {
            "line": {
             "colorbar": {
              "outlinewidth": 0,
              "ticks": ""
             }
            },
            "type": "parcoords"
           }
          ],
          "pie": [
           {
            "automargin": true,
            "type": "pie"
           }
          ],
          "scatter": [
           {
            "fillpattern": {
             "fillmode": "overlay",
             "size": 10,
             "solidity": 0.2
            },
            "type": "scatter"
           }
          ],
          "scatter3d": [
           {
            "line": {
             "colorbar": {
              "outlinewidth": 0,
              "ticks": ""
             }
            },
            "marker": {
             "colorbar": {
              "outlinewidth": 0,
              "ticks": ""
             }
            },
            "type": "scatter3d"
           }
          ],
          "scattercarpet": [
           {
            "marker": {
             "colorbar": {
              "outlinewidth": 0,
              "ticks": ""
             }
            },
            "type": "scattercarpet"
           }
          ],
          "scattergeo": [
           {
            "marker": {
             "colorbar": {
              "outlinewidth": 0,
              "ticks": ""
             }
            },
            "type": "scattergeo"
           }
          ],
          "scattergl": [
           {
            "marker": {
             "colorbar": {
              "outlinewidth": 0,
              "ticks": ""
             }
            },
            "type": "scattergl"
           }
          ],
          "scattermapbox": [
           {
            "marker": {
             "colorbar": {
              "outlinewidth": 0,
              "ticks": ""
             }
            },
            "type": "scattermapbox"
           }
          ],
          "scatterpolar": [
           {
            "marker": {
             "colorbar": {
              "outlinewidth": 0,
              "ticks": ""
             }
            },
            "type": "scatterpolar"
           }
          ],
          "scatterpolargl": [
           {
            "marker": {
             "colorbar": {
              "outlinewidth": 0,
              "ticks": ""
             }
            },
            "type": "scatterpolargl"
           }
          ],
          "scatterternary": [
           {
            "marker": {
             "colorbar": {
              "outlinewidth": 0,
              "ticks": ""
             }
            },
            "type": "scatterternary"
           }
          ],
          "surface": [
           {
            "colorbar": {
             "outlinewidth": 0,
             "ticks": ""
            },
            "colorscale": [
             [
              0,
              "#0d0887"
             ],
             [
              0.1111111111111111,
              "#46039f"
             ],
             [
              0.2222222222222222,
              "#7201a8"
             ],
             [
              0.3333333333333333,
              "#9c179e"
             ],
             [
              0.4444444444444444,
              "#bd3786"
             ],
             [
              0.5555555555555556,
              "#d8576b"
             ],
             [
              0.6666666666666666,
              "#ed7953"
             ],
             [
              0.7777777777777778,
              "#fb9f3a"
             ],
             [
              0.8888888888888888,
              "#fdca26"
             ],
             [
              1,
              "#f0f921"
             ]
            ],
            "type": "surface"
           }
          ],
          "table": [
           {
            "cells": {
             "fill": {
              "color": "#EBF0F8"
             },
             "line": {
              "color": "white"
             }
            },
            "header": {
             "fill": {
              "color": "#C8D4E3"
             },
             "line": {
              "color": "white"
             }
            },
            "type": "table"
           }
          ]
         },
         "layout": {
          "annotationdefaults": {
           "arrowcolor": "#2a3f5f",
           "arrowhead": 0,
           "arrowwidth": 1
          },
          "autotypenumbers": "strict",
          "coloraxis": {
           "colorbar": {
            "outlinewidth": 0,
            "ticks": ""
           }
          },
          "colorscale": {
           "diverging": [
            [
             0,
             "#8e0152"
            ],
            [
             0.1,
             "#c51b7d"
            ],
            [
             0.2,
             "#de77ae"
            ],
            [
             0.3,
             "#f1b6da"
            ],
            [
             0.4,
             "#fde0ef"
            ],
            [
             0.5,
             "#f7f7f7"
            ],
            [
             0.6,
             "#e6f5d0"
            ],
            [
             0.7,
             "#b8e186"
            ],
            [
             0.8,
             "#7fbc41"
            ],
            [
             0.9,
             "#4d9221"
            ],
            [
             1,
             "#276419"
            ]
           ],
           "sequential": [
            [
             0,
             "#0d0887"
            ],
            [
             0.1111111111111111,
             "#46039f"
            ],
            [
             0.2222222222222222,
             "#7201a8"
            ],
            [
             0.3333333333333333,
             "#9c179e"
            ],
            [
             0.4444444444444444,
             "#bd3786"
            ],
            [
             0.5555555555555556,
             "#d8576b"
            ],
            [
             0.6666666666666666,
             "#ed7953"
            ],
            [
             0.7777777777777778,
             "#fb9f3a"
            ],
            [
             0.8888888888888888,
             "#fdca26"
            ],
            [
             1,
             "#f0f921"
            ]
           ],
           "sequentialminus": [
            [
             0,
             "#0d0887"
            ],
            [
             0.1111111111111111,
             "#46039f"
            ],
            [
             0.2222222222222222,
             "#7201a8"
            ],
            [
             0.3333333333333333,
             "#9c179e"
            ],
            [
             0.4444444444444444,
             "#bd3786"
            ],
            [
             0.5555555555555556,
             "#d8576b"
            ],
            [
             0.6666666666666666,
             "#ed7953"
            ],
            [
             0.7777777777777778,
             "#fb9f3a"
            ],
            [
             0.8888888888888888,
             "#fdca26"
            ],
            [
             1,
             "#f0f921"
            ]
           ]
          },
          "colorway": [
           "#636efa",
           "#EF553B",
           "#00cc96",
           "#ab63fa",
           "#FFA15A",
           "#19d3f3",
           "#FF6692",
           "#B6E880",
           "#FF97FF",
           "#FECB52"
          ],
          "font": {
           "color": "#2a3f5f"
          },
          "geo": {
           "bgcolor": "white",
           "lakecolor": "white",
           "landcolor": "#E5ECF6",
           "showlakes": true,
           "showland": true,
           "subunitcolor": "white"
          },
          "hoverlabel": {
           "align": "left"
          },
          "hovermode": "closest",
          "mapbox": {
           "style": "light"
          },
          "paper_bgcolor": "white",
          "plot_bgcolor": "#E5ECF6",
          "polar": {
           "angularaxis": {
            "gridcolor": "white",
            "linecolor": "white",
            "ticks": ""
           },
           "bgcolor": "#E5ECF6",
           "radialaxis": {
            "gridcolor": "white",
            "linecolor": "white",
            "ticks": ""
           }
          },
          "scene": {
           "xaxis": {
            "backgroundcolor": "#E5ECF6",
            "gridcolor": "white",
            "gridwidth": 2,
            "linecolor": "white",
            "showbackground": true,
            "ticks": "",
            "zerolinecolor": "white"
           },
           "yaxis": {
            "backgroundcolor": "#E5ECF6",
            "gridcolor": "white",
            "gridwidth": 2,
            "linecolor": "white",
            "showbackground": true,
            "ticks": "",
            "zerolinecolor": "white"
           },
           "zaxis": {
            "backgroundcolor": "#E5ECF6",
            "gridcolor": "white",
            "gridwidth": 2,
            "linecolor": "white",
            "showbackground": true,
            "ticks": "",
            "zerolinecolor": "white"
           }
          },
          "shapedefaults": {
           "line": {
            "color": "#2a3f5f"
           }
          },
          "ternary": {
           "aaxis": {
            "gridcolor": "white",
            "linecolor": "white",
            "ticks": ""
           },
           "baxis": {
            "gridcolor": "white",
            "linecolor": "white",
            "ticks": ""
           },
           "bgcolor": "#E5ECF6",
           "caxis": {
            "gridcolor": "white",
            "linecolor": "white",
            "ticks": ""
           }
          },
          "title": {
           "x": 0.05
          },
          "xaxis": {
           "automargin": true,
           "gridcolor": "white",
           "linecolor": "white",
           "ticks": "",
           "title": {
            "standoff": 15
           },
           "zerolinecolor": "white",
           "zerolinewidth": 2
          },
          "yaxis": {
           "automargin": true,
           "gridcolor": "white",
           "linecolor": "white",
           "ticks": "",
           "title": {
            "standoff": 15
           },
           "zerolinecolor": "white",
           "zerolinewidth": 2
          }
         }
        },
        "width": 500
       }
      },
      "image/png": "[encoded data removed]",
      "text/html": [
       "<div>                            <div id=\"cd0361c2-0be0-4819-9087-5b2f70d69f4a\" class=\"plotly-graph-div\" style=\"height:500px; width:500px;\"></div>            <script type=\"text/javascript\">                require([\"plotly\"], function(Plotly) {                    window.PLOTLYENV=window.PLOTLYENV || {};                                    if (document.getElementById(\"cd0361c2-0be0-4819-9087-5b2f70d69f4a\")) {                    Plotly.newPlot(                        \"cd0361c2-0be0-4819-9087-5b2f70d69f4a\",                        [{\"hoverinfo\":\"text\",\"marker\":{\"color\":[\"black\",\"lime\",\"lime\",\"lime\",\"black\",\"lime\",\"black\",\"lime\",\"lime\",\"black\",\"lime\",\"lime\",\"black\",\"lime\",\"lime\",\"black\",\"lime\",\"lime\",\"black\",\"lime\",\"lime\",\"black\",\"lime\",\"lime\",\"yellow\",\"red\",\"red\",\"red\",\"white\"],\"colorscale\":[[0.0,\"#440154\"],[0.1111111111111111,\"#482878\"],[0.2222222222222222,\"#3e4989\"],[0.3333333333333333,\"#31688e\"],[0.4444444444444444,\"#26828e\"],[0.5555555555555556,\"#1f9e89\"],[0.6666666666666666,\"#35b779\"],[0.7777777777777778,\"#6ece58\"],[0.8888888888888888,\"#b5de2b\"],[1.0,\"#fde725\"]],\"opacity\":0.8,\"size\":3},\"mode\":\"markers\",\"text\":[\"C1\",\"F2\",\"F3\",\"F4\",\"C5\",\"F7\",\"C8\",\"F9\",\"F10\",\"C11\",\"F12\",\"F13\",\"C14\",\"F15\",\"F16\",\"C17\",\"F18\",\"F19\",\"C20\",\"F21\",\"F22\",\"C23\",\"F24\",\"F25\",\"S26\",\"O27\",\"O28\",\"O29\",\"H30\"],\"x\":[0.0,-1.0169347302254699,-0.44557653768826,0.70940447840478,0.6876238827372908,1.1332003676305231,0.03990545111099586,-0.9770292791144747,-0.4056710865772636,0.7275293338482864,1.744464077683873,1.1731058187415182,0.07981090222199161,-0.9371238280034792,-0.36576563546626717,0.7674347849592824,1.7843695287948687,1.2130112698525135,0.11971635333298702,-0.8972183768924832,-0.325860184355271,0.8073402360702788,1.827171697571174,1.25438093745456,-0.2457711283922004,-1.3353998791478827,0.5350911802599893,-0.8457892412131413,-1.279598195899887],\"y\":[0.0,-0.75246221681069,1.09984321741231,0.30949213355259003,-0.5997526212234046,-1.6995946713066508,-0.8823329621258713,-1.634795178936561,0.21751025528643853,-1.482085583349276,-0.7296236674662399,-2.5819276334325223,-1.7646659242517428,-2.5171281410624324,-0.6648227068394332,-2.3644185454751483,-1.6119566295921117,-3.464260595558395,-2.6469988863776157,-3.3994611031883046,-1.5471556689653054,-3.2467515076010205,-2.494341690966345,-4.3439074376567195,-3.756216277637847,-4.615765380581463,-4.601545813257569,-2.589962014461171,-4.716382390751652],\"z\":[0.0,0.35634641152507,-0.5649302025294499,1.06221462745206,-0.7794037395502719,-0.21447122275294894,-1.7492538229482257,-1.3929074114231557,-2.3141840254776755,-2.5286575624984975,-2.8850045706224368,-1.963725045701175,-3.4985076458964524,-3.142161234371382,-4.063437848425902,-4.277911385446725,-4.634258393570664,-3.7129788686494027,-5.24776146884468,-4.891415057319609,-5.81269167137413,-6.027165208394953,-6.385593222447593,-5.4198097277508195,-7.489074284593028,-6.725046932361814,-8.309775667977583,-8.016055486621168,-5.7736188975446225],\"type\":\"scatter3d\"},{\"line\":{\"color\":\"black\",\"width\":3},\"mode\":\"lines\",\"x\":[0.0,-1.0169347302254699],\"y\":[0.0,-0.75246221681069],\"z\":[0.0,0.35634641152507],\"type\":\"scatter3d\"},{\"line\":{\"color\":\"black\",\"width\":3},\"mode\":\"lines\",\"x\":[0.0,-0.44557653768826],\"y\":[0.0,1.09984321741231],\"z\":[0.0,-0.5649302025294499],\"type\":\"scatter3d\"},{\"line\":{\"color\":\"black\",\"width\":3},\"mode\":\"lines\",\"x\":[0.0,0.70940447840478],\"y\":[0.0,0.30949213355259003],\"z\":[0.0,1.06221462745206],\"type\":\"scatter3d\"},{\"line\":{\"color\":\"black\",\"width\":3},\"mode\":\"lines\",\"x\":[0.0,0.6876238827372908],\"y\":[0.0,-0.5997526212234046],\"z\":[0.0,-0.7794037395502719],\"type\":\"scatter3d\"},{\"line\":{\"color\":\"black\",\"width\":3},\"mode\":\"lines\",\"x\":[0.6876238827372908,1.1332003676305231],\"y\":[-0.5997526212234046,-1.6995946713066508],\"z\":[-0.7794037395502719,-0.21447122275294894],\"type\":\"scatter3d\"},{\"line\":{\"color\":\"black\",\"width\":3},\"mode\":\"lines\",\"x\":[0.6876238827372908,0.03990545111099586],\"y\":[-0.5997526212234046,-0.8823329621258713],\"z\":[-0.7794037395502719,-1.7492538229482257],\"type\":\"scatter3d\"},{\"line\":{\"color\":\"black\",\"width\":3},\"mode\":\"lines\",\"x\":[0.03990545111099586,-0.9770292791144747],\"y\":[-0.8823329621258713,-1.634795178936561],\"z\":[-1.7492538229482257,-1.3929074114231557],\"type\":\"scatter3d\"},{\"line\":{\"color\":\"black\",\"width\":3},\"mode\":\"lines\",\"x\":[0.03990545111099586,-0.4056710865772636],\"y\":[-0.8823329621258713,0.21751025528643853],\"z\":[-1.7492538229482257,-2.3141840254776755],\"type\":\"scatter3d\"},{\"line\":{\"color\":\"black\",\"width\":3},\"mode\":\"lines\",\"x\":[0.03990545111099586,0.7275293338482864],\"y\":[-0.8823329621258713,-1.482085583349276],\"z\":[-1.7492538229482257,-2.5286575624984975],\"type\":\"scatter3d\"},{\"line\":{\"color\":\"black\",\"width\":3},\"mode\":\"lines\",\"x\":[0.7275293338482864,1.744464077683873],\"y\":[-1.482085583349276,-0.7296236674662399],\"z\":[-2.5286575624984975,-2.8850045706224368],\"type\":\"scatter3d\"},{\"line\":{\"color\":\"black\",\"width\":3},\"mode\":\"lines\",\"x\":[0.7275293338482864,1.1731058187415182],\"y\":[-1.482085583349276,-2.5819276334325223],\"z\":[-2.5286575624984975,-1.963725045701175],\"type\":\"scatter3d\"},{\"line\":{\"color\":\"black\",\"width\":3},\"mode\":\"lines\",\"x\":[0.7275293338482864,0.07981090222199161],\"y\":[-1.482085583349276,-1.7646659242517428],\"z\":[-2.5286575624984975,-3.4985076458964524],\"type\":\"scatter3d\"},{\"line\":{\"color\":\"black\",\"width\":3},\"mode\":\"lines\",\"x\":[0.07981090222199161,-0.9371238280034792],\"y\":[-1.7646659242517428,-2.5171281410624324],\"z\":[-3.4985076458964524,-3.142161234371382],\"type\":\"scatter3d\"},{\"line\":{\"color\":\"black\",\"width\":3},\"mode\":\"lines\",\"x\":[0.07981090222199161,-0.36576563546626717],\"y\":[-1.7646659242517428,-0.6648227068394332],\"z\":[-3.4985076458964524,-4.063437848425902],\"type\":\"scatter3d\"},{\"line\":{\"color\":\"black\",\"width\":3},\"mode\":\"lines\",\"x\":[0.07981090222199161,0.7674347849592824],\"y\":[-1.7646659242517428,-2.3644185454751483],\"z\":[-3.4985076458964524,-4.277911385446725],\"type\":\"scatter3d\"},{\"line\":{\"color\":\"black\",\"width\":3},\"mode\":\"lines\",\"x\":[0.7674347849592824,1.7843695287948687],\"y\":[-2.3644185454751483,-1.6119566295921117],\"z\":[-4.277911385446725,-4.634258393570664],\"type\":\"scatter3d\"},{\"line\":{\"color\":\"black\",\"width\":3},\"mode\":\"lines\",\"x\":[0.7674347849592824,1.2130112698525135],\"y\":[-2.3644185454751483,-3.464260595558395],\"z\":[-4.277911385446725,-3.7129788686494027],\"type\":\"scatter3d\"},{\"line\":{\"color\":\"black\",\"width\":3},\"mode\":\"lines\",\"x\":[0.7674347849592824,0.11971635333298702],\"y\":[-2.3644185454751483,-2.6469988863776157],\"z\":[-4.277911385446725,-5.24776146884468],\"type\":\"scatter3d\"},{\"line\":{\"color\":\"black\",\"width\":3},\"mode\":\"lines\",\"x\":[0.11971635333298702,-0.8972183768924832],\"y\":[-2.6469988863776157,-3.3994611031883046],\"z\":[-5.24776146884468,-4.891415057319609],\"type\":\"scatter3d\"},{\"line\":{\"color\":\"black\",\"width\":3},\"mode\":\"lines\",\"x\":[0.11971635333298702,-0.325860184355271],\"y\":[-2.6469988863776157,-1.5471556689653054],\"z\":[-5.24776146884468,-5.81269167137413],\"type\":\"scatter3d\"},{\"line\":{\"color\":\"black\",\"width\":3},\"mode\":\"lines\",\"x\":[0.11971635333298702,0.8073402360702788],\"y\":[-2.6469988863776157,-3.2467515076010205],\"z\":[-5.24776146884468,-6.027165208394953],\"type\":\"scatter3d\"},{\"line\":{\"color\":\"black\",\"width\":3},\"mode\":\"lines\",\"x\":[-0.8972183768924832,-1.279598195899887],\"y\":[-3.3994611031883046,-4.716382390751652],\"z\":[-4.891415057319609,-5.7736188975446225],\"type\":\"scatter3d\"},{\"line\":{\"color\":\"black\",\"width\":3},\"mode\":\"lines\",\"x\":[0.8073402360702788,1.827171697571174],\"y\":[-3.2467515076010205,-2.494341690966345],\"z\":[-6.027165208394953,-6.385593222447593],\"type\":\"scatter3d\"},{\"line\":{\"color\":\"black\",\"width\":3},\"mode\":\"lines\",\"x\":[0.8073402360702788,1.25438093745456],\"y\":[-3.2467515076010205,-4.3439074376567195],\"z\":[-6.027165208394953,-5.4198097277508195],\"type\":\"scatter3d\"},{\"line\":{\"color\":\"black\",\"width\":3},\"mode\":\"lines\",\"x\":[-0.2457711283922004,-1.3353998791478827],\"y\":[-3.756216277637847,-4.615765380581463],\"z\":[-7.489074284593028,-6.725046932361814],\"type\":\"scatter3d\"},{\"line\":{\"color\":\"black\",\"width\":3},\"mode\":\"lines\",\"x\":[-0.2457711283922004,0.5350911802599893],\"y\":[-3.756216277637847,-4.601545813257569],\"z\":[-7.489074284593028,-8.309775667977583],\"type\":\"scatter3d\"},{\"line\":{\"color\":\"black\",\"width\":3},\"mode\":\"lines\",\"x\":[-0.2457711283922004,-0.8457892412131413],\"y\":[-3.756216277637847,-2.589962014461171],\"z\":[-7.489074284593028,-8.016055486621168],\"type\":\"scatter3d\"},{\"line\":{\"color\":\"black\",\"width\":3},\"mode\":\"lines\",\"x\":[-1.3353998791478827,-1.279598195899887],\"y\":[-4.615765380581463,-4.716382390751652],\"z\":[-6.725046932361814,-5.7736188975446225],\"type\":\"scatter3d\"}],                        {\"template\":{\"data\":{\"histogram2dcontour\":[{\"type\":\"histogram2dcontour\",\"colorbar\":{\"outlinewidth\":0,\"ticks\":\"\"},\"colorscale\":[[0.0,\"#0d0887\"],[0.1111111111111111,\"#46039f\"],[0.2222222222222222,\"#7201a8\"],[0.3333333333333333,\"#9c179e\"],[0.4444444444444444,\"#bd3786\"],[0.5555555555555556,\"#d8576b\"],[0.6666666666666666,\"#ed7953\"],[0.7777777777777778,\"#fb9f3a\"],[0.8888888888888888,\"#fdca26\"],[1.0,\"#f0f921\"]]}],\"choropleth\":[{\"type\":\"choropleth\",\"colorbar\":{\"outlinewidth\":0,\"ticks\":\"\"}}],\"histogram2d\":[{\"type\":\"histogram2d\",\"colorbar\":{\"outlinewidth\":0,\"ticks\":\"\"},\"colorscale\":[[0.0,\"#0d0887\"],[0.1111111111111111,\"#46039f\"],[0.2222222222222222,\"#7201a8\"],[0.3333333333333333,\"#9c179e\"],[0.4444444444444444,\"#bd3786\"],[0.5555555555555556,\"#d8576b\"],[0.6666666666666666,\"#ed7953\"],[0.7777777777777778,\"#fb9f3a\"],[0.8888888888888888,\"#fdca26\"],[1.0,\"#f0f921\"]]}],\"heatmap\":[{\"type\":\"heatmap\",\"colorbar\":{\"outlinewidth\":0,\"ticks\":\"\"},\"colorscale\":[[0.0,\"#0d0887\"],[0.1111111111111111,\"#46039f\"],[0.2222222222222222,\"#7201a8\"],[0.3333333333333333,\"#9c179e\"],[0.4444444444444444,\"#bd3786\"],[0.5555555555555556,\"#d8576b\"],[0.6666666666666666,\"#ed7953\"],[0.7777777777777778,\"#fb9f3a\"],[0.8888888888888888,\"#fdca26\"],[1.0,\"#f0f921\"]]}],\"heatmapgl\":[{\"type\":\"heatmapgl\",\"colorbar\":{\"outlinewidth\":0,\"ticks\":\"\"},\"colorscale\":[[0.0,\"#0d0887\"],[0.1111111111111111,\"#46039f\"],[0.2222222222222222,\"#7201a8\"],[0.3333333333333333,\"#9c179e\"],[0.4444444444444444,\"#bd3786\"],[0.5555555555555556,\"#d8576b\"],[0.6666666666666666,\"#ed7953\"],[0.7777777777777778,\"#fb9f3a\"],[0.8888888888888888,\"#fdca26\"],[1.0,\"#f0f921\"]]}],\"contourcarpet\":[{\"type\":\"contourcarpet\",\"colorbar\":{\"outlinewidth\":0,\"ticks\":\"\"}}],\"contour\":[{\"type\":\"contour\",\"colorbar\":{\"outlinewidth\":0,\"ticks\":\"\"},\"colorscale\":[[0.0,\"#0d0887\"],[0.1111111111111111,\"#46039f\"],[0.2222222222222222,\"#7201a8\"],[0.3333333333333333,\"#9c179e\"],[0.4444444444444444,\"#bd3786\"],[0.5555555555555556,\"#d8576b\"],[0.6666666666666666,\"#ed7953\"],[0.7777777777777778,\"#fb9f3a\"],[0.8888888888888888,\"#fdca26\"],[1.0,\"#f0f921\"]]}],\"surface\":[{\"type\":\"surface\",\"colorbar\":{\"outlinewidth\":0,\"ticks\":\"\"},\"colorscale\":[[0.0,\"#0d0887\"],[0.1111111111111111,\"#46039f\"],[0.2222222222222222,\"#7201a8\"],[0.3333333333333333,\"#9c179e\"],[0.4444444444444444,\"#bd3786\"],[0.5555555555555556,\"#d8576b\"],[0.6666666666666666,\"#ed7953\"],[0.7777777777777778,\"#fb9f3a\"],[0.8888888888888888,\"#fdca26\"],[1.0,\"#f0f921\"]]}],\"mesh3d\":[{\"type\":\"mesh3d\",\"colorbar\":{\"outlinewidth\":0,\"ticks\":\"\"}}],\"scatter\":[{\"fillpattern\":{\"fillmode\":\"overlay\",\"size\":10,\"solidity\":0.2},\"type\":\"scatter\"}],\"parcoords\":[{\"type\":\"parcoords\",\"line\":{\"colorbar\":{\"outlinewidth\":0,\"ticks\":\"\"}}}],\"scatterpolargl\":[{\"type\":\"scatterpolargl\",\"marker\":{\"colorbar\":{\"outlinewidth\":0,\"ticks\":\"\"}}}],\"bar\":[{\"error_x\":{\"color\":\"#2a3f5f\"},\"error_y\":{\"color\":\"#2a3f5f\"},\"marker\":{\"line\":{\"color\":\"#E5ECF6\",\"width\":0.5},\"pattern\":{\"fillmode\":\"overlay\",\"size\":10,\"solidity\":0.2}},\"type\":\"bar\"}],\"scattergeo\":[{\"type\":\"scattergeo\",\"marker\":{\"colorbar\":{\"outlinewidth\":0,\"ticks\":\"\"}}}],\"scatterpolar\":[{\"type\":\"scatterpolar\",\"marker\":{\"colorbar\":{\"outlinewidth\":0,\"ticks\":\"\"}}}],\"histogram\":[{\"marker\":{\"pattern\":{\"fillmode\":\"overlay\",\"size\":10,\"solidity\":0.2}},\"type\":\"histogram\"}],\"scattergl\":[{\"type\":\"scattergl\",\"marker\":{\"colorbar\":{\"outlinewidth\":0,\"ticks\":\"\"}}}],\"scatter3d\":[{\"type\":\"scatter3d\",\"line\":{\"colorbar\":{\"outlinewidth\":0,\"ticks\":\"\"}},\"marker\":{\"colorbar\":{\"outlinewidth\":0,\"ticks\":\"\"}}}],\"scattermapbox\":[{\"type\":\"scattermapbox\",\"marker\":{\"colorbar\":{\"outlinewidth\":0,\"ticks\":\"\"}}}],\"scatterternary\":[{\"type\":\"scatterternary\",\"marker\":{\"colorbar\":{\"outlinewidth\":0,\"ticks\":\"\"}}}],\"scattercarpet\":[{\"type\":\"scattercarpet\",\"marker\":{\"colorbar\":{\"outlinewidth\":0,\"ticks\":\"\"}}}],\"carpet\":[{\"aaxis\":{\"endlinecolor\":\"#2a3f5f\",\"gridcolor\":\"white\",\"linecolor\":\"white\",\"minorgridcolor\":\"white\",\"startlinecolor\":\"#2a3f5f\"},\"baxis\":{\"endlinecolor\":\"#2a3f5f\",\"gridcolor\":\"white\",\"linecolor\":\"white\",\"minorgridcolor\":\"white\",\"startlinecolor\":\"#2a3f5f\"},\"type\":\"carpet\"}],\"table\":[{\"cells\":{\"fill\":{\"color\":\"#EBF0F8\"},\"line\":{\"color\":\"white\"}},\"header\":{\"fill\":{\"color\":\"#C8D4E3\"},\"line\":{\"color\":\"white\"}},\"type\":\"table\"}],\"barpolar\":[{\"marker\":{\"line\":{\"color\":\"#E5ECF6\",\"width\":0.5},\"pattern\":{\"fillmode\":\"overlay\",\"size\":10,\"solidity\":0.2}},\"type\":\"barpolar\"}],\"pie\":[{\"automargin\":true,\"type\":\"pie\"}]},\"layout\":{\"autotypenumbers\":\"strict\",\"colorway\":[\"#636efa\",\"#EF553B\",\"#00cc96\",\"#ab63fa\",\"#FFA15A\",\"#19d3f3\",\"#FF6692\",\"#B6E880\",\"#FF97FF\",\"#FECB52\"],\"font\":{\"color\":\"#2a3f5f\"},\"hovermode\":\"closest\",\"hoverlabel\":{\"align\":\"left\"},\"paper_bgcolor\":\"white\",\"plot_bgcolor\":\"#E5ECF6\",\"polar\":{\"bgcolor\":\"#E5ECF6\",\"angularaxis\":{\"gridcolor\":\"white\",\"linecolor\":\"white\",\"ticks\":\"\"},\"radialaxis\":{\"gridcolor\":\"white\",\"linecolor\":\"white\",\"ticks\":\"\"}},\"ternary\":{\"bgcolor\":\"#E5ECF6\",\"aaxis\":{\"gridcolor\":\"white\",\"linecolor\":\"white\",\"ticks\":\"\"},\"baxis\":{\"gridcolor\":\"white\",\"linecolor\":\"white\",\"ticks\":\"\"},\"caxis\":{\"gridcolor\":\"white\",\"linecolor\":\"white\",\"ticks\":\"\"}},\"coloraxis\":{\"colorbar\":{\"outlinewidth\":0,\"ticks\":\"\"}},\"colorscale\":{\"sequential\":[[0.0,\"#0d0887\"],[0.1111111111111111,\"#46039f\"],[0.2222222222222222,\"#7201a8\"],[0.3333333333333333,\"#9c179e\"],[0.4444444444444444,\"#bd3786\"],[0.5555555555555556,\"#d8576b\"],[0.6666666666666666,\"#ed7953\"],[0.7777777777777778,\"#fb9f3a\"],[0.8888888888888888,\"#fdca26\"],[1.0,\"#f0f921\"]],\"sequentialminus\":[[0.0,\"#0d0887\"],[0.1111111111111111,\"#46039f\"],[0.2222222222222222,\"#7201a8\"],[0.3333333333333333,\"#9c179e\"],[0.4444444444444444,\"#bd3786\"],[0.5555555555555556,\"#d8576b\"],[0.6666666666666666,\"#ed7953\"],[0.7777777777777778,\"#fb9f3a\"],[0.8888888888888888,\"#fdca26\"],[1.0,\"#f0f921\"]],\"diverging\":[[0,\"#8e0152\"],[0.1,\"#c51b7d\"],[0.2,\"#de77ae\"],[0.3,\"#f1b6da\"],[0.4,\"#fde0ef\"],[0.5,\"#f7f7f7\"],[0.6,\"#e6f5d0\"],[0.7,\"#b8e186\"],[0.8,\"#7fbc41\"],[0.9,\"#4d9221\"],[1,\"#276419\"]]},\"xaxis\":{\"gridcolor\":\"white\",\"linecolor\":\"white\",\"ticks\":\"\",\"title\":{\"standoff\":15},\"zerolinecolor\":\"white\",\"automargin\":true,\"zerolinewidth\":2},\"yaxis\":{\"gridcolor\":\"white\",\"linecolor\":\"white\",\"ticks\":\"\",\"title\":{\"standoff\":15},\"zerolinecolor\":\"white\",\"automargin\":true,\"zerolinewidth\":2},\"scene\":{\"xaxis\":{\"backgroundcolor\":\"#E5ECF6\",\"gridcolor\":\"white\",\"linecolor\":\"white\",\"showbackground\":true,\"ticks\":\"\",\"zerolinecolor\":\"white\",\"gridwidth\":2},\"yaxis\":{\"backgroundcolor\":\"#E5ECF6\",\"gridcolor\":\"white\",\"linecolor\":\"white\",\"showbackground\":true,\"ticks\":\"\",\"zerolinecolor\":\"white\",\"gridwidth\":2},\"zaxis\":{\"backgroundcolor\":\"#E5ECF6\",\"gridcolor\":\"white\",\"linecolor\":\"white\",\"showbackground\":true,\"ticks\":\"\",\"zerolinecolor\":\"white\",\"gridwidth\":2}},\"shapedefaults\":{\"line\":{\"color\":\"#2a3f5f\"}},\"annotationdefaults\":{\"arrowcolor\":\"#2a3f5f\",\"arrowhead\":0,\"arrowwidth\":1},\"geo\":{\"bgcolor\":\"white\",\"landcolor\":\"#E5ECF6\",\"subunitcolor\":\"white\",\"showland\":true,\"showlakes\":true,\"lakecolor\":\"white\"},\"title\":{\"x\":0.05},\"mapbox\":{\"style\":\"light\"}}},\"scene\":{\"xaxis\":{\"showbackground\":false,\"showgrid\":true,\"zeroline\":true,\"gridcolor\":\"red\",\"zerolinecolor\":\"green\"},\"yaxis\":{\"showbackground\":false,\"showgrid\":true,\"zeroline\":true,\"gridcolor\":\"red\",\"zerolinecolor\":\"green\"},\"zaxis\":{\"showbackground\":false,\"showgrid\":true,\"zeroline\":true,\"gridcolor\":\"red\",\"zerolinecolor\":\"green\"},\"aspectmode\":\"data\"},\"margin\":{\"l\":50,\"r\":50,\"b\":100,\"t\":100,\"pad\":10},\"showlegend\":false,\"width\":500,\"height\":500,\"autosize\":false,\"paper_bgcolor\":\"rgba(140,140,140,0.5)\",\"plot_bgcolor\":\"rgba(0,100,140,0.5)\"},                        {\"responsive\": true}                    ).then(function(){\n",
       "                            \n",
       "var gd = document.getElementById('cd0361c2-0be0-4819-9087-5b2f70d69f4a');\n",
       "var x = new MutationObserver(function (mutations, observer) {{\n",
       "        var display = window.getComputedStyle(gd).display;\n",
       "        if (!display || display === 'none') {{\n",
       "            console.log([gd, 'removed!']);\n",
       "            Plotly.purge(gd);\n",
       "            observer.disconnect();\n",
       "        }}\n",
       "}});\n",
       "\n",
       "// Listen for the removal of the full notebook cells\n",
       "var notebookContainer = gd.closest('#notebook-container');\n",
       "if (notebookContainer) {{\n",
       "    x.observe(notebookContainer, {childList: true});\n",
       "}}\n",
       "\n",
       "// Listen for the clearing of the current output cell\n",
       "var outputEl = gd.closest('.output');\n",
       "if (outputEl) {{\n",
       "    x.observe(outputEl, {childList: true});\n",
       "}}\n",
       "\n",
       "                        })                };                });            </script>        </div>"
      ]
     },
     "metadata": {},
     "output_type": "display_data"
    },
    {
     "name": "stdout",
     "output_type": "stream",
     "text": [
      "shown below: HSO3_CF2_5_CF_CF2_1_CF3\n"
     ]
    },
    {
     "data": {
      "application/vnd.plotly.v1+json": {
       "config": {
        "plotlyServerURL": "https://plot.ly"
       },
       "data": [
        {
         "hoverinfo": "text",
         "marker": {
          "color": [
           "black",
           "lime",
           "lime",
           "lime",
           "black",
           "lime",
           "lime",
           "black",
           "lime",
           "black",
           "lime",
           "lime",
           "black",
           "lime",
           "lime",
           "black",
           "lime",
           "lime",
           "black",
           "lime",
           "lime",
           "black",
           "lime",
           "lime",
           "yellow",
           "red",
           "red",
           "red",
           "white"
          ],
          "colorscale": [
           [
            0,
            "#440154"
           ],
           [
            0.1111111111111111,
            "#482878"
           ],
           [
            0.2222222222222222,
            "#3e4989"
           ],
           [
            0.3333333333333333,
            "#31688e"
           ],
           [
            0.4444444444444444,
            "#26828e"
           ],
           [
            0.5555555555555556,
            "#1f9e89"
           ],
           [
            0.6666666666666666,
            "#35b779"
           ],
           [
            0.7777777777777778,
            "#6ece58"
           ],
           [
            0.8888888888888888,
            "#b5de2b"
           ],
           [
            1,
            "#fde725"
           ]
          ],
          "opacity": 0.8,
          "size": 3
         },
         "mode": "markers",
         "text": [
          "C1",
          "F2",
          "F3",
          "F4",
          "C5",
          "F6",
          "F7",
          "C8",
          "F10",
          "C11",
          "F12",
          "F13",
          "C14",
          "F15",
          "F16",
          "C17",
          "F18",
          "F19",
          "C20",
          "F21",
          "F22",
          "C23",
          "F24",
          "F25",
          "S26",
          "O27",
          "O28",
          "O29",
          "H30"
         ],
         "type": "scatter3d",
         "x": [
          0,
          -1.0169347302254699,
          -0.44557653768826,
          0.70940447840478,
          0.6876238827372908,
          1.7045586265728767,
          1.1332003676305231,
          0.03990545111099586,
          -0.4056710865772636,
          0.7275293338482864,
          1.744464077683873,
          1.1731058187415182,
          0.07981090222199161,
          -0.9371238280034792,
          -0.36576563546626717,
          0.7674347849592824,
          1.7843695287948687,
          1.2130112698525135,
          0.11971635333298702,
          -0.8972183768924832,
          -0.325860184355271,
          0.8073402360702788,
          1.827171697571174,
          1.25438093745456,
          -0.2457711283922004,
          -1.3353998791478827,
          0.5350911802599893,
          -0.8457892412131413,
          -1.279598195899887
         ],
         "y": [
          0,
          -0.75246221681069,
          1.09984321741231,
          0.30949213355259003,
          -0.5997526212234046,
          0.15270929465963212,
          -1.6995946713066508,
          -0.8823329621258713,
          0.21751025528643853,
          -1.482085583349276,
          -0.7296236674662399,
          -2.5819276334325223,
          -1.7646659242517428,
          -2.5171281410624324,
          -0.6648227068394332,
          -2.3644185454751483,
          -1.6119566295921117,
          -3.464260595558395,
          -2.6469988863776157,
          -3.3994611031883046,
          -1.5471556689653054,
          -3.2467515076010205,
          -2.494341690966345,
          -4.3439074376567195,
          -3.756216277637847,
          -4.615765380581463,
          -4.601545813257569,
          -2.589962014461171,
          -4.716382390751652
         ],
         "z": [
          0,
          0.35634641152507,
          -0.5649302025294499,
          1.06221462745206,
          -0.7794037395502719,
          -1.1357507476742115,
          -0.21447122275294894,
          -1.7492538229482257,
          -2.3141840254776755,
          -2.5286575624984975,
          -2.8850045706224368,
          -1.963725045701175,
          -3.4985076458964524,
          -3.142161234371382,
          -4.063437848425902,
          -4.277911385446725,
          -4.634258393570664,
          -3.7129788686494027,
          -5.24776146884468,
          -4.891415057319609,
          -5.81269167137413,
          -6.027165208394953,
          -6.385593222447593,
          -5.4198097277508195,
          -7.489074284593028,
          -6.725046932361814,
          -8.309775667977583,
          -8.016055486621168,
          -5.7736188975446225
         ]
        },
        {
         "line": {
          "color": "black",
          "width": 3
         },
         "mode": "lines",
         "type": "scatter3d",
         "x": [
          0,
          -1.0169347302254699
         ],
         "y": [
          0,
          -0.75246221681069
         ],
         "z": [
          0,
          0.35634641152507
         ]
        },
        {
         "line": {
          "color": "black",
          "width": 3
         },
         "mode": "lines",
         "type": "scatter3d",
         "x": [
          0,
          -0.44557653768826
         ],
         "y": [
          0,
          1.09984321741231
         ],
         "z": [
          0,
          -0.5649302025294499
         ]
        },
        {
         "line": {
          "color": "black",
          "width": 3
         },
         "mode": "lines",
         "type": "scatter3d",
         "x": [
          0,
          0.70940447840478
         ],
         "y": [
          0,
          0.30949213355259003
         ],
         "z": [
          0,
          1.06221462745206
         ]
        },
        {
         "line": {
          "color": "black",
          "width": 3
         },
         "mode": "lines",
         "type": "scatter3d",
         "x": [
          0,
          0.6876238827372908
         ],
         "y": [
          0,
          -0.5997526212234046
         ],
         "z": [
          0,
          -0.7794037395502719
         ]
        },
        {
         "line": {
          "color": "black",
          "width": 3
         },
         "mode": "lines",
         "type": "scatter3d",
         "x": [
          0.6876238827372908,
          1.7045586265728767
         ],
         "y": [
          -0.5997526212234046,
          0.15270929465963212
         ],
         "z": [
          -0.7794037395502719,
          -1.1357507476742115
         ]
        },
        {
         "line": {
          "color": "black",
          "width": 3
         },
         "mode": "lines",
         "type": "scatter3d",
         "x": [
          0.6876238827372908,
          1.1332003676305231
         ],
         "y": [
          -0.5997526212234046,
          -1.6995946713066508
         ],
         "z": [
          -0.7794037395502719,
          -0.21447122275294894
         ]
        },
        {
         "line": {
          "color": "black",
          "width": 3
         },
         "mode": "lines",
         "type": "scatter3d",
         "x": [
          0.6876238827372908,
          0.03990545111099586
         ],
         "y": [
          -0.5997526212234046,
          -0.8823329621258713
         ],
         "z": [
          -0.7794037395502719,
          -1.7492538229482257
         ]
        },
        {
         "line": {
          "color": "black",
          "width": 3
         },
         "mode": "lines",
         "type": "scatter3d",
         "x": [
          0.03990545111099586,
          -0.4056710865772636
         ],
         "y": [
          -0.8823329621258713,
          0.21751025528643853
         ],
         "z": [
          -1.7492538229482257,
          -2.3141840254776755
         ]
        },
        {
         "line": {
          "color": "black",
          "width": 3
         },
         "mode": "lines",
         "type": "scatter3d",
         "x": [
          0.03990545111099586,
          0.7275293338482864
         ],
         "y": [
          -0.8823329621258713,
          -1.482085583349276
         ],
         "z": [
          -1.7492538229482257,
          -2.5286575624984975
         ]
        },
        {
         "line": {
          "color": "black",
          "width": 3
         },
         "mode": "lines",
         "type": "scatter3d",
         "x": [
          0.7275293338482864,
          1.744464077683873
         ],
         "y": [
          -1.482085583349276,
          -0.7296236674662399
         ],
         "z": [
          -2.5286575624984975,
          -2.8850045706224368
         ]
        },
        {
         "line": {
          "color": "black",
          "width": 3
         },
         "mode": "lines",
         "type": "scatter3d",
         "x": [
          0.7275293338482864,
          1.1731058187415182
         ],
         "y": [
          -1.482085583349276,
          -2.5819276334325223
         ],
         "z": [
          -2.5286575624984975,
          -1.963725045701175
         ]
        },
        {
         "line": {
          "color": "black",
          "width": 3
         },
         "mode": "lines",
         "type": "scatter3d",
         "x": [
          0.7275293338482864,
          0.07981090222199161
         ],
         "y": [
          -1.482085583349276,
          -1.7646659242517428
         ],
         "z": [
          -2.5286575624984975,
          -3.4985076458964524
         ]
        },
        {
         "line": {
          "color": "black",
          "width": 3
         },
         "mode": "lines",
         "type": "scatter3d",
         "x": [
          0.07981090222199161,
          -0.9371238280034792
         ],
         "y": [
          -1.7646659242517428,
          -2.5171281410624324
         ],
         "z": [
          -3.4985076458964524,
          -3.142161234371382
         ]
        },
        {
         "line": {
          "color": "black",
          "width": 3
         },
         "mode": "lines",
         "type": "scatter3d",
         "x": [
          0.07981090222199161,
          -0.36576563546626717
         ],
         "y": [
          -1.7646659242517428,
          -0.6648227068394332
         ],
         "z": [
          -3.4985076458964524,
          -4.063437848425902
         ]
        },
        {
         "line": {
          "color": "black",
          "width": 3
         },
         "mode": "lines",
         "type": "scatter3d",
         "x": [
          0.07981090222199161,
          0.7674347849592824
         ],
         "y": [
          -1.7646659242517428,
          -2.3644185454751483
         ],
         "z": [
          -3.4985076458964524,
          -4.277911385446725
         ]
        },
        {
         "line": {
          "color": "black",
          "width": 3
         },
         "mode": "lines",
         "type": "scatter3d",
         "x": [
          0.7674347849592824,
          1.7843695287948687
         ],
         "y": [
          -2.3644185454751483,
          -1.6119566295921117
         ],
         "z": [
          -4.277911385446725,
          -4.634258393570664
         ]
        },
        {
         "line": {
          "color": "black",
          "width": 3
         },
         "mode": "lines",
         "type": "scatter3d",
         "x": [
          0.7674347849592824,
          1.2130112698525135
         ],
         "y": [
          -2.3644185454751483,
          -3.464260595558395
         ],
         "z": [
          -4.277911385446725,
          -3.7129788686494027
         ]
        },
        {
         "line": {
          "color": "black",
          "width": 3
         },
         "mode": "lines",
         "type": "scatter3d",
         "x": [
          0.7674347849592824,
          0.11971635333298702
         ],
         "y": [
          -2.3644185454751483,
          -2.6469988863776157
         ],
         "z": [
          -4.277911385446725,
          -5.24776146884468
         ]
        },
        {
         "line": {
          "color": "black",
          "width": 3
         },
         "mode": "lines",
         "type": "scatter3d",
         "x": [
          0.11971635333298702,
          -0.8972183768924832
         ],
         "y": [
          -2.6469988863776157,
          -3.3994611031883046
         ],
         "z": [
          -5.24776146884468,
          -4.891415057319609
         ]
        },
        {
         "line": {
          "color": "black",
          "width": 3
         },
         "mode": "lines",
         "type": "scatter3d",
         "x": [
          0.11971635333298702,
          -0.325860184355271
         ],
         "y": [
          -2.6469988863776157,
          -1.5471556689653054
         ],
         "z": [
          -5.24776146884468,
          -5.81269167137413
         ]
        },
        {
         "line": {
          "color": "black",
          "width": 3
         },
         "mode": "lines",
         "type": "scatter3d",
         "x": [
          0.11971635333298702,
          0.8073402360702788
         ],
         "y": [
          -2.6469988863776157,
          -3.2467515076010205
         ],
         "z": [
          -5.24776146884468,
          -6.027165208394953
         ]
        },
        {
         "line": {
          "color": "black",
          "width": 3
         },
         "mode": "lines",
         "type": "scatter3d",
         "x": [
          -0.8972183768924832,
          -1.279598195899887
         ],
         "y": [
          -3.3994611031883046,
          -4.716382390751652
         ],
         "z": [
          -4.891415057319609,
          -5.7736188975446225
         ]
        },
        {
         "line": {
          "color": "black",
          "width": 3
         },
         "mode": "lines",
         "type": "scatter3d",
         "x": [
          0.8073402360702788,
          1.827171697571174
         ],
         "y": [
          -3.2467515076010205,
          -2.494341690966345
         ],
         "z": [
          -6.027165208394953,
          -6.385593222447593
         ]
        },
        {
         "line": {
          "color": "black",
          "width": 3
         },
         "mode": "lines",
         "type": "scatter3d",
         "x": [
          0.8073402360702788,
          1.25438093745456
         ],
         "y": [
          -3.2467515076010205,
          -4.3439074376567195
         ],
         "z": [
          -6.027165208394953,
          -5.4198097277508195
         ]
        },
        {
         "line": {
          "color": "black",
          "width": 3
         },
         "mode": "lines",
         "type": "scatter3d",
         "x": [
          -0.2457711283922004,
          -1.3353998791478827
         ],
         "y": [
          -3.756216277637847,
          -4.615765380581463
         ],
         "z": [
          -7.489074284593028,
          -6.725046932361814
         ]
        },
        {
         "line": {
          "color": "black",
          "width": 3
         },
         "mode": "lines",
         "type": "scatter3d",
         "x": [
          -0.2457711283922004,
          0.5350911802599893
         ],
         "y": [
          -3.756216277637847,
          -4.601545813257569
         ],
         "z": [
          -7.489074284593028,
          -8.309775667977583
         ]
        },
        {
         "line": {
          "color": "black",
          "width": 3
         },
         "mode": "lines",
         "type": "scatter3d",
         "x": [
          -0.2457711283922004,
          -0.8457892412131413
         ],
         "y": [
          -3.756216277637847,
          -2.589962014461171
         ],
         "z": [
          -7.489074284593028,
          -8.016055486621168
         ]
        },
        {
         "line": {
          "color": "black",
          "width": 3
         },
         "mode": "lines",
         "type": "scatter3d",
         "x": [
          -1.3353998791478827,
          -1.279598195899887
         ],
         "y": [
          -4.615765380581463,
          -4.716382390751652
         ],
         "z": [
          -6.725046932361814,
          -5.7736188975446225
         ]
        }
       ],
       "layout": {
        "autosize": false,
        "height": 500,
        "margin": {
         "b": 100,
         "l": 50,
         "pad": 10,
         "r": 50,
         "t": 100
        },
        "paper_bgcolor": "rgba(140,140,140,0.5)",
        "plot_bgcolor": "rgba(0,100,140,0.5)",
        "scene": {
         "aspectmode": "data",
         "aspectratio": {
          "x": 0.5682453416314863,
          "y": 1.0450492668835267,
          "z": 1.683942860423198
         },
         "xaxis": {
          "gridcolor": "red",
          "showbackground": false,
          "showgrid": true,
          "type": "linear",
          "zeroline": true,
          "zerolinecolor": "green"
         },
         "yaxis": {
          "gridcolor": "red",
          "showbackground": false,
          "showgrid": true,
          "type": "linear",
          "zeroline": true,
          "zerolinecolor": "green"
         },
         "zaxis": {
          "gridcolor": "red",
          "showbackground": false,
          "showgrid": true,
          "type": "linear",
          "zeroline": true,
          "zerolinecolor": "green"
         }
        },
        "showlegend": false,
        "template": {
         "data": {
          "bar": [
           {
            "error_x": {
             "color": "#2a3f5f"
            },
            "error_y": {
             "color": "#2a3f5f"
            },
            "marker": {
             "line": {
              "color": "#E5ECF6",
              "width": 0.5
             },
             "pattern": {
              "fillmode": "overlay",
              "size": 10,
              "solidity": 0.2
             }
            },
            "type": "bar"
           }
          ],
          "barpolar": [
           {
            "marker": {
             "line": {
              "color": "#E5ECF6",
              "width": 0.5
             },
             "pattern": {
              "fillmode": "overlay",
              "size": 10,
              "solidity": 0.2
             }
            },
            "type": "barpolar"
           }
          ],
          "carpet": [
           {
            "aaxis": {
             "endlinecolor": "#2a3f5f",
             "gridcolor": "white",
             "linecolor": "white",
             "minorgridcolor": "white",
             "startlinecolor": "#2a3f5f"
            },
            "baxis": {
             "endlinecolor": "#2a3f5f",
             "gridcolor": "white",
             "linecolor": "white",
             "minorgridcolor": "white",
             "startlinecolor": "#2a3f5f"
            },
            "type": "carpet"
           }
          ],
          "choropleth": [
           {
            "colorbar": {
             "outlinewidth": 0,
             "ticks": ""
            },
            "type": "choropleth"
           }
          ],
          "contour": [
           {
            "colorbar": {
             "outlinewidth": 0,
             "ticks": ""
            },
            "colorscale": [
             [
              0,
              "#0d0887"
             ],
             [
              0.1111111111111111,
              "#46039f"
             ],
             [
              0.2222222222222222,
              "#7201a8"
             ],
             [
              0.3333333333333333,
              "#9c179e"
             ],
             [
              0.4444444444444444,
              "#bd3786"
             ],
             [
              0.5555555555555556,
              "#d8576b"
             ],
             [
              0.6666666666666666,
              "#ed7953"
             ],
             [
              0.7777777777777778,
              "#fb9f3a"
             ],
             [
              0.8888888888888888,
              "#fdca26"
             ],
             [
              1,
              "#f0f921"
             ]
            ],
            "type": "contour"
           }
          ],
          "contourcarpet": [
           {
            "colorbar": {
             "outlinewidth": 0,
             "ticks": ""
            },
            "type": "contourcarpet"
           }
          ],
          "heatmap": [
           {
            "colorbar": {
             "outlinewidth": 0,
             "ticks": ""
            },
            "colorscale": [
             [
              0,
              "#0d0887"
             ],
             [
              0.1111111111111111,
              "#46039f"
             ],
             [
              0.2222222222222222,
              "#7201a8"
             ],
             [
              0.3333333333333333,
              "#9c179e"
             ],
             [
              0.4444444444444444,
              "#bd3786"
             ],
             [
              0.5555555555555556,
              "#d8576b"
             ],
             [
              0.6666666666666666,
              "#ed7953"
             ],
             [
              0.7777777777777778,
              "#fb9f3a"
             ],
             [
              0.8888888888888888,
              "#fdca26"
             ],
             [
              1,
              "#f0f921"
             ]
            ],
            "type": "heatmap"
           }
          ],
          "heatmapgl": [
           {
            "colorbar": {
             "outlinewidth": 0,
             "ticks": ""
            },
            "colorscale": [
             [
              0,
              "#0d0887"
             ],
             [
              0.1111111111111111,
              "#46039f"
             ],
             [
              0.2222222222222222,
              "#7201a8"
             ],
             [
              0.3333333333333333,
              "#9c179e"
             ],
             [
              0.4444444444444444,
              "#bd3786"
             ],
             [
              0.5555555555555556,
              "#d8576b"
             ],
             [
              0.6666666666666666,
              "#ed7953"
             ],
             [
              0.7777777777777778,
              "#fb9f3a"
             ],
             [
              0.8888888888888888,
              "#fdca26"
             ],
             [
              1,
              "#f0f921"
             ]
            ],
            "type": "heatmapgl"
           }
          ],
          "histogram": [
           {
            "marker": {
             "pattern": {
              "fillmode": "overlay",
              "size": 10,
              "solidity": 0.2
             }
            },
            "type": "histogram"
           }
          ],
          "histogram2d": [
           {
            "colorbar": {
             "outlinewidth": 0,
             "ticks": ""
            },
            "colorscale": [
             [
              0,
              "#0d0887"
             ],
             [
              0.1111111111111111,
              "#46039f"
             ],
             [
              0.2222222222222222,
              "#7201a8"
             ],
             [
              0.3333333333333333,
              "#9c179e"
             ],
             [
              0.4444444444444444,
              "#bd3786"
             ],
             [
              0.5555555555555556,
              "#d8576b"
             ],
             [
              0.6666666666666666,
              "#ed7953"
             ],
             [
              0.7777777777777778,
              "#fb9f3a"
             ],
             [
              0.8888888888888888,
              "#fdca26"
             ],
             [
              1,
              "#f0f921"
             ]
            ],
            "type": "histogram2d"
           }
          ],
          "histogram2dcontour": [
           {
            "colorbar": {
             "outlinewidth": 0,
             "ticks": ""
            },
            "colorscale": [
             [
              0,
              "#0d0887"
             ],
             [
              0.1111111111111111,
              "#46039f"
             ],
             [
              0.2222222222222222,
              "#7201a8"
             ],
             [
              0.3333333333333333,
              "#9c179e"
             ],
             [
              0.4444444444444444,
              "#bd3786"
             ],
             [
              0.5555555555555556,
              "#d8576b"
             ],
             [
              0.6666666666666666,
              "#ed7953"
             ],
             [
              0.7777777777777778,
              "#fb9f3a"
             ],
             [
              0.8888888888888888,
              "#fdca26"
             ],
             [
              1,
              "#f0f921"
             ]
            ],
            "type": "histogram2dcontour"
           }
          ],
          "mesh3d": [
           {
            "colorbar": {
             "outlinewidth": 0,
             "ticks": ""
            },
            "type": "mesh3d"
           }
          ],
          "parcoords": [
           {
            "line": {
             "colorbar": {
              "outlinewidth": 0,
              "ticks": ""
             }
            },
            "type": "parcoords"
           }
          ],
          "pie": [
           {
            "automargin": true,
            "type": "pie"
           }
          ],
          "scatter": [
           {
            "fillpattern": {
             "fillmode": "overlay",
             "size": 10,
             "solidity": 0.2
            },
            "type": "scatter"
           }
          ],
          "scatter3d": [
           {
            "line": {
             "colorbar": {
              "outlinewidth": 0,
              "ticks": ""
             }
            },
            "marker": {
             "colorbar": {
              "outlinewidth": 0,
              "ticks": ""
             }
            },
            "type": "scatter3d"
           }
          ],
          "scattercarpet": [
           {
            "marker": {
             "colorbar": {
              "outlinewidth": 0,
              "ticks": ""
             }
            },
            "type": "scattercarpet"
           }
          ],
          "scattergeo": [
           {
            "marker": {
             "colorbar": {
              "outlinewidth": 0,
              "ticks": ""
             }
            },
            "type": "scattergeo"
           }
          ],
          "scattergl": [
           {
            "marker": {
             "colorbar": {
              "outlinewidth": 0,
              "ticks": ""
             }
            },
            "type": "scattergl"
           }
          ],
          "scattermapbox": [
           {
            "marker": {
             "colorbar": {
              "outlinewidth": 0,
              "ticks": ""
             }
            },
            "type": "scattermapbox"
           }
          ],
          "scatterpolar": [
           {
            "marker": {
             "colorbar": {
              "outlinewidth": 0,
              "ticks": ""
             }
            },
            "type": "scatterpolar"
           }
          ],
          "scatterpolargl": [
           {
            "marker": {
             "colorbar": {
              "outlinewidth": 0,
              "ticks": ""
             }
            },
            "type": "scatterpolargl"
           }
          ],
          "scatterternary": [
           {
            "marker": {
             "colorbar": {
              "outlinewidth": 0,
              "ticks": ""
             }
            },
            "type": "scatterternary"
           }
          ],
          "surface": [
           {
            "colorbar": {
             "outlinewidth": 0,
             "ticks": ""
            },
            "colorscale": [
             [
              0,
              "#0d0887"
             ],
             [
              0.1111111111111111,
              "#46039f"
             ],
             [
              0.2222222222222222,
              "#7201a8"
             ],
             [
              0.3333333333333333,
              "#9c179e"
             ],
             [
              0.4444444444444444,
              "#bd3786"
             ],
             [
              0.5555555555555556,
              "#d8576b"
             ],
             [
              0.6666666666666666,
              "#ed7953"
             ],
             [
              0.7777777777777778,
              "#fb9f3a"
             ],
             [
              0.8888888888888888,
              "#fdca26"
             ],
             [
              1,
              "#f0f921"
             ]
            ],
            "type": "surface"
           }
          ],
          "table": [
           {
            "cells": {
             "fill": {
              "color": "#EBF0F8"
             },
             "line": {
              "color": "white"
             }
            },
            "header": {
             "fill": {
              "color": "#C8D4E3"
             },
             "line": {
              "color": "white"
             }
            },
            "type": "table"
           }
          ]
         },
         "layout": {
          "annotationdefaults": {
           "arrowcolor": "#2a3f5f",
           "arrowhead": 0,
           "arrowwidth": 1
          },
          "autotypenumbers": "strict",
          "coloraxis": {
           "colorbar": {
            "outlinewidth": 0,
            "ticks": ""
           }
          },
          "colorscale": {
           "diverging": [
            [
             0,
             "#8e0152"
            ],
            [
             0.1,
             "#c51b7d"
            ],
            [
             0.2,
             "#de77ae"
            ],
            [
             0.3,
             "#f1b6da"
            ],
            [
             0.4,
             "#fde0ef"
            ],
            [
             0.5,
             "#f7f7f7"
            ],
            [
             0.6,
             "#e6f5d0"
            ],
            [
             0.7,
             "#b8e186"
            ],
            [
             0.8,
             "#7fbc41"
            ],
            [
             0.9,
             "#4d9221"
            ],
            [
             1,
             "#276419"
            ]
           ],
           "sequential": [
            [
             0,
             "#0d0887"
            ],
            [
             0.1111111111111111,
             "#46039f"
            ],
            [
             0.2222222222222222,
             "#7201a8"
            ],
            [
             0.3333333333333333,
             "#9c179e"
            ],
            [
             0.4444444444444444,
             "#bd3786"
            ],
            [
             0.5555555555555556,
             "#d8576b"
            ],
            [
             0.6666666666666666,
             "#ed7953"
            ],
            [
             0.7777777777777778,
             "#fb9f3a"
            ],
            [
             0.8888888888888888,
             "#fdca26"
            ],
            [
             1,
             "#f0f921"
            ]
           ],
           "sequentialminus": [
            [
             0,
             "#0d0887"
            ],
            [
             0.1111111111111111,
             "#46039f"
            ],
            [
             0.2222222222222222,
             "#7201a8"
            ],
            [
             0.3333333333333333,
             "#9c179e"
            ],
            [
             0.4444444444444444,
             "#bd3786"
            ],
            [
             0.5555555555555556,
             "#d8576b"
            ],
            [
             0.6666666666666666,
             "#ed7953"
            ],
            [
             0.7777777777777778,
             "#fb9f3a"
            ],
            [
             0.8888888888888888,
             "#fdca26"
            ],
            [
             1,
             "#f0f921"
            ]
           ]
          },
          "colorway": [
           "#636efa",
           "#EF553B",
           "#00cc96",
           "#ab63fa",
           "#FFA15A",
           "#19d3f3",
           "#FF6692",
           "#B6E880",
           "#FF97FF",
           "#FECB52"
          ],
          "font": {
           "color": "#2a3f5f"
          },
          "geo": {
           "bgcolor": "white",
           "lakecolor": "white",
           "landcolor": "#E5ECF6",
           "showlakes": true,
           "showland": true,
           "subunitcolor": "white"
          },
          "hoverlabel": {
           "align": "left"
          },
          "hovermode": "closest",
          "mapbox": {
           "style": "light"
          },
          "paper_bgcolor": "white",
          "plot_bgcolor": "#E5ECF6",
          "polar": {
           "angularaxis": {
            "gridcolor": "white",
            "linecolor": "white",
            "ticks": ""
           },
           "bgcolor": "#E5ECF6",
           "radialaxis": {
            "gridcolor": "white",
            "linecolor": "white",
            "ticks": ""
           }
          },
          "scene": {
           "xaxis": {
            "backgroundcolor": "#E5ECF6",
            "gridcolor": "white",
            "gridwidth": 2,
            "linecolor": "white",
            "showbackground": true,
            "ticks": "",
            "zerolinecolor": "white"
           },
           "yaxis": {
            "backgroundcolor": "#E5ECF6",
            "gridcolor": "white",
            "gridwidth": 2,
            "linecolor": "white",
            "showbackground": true,
            "ticks": "",
            "zerolinecolor": "white"
           },
           "zaxis": {
            "backgroundcolor": "#E5ECF6",
            "gridcolor": "white",
            "gridwidth": 2,
            "linecolor": "white",
            "showbackground": true,
            "ticks": "",
            "zerolinecolor": "white"
           }
          },
          "shapedefaults": {
           "line": {
            "color": "#2a3f5f"
           }
          },
          "ternary": {
           "aaxis": {
            "gridcolor": "white",
            "linecolor": "white",
            "ticks": ""
           },
           "baxis": {
            "gridcolor": "white",
            "linecolor": "white",
            "ticks": ""
           },
           "bgcolor": "#E5ECF6",
           "caxis": {
            "gridcolor": "white",
            "linecolor": "white",
            "ticks": ""
           }
          },
          "title": {
           "x": 0.05
          },
          "xaxis": {
           "automargin": true,
           "gridcolor": "white",
           "linecolor": "white",
           "ticks": "",
           "title": {
            "standoff": 15
           },
           "zerolinecolor": "white",
           "zerolinewidth": 2
          },
          "yaxis": {
           "automargin": true,
           "gridcolor": "white",
           "linecolor": "white",
           "ticks": "",
           "title": {
            "standoff": 15
           },
           "zerolinecolor": "white",
           "zerolinewidth": 2
          }
         }
        },
        "width": 500
       }
      },
      "image/png": "[encoded data removed]",
      "text/html": [
       "<div>                            <div id=\"5ac115ce-e17f-40af-869c-4a863132038d\" class=\"plotly-graph-div\" style=\"height:500px; width:500px;\"></div>            <script type=\"text/javascript\">                require([\"plotly\"], function(Plotly) {                    window.PLOTLYENV=window.PLOTLYENV || {};                                    if (document.getElementById(\"5ac115ce-e17f-40af-869c-4a863132038d\")) {                    Plotly.newPlot(                        \"5ac115ce-e17f-40af-869c-4a863132038d\",                        [{\"hoverinfo\":\"text\",\"marker\":{\"color\":[\"black\",\"lime\",\"lime\",\"lime\",\"black\",\"lime\",\"lime\",\"black\",\"lime\",\"black\",\"lime\",\"lime\",\"black\",\"lime\",\"lime\",\"black\",\"lime\",\"lime\",\"black\",\"lime\",\"lime\",\"black\",\"lime\",\"lime\",\"yellow\",\"red\",\"red\",\"red\",\"white\"],\"colorscale\":[[0.0,\"#440154\"],[0.1111111111111111,\"#482878\"],[0.2222222222222222,\"#3e4989\"],[0.3333333333333333,\"#31688e\"],[0.4444444444444444,\"#26828e\"],[0.5555555555555556,\"#1f9e89\"],[0.6666666666666666,\"#35b779\"],[0.7777777777777778,\"#6ece58\"],[0.8888888888888888,\"#b5de2b\"],[1.0,\"#fde725\"]],\"opacity\":0.8,\"size\":3},\"mode\":\"markers\",\"text\":[\"C1\",\"F2\",\"F3\",\"F4\",\"C5\",\"F6\",\"F7\",\"C8\",\"F10\",\"C11\",\"F12\",\"F13\",\"C14\",\"F15\",\"F16\",\"C17\",\"F18\",\"F19\",\"C20\",\"F21\",\"F22\",\"C23\",\"F24\",\"F25\",\"S26\",\"O27\",\"O28\",\"O29\",\"H30\"],\"x\":[0.0,-1.0169347302254699,-0.44557653768826,0.70940447840478,0.6876238827372908,1.7045586265728767,1.1332003676305231,0.03990545111099586,-0.4056710865772636,0.7275293338482864,1.744464077683873,1.1731058187415182,0.07981090222199161,-0.9371238280034792,-0.36576563546626717,0.7674347849592824,1.7843695287948687,1.2130112698525135,0.11971635333298702,-0.8972183768924832,-0.325860184355271,0.8073402360702788,1.827171697571174,1.25438093745456,-0.2457711283922004,-1.3353998791478827,0.5350911802599893,-0.8457892412131413,-1.279598195899887],\"y\":[0.0,-0.75246221681069,1.09984321741231,0.30949213355259003,-0.5997526212234046,0.15270929465963212,-1.6995946713066508,-0.8823329621258713,0.21751025528643853,-1.482085583349276,-0.7296236674662399,-2.5819276334325223,-1.7646659242517428,-2.5171281410624324,-0.6648227068394332,-2.3644185454751483,-1.6119566295921117,-3.464260595558395,-2.6469988863776157,-3.3994611031883046,-1.5471556689653054,-3.2467515076010205,-2.494341690966345,-4.3439074376567195,-3.756216277637847,-4.615765380581463,-4.601545813257569,-2.589962014461171,-4.716382390751652],\"z\":[0.0,0.35634641152507,-0.5649302025294499,1.06221462745206,-0.7794037395502719,-1.1357507476742115,-0.21447122275294894,-1.7492538229482257,-2.3141840254776755,-2.5286575624984975,-2.8850045706224368,-1.963725045701175,-3.4985076458964524,-3.142161234371382,-4.063437848425902,-4.277911385446725,-4.634258393570664,-3.7129788686494027,-5.24776146884468,-4.891415057319609,-5.81269167137413,-6.027165208394953,-6.385593222447593,-5.4198097277508195,-7.489074284593028,-6.725046932361814,-8.309775667977583,-8.016055486621168,-5.7736188975446225],\"type\":\"scatter3d\"},{\"line\":{\"color\":\"black\",\"width\":3},\"mode\":\"lines\",\"x\":[0.0,-1.0169347302254699],\"y\":[0.0,-0.75246221681069],\"z\":[0.0,0.35634641152507],\"type\":\"scatter3d\"},{\"line\":{\"color\":\"black\",\"width\":3},\"mode\":\"lines\",\"x\":[0.0,-0.44557653768826],\"y\":[0.0,1.09984321741231],\"z\":[0.0,-0.5649302025294499],\"type\":\"scatter3d\"},{\"line\":{\"color\":\"black\",\"width\":3},\"mode\":\"lines\",\"x\":[0.0,0.70940447840478],\"y\":[0.0,0.30949213355259003],\"z\":[0.0,1.06221462745206],\"type\":\"scatter3d\"},{\"line\":{\"color\":\"black\",\"width\":3},\"mode\":\"lines\",\"x\":[0.0,0.6876238827372908],\"y\":[0.0,-0.5997526212234046],\"z\":[0.0,-0.7794037395502719],\"type\":\"scatter3d\"},{\"line\":{\"color\":\"black\",\"width\":3},\"mode\":\"lines\",\"x\":[0.6876238827372908,1.7045586265728767],\"y\":[-0.5997526212234046,0.15270929465963212],\"z\":[-0.7794037395502719,-1.1357507476742115],\"type\":\"scatter3d\"},{\"line\":{\"color\":\"black\",\"width\":3},\"mode\":\"lines\",\"x\":[0.6876238827372908,1.1332003676305231],\"y\":[-0.5997526212234046,-1.6995946713066508],\"z\":[-0.7794037395502719,-0.21447122275294894],\"type\":\"scatter3d\"},{\"line\":{\"color\":\"black\",\"width\":3},\"mode\":\"lines\",\"x\":[0.6876238827372908,0.03990545111099586],\"y\":[-0.5997526212234046,-0.8823329621258713],\"z\":[-0.7794037395502719,-1.7492538229482257],\"type\":\"scatter3d\"},{\"line\":{\"color\":\"black\",\"width\":3},\"mode\":\"lines\",\"x\":[0.03990545111099586,-0.4056710865772636],\"y\":[-0.8823329621258713,0.21751025528643853],\"z\":[-1.7492538229482257,-2.3141840254776755],\"type\":\"scatter3d\"},{\"line\":{\"color\":\"black\",\"width\":3},\"mode\":\"lines\",\"x\":[0.03990545111099586,0.7275293338482864],\"y\":[-0.8823329621258713,-1.482085583349276],\"z\":[-1.7492538229482257,-2.5286575624984975],\"type\":\"scatter3d\"},{\"line\":{\"color\":\"black\",\"width\":3},\"mode\":\"lines\",\"x\":[0.7275293338482864,1.744464077683873],\"y\":[-1.482085583349276,-0.7296236674662399],\"z\":[-2.5286575624984975,-2.8850045706224368],\"type\":\"scatter3d\"},{\"line\":{\"color\":\"black\",\"width\":3},\"mode\":\"lines\",\"x\":[0.7275293338482864,1.1731058187415182],\"y\":[-1.482085583349276,-2.5819276334325223],\"z\":[-2.5286575624984975,-1.963725045701175],\"type\":\"scatter3d\"},{\"line\":{\"color\":\"black\",\"width\":3},\"mode\":\"lines\",\"x\":[0.7275293338482864,0.07981090222199161],\"y\":[-1.482085583349276,-1.7646659242517428],\"z\":[-2.5286575624984975,-3.4985076458964524],\"type\":\"scatter3d\"},{\"line\":{\"color\":\"black\",\"width\":3},\"mode\":\"lines\",\"x\":[0.07981090222199161,-0.9371238280034792],\"y\":[-1.7646659242517428,-2.5171281410624324],\"z\":[-3.4985076458964524,-3.142161234371382],\"type\":\"scatter3d\"},{\"line\":{\"color\":\"black\",\"width\":3},\"mode\":\"lines\",\"x\":[0.07981090222199161,-0.36576563546626717],\"y\":[-1.7646659242517428,-0.6648227068394332],\"z\":[-3.4985076458964524,-4.063437848425902],\"type\":\"scatter3d\"},{\"line\":{\"color\":\"black\",\"width\":3},\"mode\":\"lines\",\"x\":[0.07981090222199161,0.7674347849592824],\"y\":[-1.7646659242517428,-2.3644185454751483],\"z\":[-3.4985076458964524,-4.277911385446725],\"type\":\"scatter3d\"},{\"line\":{\"color\":\"black\",\"width\":3},\"mode\":\"lines\",\"x\":[0.7674347849592824,1.7843695287948687],\"y\":[-2.3644185454751483,-1.6119566295921117],\"z\":[-4.277911385446725,-4.634258393570664],\"type\":\"scatter3d\"},{\"line\":{\"color\":\"black\",\"width\":3},\"mode\":\"lines\",\"x\":[0.7674347849592824,1.2130112698525135],\"y\":[-2.3644185454751483,-3.464260595558395],\"z\":[-4.277911385446725,-3.7129788686494027],\"type\":\"scatter3d\"},{\"line\":{\"color\":\"black\",\"width\":3},\"mode\":\"lines\",\"x\":[0.7674347849592824,0.11971635333298702],\"y\":[-2.3644185454751483,-2.6469988863776157],\"z\":[-4.277911385446725,-5.24776146884468],\"type\":\"scatter3d\"},{\"line\":{\"color\":\"black\",\"width\":3},\"mode\":\"lines\",\"x\":[0.11971635333298702,-0.8972183768924832],\"y\":[-2.6469988863776157,-3.3994611031883046],\"z\":[-5.24776146884468,-4.891415057319609],\"type\":\"scatter3d\"},{\"line\":{\"color\":\"black\",\"width\":3},\"mode\":\"lines\",\"x\":[0.11971635333298702,-0.325860184355271],\"y\":[-2.6469988863776157,-1.5471556689653054],\"z\":[-5.24776146884468,-5.81269167137413],\"type\":\"scatter3d\"},{\"line\":{\"color\":\"black\",\"width\":3},\"mode\":\"lines\",\"x\":[0.11971635333298702,0.8073402360702788],\"y\":[-2.6469988863776157,-3.2467515076010205],\"z\":[-5.24776146884468,-6.027165208394953],\"type\":\"scatter3d\"},{\"line\":{\"color\":\"black\",\"width\":3},\"mode\":\"lines\",\"x\":[-0.8972183768924832,-1.279598195899887],\"y\":[-3.3994611031883046,-4.716382390751652],\"z\":[-4.891415057319609,-5.7736188975446225],\"type\":\"scatter3d\"},{\"line\":{\"color\":\"black\",\"width\":3},\"mode\":\"lines\",\"x\":[0.8073402360702788,1.827171697571174],\"y\":[-3.2467515076010205,-2.494341690966345],\"z\":[-6.027165208394953,-6.385593222447593],\"type\":\"scatter3d\"},{\"line\":{\"color\":\"black\",\"width\":3},\"mode\":\"lines\",\"x\":[0.8073402360702788,1.25438093745456],\"y\":[-3.2467515076010205,-4.3439074376567195],\"z\":[-6.027165208394953,-5.4198097277508195],\"type\":\"scatter3d\"},{\"line\":{\"color\":\"black\",\"width\":3},\"mode\":\"lines\",\"x\":[-0.2457711283922004,-1.3353998791478827],\"y\":[-3.756216277637847,-4.615765380581463],\"z\":[-7.489074284593028,-6.725046932361814],\"type\":\"scatter3d\"},{\"line\":{\"color\":\"black\",\"width\":3},\"mode\":\"lines\",\"x\":[-0.2457711283922004,0.5350911802599893],\"y\":[-3.756216277637847,-4.601545813257569],\"z\":[-7.489074284593028,-8.309775667977583],\"type\":\"scatter3d\"},{\"line\":{\"color\":\"black\",\"width\":3},\"mode\":\"lines\",\"x\":[-0.2457711283922004,-0.8457892412131413],\"y\":[-3.756216277637847,-2.589962014461171],\"z\":[-7.489074284593028,-8.016055486621168],\"type\":\"scatter3d\"},{\"line\":{\"color\":\"black\",\"width\":3},\"mode\":\"lines\",\"x\":[-1.3353998791478827,-1.279598195899887],\"y\":[-4.615765380581463,-4.716382390751652],\"z\":[-6.725046932361814,-5.7736188975446225],\"type\":\"scatter3d\"}],                        {\"template\":{\"data\":{\"histogram2dcontour\":[{\"type\":\"histogram2dcontour\",\"colorbar\":{\"outlinewidth\":0,\"ticks\":\"\"},\"colorscale\":[[0.0,\"#0d0887\"],[0.1111111111111111,\"#46039f\"],[0.2222222222222222,\"#7201a8\"],[0.3333333333333333,\"#9c179e\"],[0.4444444444444444,\"#bd3786\"],[0.5555555555555556,\"#d8576b\"],[0.6666666666666666,\"#ed7953\"],[0.7777777777777778,\"#fb9f3a\"],[0.8888888888888888,\"#fdca26\"],[1.0,\"#f0f921\"]]}],\"choropleth\":[{\"type\":\"choropleth\",\"colorbar\":{\"outlinewidth\":0,\"ticks\":\"\"}}],\"histogram2d\":[{\"type\":\"histogram2d\",\"colorbar\":{\"outlinewidth\":0,\"ticks\":\"\"},\"colorscale\":[[0.0,\"#0d0887\"],[0.1111111111111111,\"#46039f\"],[0.2222222222222222,\"#7201a8\"],[0.3333333333333333,\"#9c179e\"],[0.4444444444444444,\"#bd3786\"],[0.5555555555555556,\"#d8576b\"],[0.6666666666666666,\"#ed7953\"],[0.7777777777777778,\"#fb9f3a\"],[0.8888888888888888,\"#fdca26\"],[1.0,\"#f0f921\"]]}],\"heatmap\":[{\"type\":\"heatmap\",\"colorbar\":{\"outlinewidth\":0,\"ticks\":\"\"},\"colorscale\":[[0.0,\"#0d0887\"],[0.1111111111111111,\"#46039f\"],[0.2222222222222222,\"#7201a8\"],[0.3333333333333333,\"#9c179e\"],[0.4444444444444444,\"#bd3786\"],[0.5555555555555556,\"#d8576b\"],[0.6666666666666666,\"#ed7953\"],[0.7777777777777778,\"#fb9f3a\"],[0.8888888888888888,\"#fdca26\"],[1.0,\"#f0f921\"]]}],\"heatmapgl\":[{\"type\":\"heatmapgl\",\"colorbar\":{\"outlinewidth\":0,\"ticks\":\"\"},\"colorscale\":[[0.0,\"#0d0887\"],[0.1111111111111111,\"#46039f\"],[0.2222222222222222,\"#7201a8\"],[0.3333333333333333,\"#9c179e\"],[0.4444444444444444,\"#bd3786\"],[0.5555555555555556,\"#d8576b\"],[0.6666666666666666,\"#ed7953\"],[0.7777777777777778,\"#fb9f3a\"],[0.8888888888888888,\"#fdca26\"],[1.0,\"#f0f921\"]]}],\"contourcarpet\":[{\"type\":\"contourcarpet\",\"colorbar\":{\"outlinewidth\":0,\"ticks\":\"\"}}],\"contour\":[{\"type\":\"contour\",\"colorbar\":{\"outlinewidth\":0,\"ticks\":\"\"},\"colorscale\":[[0.0,\"#0d0887\"],[0.1111111111111111,\"#46039f\"],[0.2222222222222222,\"#7201a8\"],[0.3333333333333333,\"#9c179e\"],[0.4444444444444444,\"#bd3786\"],[0.5555555555555556,\"#d8576b\"],[0.6666666666666666,\"#ed7953\"],[0.7777777777777778,\"#fb9f3a\"],[0.8888888888888888,\"#fdca26\"],[1.0,\"#f0f921\"]]}],\"surface\":[{\"type\":\"surface\",\"colorbar\":{\"outlinewidth\":0,\"ticks\":\"\"},\"colorscale\":[[0.0,\"#0d0887\"],[0.1111111111111111,\"#46039f\"],[0.2222222222222222,\"#7201a8\"],[0.3333333333333333,\"#9c179e\"],[0.4444444444444444,\"#bd3786\"],[0.5555555555555556,\"#d8576b\"],[0.6666666666666666,\"#ed7953\"],[0.7777777777777778,\"#fb9f3a\"],[0.8888888888888888,\"#fdca26\"],[1.0,\"#f0f921\"]]}],\"mesh3d\":[{\"type\":\"mesh3d\",\"colorbar\":{\"outlinewidth\":0,\"ticks\":\"\"}}],\"scatter\":[{\"fillpattern\":{\"fillmode\":\"overlay\",\"size\":10,\"solidity\":0.2},\"type\":\"scatter\"}],\"parcoords\":[{\"type\":\"parcoords\",\"line\":{\"colorbar\":{\"outlinewidth\":0,\"ticks\":\"\"}}}],\"scatterpolargl\":[{\"type\":\"scatterpolargl\",\"marker\":{\"colorbar\":{\"outlinewidth\":0,\"ticks\":\"\"}}}],\"bar\":[{\"error_x\":{\"color\":\"#2a3f5f\"},\"error_y\":{\"color\":\"#2a3f5f\"},\"marker\":{\"line\":{\"color\":\"#E5ECF6\",\"width\":0.5},\"pattern\":{\"fillmode\":\"overlay\",\"size\":10,\"solidity\":0.2}},\"type\":\"bar\"}],\"scattergeo\":[{\"type\":\"scattergeo\",\"marker\":{\"colorbar\":{\"outlinewidth\":0,\"ticks\":\"\"}}}],\"scatterpolar\":[{\"type\":\"scatterpolar\",\"marker\":{\"colorbar\":{\"outlinewidth\":0,\"ticks\":\"\"}}}],\"histogram\":[{\"marker\":{\"pattern\":{\"fillmode\":\"overlay\",\"size\":10,\"solidity\":0.2}},\"type\":\"histogram\"}],\"scattergl\":[{\"type\":\"scattergl\",\"marker\":{\"colorbar\":{\"outlinewidth\":0,\"ticks\":\"\"}}}],\"scatter3d\":[{\"type\":\"scatter3d\",\"line\":{\"colorbar\":{\"outlinewidth\":0,\"ticks\":\"\"}},\"marker\":{\"colorbar\":{\"outlinewidth\":0,\"ticks\":\"\"}}}],\"scattermapbox\":[{\"type\":\"scattermapbox\",\"marker\":{\"colorbar\":{\"outlinewidth\":0,\"ticks\":\"\"}}}],\"scatterternary\":[{\"type\":\"scatterternary\",\"marker\":{\"colorbar\":{\"outlinewidth\":0,\"ticks\":\"\"}}}],\"scattercarpet\":[{\"type\":\"scattercarpet\",\"marker\":{\"colorbar\":{\"outlinewidth\":0,\"ticks\":\"\"}}}],\"carpet\":[{\"aaxis\":{\"endlinecolor\":\"#2a3f5f\",\"gridcolor\":\"white\",\"linecolor\":\"white\",\"minorgridcolor\":\"white\",\"startlinecolor\":\"#2a3f5f\"},\"baxis\":{\"endlinecolor\":\"#2a3f5f\",\"gridcolor\":\"white\",\"linecolor\":\"white\",\"minorgridcolor\":\"white\",\"startlinecolor\":\"#2a3f5f\"},\"type\":\"carpet\"}],\"table\":[{\"cells\":{\"fill\":{\"color\":\"#EBF0F8\"},\"line\":{\"color\":\"white\"}},\"header\":{\"fill\":{\"color\":\"#C8D4E3\"},\"line\":{\"color\":\"white\"}},\"type\":\"table\"}],\"barpolar\":[{\"marker\":{\"line\":{\"color\":\"#E5ECF6\",\"width\":0.5},\"pattern\":{\"fillmode\":\"overlay\",\"size\":10,\"solidity\":0.2}},\"type\":\"barpolar\"}],\"pie\":[{\"automargin\":true,\"type\":\"pie\"}]},\"layout\":{\"autotypenumbers\":\"strict\",\"colorway\":[\"#636efa\",\"#EF553B\",\"#00cc96\",\"#ab63fa\",\"#FFA15A\",\"#19d3f3\",\"#FF6692\",\"#B6E880\",\"#FF97FF\",\"#FECB52\"],\"font\":{\"color\":\"#2a3f5f\"},\"hovermode\":\"closest\",\"hoverlabel\":{\"align\":\"left\"},\"paper_bgcolor\":\"white\",\"plot_bgcolor\":\"#E5ECF6\",\"polar\":{\"bgcolor\":\"#E5ECF6\",\"angularaxis\":{\"gridcolor\":\"white\",\"linecolor\":\"white\",\"ticks\":\"\"},\"radialaxis\":{\"gridcolor\":\"white\",\"linecolor\":\"white\",\"ticks\":\"\"}},\"ternary\":{\"bgcolor\":\"#E5ECF6\",\"aaxis\":{\"gridcolor\":\"white\",\"linecolor\":\"white\",\"ticks\":\"\"},\"baxis\":{\"gridcolor\":\"white\",\"linecolor\":\"white\",\"ticks\":\"\"},\"caxis\":{\"gridcolor\":\"white\",\"linecolor\":\"white\",\"ticks\":\"\"}},\"coloraxis\":{\"colorbar\":{\"outlinewidth\":0,\"ticks\":\"\"}},\"colorscale\":{\"sequential\":[[0.0,\"#0d0887\"],[0.1111111111111111,\"#46039f\"],[0.2222222222222222,\"#7201a8\"],[0.3333333333333333,\"#9c179e\"],[0.4444444444444444,\"#bd3786\"],[0.5555555555555556,\"#d8576b\"],[0.6666666666666666,\"#ed7953\"],[0.7777777777777778,\"#fb9f3a\"],[0.8888888888888888,\"#fdca26\"],[1.0,\"#f0f921\"]],\"sequentialminus\":[[0.0,\"#0d0887\"],[0.1111111111111111,\"#46039f\"],[0.2222222222222222,\"#7201a8\"],[0.3333333333333333,\"#9c179e\"],[0.4444444444444444,\"#bd3786\"],[0.5555555555555556,\"#d8576b\"],[0.6666666666666666,\"#ed7953\"],[0.7777777777777778,\"#fb9f3a\"],[0.8888888888888888,\"#fdca26\"],[1.0,\"#f0f921\"]],\"diverging\":[[0,\"#8e0152\"],[0.1,\"#c51b7d\"],[0.2,\"#de77ae\"],[0.3,\"#f1b6da\"],[0.4,\"#fde0ef\"],[0.5,\"#f7f7f7\"],[0.6,\"#e6f5d0\"],[0.7,\"#b8e186\"],[0.8,\"#7fbc41\"],[0.9,\"#4d9221\"],[1,\"#276419\"]]},\"xaxis\":{\"gridcolor\":\"white\",\"linecolor\":\"white\",\"ticks\":\"\",\"title\":{\"standoff\":15},\"zerolinecolor\":\"white\",\"automargin\":true,\"zerolinewidth\":2},\"yaxis\":{\"gridcolor\":\"white\",\"linecolor\":\"white\",\"ticks\":\"\",\"title\":{\"standoff\":15},\"zerolinecolor\":\"white\",\"automargin\":true,\"zerolinewidth\":2},\"scene\":{\"xaxis\":{\"backgroundcolor\":\"#E5ECF6\",\"gridcolor\":\"white\",\"linecolor\":\"white\",\"showbackground\":true,\"ticks\":\"\",\"zerolinecolor\":\"white\",\"gridwidth\":2},\"yaxis\":{\"backgroundcolor\":\"#E5ECF6\",\"gridcolor\":\"white\",\"linecolor\":\"white\",\"showbackground\":true,\"ticks\":\"\",\"zerolinecolor\":\"white\",\"gridwidth\":2},\"zaxis\":{\"backgroundcolor\":\"#E5ECF6\",\"gridcolor\":\"white\",\"linecolor\":\"white\",\"showbackground\":true,\"ticks\":\"\",\"zerolinecolor\":\"white\",\"gridwidth\":2}},\"shapedefaults\":{\"line\":{\"color\":\"#2a3f5f\"}},\"annotationdefaults\":{\"arrowcolor\":\"#2a3f5f\",\"arrowhead\":0,\"arrowwidth\":1},\"geo\":{\"bgcolor\":\"white\",\"landcolor\":\"#E5ECF6\",\"subunitcolor\":\"white\",\"showland\":true,\"showlakes\":true,\"lakecolor\":\"white\"},\"title\":{\"x\":0.05},\"mapbox\":{\"style\":\"light\"}}},\"scene\":{\"xaxis\":{\"showbackground\":false,\"showgrid\":true,\"zeroline\":true,\"gridcolor\":\"red\",\"zerolinecolor\":\"green\"},\"yaxis\":{\"showbackground\":false,\"showgrid\":true,\"zeroline\":true,\"gridcolor\":\"red\",\"zerolinecolor\":\"green\"},\"zaxis\":{\"showbackground\":false,\"showgrid\":true,\"zeroline\":true,\"gridcolor\":\"red\",\"zerolinecolor\":\"green\"},\"aspectmode\":\"data\"},\"margin\":{\"l\":50,\"r\":50,\"b\":100,\"t\":100,\"pad\":10},\"showlegend\":false,\"width\":500,\"height\":500,\"autosize\":false,\"paper_bgcolor\":\"rgba(140,140,140,0.5)\",\"plot_bgcolor\":\"rgba(0,100,140,0.5)\"},                        {\"responsive\": true}                    ).then(function(){\n",
       "                            \n",
       "var gd = document.getElementById('5ac115ce-e17f-40af-869c-4a863132038d');\n",
       "var x = new MutationObserver(function (mutations, observer) {{\n",
       "        var display = window.getComputedStyle(gd).display;\n",
       "        if (!display || display === 'none') {{\n",
       "            console.log([gd, 'removed!']);\n",
       "            Plotly.purge(gd);\n",
       "            observer.disconnect();\n",
       "        }}\n",
       "}});\n",
       "\n",
       "// Listen for the removal of the full notebook cells\n",
       "var notebookContainer = gd.closest('#notebook-container');\n",
       "if (notebookContainer) {{\n",
       "    x.observe(notebookContainer, {childList: true});\n",
       "}}\n",
       "\n",
       "// Listen for the clearing of the current output cell\n",
       "var outputEl = gd.closest('.output');\n",
       "if (outputEl) {{\n",
       "    x.observe(outputEl, {childList: true});\n",
       "}}\n",
       "\n",
       "                        })                };                });            </script>        </div>"
      ]
     },
     "metadata": {},
     "output_type": "display_data"
    },
    {
     "name": "stdout",
     "output_type": "stream",
     "text": [
      "shown below: HSO3_CF2_4_CF_CF2_2_CF3\n"
     ]
    },
    {
     "data": {
      "application/vnd.plotly.v1+json": {
       "config": {
        "plotlyServerURL": "https://plot.ly"
       },
       "data": [
        {
         "hoverinfo": "text",
         "marker": {
          "color": [
           "black",
           "lime",
           "lime",
           "lime",
           "black",
           "lime",
           "lime",
           "black",
           "lime",
           "lime",
           "black",
           "lime",
           "black",
           "lime",
           "lime",
           "black",
           "lime",
           "lime",
           "black",
           "lime",
           "lime",
           "black",
           "lime",
           "lime",
           "yellow",
           "red",
           "red",
           "red",
           "white"
          ],
          "colorscale": [
           [
            0,
            "#440154"
           ],
           [
            0.1111111111111111,
            "#482878"
           ],
           [
            0.2222222222222222,
            "#3e4989"
           ],
           [
            0.3333333333333333,
            "#31688e"
           ],
           [
            0.4444444444444444,
            "#26828e"
           ],
           [
            0.5555555555555556,
            "#1f9e89"
           ],
           [
            0.6666666666666666,
            "#35b779"
           ],
           [
            0.7777777777777778,
            "#6ece58"
           ],
           [
            0.8888888888888888,
            "#b5de2b"
           ],
           [
            1,
            "#fde725"
           ]
          ],
          "opacity": 0.8,
          "size": 3
         },
         "mode": "markers",
         "text": [
          "C1",
          "F2",
          "F3",
          "F4",
          "C5",
          "F6",
          "F7",
          "C8",
          "F9",
          "F10",
          "C11",
          "F13",
          "C14",
          "F15",
          "F16",
          "C17",
          "F18",
          "F19",
          "C20",
          "F21",
          "F22",
          "C23",
          "F24",
          "F25",
          "S26",
          "O27",
          "O28",
          "O29",
          "H30"
         ],
         "type": "scatter3d",
         "x": [
          0,
          -1.0169347302254699,
          -0.44557653768826,
          0.70940447840478,
          0.6876238827372908,
          1.7045586265728767,
          1.1332003676305231,
          0.03990545111099586,
          -0.9770292791144747,
          -0.4056710865772636,
          0.7275293338482864,
          1.1731058187415182,
          0.07981090222199161,
          -0.9371238280034792,
          -0.36576563546626717,
          0.7674347849592824,
          1.7843695287948687,
          1.2130112698525135,
          0.11971635333298702,
          -0.8972183768924832,
          -0.325860184355271,
          0.8073402360702788,
          1.827171697571174,
          1.25438093745456,
          -0.2457711283922004,
          -1.3353998791478827,
          0.5350911802599893,
          -0.8457892412131413,
          -1.279598195899887
         ],
         "y": [
          0,
          -0.75246221681069,
          1.09984321741231,
          0.30949213355259003,
          -0.5997526212234046,
          0.15270929465963212,
          -1.6995946713066508,
          -0.8823329621258713,
          -1.634795178936561,
          0.21751025528643853,
          -1.482085583349276,
          -2.5819276334325223,
          -1.7646659242517428,
          -2.5171281410624324,
          -0.6648227068394332,
          -2.3644185454751483,
          -1.6119566295921117,
          -3.464260595558395,
          -2.6469988863776157,
          -3.3994611031883046,
          -1.5471556689653054,
          -3.2467515076010205,
          -2.494341690966345,
          -4.3439074376567195,
          -3.756216277637847,
          -4.615765380581463,
          -4.601545813257569,
          -2.589962014461171,
          -4.716382390751652
         ],
         "z": [
          0,
          0.35634641152507,
          -0.5649302025294499,
          1.06221462745206,
          -0.7794037395502719,
          -1.1357507476742115,
          -0.21447122275294894,
          -1.7492538229482257,
          -1.3929074114231557,
          -2.3141840254776755,
          -2.5286575624984975,
          -1.963725045701175,
          -3.4985076458964524,
          -3.142161234371382,
          -4.063437848425902,
          -4.277911385446725,
          -4.634258393570664,
          -3.7129788686494027,
          -5.24776146884468,
          -4.891415057319609,
          -5.81269167137413,
          -6.027165208394953,
          -6.385593222447593,
          -5.4198097277508195,
          -7.489074284593028,
          -6.725046932361814,
          -8.309775667977583,
          -8.016055486621168,
          -5.7736188975446225
         ]
        },
        {
         "line": {
          "color": "black",
          "width": 3
         },
         "mode": "lines",
         "type": "scatter3d",
         "x": [
          0,
          -1.0169347302254699
         ],
         "y": [
          0,
          -0.75246221681069
         ],
         "z": [
          0,
          0.35634641152507
         ]
        },
        {
         "line": {
          "color": "black",
          "width": 3
         },
         "mode": "lines",
         "type": "scatter3d",
         "x": [
          0,
          -0.44557653768826
         ],
         "y": [
          0,
          1.09984321741231
         ],
         "z": [
          0,
          -0.5649302025294499
         ]
        },
        {
         "line": {
          "color": "black",
          "width": 3
         },
         "mode": "lines",
         "type": "scatter3d",
         "x": [
          0,
          0.70940447840478
         ],
         "y": [
          0,
          0.30949213355259003
         ],
         "z": [
          0,
          1.06221462745206
         ]
        },
        {
         "line": {
          "color": "black",
          "width": 3
         },
         "mode": "lines",
         "type": "scatter3d",
         "x": [
          0,
          0.6876238827372908
         ],
         "y": [
          0,
          -0.5997526212234046
         ],
         "z": [
          0,
          -0.7794037395502719
         ]
        },
        {
         "line": {
          "color": "black",
          "width": 3
         },
         "mode": "lines",
         "type": "scatter3d",
         "x": [
          0.6876238827372908,
          1.7045586265728767
         ],
         "y": [
          -0.5997526212234046,
          0.15270929465963212
         ],
         "z": [
          -0.7794037395502719,
          -1.1357507476742115
         ]
        },
        {
         "line": {
          "color": "black",
          "width": 3
         },
         "mode": "lines",
         "type": "scatter3d",
         "x": [
          0.6876238827372908,
          1.1332003676305231
         ],
         "y": [
          -0.5997526212234046,
          -1.6995946713066508
         ],
         "z": [
          -0.7794037395502719,
          -0.21447122275294894
         ]
        },
        {
         "line": {
          "color": "black",
          "width": 3
         },
         "mode": "lines",
         "type": "scatter3d",
         "x": [
          0.6876238827372908,
          0.03990545111099586
         ],
         "y": [
          -0.5997526212234046,
          -0.8823329621258713
         ],
         "z": [
          -0.7794037395502719,
          -1.7492538229482257
         ]
        },
        {
         "line": {
          "color": "black",
          "width": 3
         },
         "mode": "lines",
         "type": "scatter3d",
         "x": [
          0.03990545111099586,
          -0.9770292791144747
         ],
         "y": [
          -0.8823329621258713,
          -1.634795178936561
         ],
         "z": [
          -1.7492538229482257,
          -1.3929074114231557
         ]
        },
        {
         "line": {
          "color": "black",
          "width": 3
         },
         "mode": "lines",
         "type": "scatter3d",
         "x": [
          0.03990545111099586,
          -0.4056710865772636
         ],
         "y": [
          -0.8823329621258713,
          0.21751025528643853
         ],
         "z": [
          -1.7492538229482257,
          -2.3141840254776755
         ]
        },
        {
         "line": {
          "color": "black",
          "width": 3
         },
         "mode": "lines",
         "type": "scatter3d",
         "x": [
          0.03990545111099586,
          0.7275293338482864
         ],
         "y": [
          -0.8823329621258713,
          -1.482085583349276
         ],
         "z": [
          -1.7492538229482257,
          -2.5286575624984975
         ]
        },
        {
         "line": {
          "color": "black",
          "width": 3
         },
         "mode": "lines",
         "type": "scatter3d",
         "x": [
          0.7275293338482864,
          1.1731058187415182
         ],
         "y": [
          -1.482085583349276,
          -2.5819276334325223
         ],
         "z": [
          -2.5286575624984975,
          -1.963725045701175
         ]
        },
        {
         "line": {
          "color": "black",
          "width": 3
         },
         "mode": "lines",
         "type": "scatter3d",
         "x": [
          0.7275293338482864,
          0.07981090222199161
         ],
         "y": [
          -1.482085583349276,
          -1.7646659242517428
         ],
         "z": [
          -2.5286575624984975,
          -3.4985076458964524
         ]
        },
        {
         "line": {
          "color": "black",
          "width": 3
         },
         "mode": "lines",
         "type": "scatter3d",
         "x": [
          0.07981090222199161,
          -0.9371238280034792
         ],
         "y": [
          -1.7646659242517428,
          -2.5171281410624324
         ],
         "z": [
          -3.4985076458964524,
          -3.142161234371382
         ]
        },
        {
         "line": {
          "color": "black",
          "width": 3
         },
         "mode": "lines",
         "type": "scatter3d",
         "x": [
          0.07981090222199161,
          -0.36576563546626717
         ],
         "y": [
          -1.7646659242517428,
          -0.6648227068394332
         ],
         "z": [
          -3.4985076458964524,
          -4.063437848425902
         ]
        },
        {
         "line": {
          "color": "black",
          "width": 3
         },
         "mode": "lines",
         "type": "scatter3d",
         "x": [
          0.07981090222199161,
          0.7674347849592824
         ],
         "y": [
          -1.7646659242517428,
          -2.3644185454751483
         ],
         "z": [
          -3.4985076458964524,
          -4.277911385446725
         ]
        },
        {
         "line": {
          "color": "black",
          "width": 3
         },
         "mode": "lines",
         "type": "scatter3d",
         "x": [
          0.7674347849592824,
          1.7843695287948687
         ],
         "y": [
          -2.3644185454751483,
          -1.6119566295921117
         ],
         "z": [
          -4.277911385446725,
          -4.634258393570664
         ]
        },
        {
         "line": {
          "color": "black",
          "width": 3
         },
         "mode": "lines",
         "type": "scatter3d",
         "x": [
          0.7674347849592824,
          1.2130112698525135
         ],
         "y": [
          -2.3644185454751483,
          -3.464260595558395
         ],
         "z": [
          -4.277911385446725,
          -3.7129788686494027
         ]
        },
        {
         "line": {
          "color": "black",
          "width": 3
         },
         "mode": "lines",
         "type": "scatter3d",
         "x": [
          0.7674347849592824,
          0.11971635333298702
         ],
         "y": [
          -2.3644185454751483,
          -2.6469988863776157
         ],
         "z": [
          -4.277911385446725,
          -5.24776146884468
         ]
        },
        {
         "line": {
          "color": "black",
          "width": 3
         },
         "mode": "lines",
         "type": "scatter3d",
         "x": [
          0.11971635333298702,
          -0.8972183768924832
         ],
         "y": [
          -2.6469988863776157,
          -3.3994611031883046
         ],
         "z": [
          -5.24776146884468,
          -4.891415057319609
         ]
        },
        {
         "line": {
          "color": "black",
          "width": 3
         },
         "mode": "lines",
         "type": "scatter3d",
         "x": [
          0.11971635333298702,
          -0.325860184355271
         ],
         "y": [
          -2.6469988863776157,
          -1.5471556689653054
         ],
         "z": [
          -5.24776146884468,
          -5.81269167137413
         ]
        },
        {
         "line": {
          "color": "black",
          "width": 3
         },
         "mode": "lines",
         "type": "scatter3d",
         "x": [
          0.11971635333298702,
          0.8073402360702788
         ],
         "y": [
          -2.6469988863776157,
          -3.2467515076010205
         ],
         "z": [
          -5.24776146884468,
          -6.027165208394953
         ]
        },
        {
         "line": {
          "color": "black",
          "width": 3
         },
         "mode": "lines",
         "type": "scatter3d",
         "x": [
          -0.8972183768924832,
          -1.279598195899887
         ],
         "y": [
          -3.3994611031883046,
          -4.716382390751652
         ],
         "z": [
          -4.891415057319609,
          -5.7736188975446225
         ]
        },
        {
         "line": {
          "color": "black",
          "width": 3
         },
         "mode": "lines",
         "type": "scatter3d",
         "x": [
          0.8073402360702788,
          1.827171697571174
         ],
         "y": [
          -3.2467515076010205,
          -2.494341690966345
         ],
         "z": [
          -6.027165208394953,
          -6.385593222447593
         ]
        },
        {
         "line": {
          "color": "black",
          "width": 3
         },
         "mode": "lines",
         "type": "scatter3d",
         "x": [
          0.8073402360702788,
          1.25438093745456
         ],
         "y": [
          -3.2467515076010205,
          -4.3439074376567195
         ],
         "z": [
          -6.027165208394953,
          -5.4198097277508195
         ]
        },
        {
         "line": {
          "color": "black",
          "width": 3
         },
         "mode": "lines",
         "type": "scatter3d",
         "x": [
          -0.2457711283922004,
          -1.3353998791478827
         ],
         "y": [
          -3.756216277637847,
          -4.615765380581463
         ],
         "z": [
          -7.489074284593028,
          -6.725046932361814
         ]
        },
        {
         "line": {
          "color": "black",
          "width": 3
         },
         "mode": "lines",
         "type": "scatter3d",
         "x": [
          -0.2457711283922004,
          0.5350911802599893
         ],
         "y": [
          -3.756216277637847,
          -4.601545813257569
         ],
         "z": [
          -7.489074284593028,
          -8.309775667977583
         ]
        },
        {
         "line": {
          "color": "black",
          "width": 3
         },
         "mode": "lines",
         "type": "scatter3d",
         "x": [
          -0.2457711283922004,
          -0.8457892412131413
         ],
         "y": [
          -3.756216277637847,
          -2.589962014461171
         ],
         "z": [
          -7.489074284593028,
          -8.016055486621168
         ]
        },
        {
         "line": {
          "color": "black",
          "width": 3
         },
         "mode": "lines",
         "type": "scatter3d",
         "x": [
          -1.3353998791478827,
          -1.279598195899887
         ],
         "y": [
          -4.615765380581463,
          -4.716382390751652
         ],
         "z": [
          -6.725046932361814,
          -5.7736188975446225
         ]
        }
       ],
       "layout": {
        "autosize": false,
        "height": 500,
        "margin": {
         "b": 100,
         "l": 50,
         "pad": 10,
         "r": 50,
         "t": 100
        },
        "paper_bgcolor": "rgba(140,140,140,0.5)",
        "plot_bgcolor": "rgba(0,100,140,0.5)",
        "scene": {
         "aspectmode": "data",
         "aspectratio": {
          "x": 0.5682453416314863,
          "y": 1.0450492668835267,
          "z": 1.683942860423198
         },
         "xaxis": {
          "gridcolor": "red",
          "showbackground": false,
          "showgrid": true,
          "type": "linear",
          "zeroline": true,
          "zerolinecolor": "green"
         },
         "yaxis": {
          "gridcolor": "red",
          "showbackground": false,
          "showgrid": true,
          "type": "linear",
          "zeroline": true,
          "zerolinecolor": "green"
         },
         "zaxis": {
          "gridcolor": "red",
          "showbackground": false,
          "showgrid": true,
          "type": "linear",
          "zeroline": true,
          "zerolinecolor": "green"
         }
        },
        "showlegend": false,
        "template": {
         "data": {
          "bar": [
           {
            "error_x": {
             "color": "#2a3f5f"
            },
            "error_y": {
             "color": "#2a3f5f"
            },
            "marker": {
             "line": {
              "color": "#E5ECF6",
              "width": 0.5
             },
             "pattern": {
              "fillmode": "overlay",
              "size": 10,
              "solidity": 0.2
             }
            },
            "type": "bar"
           }
          ],
          "barpolar": [
           {
            "marker": {
             "line": {
              "color": "#E5ECF6",
              "width": 0.5
             },
             "pattern": {
              "fillmode": "overlay",
              "size": 10,
              "solidity": 0.2
             }
            },
            "type": "barpolar"
           }
          ],
          "carpet": [
           {
            "aaxis": {
             "endlinecolor": "#2a3f5f",
             "gridcolor": "white",
             "linecolor": "white",
             "minorgridcolor": "white",
             "startlinecolor": "#2a3f5f"
            },
            "baxis": {
             "endlinecolor": "#2a3f5f",
             "gridcolor": "white",
             "linecolor": "white",
             "minorgridcolor": "white",
             "startlinecolor": "#2a3f5f"
            },
            "type": "carpet"
           }
          ],
          "choropleth": [
           {
            "colorbar": {
             "outlinewidth": 0,
             "ticks": ""
            },
            "type": "choropleth"
           }
          ],
          "contour": [
           {
            "colorbar": {
             "outlinewidth": 0,
             "ticks": ""
            },
            "colorscale": [
             [
              0,
              "#0d0887"
             ],
             [
              0.1111111111111111,
              "#46039f"
             ],
             [
              0.2222222222222222,
              "#7201a8"
             ],
             [
              0.3333333333333333,
              "#9c179e"
             ],
             [
              0.4444444444444444,
              "#bd3786"
             ],
             [
              0.5555555555555556,
              "#d8576b"
             ],
             [
              0.6666666666666666,
              "#ed7953"
             ],
             [
              0.7777777777777778,
              "#fb9f3a"
             ],
             [
              0.8888888888888888,
              "#fdca26"
             ],
             [
              1,
              "#f0f921"
             ]
            ],
            "type": "contour"
           }
          ],
          "contourcarpet": [
           {
            "colorbar": {
             "outlinewidth": 0,
             "ticks": ""
            },
            "type": "contourcarpet"
           }
          ],
          "heatmap": [
           {
            "colorbar": {
             "outlinewidth": 0,
             "ticks": ""
            },
            "colorscale": [
             [
              0,
              "#0d0887"
             ],
             [
              0.1111111111111111,
              "#46039f"
             ],
             [
              0.2222222222222222,
              "#7201a8"
             ],
             [
              0.3333333333333333,
              "#9c179e"
             ],
             [
              0.4444444444444444,
              "#bd3786"
             ],
             [
              0.5555555555555556,
              "#d8576b"
             ],
             [
              0.6666666666666666,
              "#ed7953"
             ],
             [
              0.7777777777777778,
              "#fb9f3a"
             ],
             [
              0.8888888888888888,
              "#fdca26"
             ],
             [
              1,
              "#f0f921"
             ]
            ],
            "type": "heatmap"
           }
          ],
          "heatmapgl": [
           {
            "colorbar": {
             "outlinewidth": 0,
             "ticks": ""
            },
            "colorscale": [
             [
              0,
              "#0d0887"
             ],
             [
              0.1111111111111111,
              "#46039f"
             ],
             [
              0.2222222222222222,
              "#7201a8"
             ],
             [
              0.3333333333333333,
              "#9c179e"
             ],
             [
              0.4444444444444444,
              "#bd3786"
             ],
             [
              0.5555555555555556,
              "#d8576b"
             ],
             [
              0.6666666666666666,
              "#ed7953"
             ],
             [
              0.7777777777777778,
              "#fb9f3a"
             ],
             [
              0.8888888888888888,
              "#fdca26"
             ],
             [
              1,
              "#f0f921"
             ]
            ],
            "type": "heatmapgl"
           }
          ],
          "histogram": [
           {
            "marker": {
             "pattern": {
              "fillmode": "overlay",
              "size": 10,
              "solidity": 0.2
             }
            },
            "type": "histogram"
           }
          ],
          "histogram2d": [
           {
            "colorbar": {
             "outlinewidth": 0,
             "ticks": ""
            },
            "colorscale": [
             [
              0,
              "#0d0887"
             ],
             [
              0.1111111111111111,
              "#46039f"
             ],
             [
              0.2222222222222222,
              "#7201a8"
             ],
             [
              0.3333333333333333,
              "#9c179e"
             ],
             [
              0.4444444444444444,
              "#bd3786"
             ],
             [
              0.5555555555555556,
              "#d8576b"
             ],
             [
              0.6666666666666666,
              "#ed7953"
             ],
             [
              0.7777777777777778,
              "#fb9f3a"
             ],
             [
              0.8888888888888888,
              "#fdca26"
             ],
             [
              1,
              "#f0f921"
             ]
            ],
            "type": "histogram2d"
           }
          ],
          "histogram2dcontour": [
           {
            "colorbar": {
             "outlinewidth": 0,
             "ticks": ""
            },
            "colorscale": [
             [
              0,
              "#0d0887"
             ],
             [
              0.1111111111111111,
              "#46039f"
             ],
             [
              0.2222222222222222,
              "#7201a8"
             ],
             [
              0.3333333333333333,
              "#9c179e"
             ],
             [
              0.4444444444444444,
              "#bd3786"
             ],
             [
              0.5555555555555556,
              "#d8576b"
             ],
             [
              0.6666666666666666,
              "#ed7953"
             ],
             [
              0.7777777777777778,
              "#fb9f3a"
             ],
             [
              0.8888888888888888,
              "#fdca26"
             ],
             [
              1,
              "#f0f921"
             ]
            ],
            "type": "histogram2dcontour"
           }
          ],
          "mesh3d": [
           {
            "colorbar": {
             "outlinewidth": 0,
             "ticks": ""
            },
            "type": "mesh3d"
           }
          ],
          "parcoords": [
           {
            "line": {
             "colorbar": {
              "outlinewidth": 0,
              "ticks": ""
             }
            },
            "type": "parcoords"
           }
          ],
          "pie": [
           {
            "automargin": true,
            "type": "pie"
           }
          ],
          "scatter": [
           {
            "fillpattern": {
             "fillmode": "overlay",
             "size": 10,
             "solidity": 0.2
            },
            "type": "scatter"
           }
          ],
          "scatter3d": [
           {
            "line": {
             "colorbar": {
              "outlinewidth": 0,
              "ticks": ""
             }
            },
            "marker": {
             "colorbar": {
              "outlinewidth": 0,
              "ticks": ""
             }
            },
            "type": "scatter3d"
           }
          ],
          "scattercarpet": [
           {
            "marker": {
             "colorbar": {
              "outlinewidth": 0,
              "ticks": ""
             }
            },
            "type": "scattercarpet"
           }
          ],
          "scattergeo": [
           {
            "marker": {
             "colorbar": {
              "outlinewidth": 0,
              "ticks": ""
             }
            },
            "type": "scattergeo"
           }
          ],
          "scattergl": [
           {
            "marker": {
             "colorbar": {
              "outlinewidth": 0,
              "ticks": ""
             }
            },
            "type": "scattergl"
           }
          ],
          "scattermapbox": [
           {
            "marker": {
             "colorbar": {
              "outlinewidth": 0,
              "ticks": ""
             }
            },
            "type": "scattermapbox"
           }
          ],
          "scatterpolar": [
           {
            "marker": {
             "colorbar": {
              "outlinewidth": 0,
              "ticks": ""
             }
            },
            "type": "scatterpolar"
           }
          ],
          "scatterpolargl": [
           {
            "marker": {
             "colorbar": {
              "outlinewidth": 0,
              "ticks": ""
             }
            },
            "type": "scatterpolargl"
           }
          ],
          "scatterternary": [
           {
            "marker": {
             "colorbar": {
              "outlinewidth": 0,
              "ticks": ""
             }
            },
            "type": "scatterternary"
           }
          ],
          "surface": [
           {
            "colorbar": {
             "outlinewidth": 0,
             "ticks": ""
            },
            "colorscale": [
             [
              0,
              "#0d0887"
             ],
             [
              0.1111111111111111,
              "#46039f"
             ],
             [
              0.2222222222222222,
              "#7201a8"
             ],
             [
              0.3333333333333333,
              "#9c179e"
             ],
             [
              0.4444444444444444,
              "#bd3786"
             ],
             [
              0.5555555555555556,
              "#d8576b"
             ],
             [
              0.6666666666666666,
              "#ed7953"
             ],
             [
              0.7777777777777778,
              "#fb9f3a"
             ],
             [
              0.8888888888888888,
              "#fdca26"
             ],
             [
              1,
              "#f0f921"
             ]
            ],
            "type": "surface"
           }
          ],
          "table": [
           {
            "cells": {
             "fill": {
              "color": "#EBF0F8"
             },
             "line": {
              "color": "white"
             }
            },
            "header": {
             "fill": {
              "color": "#C8D4E3"
             },
             "line": {
              "color": "white"
             }
            },
            "type": "table"
           }
          ]
         },
         "layout": {
          "annotationdefaults": {
           "arrowcolor": "#2a3f5f",
           "arrowhead": 0,
           "arrowwidth": 1
          },
          "autotypenumbers": "strict",
          "coloraxis": {
           "colorbar": {
            "outlinewidth": 0,
            "ticks": ""
           }
          },
          "colorscale": {
           "diverging": [
            [
             0,
             "#8e0152"
            ],
            [
             0.1,
             "#c51b7d"
            ],
            [
             0.2,
             "#de77ae"
            ],
            [
             0.3,
             "#f1b6da"
            ],
            [
             0.4,
             "#fde0ef"
            ],
            [
             0.5,
             "#f7f7f7"
            ],
            [
             0.6,
             "#e6f5d0"
            ],
            [
             0.7,
             "#b8e186"
            ],
            [
             0.8,
             "#7fbc41"
            ],
            [
             0.9,
             "#4d9221"
            ],
            [
             1,
             "#276419"
            ]
           ],
           "sequential": [
            [
             0,
             "#0d0887"
            ],
            [
             0.1111111111111111,
             "#46039f"
            ],
            [
             0.2222222222222222,
             "#7201a8"
            ],
            [
             0.3333333333333333,
             "#9c179e"
            ],
            [
             0.4444444444444444,
             "#bd3786"
            ],
            [
             0.5555555555555556,
             "#d8576b"
            ],
            [
             0.6666666666666666,
             "#ed7953"
            ],
            [
             0.7777777777777778,
             "#fb9f3a"
            ],
            [
             0.8888888888888888,
             "#fdca26"
            ],
            [
             1,
             "#f0f921"
            ]
           ],
           "sequentialminus": [
            [
             0,
             "#0d0887"
            ],
            [
             0.1111111111111111,
             "#46039f"
            ],
            [
             0.2222222222222222,
             "#7201a8"
            ],
            [
             0.3333333333333333,
             "#9c179e"
            ],
            [
             0.4444444444444444,
             "#bd3786"
            ],
            [
             0.5555555555555556,
             "#d8576b"
            ],
            [
             0.6666666666666666,
             "#ed7953"
            ],
            [
             0.7777777777777778,
             "#fb9f3a"
            ],
            [
             0.8888888888888888,
             "#fdca26"
            ],
            [
             1,
             "#f0f921"
            ]
           ]
          },
          "colorway": [
           "#636efa",
           "#EF553B",
           "#00cc96",
           "#ab63fa",
           "#FFA15A",
           "#19d3f3",
           "#FF6692",
           "#B6E880",
           "#FF97FF",
           "#FECB52"
          ],
          "font": {
           "color": "#2a3f5f"
          },
          "geo": {
           "bgcolor": "white",
           "lakecolor": "white",
           "landcolor": "#E5ECF6",
           "showlakes": true,
           "showland": true,
           "subunitcolor": "white"
          },
          "hoverlabel": {
           "align": "left"
          },
          "hovermode": "closest",
          "mapbox": {
           "style": "light"
          },
          "paper_bgcolor": "white",
          "plot_bgcolor": "#E5ECF6",
          "polar": {
           "angularaxis": {
            "gridcolor": "white",
            "linecolor": "white",
            "ticks": ""
           },
           "bgcolor": "#E5ECF6",
           "radialaxis": {
            "gridcolor": "white",
            "linecolor": "white",
            "ticks": ""
           }
          },
          "scene": {
           "xaxis": {
            "backgroundcolor": "#E5ECF6",
            "gridcolor": "white",
            "gridwidth": 2,
            "linecolor": "white",
            "showbackground": true,
            "ticks": "",
            "zerolinecolor": "white"
           },
           "yaxis": {
            "backgroundcolor": "#E5ECF6",
            "gridcolor": "white",
            "gridwidth": 2,
            "linecolor": "white",
            "showbackground": true,
            "ticks": "",
            "zerolinecolor": "white"
           },
           "zaxis": {
            "backgroundcolor": "#E5ECF6",
            "gridcolor": "white",
            "gridwidth": 2,
            "linecolor": "white",
            "showbackground": true,
            "ticks": "",
            "zerolinecolor": "white"
           }
          },
          "shapedefaults": {
           "line": {
            "color": "#2a3f5f"
           }
          },
          "ternary": {
           "aaxis": {
            "gridcolor": "white",
            "linecolor": "white",
            "ticks": ""
           },
           "baxis": {
            "gridcolor": "white",
            "linecolor": "white",
            "ticks": ""
           },
           "bgcolor": "#E5ECF6",
           "caxis": {
            "gridcolor": "white",
            "linecolor": "white",
            "ticks": ""
           }
          },
          "title": {
           "x": 0.05
          },
          "xaxis": {
           "automargin": true,
           "gridcolor": "white",
           "linecolor": "white",
           "ticks": "",
           "title": {
            "standoff": 15
           },
           "zerolinecolor": "white",
           "zerolinewidth": 2
          },
          "yaxis": {
           "automargin": true,
           "gridcolor": "white",
           "linecolor": "white",
           "ticks": "",
           "title": {
            "standoff": 15
           },
           "zerolinecolor": "white",
           "zerolinewidth": 2
          }
         }
        },
        "width": 500
       }
      },
      "image/png": "[encoded data removed]",
      "text/html": [
       "<div>                            <div id=\"c5fee075-b861-49ca-95bd-b93d57bc125c\" class=\"plotly-graph-div\" style=\"height:500px; width:500px;\"></div>            <script type=\"text/javascript\">                require([\"plotly\"], function(Plotly) {                    window.PLOTLYENV=window.PLOTLYENV || {};                                    if (document.getElementById(\"c5fee075-b861-49ca-95bd-b93d57bc125c\")) {                    Plotly.newPlot(                        \"c5fee075-b861-49ca-95bd-b93d57bc125c\",                        [{\"hoverinfo\":\"text\",\"marker\":{\"color\":[\"black\",\"lime\",\"lime\",\"lime\",\"black\",\"lime\",\"lime\",\"black\",\"lime\",\"lime\",\"black\",\"lime\",\"black\",\"lime\",\"lime\",\"black\",\"lime\",\"lime\",\"black\",\"lime\",\"lime\",\"black\",\"lime\",\"lime\",\"yellow\",\"red\",\"red\",\"red\",\"white\"],\"colorscale\":[[0.0,\"#440154\"],[0.1111111111111111,\"#482878\"],[0.2222222222222222,\"#3e4989\"],[0.3333333333333333,\"#31688e\"],[0.4444444444444444,\"#26828e\"],[0.5555555555555556,\"#1f9e89\"],[0.6666666666666666,\"#35b779\"],[0.7777777777777778,\"#6ece58\"],[0.8888888888888888,\"#b5de2b\"],[1.0,\"#fde725\"]],\"opacity\":0.8,\"size\":3},\"mode\":\"markers\",\"text\":[\"C1\",\"F2\",\"F3\",\"F4\",\"C5\",\"F6\",\"F7\",\"C8\",\"F9\",\"F10\",\"C11\",\"F13\",\"C14\",\"F15\",\"F16\",\"C17\",\"F18\",\"F19\",\"C20\",\"F21\",\"F22\",\"C23\",\"F24\",\"F25\",\"S26\",\"O27\",\"O28\",\"O29\",\"H30\"],\"x\":[0.0,-1.0169347302254699,-0.44557653768826,0.70940447840478,0.6876238827372908,1.7045586265728767,1.1332003676305231,0.03990545111099586,-0.9770292791144747,-0.4056710865772636,0.7275293338482864,1.1731058187415182,0.07981090222199161,-0.9371238280034792,-0.36576563546626717,0.7674347849592824,1.7843695287948687,1.2130112698525135,0.11971635333298702,-0.8972183768924832,-0.325860184355271,0.8073402360702788,1.827171697571174,1.25438093745456,-0.2457711283922004,-1.3353998791478827,0.5350911802599893,-0.8457892412131413,-1.279598195899887],\"y\":[0.0,-0.75246221681069,1.09984321741231,0.30949213355259003,-0.5997526212234046,0.15270929465963212,-1.6995946713066508,-0.8823329621258713,-1.634795178936561,0.21751025528643853,-1.482085583349276,-2.5819276334325223,-1.7646659242517428,-2.5171281410624324,-0.6648227068394332,-2.3644185454751483,-1.6119566295921117,-3.464260595558395,-2.6469988863776157,-3.3994611031883046,-1.5471556689653054,-3.2467515076010205,-2.494341690966345,-4.3439074376567195,-3.756216277637847,-4.615765380581463,-4.601545813257569,-2.589962014461171,-4.716382390751652],\"z\":[0.0,0.35634641152507,-0.5649302025294499,1.06221462745206,-0.7794037395502719,-1.1357507476742115,-0.21447122275294894,-1.7492538229482257,-1.3929074114231557,-2.3141840254776755,-2.5286575624984975,-1.963725045701175,-3.4985076458964524,-3.142161234371382,-4.063437848425902,-4.277911385446725,-4.634258393570664,-3.7129788686494027,-5.24776146884468,-4.891415057319609,-5.81269167137413,-6.027165208394953,-6.385593222447593,-5.4198097277508195,-7.489074284593028,-6.725046932361814,-8.309775667977583,-8.016055486621168,-5.7736188975446225],\"type\":\"scatter3d\"},{\"line\":{\"color\":\"black\",\"width\":3},\"mode\":\"lines\",\"x\":[0.0,-1.0169347302254699],\"y\":[0.0,-0.75246221681069],\"z\":[0.0,0.35634641152507],\"type\":\"scatter3d\"},{\"line\":{\"color\":\"black\",\"width\":3},\"mode\":\"lines\",\"x\":[0.0,-0.44557653768826],\"y\":[0.0,1.09984321741231],\"z\":[0.0,-0.5649302025294499],\"type\":\"scatter3d\"},{\"line\":{\"color\":\"black\",\"width\":3},\"mode\":\"lines\",\"x\":[0.0,0.70940447840478],\"y\":[0.0,0.30949213355259003],\"z\":[0.0,1.06221462745206],\"type\":\"scatter3d\"},{\"line\":{\"color\":\"black\",\"width\":3},\"mode\":\"lines\",\"x\":[0.0,0.6876238827372908],\"y\":[0.0,-0.5997526212234046],\"z\":[0.0,-0.7794037395502719],\"type\":\"scatter3d\"},{\"line\":{\"color\":\"black\",\"width\":3},\"mode\":\"lines\",\"x\":[0.6876238827372908,1.7045586265728767],\"y\":[-0.5997526212234046,0.15270929465963212],\"z\":[-0.7794037395502719,-1.1357507476742115],\"type\":\"scatter3d\"},{\"line\":{\"color\":\"black\",\"width\":3},\"mode\":\"lines\",\"x\":[0.6876238827372908,1.1332003676305231],\"y\":[-0.5997526212234046,-1.6995946713066508],\"z\":[-0.7794037395502719,-0.21447122275294894],\"type\":\"scatter3d\"},{\"line\":{\"color\":\"black\",\"width\":3},\"mode\":\"lines\",\"x\":[0.6876238827372908,0.03990545111099586],\"y\":[-0.5997526212234046,-0.8823329621258713],\"z\":[-0.7794037395502719,-1.7492538229482257],\"type\":\"scatter3d\"},{\"line\":{\"color\":\"black\",\"width\":3},\"mode\":\"lines\",\"x\":[0.03990545111099586,-0.9770292791144747],\"y\":[-0.8823329621258713,-1.634795178936561],\"z\":[-1.7492538229482257,-1.3929074114231557],\"type\":\"scatter3d\"},{\"line\":{\"color\":\"black\",\"width\":3},\"mode\":\"lines\",\"x\":[0.03990545111099586,-0.4056710865772636],\"y\":[-0.8823329621258713,0.21751025528643853],\"z\":[-1.7492538229482257,-2.3141840254776755],\"type\":\"scatter3d\"},{\"line\":{\"color\":\"black\",\"width\":3},\"mode\":\"lines\",\"x\":[0.03990545111099586,0.7275293338482864],\"y\":[-0.8823329621258713,-1.482085583349276],\"z\":[-1.7492538229482257,-2.5286575624984975],\"type\":\"scatter3d\"},{\"line\":{\"color\":\"black\",\"width\":3},\"mode\":\"lines\",\"x\":[0.7275293338482864,1.1731058187415182],\"y\":[-1.482085583349276,-2.5819276334325223],\"z\":[-2.5286575624984975,-1.963725045701175],\"type\":\"scatter3d\"},{\"line\":{\"color\":\"black\",\"width\":3},\"mode\":\"lines\",\"x\":[0.7275293338482864,0.07981090222199161],\"y\":[-1.482085583349276,-1.7646659242517428],\"z\":[-2.5286575624984975,-3.4985076458964524],\"type\":\"scatter3d\"},{\"line\":{\"color\":\"black\",\"width\":3},\"mode\":\"lines\",\"x\":[0.07981090222199161,-0.9371238280034792],\"y\":[-1.7646659242517428,-2.5171281410624324],\"z\":[-3.4985076458964524,-3.142161234371382],\"type\":\"scatter3d\"},{\"line\":{\"color\":\"black\",\"width\":3},\"mode\":\"lines\",\"x\":[0.07981090222199161,-0.36576563546626717],\"y\":[-1.7646659242517428,-0.6648227068394332],\"z\":[-3.4985076458964524,-4.063437848425902],\"type\":\"scatter3d\"},{\"line\":{\"color\":\"black\",\"width\":3},\"mode\":\"lines\",\"x\":[0.07981090222199161,0.7674347849592824],\"y\":[-1.7646659242517428,-2.3644185454751483],\"z\":[-3.4985076458964524,-4.277911385446725],\"type\":\"scatter3d\"},{\"line\":{\"color\":\"black\",\"width\":3},\"mode\":\"lines\",\"x\":[0.7674347849592824,1.7843695287948687],\"y\":[-2.3644185454751483,-1.6119566295921117],\"z\":[-4.277911385446725,-4.634258393570664],\"type\":\"scatter3d\"},{\"line\":{\"color\":\"black\",\"width\":3},\"mode\":\"lines\",\"x\":[0.7674347849592824,1.2130112698525135],\"y\":[-2.3644185454751483,-3.464260595558395],\"z\":[-4.277911385446725,-3.7129788686494027],\"type\":\"scatter3d\"},{\"line\":{\"color\":\"black\",\"width\":3},\"mode\":\"lines\",\"x\":[0.7674347849592824,0.11971635333298702],\"y\":[-2.3644185454751483,-2.6469988863776157],\"z\":[-4.277911385446725,-5.24776146884468],\"type\":\"scatter3d\"},{\"line\":{\"color\":\"black\",\"width\":3},\"mode\":\"lines\",\"x\":[0.11971635333298702,-0.8972183768924832],\"y\":[-2.6469988863776157,-3.3994611031883046],\"z\":[-5.24776146884468,-4.891415057319609],\"type\":\"scatter3d\"},{\"line\":{\"color\":\"black\",\"width\":3},\"mode\":\"lines\",\"x\":[0.11971635333298702,-0.325860184355271],\"y\":[-2.6469988863776157,-1.5471556689653054],\"z\":[-5.24776146884468,-5.81269167137413],\"type\":\"scatter3d\"},{\"line\":{\"color\":\"black\",\"width\":3},\"mode\":\"lines\",\"x\":[0.11971635333298702,0.8073402360702788],\"y\":[-2.6469988863776157,-3.2467515076010205],\"z\":[-5.24776146884468,-6.027165208394953],\"type\":\"scatter3d\"},{\"line\":{\"color\":\"black\",\"width\":3},\"mode\":\"lines\",\"x\":[-0.8972183768924832,-1.279598195899887],\"y\":[-3.3994611031883046,-4.716382390751652],\"z\":[-4.891415057319609,-5.7736188975446225],\"type\":\"scatter3d\"},{\"line\":{\"color\":\"black\",\"width\":3},\"mode\":\"lines\",\"x\":[0.8073402360702788,1.827171697571174],\"y\":[-3.2467515076010205,-2.494341690966345],\"z\":[-6.027165208394953,-6.385593222447593],\"type\":\"scatter3d\"},{\"line\":{\"color\":\"black\",\"width\":3},\"mode\":\"lines\",\"x\":[0.8073402360702788,1.25438093745456],\"y\":[-3.2467515076010205,-4.3439074376567195],\"z\":[-6.027165208394953,-5.4198097277508195],\"type\":\"scatter3d\"},{\"line\":{\"color\":\"black\",\"width\":3},\"mode\":\"lines\",\"x\":[-0.2457711283922004,-1.3353998791478827],\"y\":[-3.756216277637847,-4.615765380581463],\"z\":[-7.489074284593028,-6.725046932361814],\"type\":\"scatter3d\"},{\"line\":{\"color\":\"black\",\"width\":3},\"mode\":\"lines\",\"x\":[-0.2457711283922004,0.5350911802599893],\"y\":[-3.756216277637847,-4.601545813257569],\"z\":[-7.489074284593028,-8.309775667977583],\"type\":\"scatter3d\"},{\"line\":{\"color\":\"black\",\"width\":3},\"mode\":\"lines\",\"x\":[-0.2457711283922004,-0.8457892412131413],\"y\":[-3.756216277637847,-2.589962014461171],\"z\":[-7.489074284593028,-8.016055486621168],\"type\":\"scatter3d\"},{\"line\":{\"color\":\"black\",\"width\":3},\"mode\":\"lines\",\"x\":[-1.3353998791478827,-1.279598195899887],\"y\":[-4.615765380581463,-4.716382390751652],\"z\":[-6.725046932361814,-5.7736188975446225],\"type\":\"scatter3d\"}],                        {\"template\":{\"data\":{\"histogram2dcontour\":[{\"type\":\"histogram2dcontour\",\"colorbar\":{\"outlinewidth\":0,\"ticks\":\"\"},\"colorscale\":[[0.0,\"#0d0887\"],[0.1111111111111111,\"#46039f\"],[0.2222222222222222,\"#7201a8\"],[0.3333333333333333,\"#9c179e\"],[0.4444444444444444,\"#bd3786\"],[0.5555555555555556,\"#d8576b\"],[0.6666666666666666,\"#ed7953\"],[0.7777777777777778,\"#fb9f3a\"],[0.8888888888888888,\"#fdca26\"],[1.0,\"#f0f921\"]]}],\"choropleth\":[{\"type\":\"choropleth\",\"colorbar\":{\"outlinewidth\":0,\"ticks\":\"\"}}],\"histogram2d\":[{\"type\":\"histogram2d\",\"colorbar\":{\"outlinewidth\":0,\"ticks\":\"\"},\"colorscale\":[[0.0,\"#0d0887\"],[0.1111111111111111,\"#46039f\"],[0.2222222222222222,\"#7201a8\"],[0.3333333333333333,\"#9c179e\"],[0.4444444444444444,\"#bd3786\"],[0.5555555555555556,\"#d8576b\"],[0.6666666666666666,\"#ed7953\"],[0.7777777777777778,\"#fb9f3a\"],[0.8888888888888888,\"#fdca26\"],[1.0,\"#f0f921\"]]}],\"heatmap\":[{\"type\":\"heatmap\",\"colorbar\":{\"outlinewidth\":0,\"ticks\":\"\"},\"colorscale\":[[0.0,\"#0d0887\"],[0.1111111111111111,\"#46039f\"],[0.2222222222222222,\"#7201a8\"],[0.3333333333333333,\"#9c179e\"],[0.4444444444444444,\"#bd3786\"],[0.5555555555555556,\"#d8576b\"],[0.6666666666666666,\"#ed7953\"],[0.7777777777777778,\"#fb9f3a\"],[0.8888888888888888,\"#fdca26\"],[1.0,\"#f0f921\"]]}],\"heatmapgl\":[{\"type\":\"heatmapgl\",\"colorbar\":{\"outlinewidth\":0,\"ticks\":\"\"},\"colorscale\":[[0.0,\"#0d0887\"],[0.1111111111111111,\"#46039f\"],[0.2222222222222222,\"#7201a8\"],[0.3333333333333333,\"#9c179e\"],[0.4444444444444444,\"#bd3786\"],[0.5555555555555556,\"#d8576b\"],[0.6666666666666666,\"#ed7953\"],[0.7777777777777778,\"#fb9f3a\"],[0.8888888888888888,\"#fdca26\"],[1.0,\"#f0f921\"]]}],\"contourcarpet\":[{\"type\":\"contourcarpet\",\"colorbar\":{\"outlinewidth\":0,\"ticks\":\"\"}}],\"contour\":[{\"type\":\"contour\",\"colorbar\":{\"outlinewidth\":0,\"ticks\":\"\"},\"colorscale\":[[0.0,\"#0d0887\"],[0.1111111111111111,\"#46039f\"],[0.2222222222222222,\"#7201a8\"],[0.3333333333333333,\"#9c179e\"],[0.4444444444444444,\"#bd3786\"],[0.5555555555555556,\"#d8576b\"],[0.6666666666666666,\"#ed7953\"],[0.7777777777777778,\"#fb9f3a\"],[0.8888888888888888,\"#fdca26\"],[1.0,\"#f0f921\"]]}],\"surface\":[{\"type\":\"surface\",\"colorbar\":{\"outlinewidth\":0,\"ticks\":\"\"},\"colorscale\":[[0.0,\"#0d0887\"],[0.1111111111111111,\"#46039f\"],[0.2222222222222222,\"#7201a8\"],[0.3333333333333333,\"#9c179e\"],[0.4444444444444444,\"#bd3786\"],[0.5555555555555556,\"#d8576b\"],[0.6666666666666666,\"#ed7953\"],[0.7777777777777778,\"#fb9f3a\"],[0.8888888888888888,\"#fdca26\"],[1.0,\"#f0f921\"]]}],\"mesh3d\":[{\"type\":\"mesh3d\",\"colorbar\":{\"outlinewidth\":0,\"ticks\":\"\"}}],\"scatter\":[{\"fillpattern\":{\"fillmode\":\"overlay\",\"size\":10,\"solidity\":0.2},\"type\":\"scatter\"}],\"parcoords\":[{\"type\":\"parcoords\",\"line\":{\"colorbar\":{\"outlinewidth\":0,\"ticks\":\"\"}}}],\"scatterpolargl\":[{\"type\":\"scatterpolargl\",\"marker\":{\"colorbar\":{\"outlinewidth\":0,\"ticks\":\"\"}}}],\"bar\":[{\"error_x\":{\"color\":\"#2a3f5f\"},\"error_y\":{\"color\":\"#2a3f5f\"},\"marker\":{\"line\":{\"color\":\"#E5ECF6\",\"width\":0.5},\"pattern\":{\"fillmode\":\"overlay\",\"size\":10,\"solidity\":0.2}},\"type\":\"bar\"}],\"scattergeo\":[{\"type\":\"scattergeo\",\"marker\":{\"colorbar\":{\"outlinewidth\":0,\"ticks\":\"\"}}}],\"scatterpolar\":[{\"type\":\"scatterpolar\",\"marker\":{\"colorbar\":{\"outlinewidth\":0,\"ticks\":\"\"}}}],\"histogram\":[{\"marker\":{\"pattern\":{\"fillmode\":\"overlay\",\"size\":10,\"solidity\":0.2}},\"type\":\"histogram\"}],\"scattergl\":[{\"type\":\"scattergl\",\"marker\":{\"colorbar\":{\"outlinewidth\":0,\"ticks\":\"\"}}}],\"scatter3d\":[{\"type\":\"scatter3d\",\"line\":{\"colorbar\":{\"outlinewidth\":0,\"ticks\":\"\"}},\"marker\":{\"colorbar\":{\"outlinewidth\":0,\"ticks\":\"\"}}}],\"scattermapbox\":[{\"type\":\"scattermapbox\",\"marker\":{\"colorbar\":{\"outlinewidth\":0,\"ticks\":\"\"}}}],\"scatterternary\":[{\"type\":\"scatterternary\",\"marker\":{\"colorbar\":{\"outlinewidth\":0,\"ticks\":\"\"}}}],\"scattercarpet\":[{\"type\":\"scattercarpet\",\"marker\":{\"colorbar\":{\"outlinewidth\":0,\"ticks\":\"\"}}}],\"carpet\":[{\"aaxis\":{\"endlinecolor\":\"#2a3f5f\",\"gridcolor\":\"white\",\"linecolor\":\"white\",\"minorgridcolor\":\"white\",\"startlinecolor\":\"#2a3f5f\"},\"baxis\":{\"endlinecolor\":\"#2a3f5f\",\"gridcolor\":\"white\",\"linecolor\":\"white\",\"minorgridcolor\":\"white\",\"startlinecolor\":\"#2a3f5f\"},\"type\":\"carpet\"}],\"table\":[{\"cells\":{\"fill\":{\"color\":\"#EBF0F8\"},\"line\":{\"color\":\"white\"}},\"header\":{\"fill\":{\"color\":\"#C8D4E3\"},\"line\":{\"color\":\"white\"}},\"type\":\"table\"}],\"barpolar\":[{\"marker\":{\"line\":{\"color\":\"#E5ECF6\",\"width\":0.5},\"pattern\":{\"fillmode\":\"overlay\",\"size\":10,\"solidity\":0.2}},\"type\":\"barpolar\"}],\"pie\":[{\"automargin\":true,\"type\":\"pie\"}]},\"layout\":{\"autotypenumbers\":\"strict\",\"colorway\":[\"#636efa\",\"#EF553B\",\"#00cc96\",\"#ab63fa\",\"#FFA15A\",\"#19d3f3\",\"#FF6692\",\"#B6E880\",\"#FF97FF\",\"#FECB52\"],\"font\":{\"color\":\"#2a3f5f\"},\"hovermode\":\"closest\",\"hoverlabel\":{\"align\":\"left\"},\"paper_bgcolor\":\"white\",\"plot_bgcolor\":\"#E5ECF6\",\"polar\":{\"bgcolor\":\"#E5ECF6\",\"angularaxis\":{\"gridcolor\":\"white\",\"linecolor\":\"white\",\"ticks\":\"\"},\"radialaxis\":{\"gridcolor\":\"white\",\"linecolor\":\"white\",\"ticks\":\"\"}},\"ternary\":{\"bgcolor\":\"#E5ECF6\",\"aaxis\":{\"gridcolor\":\"white\",\"linecolor\":\"white\",\"ticks\":\"\"},\"baxis\":{\"gridcolor\":\"white\",\"linecolor\":\"white\",\"ticks\":\"\"},\"caxis\":{\"gridcolor\":\"white\",\"linecolor\":\"white\",\"ticks\":\"\"}},\"coloraxis\":{\"colorbar\":{\"outlinewidth\":0,\"ticks\":\"\"}},\"colorscale\":{\"sequential\":[[0.0,\"#0d0887\"],[0.1111111111111111,\"#46039f\"],[0.2222222222222222,\"#7201a8\"],[0.3333333333333333,\"#9c179e\"],[0.4444444444444444,\"#bd3786\"],[0.5555555555555556,\"#d8576b\"],[0.6666666666666666,\"#ed7953\"],[0.7777777777777778,\"#fb9f3a\"],[0.8888888888888888,\"#fdca26\"],[1.0,\"#f0f921\"]],\"sequentialminus\":[[0.0,\"#0d0887\"],[0.1111111111111111,\"#46039f\"],[0.2222222222222222,\"#7201a8\"],[0.3333333333333333,\"#9c179e\"],[0.4444444444444444,\"#bd3786\"],[0.5555555555555556,\"#d8576b\"],[0.6666666666666666,\"#ed7953\"],[0.7777777777777778,\"#fb9f3a\"],[0.8888888888888888,\"#fdca26\"],[1.0,\"#f0f921\"]],\"diverging\":[[0,\"#8e0152\"],[0.1,\"#c51b7d\"],[0.2,\"#de77ae\"],[0.3,\"#f1b6da\"],[0.4,\"#fde0ef\"],[0.5,\"#f7f7f7\"],[0.6,\"#e6f5d0\"],[0.7,\"#b8e186\"],[0.8,\"#7fbc41\"],[0.9,\"#4d9221\"],[1,\"#276419\"]]},\"xaxis\":{\"gridcolor\":\"white\",\"linecolor\":\"white\",\"ticks\":\"\",\"title\":{\"standoff\":15},\"zerolinecolor\":\"white\",\"automargin\":true,\"zerolinewidth\":2},\"yaxis\":{\"gridcolor\":\"white\",\"linecolor\":\"white\",\"ticks\":\"\",\"title\":{\"standoff\":15},\"zerolinecolor\":\"white\",\"automargin\":true,\"zerolinewidth\":2},\"scene\":{\"xaxis\":{\"backgroundcolor\":\"#E5ECF6\",\"gridcolor\":\"white\",\"linecolor\":\"white\",\"showbackground\":true,\"ticks\":\"\",\"zerolinecolor\":\"white\",\"gridwidth\":2},\"yaxis\":{\"backgroundcolor\":\"#E5ECF6\",\"gridcolor\":\"white\",\"linecolor\":\"white\",\"showbackground\":true,\"ticks\":\"\",\"zerolinecolor\":\"white\",\"gridwidth\":2},\"zaxis\":{\"backgroundcolor\":\"#E5ECF6\",\"gridcolor\":\"white\",\"linecolor\":\"white\",\"showbackground\":true,\"ticks\":\"\",\"zerolinecolor\":\"white\",\"gridwidth\":2}},\"shapedefaults\":{\"line\":{\"color\":\"#2a3f5f\"}},\"annotationdefaults\":{\"arrowcolor\":\"#2a3f5f\",\"arrowhead\":0,\"arrowwidth\":1},\"geo\":{\"bgcolor\":\"white\",\"landcolor\":\"#E5ECF6\",\"subunitcolor\":\"white\",\"showland\":true,\"showlakes\":true,\"lakecolor\":\"white\"},\"title\":{\"x\":0.05},\"mapbox\":{\"style\":\"light\"}}},\"scene\":{\"xaxis\":{\"showbackground\":false,\"showgrid\":true,\"zeroline\":true,\"gridcolor\":\"red\",\"zerolinecolor\":\"green\"},\"yaxis\":{\"showbackground\":false,\"showgrid\":true,\"zeroline\":true,\"gridcolor\":\"red\",\"zerolinecolor\":\"green\"},\"zaxis\":{\"showbackground\":false,\"showgrid\":true,\"zeroline\":true,\"gridcolor\":\"red\",\"zerolinecolor\":\"green\"},\"aspectmode\":\"data\"},\"margin\":{\"l\":50,\"r\":50,\"b\":100,\"t\":100,\"pad\":10},\"showlegend\":false,\"width\":500,\"height\":500,\"autosize\":false,\"paper_bgcolor\":\"rgba(140,140,140,0.5)\",\"plot_bgcolor\":\"rgba(0,100,140,0.5)\"},                        {\"responsive\": true}                    ).then(function(){\n",
       "                            \n",
       "var gd = document.getElementById('c5fee075-b861-49ca-95bd-b93d57bc125c');\n",
       "var x = new MutationObserver(function (mutations, observer) {{\n",
       "        var display = window.getComputedStyle(gd).display;\n",
       "        if (!display || display === 'none') {{\n",
       "            console.log([gd, 'removed!']);\n",
       "            Plotly.purge(gd);\n",
       "            observer.disconnect();\n",
       "        }}\n",
       "}});\n",
       "\n",
       "// Listen for the removal of the full notebook cells\n",
       "var notebookContainer = gd.closest('#notebook-container');\n",
       "if (notebookContainer) {{\n",
       "    x.observe(notebookContainer, {childList: true});\n",
       "}}\n",
       "\n",
       "// Listen for the clearing of the current output cell\n",
       "var outputEl = gd.closest('.output');\n",
       "if (outputEl) {{\n",
       "    x.observe(outputEl, {childList: true});\n",
       "}}\n",
       "\n",
       "                        })                };                });            </script>        </div>"
      ]
     },
     "metadata": {},
     "output_type": "display_data"
    },
    {
     "name": "stdout",
     "output_type": "stream",
     "text": [
      "shown below: HSO3_CF2_3_CF_CF2_3_CF3\n"
     ]
    },
    {
     "data": {
      "application/vnd.plotly.v1+json": {
       "config": {
        "plotlyServerURL": "https://plot.ly"
       },
       "data": [
        {
         "hoverinfo": "text",
         "marker": {
          "color": [
           "black",
           "lime",
           "lime",
           "lime",
           "black",
           "lime",
           "lime",
           "black",
           "lime",
           "lime",
           "black",
           "lime",
           "lime",
           "black",
           "lime",
           "black",
           "lime",
           "lime",
           "black",
           "lime",
           "lime",
           "black",
           "lime",
           "lime",
           "yellow",
           "red",
           "red",
           "red",
           "white"
          ],
          "colorscale": [
           [
            0,
            "#440154"
           ],
           [
            0.1111111111111111,
            "#482878"
           ],
           [
            0.2222222222222222,
            "#3e4989"
           ],
           [
            0.3333333333333333,
            "#31688e"
           ],
           [
            0.4444444444444444,
            "#26828e"
           ],
           [
            0.5555555555555556,
            "#1f9e89"
           ],
           [
            0.6666666666666666,
            "#35b779"
           ],
           [
            0.7777777777777778,
            "#6ece58"
           ],
           [
            0.8888888888888888,
            "#b5de2b"
           ],
           [
            1,
            "#fde725"
           ]
          ],
          "opacity": 0.8,
          "size": 3
         },
         "mode": "markers",
         "text": [
          "C1",
          "F2",
          "F3",
          "F4",
          "C5",
          "F6",
          "F7",
          "C8",
          "F9",
          "F10",
          "C11",
          "F12",
          "F13",
          "C14",
          "F16",
          "C17",
          "F18",
          "F19",
          "C20",
          "F21",
          "F22",
          "C23",
          "F24",
          "F25",
          "S26",
          "O27",
          "O28",
          "O29",
          "H30"
         ],
         "type": "scatter3d",
         "x": [
          0,
          -1.0169347302254699,
          -0.44557653768826,
          0.70940447840478,
          0.6876238827372908,
          1.7045586265728767,
          1.1332003676305231,
          0.03990545111099586,
          -0.9770292791144747,
          -0.4056710865772636,
          0.7275293338482864,
          1.744464077683873,
          1.1731058187415182,
          0.07981090222199161,
          -0.36576563546626717,
          0.7674347849592824,
          1.7843695287948687,
          1.2130112698525135,
          0.11971635333298702,
          -0.8972183768924832,
          -0.325860184355271,
          0.8073402360702788,
          1.827171697571174,
          1.25438093745456,
          -0.2457711283922004,
          -1.3353998791478827,
          0.5350911802599893,
          -0.8457892412131413,
          -1.279598195899887
         ],
         "y": [
          0,
          -0.75246221681069,
          1.09984321741231,
          0.30949213355259003,
          -0.5997526212234046,
          0.15270929465963212,
          -1.6995946713066508,
          -0.8823329621258713,
          -1.634795178936561,
          0.21751025528643853,
          -1.482085583349276,
          -0.7296236674662399,
          -2.5819276334325223,
          -1.7646659242517428,
          -0.6648227068394332,
          -2.3644185454751483,
          -1.6119566295921117,
          -3.464260595558395,
          -2.6469988863776157,
          -3.3994611031883046,
          -1.5471556689653054,
          -3.2467515076010205,
          -2.494341690966345,
          -4.3439074376567195,
          -3.756216277637847,
          -4.615765380581463,
          -4.601545813257569,
          -2.589962014461171,
          -4.716382390751652
         ],
         "z": [
          0,
          0.35634641152507,
          -0.5649302025294499,
          1.06221462745206,
          -0.7794037395502719,
          -1.1357507476742115,
          -0.21447122275294894,
          -1.7492538229482257,
          -1.3929074114231557,
          -2.3141840254776755,
          -2.5286575624984975,
          -2.8850045706224368,
          -1.963725045701175,
          -3.4985076458964524,
          -4.063437848425902,
          -4.277911385446725,
          -4.634258393570664,
          -3.7129788686494027,
          -5.24776146884468,
          -4.891415057319609,
          -5.81269167137413,
          -6.027165208394953,
          -6.385593222447593,
          -5.4198097277508195,
          -7.489074284593028,
          -6.725046932361814,
          -8.309775667977583,
          -8.016055486621168,
          -5.7736188975446225
         ]
        },
        {
         "line": {
          "color": "black",
          "width": 3
         },
         "mode": "lines",
         "type": "scatter3d",
         "x": [
          0,
          -1.0169347302254699
         ],
         "y": [
          0,
          -0.75246221681069
         ],
         "z": [
          0,
          0.35634641152507
         ]
        },
        {
         "line": {
          "color": "black",
          "width": 3
         },
         "mode": "lines",
         "type": "scatter3d",
         "x": [
          0,
          -0.44557653768826
         ],
         "y": [
          0,
          1.09984321741231
         ],
         "z": [
          0,
          -0.5649302025294499
         ]
        },
        {
         "line": {
          "color": "black",
          "width": 3
         },
         "mode": "lines",
         "type": "scatter3d",
         "x": [
          0,
          0.70940447840478
         ],
         "y": [
          0,
          0.30949213355259003
         ],
         "z": [
          0,
          1.06221462745206
         ]
        },
        {
         "line": {
          "color": "black",
          "width": 3
         },
         "mode": "lines",
         "type": "scatter3d",
         "x": [
          0,
          0.6876238827372908
         ],
         "y": [
          0,
          -0.5997526212234046
         ],
         "z": [
          0,
          -0.7794037395502719
         ]
        },
        {
         "line": {
          "color": "black",
          "width": 3
         },
         "mode": "lines",
         "type": "scatter3d",
         "x": [
          0.6876238827372908,
          1.7045586265728767
         ],
         "y": [
          -0.5997526212234046,
          0.15270929465963212
         ],
         "z": [
          -0.7794037395502719,
          -1.1357507476742115
         ]
        },
        {
         "line": {
          "color": "black",
          "width": 3
         },
         "mode": "lines",
         "type": "scatter3d",
         "x": [
          0.6876238827372908,
          1.1332003676305231
         ],
         "y": [
          -0.5997526212234046,
          -1.6995946713066508
         ],
         "z": [
          -0.7794037395502719,
          -0.21447122275294894
         ]
        },
        {
         "line": {
          "color": "black",
          "width": 3
         },
         "mode": "lines",
         "type": "scatter3d",
         "x": [
          0.6876238827372908,
          0.03990545111099586
         ],
         "y": [
          -0.5997526212234046,
          -0.8823329621258713
         ],
         "z": [
          -0.7794037395502719,
          -1.7492538229482257
         ]
        },
        {
         "line": {
          "color": "black",
          "width": 3
         },
         "mode": "lines",
         "type": "scatter3d",
         "x": [
          0.03990545111099586,
          -0.9770292791144747
         ],
         "y": [
          -0.8823329621258713,
          -1.634795178936561
         ],
         "z": [
          -1.7492538229482257,
          -1.3929074114231557
         ]
        },
        {
         "line": {
          "color": "black",
          "width": 3
         },
         "mode": "lines",
         "type": "scatter3d",
         "x": [
          0.03990545111099586,
          -0.4056710865772636
         ],
         "y": [
          -0.8823329621258713,
          0.21751025528643853
         ],
         "z": [
          -1.7492538229482257,
          -2.3141840254776755
         ]
        },
        {
         "line": {
          "color": "black",
          "width": 3
         },
         "mode": "lines",
         "type": "scatter3d",
         "x": [
          0.03990545111099586,
          0.7275293338482864
         ],
         "y": [
          -0.8823329621258713,
          -1.482085583349276
         ],
         "z": [
          -1.7492538229482257,
          -2.5286575624984975
         ]
        },
        {
         "line": {
          "color": "black",
          "width": 3
         },
         "mode": "lines",
         "type": "scatter3d",
         "x": [
          0.7275293338482864,
          1.744464077683873
         ],
         "y": [
          -1.482085583349276,
          -0.7296236674662399
         ],
         "z": [
          -2.5286575624984975,
          -2.8850045706224368
         ]
        },
        {
         "line": {
          "color": "black",
          "width": 3
         },
         "mode": "lines",
         "type": "scatter3d",
         "x": [
          0.7275293338482864,
          1.1731058187415182
         ],
         "y": [
          -1.482085583349276,
          -2.5819276334325223
         ],
         "z": [
          -2.5286575624984975,
          -1.963725045701175
         ]
        },
        {
         "line": {
          "color": "black",
          "width": 3
         },
         "mode": "lines",
         "type": "scatter3d",
         "x": [
          0.7275293338482864,
          0.07981090222199161
         ],
         "y": [
          -1.482085583349276,
          -1.7646659242517428
         ],
         "z": [
          -2.5286575624984975,
          -3.4985076458964524
         ]
        },
        {
         "line": {
          "color": "black",
          "width": 3
         },
         "mode": "lines",
         "type": "scatter3d",
         "x": [
          0.07981090222199161,
          -0.36576563546626717
         ],
         "y": [
          -1.7646659242517428,
          -0.6648227068394332
         ],
         "z": [
          -3.4985076458964524,
          -4.063437848425902
         ]
        },
        {
         "line": {
          "color": "black",
          "width": 3
         },
         "mode": "lines",
         "type": "scatter3d",
         "x": [
          0.07981090222199161,
          0.7674347849592824
         ],
         "y": [
          -1.7646659242517428,
          -2.3644185454751483
         ],
         "z": [
          -3.4985076458964524,
          -4.277911385446725
         ]
        },
        {
         "line": {
          "color": "black",
          "width": 3
         },
         "mode": "lines",
         "type": "scatter3d",
         "x": [
          0.7674347849592824,
          1.7843695287948687
         ],
         "y": [
          -2.3644185454751483,
          -1.6119566295921117
         ],
         "z": [
          -4.277911385446725,
          -4.634258393570664
         ]
        },
        {
         "line": {
          "color": "black",
          "width": 3
         },
         "mode": "lines",
         "type": "scatter3d",
         "x": [
          0.7674347849592824,
          1.2130112698525135
         ],
         "y": [
          -2.3644185454751483,
          -3.464260595558395
         ],
         "z": [
          -4.277911385446725,
          -3.7129788686494027
         ]
        },
        {
         "line": {
          "color": "black",
          "width": 3
         },
         "mode": "lines",
         "type": "scatter3d",
         "x": [
          0.7674347849592824,
          0.11971635333298702
         ],
         "y": [
          -2.3644185454751483,
          -2.6469988863776157
         ],
         "z": [
          -4.277911385446725,
          -5.24776146884468
         ]
        },
        {
         "line": {
          "color": "black",
          "width": 3
         },
         "mode": "lines",
         "type": "scatter3d",
         "x": [
          0.11971635333298702,
          -0.8972183768924832
         ],
         "y": [
          -2.6469988863776157,
          -3.3994611031883046
         ],
         "z": [
          -5.24776146884468,
          -4.891415057319609
         ]
        },
        {
         "line": {
          "color": "black",
          "width": 3
         },
         "mode": "lines",
         "type": "scatter3d",
         "x": [
          0.11971635333298702,
          -0.325860184355271
         ],
         "y": [
          -2.6469988863776157,
          -1.5471556689653054
         ],
         "z": [
          -5.24776146884468,
          -5.81269167137413
         ]
        },
        {
         "line": {
          "color": "black",
          "width": 3
         },
         "mode": "lines",
         "type": "scatter3d",
         "x": [
          0.11971635333298702,
          0.8073402360702788
         ],
         "y": [
          -2.6469988863776157,
          -3.2467515076010205
         ],
         "z": [
          -5.24776146884468,
          -6.027165208394953
         ]
        },
        {
         "line": {
          "color": "black",
          "width": 3
         },
         "mode": "lines",
         "type": "scatter3d",
         "x": [
          -0.8972183768924832,
          -1.279598195899887
         ],
         "y": [
          -3.3994611031883046,
          -4.716382390751652
         ],
         "z": [
          -4.891415057319609,
          -5.7736188975446225
         ]
        },
        {
         "line": {
          "color": "black",
          "width": 3
         },
         "mode": "lines",
         "type": "scatter3d",
         "x": [
          0.8073402360702788,
          1.827171697571174
         ],
         "y": [
          -3.2467515076010205,
          -2.494341690966345
         ],
         "z": [
          -6.027165208394953,
          -6.385593222447593
         ]
        },
        {
         "line": {
          "color": "black",
          "width": 3
         },
         "mode": "lines",
         "type": "scatter3d",
         "x": [
          0.8073402360702788,
          1.25438093745456
         ],
         "y": [
          -3.2467515076010205,
          -4.3439074376567195
         ],
         "z": [
          -6.027165208394953,
          -5.4198097277508195
         ]
        },
        {
         "line": {
          "color": "black",
          "width": 3
         },
         "mode": "lines",
         "type": "scatter3d",
         "x": [
          -0.2457711283922004,
          -1.3353998791478827
         ],
         "y": [
          -3.756216277637847,
          -4.615765380581463
         ],
         "z": [
          -7.489074284593028,
          -6.725046932361814
         ]
        },
        {
         "line": {
          "color": "black",
          "width": 3
         },
         "mode": "lines",
         "type": "scatter3d",
         "x": [
          -0.2457711283922004,
          0.5350911802599893
         ],
         "y": [
          -3.756216277637847,
          -4.601545813257569
         ],
         "z": [
          -7.489074284593028,
          -8.309775667977583
         ]
        },
        {
         "line": {
          "color": "black",
          "width": 3
         },
         "mode": "lines",
         "type": "scatter3d",
         "x": [
          -0.2457711283922004,
          -0.8457892412131413
         ],
         "y": [
          -3.756216277637847,
          -2.589962014461171
         ],
         "z": [
          -7.489074284593028,
          -8.016055486621168
         ]
        },
        {
         "line": {
          "color": "black",
          "width": 3
         },
         "mode": "lines",
         "type": "scatter3d",
         "x": [
          -1.3353998791478827,
          -1.279598195899887
         ],
         "y": [
          -4.615765380581463,
          -4.716382390751652
         ],
         "z": [
          -6.725046932361814,
          -5.7736188975446225
         ]
        }
       ],
       "layout": {
        "autosize": false,
        "height": 500,
        "margin": {
         "b": 100,
         "l": 50,
         "pad": 10,
         "r": 50,
         "t": 100
        },
        "paper_bgcolor": "rgba(140,140,140,0.5)",
        "plot_bgcolor": "rgba(0,100,140,0.5)",
        "scene": {
         "aspectmode": "data",
         "aspectratio": {
          "x": 0.5682453416314863,
          "y": 1.0450492668835267,
          "z": 1.683942860423198
         },
         "xaxis": {
          "gridcolor": "red",
          "showbackground": false,
          "showgrid": true,
          "type": "linear",
          "zeroline": true,
          "zerolinecolor": "green"
         },
         "yaxis": {
          "gridcolor": "red",
          "showbackground": false,
          "showgrid": true,
          "type": "linear",
          "zeroline": true,
          "zerolinecolor": "green"
         },
         "zaxis": {
          "gridcolor": "red",
          "showbackground": false,
          "showgrid": true,
          "type": "linear",
          "zeroline": true,
          "zerolinecolor": "green"
         }
        },
        "showlegend": false,
        "template": {
         "data": {
          "bar": [
           {
            "error_x": {
             "color": "#2a3f5f"
            },
            "error_y": {
             "color": "#2a3f5f"
            },
            "marker": {
             "line": {
              "color": "#E5ECF6",
              "width": 0.5
             },
             "pattern": {
              "fillmode": "overlay",
              "size": 10,
              "solidity": 0.2
             }
            },
            "type": "bar"
           }
          ],
          "barpolar": [
           {
            "marker": {
             "line": {
              "color": "#E5ECF6",
              "width": 0.5
             },
             "pattern": {
              "fillmode": "overlay",
              "size": 10,
              "solidity": 0.2
             }
            },
            "type": "barpolar"
           }
          ],
          "carpet": [
           {
            "aaxis": {
             "endlinecolor": "#2a3f5f",
             "gridcolor": "white",
             "linecolor": "white",
             "minorgridcolor": "white",
             "startlinecolor": "#2a3f5f"
            },
            "baxis": {
             "endlinecolor": "#2a3f5f",
             "gridcolor": "white",
             "linecolor": "white",
             "minorgridcolor": "white",
             "startlinecolor": "#2a3f5f"
            },
            "type": "carpet"
           }
          ],
          "choropleth": [
           {
            "colorbar": {
             "outlinewidth": 0,
             "ticks": ""
            },
            "type": "choropleth"
           }
          ],
          "contour": [
           {
            "colorbar": {
             "outlinewidth": 0,
             "ticks": ""
            },
            "colorscale": [
             [
              0,
              "#0d0887"
             ],
             [
              0.1111111111111111,
              "#46039f"
             ],
             [
              0.2222222222222222,
              "#7201a8"
             ],
             [
              0.3333333333333333,
              "#9c179e"
             ],
             [
              0.4444444444444444,
              "#bd3786"
             ],
             [
              0.5555555555555556,
              "#d8576b"
             ],
             [
              0.6666666666666666,
              "#ed7953"
             ],
             [
              0.7777777777777778,
              "#fb9f3a"
             ],
             [
              0.8888888888888888,
              "#fdca26"
             ],
             [
              1,
              "#f0f921"
             ]
            ],
            "type": "contour"
           }
          ],
          "contourcarpet": [
           {
            "colorbar": {
             "outlinewidth": 0,
             "ticks": ""
            },
            "type": "contourcarpet"
           }
          ],
          "heatmap": [
           {
            "colorbar": {
             "outlinewidth": 0,
             "ticks": ""
            },
            "colorscale": [
             [
              0,
              "#0d0887"
             ],
             [
              0.1111111111111111,
              "#46039f"
             ],
             [
              0.2222222222222222,
              "#7201a8"
             ],
             [
              0.3333333333333333,
              "#9c179e"
             ],
             [
              0.4444444444444444,
              "#bd3786"
             ],
             [
              0.5555555555555556,
              "#d8576b"
             ],
             [
              0.6666666666666666,
              "#ed7953"
             ],
             [
              0.7777777777777778,
              "#fb9f3a"
             ],
             [
              0.8888888888888888,
              "#fdca26"
             ],
             [
              1,
              "#f0f921"
             ]
            ],
            "type": "heatmap"
           }
          ],
          "heatmapgl": [
           {
            "colorbar": {
             "outlinewidth": 0,
             "ticks": ""
            },
            "colorscale": [
             [
              0,
              "#0d0887"
             ],
             [
              0.1111111111111111,
              "#46039f"
             ],
             [
              0.2222222222222222,
              "#7201a8"
             ],
             [
              0.3333333333333333,
              "#9c179e"
             ],
             [
              0.4444444444444444,
              "#bd3786"
             ],
             [
              0.5555555555555556,
              "#d8576b"
             ],
             [
              0.6666666666666666,
              "#ed7953"
             ],
             [
              0.7777777777777778,
              "#fb9f3a"
             ],
             [
              0.8888888888888888,
              "#fdca26"
             ],
             [
              1,
              "#f0f921"
             ]
            ],
            "type": "heatmapgl"
           }
          ],
          "histogram": [
           {
            "marker": {
             "pattern": {
              "fillmode": "overlay",
              "size": 10,
              "solidity": 0.2
             }
            },
            "type": "histogram"
           }
          ],
          "histogram2d": [
           {
            "colorbar": {
             "outlinewidth": 0,
             "ticks": ""
            },
            "colorscale": [
             [
              0,
              "#0d0887"
             ],
             [
              0.1111111111111111,
              "#46039f"
             ],
             [
              0.2222222222222222,
              "#7201a8"
             ],
             [
              0.3333333333333333,
              "#9c179e"
             ],
             [
              0.4444444444444444,
              "#bd3786"
             ],
             [
              0.5555555555555556,
              "#d8576b"
             ],
             [
              0.6666666666666666,
              "#ed7953"
             ],
             [
              0.7777777777777778,
              "#fb9f3a"
             ],
             [
              0.8888888888888888,
              "#fdca26"
             ],
             [
              1,
              "#f0f921"
             ]
            ],
            "type": "histogram2d"
           }
          ],
          "histogram2dcontour": [
           {
            "colorbar": {
             "outlinewidth": 0,
             "ticks": ""
            },
            "colorscale": [
             [
              0,
              "#0d0887"
             ],
             [
              0.1111111111111111,
              "#46039f"
             ],
             [
              0.2222222222222222,
              "#7201a8"
             ],
             [
              0.3333333333333333,
              "#9c179e"
             ],
             [
              0.4444444444444444,
              "#bd3786"
             ],
             [
              0.5555555555555556,
              "#d8576b"
             ],
             [
              0.6666666666666666,
              "#ed7953"
             ],
             [
              0.7777777777777778,
              "#fb9f3a"
             ],
             [
              0.8888888888888888,
              "#fdca26"
             ],
             [
              1,
              "#f0f921"
             ]
            ],
            "type": "histogram2dcontour"
           }
          ],
          "mesh3d": [
           {
            "colorbar": {
             "outlinewidth": 0,
             "ticks": ""
            },
            "type": "mesh3d"
           }
          ],
          "parcoords": [
           {
            "line": {
             "colorbar": {
              "outlinewidth": 0,
              "ticks": ""
             }
            },
            "type": "parcoords"
           }
          ],
          "pie": [
           {
            "automargin": true,
            "type": "pie"
           }
          ],
          "scatter": [
           {
            "fillpattern": {
             "fillmode": "overlay",
             "size": 10,
             "solidity": 0.2
            },
            "type": "scatter"
           }
          ],
          "scatter3d": [
           {
            "line": {
             "colorbar": {
              "outlinewidth": 0,
              "ticks": ""
             }
            },
            "marker": {
             "colorbar": {
              "outlinewidth": 0,
              "ticks": ""
             }
            },
            "type": "scatter3d"
           }
          ],
          "scattercarpet": [
           {
            "marker": {
             "colorbar": {
              "outlinewidth": 0,
              "ticks": ""
             }
            },
            "type": "scattercarpet"
           }
          ],
          "scattergeo": [
           {
            "marker": {
             "colorbar": {
              "outlinewidth": 0,
              "ticks": ""
             }
            },
            "type": "scattergeo"
           }
          ],
          "scattergl": [
           {
            "marker": {
             "colorbar": {
              "outlinewidth": 0,
              "ticks": ""
             }
            },
            "type": "scattergl"
           }
          ],
          "scattermapbox": [
           {
            "marker": {
             "colorbar": {
              "outlinewidth": 0,
              "ticks": ""
             }
            },
            "type": "scattermapbox"
           }
          ],
          "scatterpolar": [
           {
            "marker": {
             "colorbar": {
              "outlinewidth": 0,
              "ticks": ""
             }
            },
            "type": "scatterpolar"
           }
          ],
          "scatterpolargl": [
           {
            "marker": {
             "colorbar": {
              "outlinewidth": 0,
              "ticks": ""
             }
            },
            "type": "scatterpolargl"
           }
          ],
          "scatterternary": [
           {
            "marker": {
             "colorbar": {
              "outlinewidth": 0,
              "ticks": ""
             }
            },
            "type": "scatterternary"
           }
          ],
          "surface": [
           {
            "colorbar": {
             "outlinewidth": 0,
             "ticks": ""
            },
            "colorscale": [
             [
              0,
              "#0d0887"
             ],
             [
              0.1111111111111111,
              "#46039f"
             ],
             [
              0.2222222222222222,
              "#7201a8"
             ],
             [
              0.3333333333333333,
              "#9c179e"
             ],
             [
              0.4444444444444444,
              "#bd3786"
             ],
             [
              0.5555555555555556,
              "#d8576b"
             ],
             [
              0.6666666666666666,
              "#ed7953"
             ],
             [
              0.7777777777777778,
              "#fb9f3a"
             ],
             [
              0.8888888888888888,
              "#fdca26"
             ],
             [
              1,
              "#f0f921"
             ]
            ],
            "type": "surface"
           }
          ],
          "table": [
           {
            "cells": {
             "fill": {
              "color": "#EBF0F8"
             },
             "line": {
              "color": "white"
             }
            },
            "header": {
             "fill": {
              "color": "#C8D4E3"
             },
             "line": {
              "color": "white"
             }
            },
            "type": "table"
           }
          ]
         },
         "layout": {
          "annotationdefaults": {
           "arrowcolor": "#2a3f5f",
           "arrowhead": 0,
           "arrowwidth": 1
          },
          "autotypenumbers": "strict",
          "coloraxis": {
           "colorbar": {
            "outlinewidth": 0,
            "ticks": ""
           }
          },
          "colorscale": {
           "diverging": [
            [
             0,
             "#8e0152"
            ],
            [
             0.1,
             "#c51b7d"
            ],
            [
             0.2,
             "#de77ae"
            ],
            [
             0.3,
             "#f1b6da"
            ],
            [
             0.4,
             "#fde0ef"
            ],
            [
             0.5,
             "#f7f7f7"
            ],
            [
             0.6,
             "#e6f5d0"
            ],
            [
             0.7,
             "#b8e186"
            ],
            [
             0.8,
             "#7fbc41"
            ],
            [
             0.9,
             "#4d9221"
            ],
            [
             1,
             "#276419"
            ]
           ],
           "sequential": [
            [
             0,
             "#0d0887"
            ],
            [
             0.1111111111111111,
             "#46039f"
            ],
            [
             0.2222222222222222,
             "#7201a8"
            ],
            [
             0.3333333333333333,
             "#9c179e"
            ],
            [
             0.4444444444444444,
             "#bd3786"
            ],
            [
             0.5555555555555556,
             "#d8576b"
            ],
            [
             0.6666666666666666,
             "#ed7953"
            ],
            [
             0.7777777777777778,
             "#fb9f3a"
            ],
            [
             0.8888888888888888,
             "#fdca26"
            ],
            [
             1,
             "#f0f921"
            ]
           ],
           "sequentialminus": [
            [
             0,
             "#0d0887"
            ],
            [
             0.1111111111111111,
             "#46039f"
            ],
            [
             0.2222222222222222,
             "#7201a8"
            ],
            [
             0.3333333333333333,
             "#9c179e"
            ],
            [
             0.4444444444444444,
             "#bd3786"
            ],
            [
             0.5555555555555556,
             "#d8576b"
            ],
            [
             0.6666666666666666,
             "#ed7953"
            ],
            [
             0.7777777777777778,
             "#fb9f3a"
            ],
            [
             0.8888888888888888,
             "#fdca26"
            ],
            [
             1,
             "#f0f921"
            ]
           ]
          },
          "colorway": [
           "#636efa",
           "#EF553B",
           "#00cc96",
           "#ab63fa",
           "#FFA15A",
           "#19d3f3",
           "#FF6692",
           "#B6E880",
           "#FF97FF",
           "#FECB52"
          ],
          "font": {
           "color": "#2a3f5f"
          },
          "geo": {
           "bgcolor": "white",
           "lakecolor": "white",
           "landcolor": "#E5ECF6",
           "showlakes": true,
           "showland": true,
           "subunitcolor": "white"
          },
          "hoverlabel": {
           "align": "left"
          },
          "hovermode": "closest",
          "mapbox": {
           "style": "light"
          },
          "paper_bgcolor": "white",
          "plot_bgcolor": "#E5ECF6",
          "polar": {
           "angularaxis": {
            "gridcolor": "white",
            "linecolor": "white",
            "ticks": ""
           },
           "bgcolor": "#E5ECF6",
           "radialaxis": {
            "gridcolor": "white",
            "linecolor": "white",
            "ticks": ""
           }
          },
          "scene": {
           "xaxis": {
            "backgroundcolor": "#E5ECF6",
            "gridcolor": "white",
            "gridwidth": 2,
            "linecolor": "white",
            "showbackground": true,
            "ticks": "",
            "zerolinecolor": "white"
           },
           "yaxis": {
            "backgroundcolor": "#E5ECF6",
            "gridcolor": "white",
            "gridwidth": 2,
            "linecolor": "white",
            "showbackground": true,
            "ticks": "",
            "zerolinecolor": "white"
           },
           "zaxis": {
            "backgroundcolor": "#E5ECF6",
            "gridcolor": "white",
            "gridwidth": 2,
            "linecolor": "white",
            "showbackground": true,
            "ticks": "",
            "zerolinecolor": "white"
           }
          },
          "shapedefaults": {
           "line": {
            "color": "#2a3f5f"
           }
          },
          "ternary": {
           "aaxis": {
            "gridcolor": "white",
            "linecolor": "white",
            "ticks": ""
           },
           "baxis": {
            "gridcolor": "white",
            "linecolor": "white",
            "ticks": ""
           },
           "bgcolor": "#E5ECF6",
           "caxis": {
            "gridcolor": "white",
            "linecolor": "white",
            "ticks": ""
           }
          },
          "title": {
           "x": 0.05
          },
          "xaxis": {
           "automargin": true,
           "gridcolor": "white",
           "linecolor": "white",
           "ticks": "",
           "title": {
            "standoff": 15
           },
           "zerolinecolor": "white",
           "zerolinewidth": 2
          },
          "yaxis": {
           "automargin": true,
           "gridcolor": "white",
           "linecolor": "white",
           "ticks": "",
           "title": {
            "standoff": 15
           },
           "zerolinecolor": "white",
           "zerolinewidth": 2
          }
         }
        },
        "width": 500
       }
      },
      "image/png": "[encoded data removed]",
      "text/html": [
       "<div>                            <div id=\"8b00924a-5c60-47a8-805c-d6ffe2c0bced\" class=\"plotly-graph-div\" style=\"height:500px; width:500px;\"></div>            <script type=\"text/javascript\">                require([\"plotly\"], function(Plotly) {                    window.PLOTLYENV=window.PLOTLYENV || {};                                    if (document.getElementById(\"8b00924a-5c60-47a8-805c-d6ffe2c0bced\")) {                    Plotly.newPlot(                        \"8b00924a-5c60-47a8-805c-d6ffe2c0bced\",                        [{\"hoverinfo\":\"text\",\"marker\":{\"color\":[\"black\",\"lime\",\"lime\",\"lime\",\"black\",\"lime\",\"lime\",\"black\",\"lime\",\"lime\",\"black\",\"lime\",\"lime\",\"black\",\"lime\",\"black\",\"lime\",\"lime\",\"black\",\"lime\",\"lime\",\"black\",\"lime\",\"lime\",\"yellow\",\"red\",\"red\",\"red\",\"white\"],\"colorscale\":[[0.0,\"#440154\"],[0.1111111111111111,\"#482878\"],[0.2222222222222222,\"#3e4989\"],[0.3333333333333333,\"#31688e\"],[0.4444444444444444,\"#26828e\"],[0.5555555555555556,\"#1f9e89\"],[0.6666666666666666,\"#35b779\"],[0.7777777777777778,\"#6ece58\"],[0.8888888888888888,\"#b5de2b\"],[1.0,\"#fde725\"]],\"opacity\":0.8,\"size\":3},\"mode\":\"markers\",\"text\":[\"C1\",\"F2\",\"F3\",\"F4\",\"C5\",\"F6\",\"F7\",\"C8\",\"F9\",\"F10\",\"C11\",\"F12\",\"F13\",\"C14\",\"F16\",\"C17\",\"F18\",\"F19\",\"C20\",\"F21\",\"F22\",\"C23\",\"F24\",\"F25\",\"S26\",\"O27\",\"O28\",\"O29\",\"H30\"],\"x\":[0.0,-1.0169347302254699,-0.44557653768826,0.70940447840478,0.6876238827372908,1.7045586265728767,1.1332003676305231,0.03990545111099586,-0.9770292791144747,-0.4056710865772636,0.7275293338482864,1.744464077683873,1.1731058187415182,0.07981090222199161,-0.36576563546626717,0.7674347849592824,1.7843695287948687,1.2130112698525135,0.11971635333298702,-0.8972183768924832,-0.325860184355271,0.8073402360702788,1.827171697571174,1.25438093745456,-0.2457711283922004,-1.3353998791478827,0.5350911802599893,-0.8457892412131413,-1.279598195899887],\"y\":[0.0,-0.75246221681069,1.09984321741231,0.30949213355259003,-0.5997526212234046,0.15270929465963212,-1.6995946713066508,-0.8823329621258713,-1.634795178936561,0.21751025528643853,-1.482085583349276,-0.7296236674662399,-2.5819276334325223,-1.7646659242517428,-0.6648227068394332,-2.3644185454751483,-1.6119566295921117,-3.464260595558395,-2.6469988863776157,-3.3994611031883046,-1.5471556689653054,-3.2467515076010205,-2.494341690966345,-4.3439074376567195,-3.756216277637847,-4.615765380581463,-4.601545813257569,-2.589962014461171,-4.716382390751652],\"z\":[0.0,0.35634641152507,-0.5649302025294499,1.06221462745206,-0.7794037395502719,-1.1357507476742115,-0.21447122275294894,-1.7492538229482257,-1.3929074114231557,-2.3141840254776755,-2.5286575624984975,-2.8850045706224368,-1.963725045701175,-3.4985076458964524,-4.063437848425902,-4.277911385446725,-4.634258393570664,-3.7129788686494027,-5.24776146884468,-4.891415057319609,-5.81269167137413,-6.027165208394953,-6.385593222447593,-5.4198097277508195,-7.489074284593028,-6.725046932361814,-8.309775667977583,-8.016055486621168,-5.7736188975446225],\"type\":\"scatter3d\"},{\"line\":{\"color\":\"black\",\"width\":3},\"mode\":\"lines\",\"x\":[0.0,-1.0169347302254699],\"y\":[0.0,-0.75246221681069],\"z\":[0.0,0.35634641152507],\"type\":\"scatter3d\"},{\"line\":{\"color\":\"black\",\"width\":3},\"mode\":\"lines\",\"x\":[0.0,-0.44557653768826],\"y\":[0.0,1.09984321741231],\"z\":[0.0,-0.5649302025294499],\"type\":\"scatter3d\"},{\"line\":{\"color\":\"black\",\"width\":3},\"mode\":\"lines\",\"x\":[0.0,0.70940447840478],\"y\":[0.0,0.30949213355259003],\"z\":[0.0,1.06221462745206],\"type\":\"scatter3d\"},{\"line\":{\"color\":\"black\",\"width\":3},\"mode\":\"lines\",\"x\":[0.0,0.6876238827372908],\"y\":[0.0,-0.5997526212234046],\"z\":[0.0,-0.7794037395502719],\"type\":\"scatter3d\"},{\"line\":{\"color\":\"black\",\"width\":3},\"mode\":\"lines\",\"x\":[0.6876238827372908,1.7045586265728767],\"y\":[-0.5997526212234046,0.15270929465963212],\"z\":[-0.7794037395502719,-1.1357507476742115],\"type\":\"scatter3d\"},{\"line\":{\"color\":\"black\",\"width\":3},\"mode\":\"lines\",\"x\":[0.6876238827372908,1.1332003676305231],\"y\":[-0.5997526212234046,-1.6995946713066508],\"z\":[-0.7794037395502719,-0.21447122275294894],\"type\":\"scatter3d\"},{\"line\":{\"color\":\"black\",\"width\":3},\"mode\":\"lines\",\"x\":[0.6876238827372908,0.03990545111099586],\"y\":[-0.5997526212234046,-0.8823329621258713],\"z\":[-0.7794037395502719,-1.7492538229482257],\"type\":\"scatter3d\"},{\"line\":{\"color\":\"black\",\"width\":3},\"mode\":\"lines\",\"x\":[0.03990545111099586,-0.9770292791144747],\"y\":[-0.8823329621258713,-1.634795178936561],\"z\":[-1.7492538229482257,-1.3929074114231557],\"type\":\"scatter3d\"},{\"line\":{\"color\":\"black\",\"width\":3},\"mode\":\"lines\",\"x\":[0.03990545111099586,-0.4056710865772636],\"y\":[-0.8823329621258713,0.21751025528643853],\"z\":[-1.7492538229482257,-2.3141840254776755],\"type\":\"scatter3d\"},{\"line\":{\"color\":\"black\",\"width\":3},\"mode\":\"lines\",\"x\":[0.03990545111099586,0.7275293338482864],\"y\":[-0.8823329621258713,-1.482085583349276],\"z\":[-1.7492538229482257,-2.5286575624984975],\"type\":\"scatter3d\"},{\"line\":{\"color\":\"black\",\"width\":3},\"mode\":\"lines\",\"x\":[0.7275293338482864,1.744464077683873],\"y\":[-1.482085583349276,-0.7296236674662399],\"z\":[-2.5286575624984975,-2.8850045706224368],\"type\":\"scatter3d\"},{\"line\":{\"color\":\"black\",\"width\":3},\"mode\":\"lines\",\"x\":[0.7275293338482864,1.1731058187415182],\"y\":[-1.482085583349276,-2.5819276334325223],\"z\":[-2.5286575624984975,-1.963725045701175],\"type\":\"scatter3d\"},{\"line\":{\"color\":\"black\",\"width\":3},\"mode\":\"lines\",\"x\":[0.7275293338482864,0.07981090222199161],\"y\":[-1.482085583349276,-1.7646659242517428],\"z\":[-2.5286575624984975,-3.4985076458964524],\"type\":\"scatter3d\"},{\"line\":{\"color\":\"black\",\"width\":3},\"mode\":\"lines\",\"x\":[0.07981090222199161,-0.36576563546626717],\"y\":[-1.7646659242517428,-0.6648227068394332],\"z\":[-3.4985076458964524,-4.063437848425902],\"type\":\"scatter3d\"},{\"line\":{\"color\":\"black\",\"width\":3},\"mode\":\"lines\",\"x\":[0.07981090222199161,0.7674347849592824],\"y\":[-1.7646659242517428,-2.3644185454751483],\"z\":[-3.4985076458964524,-4.277911385446725],\"type\":\"scatter3d\"},{\"line\":{\"color\":\"black\",\"width\":3},\"mode\":\"lines\",\"x\":[0.7674347849592824,1.7843695287948687],\"y\":[-2.3644185454751483,-1.6119566295921117],\"z\":[-4.277911385446725,-4.634258393570664],\"type\":\"scatter3d\"},{\"line\":{\"color\":\"black\",\"width\":3},\"mode\":\"lines\",\"x\":[0.7674347849592824,1.2130112698525135],\"y\":[-2.3644185454751483,-3.464260595558395],\"z\":[-4.277911385446725,-3.7129788686494027],\"type\":\"scatter3d\"},{\"line\":{\"color\":\"black\",\"width\":3},\"mode\":\"lines\",\"x\":[0.7674347849592824,0.11971635333298702],\"y\":[-2.3644185454751483,-2.6469988863776157],\"z\":[-4.277911385446725,-5.24776146884468],\"type\":\"scatter3d\"},{\"line\":{\"color\":\"black\",\"width\":3},\"mode\":\"lines\",\"x\":[0.11971635333298702,-0.8972183768924832],\"y\":[-2.6469988863776157,-3.3994611031883046],\"z\":[-5.24776146884468,-4.891415057319609],\"type\":\"scatter3d\"},{\"line\":{\"color\":\"black\",\"width\":3},\"mode\":\"lines\",\"x\":[0.11971635333298702,-0.325860184355271],\"y\":[-2.6469988863776157,-1.5471556689653054],\"z\":[-5.24776146884468,-5.81269167137413],\"type\":\"scatter3d\"},{\"line\":{\"color\":\"black\",\"width\":3},\"mode\":\"lines\",\"x\":[0.11971635333298702,0.8073402360702788],\"y\":[-2.6469988863776157,-3.2467515076010205],\"z\":[-5.24776146884468,-6.027165208394953],\"type\":\"scatter3d\"},{\"line\":{\"color\":\"black\",\"width\":3},\"mode\":\"lines\",\"x\":[-0.8972183768924832,-1.279598195899887],\"y\":[-3.3994611031883046,-4.716382390751652],\"z\":[-4.891415057319609,-5.7736188975446225],\"type\":\"scatter3d\"},{\"line\":{\"color\":\"black\",\"width\":3},\"mode\":\"lines\",\"x\":[0.8073402360702788,1.827171697571174],\"y\":[-3.2467515076010205,-2.494341690966345],\"z\":[-6.027165208394953,-6.385593222447593],\"type\":\"scatter3d\"},{\"line\":{\"color\":\"black\",\"width\":3},\"mode\":\"lines\",\"x\":[0.8073402360702788,1.25438093745456],\"y\":[-3.2467515076010205,-4.3439074376567195],\"z\":[-6.027165208394953,-5.4198097277508195],\"type\":\"scatter3d\"},{\"line\":{\"color\":\"black\",\"width\":3},\"mode\":\"lines\",\"x\":[-0.2457711283922004,-1.3353998791478827],\"y\":[-3.756216277637847,-4.615765380581463],\"z\":[-7.489074284593028,-6.725046932361814],\"type\":\"scatter3d\"},{\"line\":{\"color\":\"black\",\"width\":3},\"mode\":\"lines\",\"x\":[-0.2457711283922004,0.5350911802599893],\"y\":[-3.756216277637847,-4.601545813257569],\"z\":[-7.489074284593028,-8.309775667977583],\"type\":\"scatter3d\"},{\"line\":{\"color\":\"black\",\"width\":3},\"mode\":\"lines\",\"x\":[-0.2457711283922004,-0.8457892412131413],\"y\":[-3.756216277637847,-2.589962014461171],\"z\":[-7.489074284593028,-8.016055486621168],\"type\":\"scatter3d\"},{\"line\":{\"color\":\"black\",\"width\":3},\"mode\":\"lines\",\"x\":[-1.3353998791478827,-1.279598195899887],\"y\":[-4.615765380581463,-4.716382390751652],\"z\":[-6.725046932361814,-5.7736188975446225],\"type\":\"scatter3d\"}],                        {\"template\":{\"data\":{\"histogram2dcontour\":[{\"type\":\"histogram2dcontour\",\"colorbar\":{\"outlinewidth\":0,\"ticks\":\"\"},\"colorscale\":[[0.0,\"#0d0887\"],[0.1111111111111111,\"#46039f\"],[0.2222222222222222,\"#7201a8\"],[0.3333333333333333,\"#9c179e\"],[0.4444444444444444,\"#bd3786\"],[0.5555555555555556,\"#d8576b\"],[0.6666666666666666,\"#ed7953\"],[0.7777777777777778,\"#fb9f3a\"],[0.8888888888888888,\"#fdca26\"],[1.0,\"#f0f921\"]]}],\"choropleth\":[{\"type\":\"choropleth\",\"colorbar\":{\"outlinewidth\":0,\"ticks\":\"\"}}],\"histogram2d\":[{\"type\":\"histogram2d\",\"colorbar\":{\"outlinewidth\":0,\"ticks\":\"\"},\"colorscale\":[[0.0,\"#0d0887\"],[0.1111111111111111,\"#46039f\"],[0.2222222222222222,\"#7201a8\"],[0.3333333333333333,\"#9c179e\"],[0.4444444444444444,\"#bd3786\"],[0.5555555555555556,\"#d8576b\"],[0.6666666666666666,\"#ed7953\"],[0.7777777777777778,\"#fb9f3a\"],[0.8888888888888888,\"#fdca26\"],[1.0,\"#f0f921\"]]}],\"heatmap\":[{\"type\":\"heatmap\",\"colorbar\":{\"outlinewidth\":0,\"ticks\":\"\"},\"colorscale\":[[0.0,\"#0d0887\"],[0.1111111111111111,\"#46039f\"],[0.2222222222222222,\"#7201a8\"],[0.3333333333333333,\"#9c179e\"],[0.4444444444444444,\"#bd3786\"],[0.5555555555555556,\"#d8576b\"],[0.6666666666666666,\"#ed7953\"],[0.7777777777777778,\"#fb9f3a\"],[0.8888888888888888,\"#fdca26\"],[1.0,\"#f0f921\"]]}],\"heatmapgl\":[{\"type\":\"heatmapgl\",\"colorbar\":{\"outlinewidth\":0,\"ticks\":\"\"},\"colorscale\":[[0.0,\"#0d0887\"],[0.1111111111111111,\"#46039f\"],[0.2222222222222222,\"#7201a8\"],[0.3333333333333333,\"#9c179e\"],[0.4444444444444444,\"#bd3786\"],[0.5555555555555556,\"#d8576b\"],[0.6666666666666666,\"#ed7953\"],[0.7777777777777778,\"#fb9f3a\"],[0.8888888888888888,\"#fdca26\"],[1.0,\"#f0f921\"]]}],\"contourcarpet\":[{\"type\":\"contourcarpet\",\"colorbar\":{\"outlinewidth\":0,\"ticks\":\"\"}}],\"contour\":[{\"type\":\"contour\",\"colorbar\":{\"outlinewidth\":0,\"ticks\":\"\"},\"colorscale\":[[0.0,\"#0d0887\"],[0.1111111111111111,\"#46039f\"],[0.2222222222222222,\"#7201a8\"],[0.3333333333333333,\"#9c179e\"],[0.4444444444444444,\"#bd3786\"],[0.5555555555555556,\"#d8576b\"],[0.6666666666666666,\"#ed7953\"],[0.7777777777777778,\"#fb9f3a\"],[0.8888888888888888,\"#fdca26\"],[1.0,\"#f0f921\"]]}],\"surface\":[{\"type\":\"surface\",\"colorbar\":{\"outlinewidth\":0,\"ticks\":\"\"},\"colorscale\":[[0.0,\"#0d0887\"],[0.1111111111111111,\"#46039f\"],[0.2222222222222222,\"#7201a8\"],[0.3333333333333333,\"#9c179e\"],[0.4444444444444444,\"#bd3786\"],[0.5555555555555556,\"#d8576b\"],[0.6666666666666666,\"#ed7953\"],[0.7777777777777778,\"#fb9f3a\"],[0.8888888888888888,\"#fdca26\"],[1.0,\"#f0f921\"]]}],\"mesh3d\":[{\"type\":\"mesh3d\",\"colorbar\":{\"outlinewidth\":0,\"ticks\":\"\"}}],\"scatter\":[{\"fillpattern\":{\"fillmode\":\"overlay\",\"size\":10,\"solidity\":0.2},\"type\":\"scatter\"}],\"parcoords\":[{\"type\":\"parcoords\",\"line\":{\"colorbar\":{\"outlinewidth\":0,\"ticks\":\"\"}}}],\"scatterpolargl\":[{\"type\":\"scatterpolargl\",\"marker\":{\"colorbar\":{\"outlinewidth\":0,\"ticks\":\"\"}}}],\"bar\":[{\"error_x\":{\"color\":\"#2a3f5f\"},\"error_y\":{\"color\":\"#2a3f5f\"},\"marker\":{\"line\":{\"color\":\"#E5ECF6\",\"width\":0.5},\"pattern\":{\"fillmode\":\"overlay\",\"size\":10,\"solidity\":0.2}},\"type\":\"bar\"}],\"scattergeo\":[{\"type\":\"scattergeo\",\"marker\":{\"colorbar\":{\"outlinewidth\":0,\"ticks\":\"\"}}}],\"scatterpolar\":[{\"type\":\"scatterpolar\",\"marker\":{\"colorbar\":{\"outlinewidth\":0,\"ticks\":\"\"}}}],\"histogram\":[{\"marker\":{\"pattern\":{\"fillmode\":\"overlay\",\"size\":10,\"solidity\":0.2}},\"type\":\"histogram\"}],\"scattergl\":[{\"type\":\"scattergl\",\"marker\":{\"colorbar\":{\"outlinewidth\":0,\"ticks\":\"\"}}}],\"scatter3d\":[{\"type\":\"scatter3d\",\"line\":{\"colorbar\":{\"outlinewidth\":0,\"ticks\":\"\"}},\"marker\":{\"colorbar\":{\"outlinewidth\":0,\"ticks\":\"\"}}}],\"scattermapbox\":[{\"type\":\"scattermapbox\",\"marker\":{\"colorbar\":{\"outlinewidth\":0,\"ticks\":\"\"}}}],\"scatterternary\":[{\"type\":\"scatterternary\",\"marker\":{\"colorbar\":{\"outlinewidth\":0,\"ticks\":\"\"}}}],\"scattercarpet\":[{\"type\":\"scattercarpet\",\"marker\":{\"colorbar\":{\"outlinewidth\":0,\"ticks\":\"\"}}}],\"carpet\":[{\"aaxis\":{\"endlinecolor\":\"#2a3f5f\",\"gridcolor\":\"white\",\"linecolor\":\"white\",\"minorgridcolor\":\"white\",\"startlinecolor\":\"#2a3f5f\"},\"baxis\":{\"endlinecolor\":\"#2a3f5f\",\"gridcolor\":\"white\",\"linecolor\":\"white\",\"minorgridcolor\":\"white\",\"startlinecolor\":\"#2a3f5f\"},\"type\":\"carpet\"}],\"table\":[{\"cells\":{\"fill\":{\"color\":\"#EBF0F8\"},\"line\":{\"color\":\"white\"}},\"header\":{\"fill\":{\"color\":\"#C8D4E3\"},\"line\":{\"color\":\"white\"}},\"type\":\"table\"}],\"barpolar\":[{\"marker\":{\"line\":{\"color\":\"#E5ECF6\",\"width\":0.5},\"pattern\":{\"fillmode\":\"overlay\",\"size\":10,\"solidity\":0.2}},\"type\":\"barpolar\"}],\"pie\":[{\"automargin\":true,\"type\":\"pie\"}]},\"layout\":{\"autotypenumbers\":\"strict\",\"colorway\":[\"#636efa\",\"#EF553B\",\"#00cc96\",\"#ab63fa\",\"#FFA15A\",\"#19d3f3\",\"#FF6692\",\"#B6E880\",\"#FF97FF\",\"#FECB52\"],\"font\":{\"color\":\"#2a3f5f\"},\"hovermode\":\"closest\",\"hoverlabel\":{\"align\":\"left\"},\"paper_bgcolor\":\"white\",\"plot_bgcolor\":\"#E5ECF6\",\"polar\":{\"bgcolor\":\"#E5ECF6\",\"angularaxis\":{\"gridcolor\":\"white\",\"linecolor\":\"white\",\"ticks\":\"\"},\"radialaxis\":{\"gridcolor\":\"white\",\"linecolor\":\"white\",\"ticks\":\"\"}},\"ternary\":{\"bgcolor\":\"#E5ECF6\",\"aaxis\":{\"gridcolor\":\"white\",\"linecolor\":\"white\",\"ticks\":\"\"},\"baxis\":{\"gridcolor\":\"white\",\"linecolor\":\"white\",\"ticks\":\"\"},\"caxis\":{\"gridcolor\":\"white\",\"linecolor\":\"white\",\"ticks\":\"\"}},\"coloraxis\":{\"colorbar\":{\"outlinewidth\":0,\"ticks\":\"\"}},\"colorscale\":{\"sequential\":[[0.0,\"#0d0887\"],[0.1111111111111111,\"#46039f\"],[0.2222222222222222,\"#7201a8\"],[0.3333333333333333,\"#9c179e\"],[0.4444444444444444,\"#bd3786\"],[0.5555555555555556,\"#d8576b\"],[0.6666666666666666,\"#ed7953\"],[0.7777777777777778,\"#fb9f3a\"],[0.8888888888888888,\"#fdca26\"],[1.0,\"#f0f921\"]],\"sequentialminus\":[[0.0,\"#0d0887\"],[0.1111111111111111,\"#46039f\"],[0.2222222222222222,\"#7201a8\"],[0.3333333333333333,\"#9c179e\"],[0.4444444444444444,\"#bd3786\"],[0.5555555555555556,\"#d8576b\"],[0.6666666666666666,\"#ed7953\"],[0.7777777777777778,\"#fb9f3a\"],[0.8888888888888888,\"#fdca26\"],[1.0,\"#f0f921\"]],\"diverging\":[[0,\"#8e0152\"],[0.1,\"#c51b7d\"],[0.2,\"#de77ae\"],[0.3,\"#f1b6da\"],[0.4,\"#fde0ef\"],[0.5,\"#f7f7f7\"],[0.6,\"#e6f5d0\"],[0.7,\"#b8e186\"],[0.8,\"#7fbc41\"],[0.9,\"#4d9221\"],[1,\"#276419\"]]},\"xaxis\":{\"gridcolor\":\"white\",\"linecolor\":\"white\",\"ticks\":\"\",\"title\":{\"standoff\":15},\"zerolinecolor\":\"white\",\"automargin\":true,\"zerolinewidth\":2},\"yaxis\":{\"gridcolor\":\"white\",\"linecolor\":\"white\",\"ticks\":\"\",\"title\":{\"standoff\":15},\"zerolinecolor\":\"white\",\"automargin\":true,\"zerolinewidth\":2},\"scene\":{\"xaxis\":{\"backgroundcolor\":\"#E5ECF6\",\"gridcolor\":\"white\",\"linecolor\":\"white\",\"showbackground\":true,\"ticks\":\"\",\"zerolinecolor\":\"white\",\"gridwidth\":2},\"yaxis\":{\"backgroundcolor\":\"#E5ECF6\",\"gridcolor\":\"white\",\"linecolor\":\"white\",\"showbackground\":true,\"ticks\":\"\",\"zerolinecolor\":\"white\",\"gridwidth\":2},\"zaxis\":{\"backgroundcolor\":\"#E5ECF6\",\"gridcolor\":\"white\",\"linecolor\":\"white\",\"showbackground\":true,\"ticks\":\"\",\"zerolinecolor\":\"white\",\"gridwidth\":2}},\"shapedefaults\":{\"line\":{\"color\":\"#2a3f5f\"}},\"annotationdefaults\":{\"arrowcolor\":\"#2a3f5f\",\"arrowhead\":0,\"arrowwidth\":1},\"geo\":{\"bgcolor\":\"white\",\"landcolor\":\"#E5ECF6\",\"subunitcolor\":\"white\",\"showland\":true,\"showlakes\":true,\"lakecolor\":\"white\"},\"title\":{\"x\":0.05},\"mapbox\":{\"style\":\"light\"}}},\"scene\":{\"xaxis\":{\"showbackground\":false,\"showgrid\":true,\"zeroline\":true,\"gridcolor\":\"red\",\"zerolinecolor\":\"green\"},\"yaxis\":{\"showbackground\":false,\"showgrid\":true,\"zeroline\":true,\"gridcolor\":\"red\",\"zerolinecolor\":\"green\"},\"zaxis\":{\"showbackground\":false,\"showgrid\":true,\"zeroline\":true,\"gridcolor\":\"red\",\"zerolinecolor\":\"green\"},\"aspectmode\":\"data\"},\"margin\":{\"l\":50,\"r\":50,\"b\":100,\"t\":100,\"pad\":10},\"showlegend\":false,\"width\":500,\"height\":500,\"autosize\":false,\"paper_bgcolor\":\"rgba(140,140,140,0.5)\",\"plot_bgcolor\":\"rgba(0,100,140,0.5)\"},                        {\"responsive\": true}                    ).then(function(){\n",
       "                            \n",
       "var gd = document.getElementById('8b00924a-5c60-47a8-805c-d6ffe2c0bced');\n",
       "var x = new MutationObserver(function (mutations, observer) {{\n",
       "        var display = window.getComputedStyle(gd).display;\n",
       "        if (!display || display === 'none') {{\n",
       "            console.log([gd, 'removed!']);\n",
       "            Plotly.purge(gd);\n",
       "            observer.disconnect();\n",
       "        }}\n",
       "}});\n",
       "\n",
       "// Listen for the removal of the full notebook cells\n",
       "var notebookContainer = gd.closest('#notebook-container');\n",
       "if (notebookContainer) {{\n",
       "    x.observe(notebookContainer, {childList: true});\n",
       "}}\n",
       "\n",
       "// Listen for the clearing of the current output cell\n",
       "var outputEl = gd.closest('.output');\n",
       "if (outputEl) {{\n",
       "    x.observe(outputEl, {childList: true});\n",
       "}}\n",
       "\n",
       "                        })                };                });            </script>        </div>"
      ]
     },
     "metadata": {},
     "output_type": "display_data"
    },
    {
     "name": "stdout",
     "output_type": "stream",
     "text": [
      "shown below: HSO3_CF2_2_CF_CF2_4_CF3\n"
     ]
    },
    {
     "data": {
      "application/vnd.plotly.v1+json": {
       "config": {
        "plotlyServerURL": "https://plot.ly"
       },
       "data": [
        {
         "hoverinfo": "text",
         "marker": {
          "color": [
           "black",
           "lime",
           "lime",
           "lime",
           "black",
           "lime",
           "lime",
           "black",
           "lime",
           "lime",
           "black",
           "lime",
           "lime",
           "black",
           "lime",
           "lime",
           "black",
           "lime",
           "black",
           "lime",
           "lime",
           "black",
           "lime",
           "lime",
           "yellow",
           "red",
           "red",
           "red",
           "white"
          ],
          "colorscale": [
           [
            0,
            "#440154"
           ],
           [
            0.1111111111111111,
            "#482878"
           ],
           [
            0.2222222222222222,
            "#3e4989"
           ],
           [
            0.3333333333333333,
            "#31688e"
           ],
           [
            0.4444444444444444,
            "#26828e"
           ],
           [
            0.5555555555555556,
            "#1f9e89"
           ],
           [
            0.6666666666666666,
            "#35b779"
           ],
           [
            0.7777777777777778,
            "#6ece58"
           ],
           [
            0.8888888888888888,
            "#b5de2b"
           ],
           [
            1,
            "#fde725"
           ]
          ],
          "opacity": 0.8,
          "size": 3
         },
         "mode": "markers",
         "text": [
          "C1",
          "F2",
          "F3",
          "F4",
          "C5",
          "F6",
          "F7",
          "C8",
          "F9",
          "F10",
          "C11",
          "F12",
          "F13",
          "C14",
          "F15",
          "F16",
          "C17",
          "F19",
          "C20",
          "F21",
          "F22",
          "C23",
          "F24",
          "F25",
          "S26",
          "O27",
          "O28",
          "O29",
          "H30"
         ],
         "type": "scatter3d",
         "x": [
          0,
          -1.0169347302254699,
          -0.44557653768826,
          0.70940447840478,
          0.6876238827372908,
          1.7045586265728767,
          1.1332003676305231,
          0.03990545111099586,
          -0.9770292791144747,
          -0.4056710865772636,
          0.7275293338482864,
          1.744464077683873,
          1.1731058187415182,
          0.07981090222199161,
          -0.9371238280034792,
          -0.36576563546626717,
          0.7674347849592824,
          1.2130112698525135,
          0.11971635333298702,
          -0.8972183768924832,
          -0.325860184355271,
          0.8073402360702788,
          1.827171697571174,
          1.25438093745456,
          -0.2457711283922004,
          -1.3353998791478827,
          0.5350911802599893,
          -0.8457892412131413,
          -1.279598195899887
         ],
         "y": [
          0,
          -0.75246221681069,
          1.09984321741231,
          0.30949213355259003,
          -0.5997526212234046,
          0.15270929465963212,
          -1.6995946713066508,
          -0.8823329621258713,
          -1.634795178936561,
          0.21751025528643853,
          -1.482085583349276,
          -0.7296236674662399,
          -2.5819276334325223,
          -1.7646659242517428,
          -2.5171281410624324,
          -0.6648227068394332,
          -2.3644185454751483,
          -3.464260595558395,
          -2.6469988863776157,
          -3.3994611031883046,
          -1.5471556689653054,
          -3.2467515076010205,
          -2.494341690966345,
          -4.3439074376567195,
          -3.756216277637847,
          -4.615765380581463,
          -4.601545813257569,
          -2.589962014461171,
          -4.716382390751652
         ],
         "z": [
          0,
          0.35634641152507,
          -0.5649302025294499,
          1.06221462745206,
          -0.7794037395502719,
          -1.1357507476742115,
          -0.21447122275294894,
          -1.7492538229482257,
          -1.3929074114231557,
          -2.3141840254776755,
          -2.5286575624984975,
          -2.8850045706224368,
          -1.963725045701175,
          -3.4985076458964524,
          -3.142161234371382,
          -4.063437848425902,
          -4.277911385446725,
          -3.7129788686494027,
          -5.24776146884468,
          -4.891415057319609,
          -5.81269167137413,
          -6.027165208394953,
          -6.385593222447593,
          -5.4198097277508195,
          -7.489074284593028,
          -6.725046932361814,
          -8.309775667977583,
          -8.016055486621168,
          -5.7736188975446225
         ]
        },
        {
         "line": {
          "color": "black",
          "width": 3
         },
         "mode": "lines",
         "type": "scatter3d",
         "x": [
          0,
          -1.0169347302254699
         ],
         "y": [
          0,
          -0.75246221681069
         ],
         "z": [
          0,
          0.35634641152507
         ]
        },
        {
         "line": {
          "color": "black",
          "width": 3
         },
         "mode": "lines",
         "type": "scatter3d",
         "x": [
          0,
          -0.44557653768826
         ],
         "y": [
          0,
          1.09984321741231
         ],
         "z": [
          0,
          -0.5649302025294499
         ]
        },
        {
         "line": {
          "color": "black",
          "width": 3
         },
         "mode": "lines",
         "type": "scatter3d",
         "x": [
          0,
          0.70940447840478
         ],
         "y": [
          0,
          0.30949213355259003
         ],
         "z": [
          0,
          1.06221462745206
         ]
        },
        {
         "line": {
          "color": "black",
          "width": 3
         },
         "mode": "lines",
         "type": "scatter3d",
         "x": [
          0,
          0.6876238827372908
         ],
         "y": [
          0,
          -0.5997526212234046
         ],
         "z": [
          0,
          -0.7794037395502719
         ]
        },
        {
         "line": {
          "color": "black",
          "width": 3
         },
         "mode": "lines",
         "type": "scatter3d",
         "x": [
          0.6876238827372908,
          1.7045586265728767
         ],
         "y": [
          -0.5997526212234046,
          0.15270929465963212
         ],
         "z": [
          -0.7794037395502719,
          -1.1357507476742115
         ]
        },
        {
         "line": {
          "color": "black",
          "width": 3
         },
         "mode": "lines",
         "type": "scatter3d",
         "x": [
          0.6876238827372908,
          1.1332003676305231
         ],
         "y": [
          -0.5997526212234046,
          -1.6995946713066508
         ],
         "z": [
          -0.7794037395502719,
          -0.21447122275294894
         ]
        },
        {
         "line": {
          "color": "black",
          "width": 3
         },
         "mode": "lines",
         "type": "scatter3d",
         "x": [
          0.6876238827372908,
          0.03990545111099586
         ],
         "y": [
          -0.5997526212234046,
          -0.8823329621258713
         ],
         "z": [
          -0.7794037395502719,
          -1.7492538229482257
         ]
        },
        {
         "line": {
          "color": "black",
          "width": 3
         },
         "mode": "lines",
         "type": "scatter3d",
         "x": [
          0.03990545111099586,
          -0.9770292791144747
         ],
         "y": [
          -0.8823329621258713,
          -1.634795178936561
         ],
         "z": [
          -1.7492538229482257,
          -1.3929074114231557
         ]
        },
        {
         "line": {
          "color": "black",
          "width": 3
         },
         "mode": "lines",
         "type": "scatter3d",
         "x": [
          0.03990545111099586,
          -0.4056710865772636
         ],
         "y": [
          -0.8823329621258713,
          0.21751025528643853
         ],
         "z": [
          -1.7492538229482257,
          -2.3141840254776755
         ]
        },
        {
         "line": {
          "color": "black",
          "width": 3
         },
         "mode": "lines",
         "type": "scatter3d",
         "x": [
          0.03990545111099586,
          0.7275293338482864
         ],
         "y": [
          -0.8823329621258713,
          -1.482085583349276
         ],
         "z": [
          -1.7492538229482257,
          -2.5286575624984975
         ]
        },
        {
         "line": {
          "color": "black",
          "width": 3
         },
         "mode": "lines",
         "type": "scatter3d",
         "x": [
          0.7275293338482864,
          1.744464077683873
         ],
         "y": [
          -1.482085583349276,
          -0.7296236674662399
         ],
         "z": [
          -2.5286575624984975,
          -2.8850045706224368
         ]
        },
        {
         "line": {
          "color": "black",
          "width": 3
         },
         "mode": "lines",
         "type": "scatter3d",
         "x": [
          0.7275293338482864,
          1.1731058187415182
         ],
         "y": [
          -1.482085583349276,
          -2.5819276334325223
         ],
         "z": [
          -2.5286575624984975,
          -1.963725045701175
         ]
        },
        {
         "line": {
          "color": "black",
          "width": 3
         },
         "mode": "lines",
         "type": "scatter3d",
         "x": [
          0.7275293338482864,
          0.07981090222199161
         ],
         "y": [
          -1.482085583349276,
          -1.7646659242517428
         ],
         "z": [
          -2.5286575624984975,
          -3.4985076458964524
         ]
        },
        {
         "line": {
          "color": "black",
          "width": 3
         },
         "mode": "lines",
         "type": "scatter3d",
         "x": [
          0.07981090222199161,
          -0.9371238280034792
         ],
         "y": [
          -1.7646659242517428,
          -2.5171281410624324
         ],
         "z": [
          -3.4985076458964524,
          -3.142161234371382
         ]
        },
        {
         "line": {
          "color": "black",
          "width": 3
         },
         "mode": "lines",
         "type": "scatter3d",
         "x": [
          0.07981090222199161,
          -0.36576563546626717
         ],
         "y": [
          -1.7646659242517428,
          -0.6648227068394332
         ],
         "z": [
          -3.4985076458964524,
          -4.063437848425902
         ]
        },
        {
         "line": {
          "color": "black",
          "width": 3
         },
         "mode": "lines",
         "type": "scatter3d",
         "x": [
          0.07981090222199161,
          0.7674347849592824
         ],
         "y": [
          -1.7646659242517428,
          -2.3644185454751483
         ],
         "z": [
          -3.4985076458964524,
          -4.277911385446725
         ]
        },
        {
         "line": {
          "color": "black",
          "width": 3
         },
         "mode": "lines",
         "type": "scatter3d",
         "x": [
          0.7674347849592824,
          1.2130112698525135
         ],
         "y": [
          -2.3644185454751483,
          -3.464260595558395
         ],
         "z": [
          -4.277911385446725,
          -3.7129788686494027
         ]
        },
        {
         "line": {
          "color": "black",
          "width": 3
         },
         "mode": "lines",
         "type": "scatter3d",
         "x": [
          0.7674347849592824,
          0.11971635333298702
         ],
         "y": [
          -2.3644185454751483,
          -2.6469988863776157
         ],
         "z": [
          -4.277911385446725,
          -5.24776146884468
         ]
        },
        {
         "line": {
          "color": "black",
          "width": 3
         },
         "mode": "lines",
         "type": "scatter3d",
         "x": [
          0.11971635333298702,
          -0.8972183768924832
         ],
         "y": [
          -2.6469988863776157,
          -3.3994611031883046
         ],
         "z": [
          -5.24776146884468,
          -4.891415057319609
         ]
        },
        {
         "line": {
          "color": "black",
          "width": 3
         },
         "mode": "lines",
         "type": "scatter3d",
         "x": [
          0.11971635333298702,
          -0.325860184355271
         ],
         "y": [
          -2.6469988863776157,
          -1.5471556689653054
         ],
         "z": [
          -5.24776146884468,
          -5.81269167137413
         ]
        },
        {
         "line": {
          "color": "black",
          "width": 3
         },
         "mode": "lines",
         "type": "scatter3d",
         "x": [
          0.11971635333298702,
          0.8073402360702788
         ],
         "y": [
          -2.6469988863776157,
          -3.2467515076010205
         ],
         "z": [
          -5.24776146884468,
          -6.027165208394953
         ]
        },
        {
         "line": {
          "color": "black",
          "width": 3
         },
         "mode": "lines",
         "type": "scatter3d",
         "x": [
          -0.8972183768924832,
          -1.279598195899887
         ],
         "y": [
          -3.3994611031883046,
          -4.716382390751652
         ],
         "z": [
          -4.891415057319609,
          -5.7736188975446225
         ]
        },
        {
         "line": {
          "color": "black",
          "width": 3
         },
         "mode": "lines",
         "type": "scatter3d",
         "x": [
          0.8073402360702788,
          1.827171697571174
         ],
         "y": [
          -3.2467515076010205,
          -2.494341690966345
         ],
         "z": [
          -6.027165208394953,
          -6.385593222447593
         ]
        },
        {
         "line": {
          "color": "black",
          "width": 3
         },
         "mode": "lines",
         "type": "scatter3d",
         "x": [
          0.8073402360702788,
          1.25438093745456
         ],
         "y": [
          -3.2467515076010205,
          -4.3439074376567195
         ],
         "z": [
          -6.027165208394953,
          -5.4198097277508195
         ]
        },
        {
         "line": {
          "color": "black",
          "width": 3
         },
         "mode": "lines",
         "type": "scatter3d",
         "x": [
          -0.2457711283922004,
          -1.3353998791478827
         ],
         "y": [
          -3.756216277637847,
          -4.615765380581463
         ],
         "z": [
          -7.489074284593028,
          -6.725046932361814
         ]
        },
        {
         "line": {
          "color": "black",
          "width": 3
         },
         "mode": "lines",
         "type": "scatter3d",
         "x": [
          -0.2457711283922004,
          0.5350911802599893
         ],
         "y": [
          -3.756216277637847,
          -4.601545813257569
         ],
         "z": [
          -7.489074284593028,
          -8.309775667977583
         ]
        },
        {
         "line": {
          "color": "black",
          "width": 3
         },
         "mode": "lines",
         "type": "scatter3d",
         "x": [
          -0.2457711283922004,
          -0.8457892412131413
         ],
         "y": [
          -3.756216277637847,
          -2.589962014461171
         ],
         "z": [
          -7.489074284593028,
          -8.016055486621168
         ]
        },
        {
         "line": {
          "color": "black",
          "width": 3
         },
         "mode": "lines",
         "type": "scatter3d",
         "x": [
          -1.3353998791478827,
          -1.279598195899887
         ],
         "y": [
          -4.615765380581463,
          -4.716382390751652
         ],
         "z": [
          -6.725046932361814,
          -5.7736188975446225
         ]
        }
       ],
       "layout": {
        "autosize": false,
        "height": 500,
        "margin": {
         "b": 100,
         "l": 50,
         "pad": 10,
         "r": 50,
         "t": 100
        },
        "paper_bgcolor": "rgba(140,140,140,0.5)",
        "plot_bgcolor": "rgba(0,100,140,0.5)",
        "scene": {
         "aspectmode": "data",
         "aspectratio": {
          "x": 0.5682453416314863,
          "y": 1.0450492668835267,
          "z": 1.683942860423198
         },
         "xaxis": {
          "gridcolor": "red",
          "showbackground": false,
          "showgrid": true,
          "type": "linear",
          "zeroline": true,
          "zerolinecolor": "green"
         },
         "yaxis": {
          "gridcolor": "red",
          "showbackground": false,
          "showgrid": true,
          "type": "linear",
          "zeroline": true,
          "zerolinecolor": "green"
         },
         "zaxis": {
          "gridcolor": "red",
          "showbackground": false,
          "showgrid": true,
          "type": "linear",
          "zeroline": true,
          "zerolinecolor": "green"
         }
        },
        "showlegend": false,
        "template": {
         "data": {
          "bar": [
           {
            "error_x": {
             "color": "#2a3f5f"
            },
            "error_y": {
             "color": "#2a3f5f"
            },
            "marker": {
             "line": {
              "color": "#E5ECF6",
              "width": 0.5
             },
             "pattern": {
              "fillmode": "overlay",
              "size": 10,
              "solidity": 0.2
             }
            },
            "type": "bar"
           }
          ],
          "barpolar": [
           {
            "marker": {
             "line": {
              "color": "#E5ECF6",
              "width": 0.5
             },
             "pattern": {
              "fillmode": "overlay",
              "size": 10,
              "solidity": 0.2
             }
            },
            "type": "barpolar"
           }
          ],
          "carpet": [
           {
            "aaxis": {
             "endlinecolor": "#2a3f5f",
             "gridcolor": "white",
             "linecolor": "white",
             "minorgridcolor": "white",
             "startlinecolor": "#2a3f5f"
            },
            "baxis": {
             "endlinecolor": "#2a3f5f",
             "gridcolor": "white",
             "linecolor": "white",
             "minorgridcolor": "white",
             "startlinecolor": "#2a3f5f"
            },
            "type": "carpet"
           }
          ],
          "choropleth": [
           {
            "colorbar": {
             "outlinewidth": 0,
             "ticks": ""
            },
            "type": "choropleth"
           }
          ],
          "contour": [
           {
            "colorbar": {
             "outlinewidth": 0,
             "ticks": ""
            },
            "colorscale": [
             [
              0,
              "#0d0887"
             ],
             [
              0.1111111111111111,
              "#46039f"
             ],
             [
              0.2222222222222222,
              "#7201a8"
             ],
             [
              0.3333333333333333,
              "#9c179e"
             ],
             [
              0.4444444444444444,
              "#bd3786"
             ],
             [
              0.5555555555555556,
              "#d8576b"
             ],
             [
              0.6666666666666666,
              "#ed7953"
             ],
             [
              0.7777777777777778,
              "#fb9f3a"
             ],
             [
              0.8888888888888888,
              "#fdca26"
             ],
             [
              1,
              "#f0f921"
             ]
            ],
            "type": "contour"
           }
          ],
          "contourcarpet": [
           {
            "colorbar": {
             "outlinewidth": 0,
             "ticks": ""
            },
            "type": "contourcarpet"
           }
          ],
          "heatmap": [
           {
            "colorbar": {
             "outlinewidth": 0,
             "ticks": ""
            },
            "colorscale": [
             [
              0,
              "#0d0887"
             ],
             [
              0.1111111111111111,
              "#46039f"
             ],
             [
              0.2222222222222222,
              "#7201a8"
             ],
             [
              0.3333333333333333,
              "#9c179e"
             ],
             [
              0.4444444444444444,
              "#bd3786"
             ],
             [
              0.5555555555555556,
              "#d8576b"
             ],
             [
              0.6666666666666666,
              "#ed7953"
             ],
             [
              0.7777777777777778,
              "#fb9f3a"
             ],
             [
              0.8888888888888888,
              "#fdca26"
             ],
             [
              1,
              "#f0f921"
             ]
            ],
            "type": "heatmap"
           }
          ],
          "heatmapgl": [
           {
            "colorbar": {
             "outlinewidth": 0,
             "ticks": ""
            },
            "colorscale": [
             [
              0,
              "#0d0887"
             ],
             [
              0.1111111111111111,
              "#46039f"
             ],
             [
              0.2222222222222222,
              "#7201a8"
             ],
             [
              0.3333333333333333,
              "#9c179e"
             ],
             [
              0.4444444444444444,
              "#bd3786"
             ],
             [
              0.5555555555555556,
              "#d8576b"
             ],
             [
              0.6666666666666666,
              "#ed7953"
             ],
             [
              0.7777777777777778,
              "#fb9f3a"
             ],
             [
              0.8888888888888888,
              "#fdca26"
             ],
             [
              1,
              "#f0f921"
             ]
            ],
            "type": "heatmapgl"
           }
          ],
          "histogram": [
           {
            "marker": {
             "pattern": {
              "fillmode": "overlay",
              "size": 10,
              "solidity": 0.2
             }
            },
            "type": "histogram"
           }
          ],
          "histogram2d": [
           {
            "colorbar": {
             "outlinewidth": 0,
             "ticks": ""
            },
            "colorscale": [
             [
              0,
              "#0d0887"
             ],
             [
              0.1111111111111111,
              "#46039f"
             ],
             [
              0.2222222222222222,
              "#7201a8"
             ],
             [
              0.3333333333333333,
              "#9c179e"
             ],
             [
              0.4444444444444444,
              "#bd3786"
             ],
             [
              0.5555555555555556,
              "#d8576b"
             ],
             [
              0.6666666666666666,
              "#ed7953"
             ],
             [
              0.7777777777777778,
              "#fb9f3a"
             ],
             [
              0.8888888888888888,
              "#fdca26"
             ],
             [
              1,
              "#f0f921"
             ]
            ],
            "type": "histogram2d"
           }
          ],
          "histogram2dcontour": [
           {
            "colorbar": {
             "outlinewidth": 0,
             "ticks": ""
            },
            "colorscale": [
             [
              0,
              "#0d0887"
             ],
             [
              0.1111111111111111,
              "#46039f"
             ],
             [
              0.2222222222222222,
              "#7201a8"
             ],
             [
              0.3333333333333333,
              "#9c179e"
             ],
             [
              0.4444444444444444,
              "#bd3786"
             ],
             [
              0.5555555555555556,
              "#d8576b"
             ],
             [
              0.6666666666666666,
              "#ed7953"
             ],
             [
              0.7777777777777778,
              "#fb9f3a"
             ],
             [
              0.8888888888888888,
              "#fdca26"
             ],
             [
              1,
              "#f0f921"
             ]
            ],
            "type": "histogram2dcontour"
           }
          ],
          "mesh3d": [
           {
            "colorbar": {
             "outlinewidth": 0,
             "ticks": ""
            },
            "type": "mesh3d"
           }
          ],
          "parcoords": [
           {
            "line": {
             "colorbar": {
              "outlinewidth": 0,
              "ticks": ""
             }
            },
            "type": "parcoords"
           }
          ],
          "pie": [
           {
            "automargin": true,
            "type": "pie"
           }
          ],
          "scatter": [
           {
            "fillpattern": {
             "fillmode": "overlay",
             "size": 10,
             "solidity": 0.2
            },
            "type": "scatter"
           }
          ],
          "scatter3d": [
           {
            "line": {
             "colorbar": {
              "outlinewidth": 0,
              "ticks": ""
             }
            },
            "marker": {
             "colorbar": {
              "outlinewidth": 0,
              "ticks": ""
             }
            },
            "type": "scatter3d"
           }
          ],
          "scattercarpet": [
           {
            "marker": {
             "colorbar": {
              "outlinewidth": 0,
              "ticks": ""
             }
            },
            "type": "scattercarpet"
           }
          ],
          "scattergeo": [
           {
            "marker": {
             "colorbar": {
              "outlinewidth": 0,
              "ticks": ""
             }
            },
            "type": "scattergeo"
           }
          ],
          "scattergl": [
           {
            "marker": {
             "colorbar": {
              "outlinewidth": 0,
              "ticks": ""
             }
            },
            "type": "scattergl"
           }
          ],
          "scattermapbox": [
           {
            "marker": {
             "colorbar": {
              "outlinewidth": 0,
              "ticks": ""
             }
            },
            "type": "scattermapbox"
           }
          ],
          "scatterpolar": [
           {
            "marker": {
             "colorbar": {
              "outlinewidth": 0,
              "ticks": ""
             }
            },
            "type": "scatterpolar"
           }
          ],
          "scatterpolargl": [
           {
            "marker": {
             "colorbar": {
              "outlinewidth": 0,
              "ticks": ""
             }
            },
            "type": "scatterpolargl"
           }
          ],
          "scatterternary": [
           {
            "marker": {
             "colorbar": {
              "outlinewidth": 0,
              "ticks": ""
             }
            },
            "type": "scatterternary"
           }
          ],
          "surface": [
           {
            "colorbar": {
             "outlinewidth": 0,
             "ticks": ""
            },
            "colorscale": [
             [
              0,
              "#0d0887"
             ],
             [
              0.1111111111111111,
              "#46039f"
             ],
             [
              0.2222222222222222,
              "#7201a8"
             ],
             [
              0.3333333333333333,
              "#9c179e"
             ],
             [
              0.4444444444444444,
              "#bd3786"
             ],
             [
              0.5555555555555556,
              "#d8576b"
             ],
             [
              0.6666666666666666,
              "#ed7953"
             ],
             [
              0.7777777777777778,
              "#fb9f3a"
             ],
             [
              0.8888888888888888,
              "#fdca26"
             ],
             [
              1,
              "#f0f921"
             ]
            ],
            "type": "surface"
           }
          ],
          "table": [
           {
            "cells": {
             "fill": {
              "color": "#EBF0F8"
             },
             "line": {
              "color": "white"
             }
            },
            "header": {
             "fill": {
              "color": "#C8D4E3"
             },
             "line": {
              "color": "white"
             }
            },
            "type": "table"
           }
          ]
         },
         "layout": {
          "annotationdefaults": {
           "arrowcolor": "#2a3f5f",
           "arrowhead": 0,
           "arrowwidth": 1
          },
          "autotypenumbers": "strict",
          "coloraxis": {
           "colorbar": {
            "outlinewidth": 0,
            "ticks": ""
           }
          },
          "colorscale": {
           "diverging": [
            [
             0,
             "#8e0152"
            ],
            [
             0.1,
             "#c51b7d"
            ],
            [
             0.2,
             "#de77ae"
            ],
            [
             0.3,
             "#f1b6da"
            ],
            [
             0.4,
             "#fde0ef"
            ],
            [
             0.5,
             "#f7f7f7"
            ],
            [
             0.6,
             "#e6f5d0"
            ],
            [
             0.7,
             "#b8e186"
            ],
            [
             0.8,
             "#7fbc41"
            ],
            [
             0.9,
             "#4d9221"
            ],
            [
             1,
             "#276419"
            ]
           ],
           "sequential": [
            [
             0,
             "#0d0887"
            ],
            [
             0.1111111111111111,
             "#46039f"
            ],
            [
             0.2222222222222222,
             "#7201a8"
            ],
            [
             0.3333333333333333,
             "#9c179e"
            ],
            [
             0.4444444444444444,
             "#bd3786"
            ],
            [
             0.5555555555555556,
             "#d8576b"
            ],
            [
             0.6666666666666666,
             "#ed7953"
            ],
            [
             0.7777777777777778,
             "#fb9f3a"
            ],
            [
             0.8888888888888888,
             "#fdca26"
            ],
            [
             1,
             "#f0f921"
            ]
           ],
           "sequentialminus": [
            [
             0,
             "#0d0887"
            ],
            [
             0.1111111111111111,
             "#46039f"
            ],
            [
             0.2222222222222222,
             "#7201a8"
            ],
            [
             0.3333333333333333,
             "#9c179e"
            ],
            [
             0.4444444444444444,
             "#bd3786"
            ],
            [
             0.5555555555555556,
             "#d8576b"
            ],
            [
             0.6666666666666666,
             "#ed7953"
            ],
            [
             0.7777777777777778,
             "#fb9f3a"
            ],
            [
             0.8888888888888888,
             "#fdca26"
            ],
            [
             1,
             "#f0f921"
            ]
           ]
          },
          "colorway": [
           "#636efa",
           "#EF553B",
           "#00cc96",
           "#ab63fa",
           "#FFA15A",
           "#19d3f3",
           "#FF6692",
           "#B6E880",
           "#FF97FF",
           "#FECB52"
          ],
          "font": {
           "color": "#2a3f5f"
          },
          "geo": {
           "bgcolor": "white",
           "lakecolor": "white",
           "landcolor": "#E5ECF6",
           "showlakes": true,
           "showland": true,
           "subunitcolor": "white"
          },
          "hoverlabel": {
           "align": "left"
          },
          "hovermode": "closest",
          "mapbox": {
           "style": "light"
          },
          "paper_bgcolor": "white",
          "plot_bgcolor": "#E5ECF6",
          "polar": {
           "angularaxis": {
            "gridcolor": "white",
            "linecolor": "white",
            "ticks": ""
           },
           "bgcolor": "#E5ECF6",
           "radialaxis": {
            "gridcolor": "white",
            "linecolor": "white",
            "ticks": ""
           }
          },
          "scene": {
           "xaxis": {
            "backgroundcolor": "#E5ECF6",
            "gridcolor": "white",
            "gridwidth": 2,
            "linecolor": "white",
            "showbackground": true,
            "ticks": "",
            "zerolinecolor": "white"
           },
           "yaxis": {
            "backgroundcolor": "#E5ECF6",
            "gridcolor": "white",
            "gridwidth": 2,
            "linecolor": "white",
            "showbackground": true,
            "ticks": "",
            "zerolinecolor": "white"
           },
           "zaxis": {
            "backgroundcolor": "#E5ECF6",
            "gridcolor": "white",
            "gridwidth": 2,
            "linecolor": "white",
            "showbackground": true,
            "ticks": "",
            "zerolinecolor": "white"
           }
          },
          "shapedefaults": {
           "line": {
            "color": "#2a3f5f"
           }
          },
          "ternary": {
           "aaxis": {
            "gridcolor": "white",
            "linecolor": "white",
            "ticks": ""
           },
           "baxis": {
            "gridcolor": "white",
            "linecolor": "white",
            "ticks": ""
           },
           "bgcolor": "#E5ECF6",
           "caxis": {
            "gridcolor": "white",
            "linecolor": "white",
            "ticks": ""
           }
          },
          "title": {
           "x": 0.05
          },
          "xaxis": {
           "automargin": true,
           "gridcolor": "white",
           "linecolor": "white",
           "ticks": "",
           "title": {
            "standoff": 15
           },
           "zerolinecolor": "white",
           "zerolinewidth": 2
          },
          "yaxis": {
           "automargin": true,
           "gridcolor": "white",
           "linecolor": "white",
           "ticks": "",
           "title": {
            "standoff": 15
           },
           "zerolinecolor": "white",
           "zerolinewidth": 2
          }
         }
        },
        "width": 500
       }
      },
      "image/png": "[encoded data removed]",
      "text/html": [
       "<div>                            <div id=\"e0df18bc-899c-4792-a78a-418728e79543\" class=\"plotly-graph-div\" style=\"height:500px; width:500px;\"></div>            <script type=\"text/javascript\">                require([\"plotly\"], function(Plotly) {                    window.PLOTLYENV=window.PLOTLYENV || {};                                    if (document.getElementById(\"e0df18bc-899c-4792-a78a-418728e79543\")) {                    Plotly.newPlot(                        \"e0df18bc-899c-4792-a78a-418728e79543\",                        [{\"hoverinfo\":\"text\",\"marker\":{\"color\":[\"black\",\"lime\",\"lime\",\"lime\",\"black\",\"lime\",\"lime\",\"black\",\"lime\",\"lime\",\"black\",\"lime\",\"lime\",\"black\",\"lime\",\"lime\",\"black\",\"lime\",\"black\",\"lime\",\"lime\",\"black\",\"lime\",\"lime\",\"yellow\",\"red\",\"red\",\"red\",\"white\"],\"colorscale\":[[0.0,\"#440154\"],[0.1111111111111111,\"#482878\"],[0.2222222222222222,\"#3e4989\"],[0.3333333333333333,\"#31688e\"],[0.4444444444444444,\"#26828e\"],[0.5555555555555556,\"#1f9e89\"],[0.6666666666666666,\"#35b779\"],[0.7777777777777778,\"#6ece58\"],[0.8888888888888888,\"#b5de2b\"],[1.0,\"#fde725\"]],\"opacity\":0.8,\"size\":3},\"mode\":\"markers\",\"text\":[\"C1\",\"F2\",\"F3\",\"F4\",\"C5\",\"F6\",\"F7\",\"C8\",\"F9\",\"F10\",\"C11\",\"F12\",\"F13\",\"C14\",\"F15\",\"F16\",\"C17\",\"F19\",\"C20\",\"F21\",\"F22\",\"C23\",\"F24\",\"F25\",\"S26\",\"O27\",\"O28\",\"O29\",\"H30\"],\"x\":[0.0,-1.0169347302254699,-0.44557653768826,0.70940447840478,0.6876238827372908,1.7045586265728767,1.1332003676305231,0.03990545111099586,-0.9770292791144747,-0.4056710865772636,0.7275293338482864,1.744464077683873,1.1731058187415182,0.07981090222199161,-0.9371238280034792,-0.36576563546626717,0.7674347849592824,1.2130112698525135,0.11971635333298702,-0.8972183768924832,-0.325860184355271,0.8073402360702788,1.827171697571174,1.25438093745456,-0.2457711283922004,-1.3353998791478827,0.5350911802599893,-0.8457892412131413,-1.279598195899887],\"y\":[0.0,-0.75246221681069,1.09984321741231,0.30949213355259003,-0.5997526212234046,0.15270929465963212,-1.6995946713066508,-0.8823329621258713,-1.634795178936561,0.21751025528643853,-1.482085583349276,-0.7296236674662399,-2.5819276334325223,-1.7646659242517428,-2.5171281410624324,-0.6648227068394332,-2.3644185454751483,-3.464260595558395,-2.6469988863776157,-3.3994611031883046,-1.5471556689653054,-3.2467515076010205,-2.494341690966345,-4.3439074376567195,-3.756216277637847,-4.615765380581463,-4.601545813257569,-2.589962014461171,-4.716382390751652],\"z\":[0.0,0.35634641152507,-0.5649302025294499,1.06221462745206,-0.7794037395502719,-1.1357507476742115,-0.21447122275294894,-1.7492538229482257,-1.3929074114231557,-2.3141840254776755,-2.5286575624984975,-2.8850045706224368,-1.963725045701175,-3.4985076458964524,-3.142161234371382,-4.063437848425902,-4.277911385446725,-3.7129788686494027,-5.24776146884468,-4.891415057319609,-5.81269167137413,-6.027165208394953,-6.385593222447593,-5.4198097277508195,-7.489074284593028,-6.725046932361814,-8.309775667977583,-8.016055486621168,-5.7736188975446225],\"type\":\"scatter3d\"},{\"line\":{\"color\":\"black\",\"width\":3},\"mode\":\"lines\",\"x\":[0.0,-1.0169347302254699],\"y\":[0.0,-0.75246221681069],\"z\":[0.0,0.35634641152507],\"type\":\"scatter3d\"},{\"line\":{\"color\":\"black\",\"width\":3},\"mode\":\"lines\",\"x\":[0.0,-0.44557653768826],\"y\":[0.0,1.09984321741231],\"z\":[0.0,-0.5649302025294499],\"type\":\"scatter3d\"},{\"line\":{\"color\":\"black\",\"width\":3},\"mode\":\"lines\",\"x\":[0.0,0.70940447840478],\"y\":[0.0,0.30949213355259003],\"z\":[0.0,1.06221462745206],\"type\":\"scatter3d\"},{\"line\":{\"color\":\"black\",\"width\":3},\"mode\":\"lines\",\"x\":[0.0,0.6876238827372908],\"y\":[0.0,-0.5997526212234046],\"z\":[0.0,-0.7794037395502719],\"type\":\"scatter3d\"},{\"line\":{\"color\":\"black\",\"width\":3},\"mode\":\"lines\",\"x\":[0.6876238827372908,1.7045586265728767],\"y\":[-0.5997526212234046,0.15270929465963212],\"z\":[-0.7794037395502719,-1.1357507476742115],\"type\":\"scatter3d\"},{\"line\":{\"color\":\"black\",\"width\":3},\"mode\":\"lines\",\"x\":[0.6876238827372908,1.1332003676305231],\"y\":[-0.5997526212234046,-1.6995946713066508],\"z\":[-0.7794037395502719,-0.21447122275294894],\"type\":\"scatter3d\"},{\"line\":{\"color\":\"black\",\"width\":3},\"mode\":\"lines\",\"x\":[0.6876238827372908,0.03990545111099586],\"y\":[-0.5997526212234046,-0.8823329621258713],\"z\":[-0.7794037395502719,-1.7492538229482257],\"type\":\"scatter3d\"},{\"line\":{\"color\":\"black\",\"width\":3},\"mode\":\"lines\",\"x\":[0.03990545111099586,-0.9770292791144747],\"y\":[-0.8823329621258713,-1.634795178936561],\"z\":[-1.7492538229482257,-1.3929074114231557],\"type\":\"scatter3d\"},{\"line\":{\"color\":\"black\",\"width\":3},\"mode\":\"lines\",\"x\":[0.03990545111099586,-0.4056710865772636],\"y\":[-0.8823329621258713,0.21751025528643853],\"z\":[-1.7492538229482257,-2.3141840254776755],\"type\":\"scatter3d\"},{\"line\":{\"color\":\"black\",\"width\":3},\"mode\":\"lines\",\"x\":[0.03990545111099586,0.7275293338482864],\"y\":[-0.8823329621258713,-1.482085583349276],\"z\":[-1.7492538229482257,-2.5286575624984975],\"type\":\"scatter3d\"},{\"line\":{\"color\":\"black\",\"width\":3},\"mode\":\"lines\",\"x\":[0.7275293338482864,1.744464077683873],\"y\":[-1.482085583349276,-0.7296236674662399],\"z\":[-2.5286575624984975,-2.8850045706224368],\"type\":\"scatter3d\"},{\"line\":{\"color\":\"black\",\"width\":3},\"mode\":\"lines\",\"x\":[0.7275293338482864,1.1731058187415182],\"y\":[-1.482085583349276,-2.5819276334325223],\"z\":[-2.5286575624984975,-1.963725045701175],\"type\":\"scatter3d\"},{\"line\":{\"color\":\"black\",\"width\":3},\"mode\":\"lines\",\"x\":[0.7275293338482864,0.07981090222199161],\"y\":[-1.482085583349276,-1.7646659242517428],\"z\":[-2.5286575624984975,-3.4985076458964524],\"type\":\"scatter3d\"},{\"line\":{\"color\":\"black\",\"width\":3},\"mode\":\"lines\",\"x\":[0.07981090222199161,-0.9371238280034792],\"y\":[-1.7646659242517428,-2.5171281410624324],\"z\":[-3.4985076458964524,-3.142161234371382],\"type\":\"scatter3d\"},{\"line\":{\"color\":\"black\",\"width\":3},\"mode\":\"lines\",\"x\":[0.07981090222199161,-0.36576563546626717],\"y\":[-1.7646659242517428,-0.6648227068394332],\"z\":[-3.4985076458964524,-4.063437848425902],\"type\":\"scatter3d\"},{\"line\":{\"color\":\"black\",\"width\":3},\"mode\":\"lines\",\"x\":[0.07981090222199161,0.7674347849592824],\"y\":[-1.7646659242517428,-2.3644185454751483],\"z\":[-3.4985076458964524,-4.277911385446725],\"type\":\"scatter3d\"},{\"line\":{\"color\":\"black\",\"width\":3},\"mode\":\"lines\",\"x\":[0.7674347849592824,1.2130112698525135],\"y\":[-2.3644185454751483,-3.464260595558395],\"z\":[-4.277911385446725,-3.7129788686494027],\"type\":\"scatter3d\"},{\"line\":{\"color\":\"black\",\"width\":3},\"mode\":\"lines\",\"x\":[0.7674347849592824,0.11971635333298702],\"y\":[-2.3644185454751483,-2.6469988863776157],\"z\":[-4.277911385446725,-5.24776146884468],\"type\":\"scatter3d\"},{\"line\":{\"color\":\"black\",\"width\":3},\"mode\":\"lines\",\"x\":[0.11971635333298702,-0.8972183768924832],\"y\":[-2.6469988863776157,-3.3994611031883046],\"z\":[-5.24776146884468,-4.891415057319609],\"type\":\"scatter3d\"},{\"line\":{\"color\":\"black\",\"width\":3},\"mode\":\"lines\",\"x\":[0.11971635333298702,-0.325860184355271],\"y\":[-2.6469988863776157,-1.5471556689653054],\"z\":[-5.24776146884468,-5.81269167137413],\"type\":\"scatter3d\"},{\"line\":{\"color\":\"black\",\"width\":3},\"mode\":\"lines\",\"x\":[0.11971635333298702,0.8073402360702788],\"y\":[-2.6469988863776157,-3.2467515076010205],\"z\":[-5.24776146884468,-6.027165208394953],\"type\":\"scatter3d\"},{\"line\":{\"color\":\"black\",\"width\":3},\"mode\":\"lines\",\"x\":[-0.8972183768924832,-1.279598195899887],\"y\":[-3.3994611031883046,-4.716382390751652],\"z\":[-4.891415057319609,-5.7736188975446225],\"type\":\"scatter3d\"},{\"line\":{\"color\":\"black\",\"width\":3},\"mode\":\"lines\",\"x\":[0.8073402360702788,1.827171697571174],\"y\":[-3.2467515076010205,-2.494341690966345],\"z\":[-6.027165208394953,-6.385593222447593],\"type\":\"scatter3d\"},{\"line\":{\"color\":\"black\",\"width\":3},\"mode\":\"lines\",\"x\":[0.8073402360702788,1.25438093745456],\"y\":[-3.2467515076010205,-4.3439074376567195],\"z\":[-6.027165208394953,-5.4198097277508195],\"type\":\"scatter3d\"},{\"line\":{\"color\":\"black\",\"width\":3},\"mode\":\"lines\",\"x\":[-0.2457711283922004,-1.3353998791478827],\"y\":[-3.756216277637847,-4.615765380581463],\"z\":[-7.489074284593028,-6.725046932361814],\"type\":\"scatter3d\"},{\"line\":{\"color\":\"black\",\"width\":3},\"mode\":\"lines\",\"x\":[-0.2457711283922004,0.5350911802599893],\"y\":[-3.756216277637847,-4.601545813257569],\"z\":[-7.489074284593028,-8.309775667977583],\"type\":\"scatter3d\"},{\"line\":{\"color\":\"black\",\"width\":3},\"mode\":\"lines\",\"x\":[-0.2457711283922004,-0.8457892412131413],\"y\":[-3.756216277637847,-2.589962014461171],\"z\":[-7.489074284593028,-8.016055486621168],\"type\":\"scatter3d\"},{\"line\":{\"color\":\"black\",\"width\":3},\"mode\":\"lines\",\"x\":[-1.3353998791478827,-1.279598195899887],\"y\":[-4.615765380581463,-4.716382390751652],\"z\":[-6.725046932361814,-5.7736188975446225],\"type\":\"scatter3d\"}],                        {\"template\":{\"data\":{\"histogram2dcontour\":[{\"type\":\"histogram2dcontour\",\"colorbar\":{\"outlinewidth\":0,\"ticks\":\"\"},\"colorscale\":[[0.0,\"#0d0887\"],[0.1111111111111111,\"#46039f\"],[0.2222222222222222,\"#7201a8\"],[0.3333333333333333,\"#9c179e\"],[0.4444444444444444,\"#bd3786\"],[0.5555555555555556,\"#d8576b\"],[0.6666666666666666,\"#ed7953\"],[0.7777777777777778,\"#fb9f3a\"],[0.8888888888888888,\"#fdca26\"],[1.0,\"#f0f921\"]]}],\"choropleth\":[{\"type\":\"choropleth\",\"colorbar\":{\"outlinewidth\":0,\"ticks\":\"\"}}],\"histogram2d\":[{\"type\":\"histogram2d\",\"colorbar\":{\"outlinewidth\":0,\"ticks\":\"\"},\"colorscale\":[[0.0,\"#0d0887\"],[0.1111111111111111,\"#46039f\"],[0.2222222222222222,\"#7201a8\"],[0.3333333333333333,\"#9c179e\"],[0.4444444444444444,\"#bd3786\"],[0.5555555555555556,\"#d8576b\"],[0.6666666666666666,\"#ed7953\"],[0.7777777777777778,\"#fb9f3a\"],[0.8888888888888888,\"#fdca26\"],[1.0,\"#f0f921\"]]}],\"heatmap\":[{\"type\":\"heatmap\",\"colorbar\":{\"outlinewidth\":0,\"ticks\":\"\"},\"colorscale\":[[0.0,\"#0d0887\"],[0.1111111111111111,\"#46039f\"],[0.2222222222222222,\"#7201a8\"],[0.3333333333333333,\"#9c179e\"],[0.4444444444444444,\"#bd3786\"],[0.5555555555555556,\"#d8576b\"],[0.6666666666666666,\"#ed7953\"],[0.7777777777777778,\"#fb9f3a\"],[0.8888888888888888,\"#fdca26\"],[1.0,\"#f0f921\"]]}],\"heatmapgl\":[{\"type\":\"heatmapgl\",\"colorbar\":{\"outlinewidth\":0,\"ticks\":\"\"},\"colorscale\":[[0.0,\"#0d0887\"],[0.1111111111111111,\"#46039f\"],[0.2222222222222222,\"#7201a8\"],[0.3333333333333333,\"#9c179e\"],[0.4444444444444444,\"#bd3786\"],[0.5555555555555556,\"#d8576b\"],[0.6666666666666666,\"#ed7953\"],[0.7777777777777778,\"#fb9f3a\"],[0.8888888888888888,\"#fdca26\"],[1.0,\"#f0f921\"]]}],\"contourcarpet\":[{\"type\":\"contourcarpet\",\"colorbar\":{\"outlinewidth\":0,\"ticks\":\"\"}}],\"contour\":[{\"type\":\"contour\",\"colorbar\":{\"outlinewidth\":0,\"ticks\":\"\"},\"colorscale\":[[0.0,\"#0d0887\"],[0.1111111111111111,\"#46039f\"],[0.2222222222222222,\"#7201a8\"],[0.3333333333333333,\"#9c179e\"],[0.4444444444444444,\"#bd3786\"],[0.5555555555555556,\"#d8576b\"],[0.6666666666666666,\"#ed7953\"],[0.7777777777777778,\"#fb9f3a\"],[0.8888888888888888,\"#fdca26\"],[1.0,\"#f0f921\"]]}],\"surface\":[{\"type\":\"surface\",\"colorbar\":{\"outlinewidth\":0,\"ticks\":\"\"},\"colorscale\":[[0.0,\"#0d0887\"],[0.1111111111111111,\"#46039f\"],[0.2222222222222222,\"#7201a8\"],[0.3333333333333333,\"#9c179e\"],[0.4444444444444444,\"#bd3786\"],[0.5555555555555556,\"#d8576b\"],[0.6666666666666666,\"#ed7953\"],[0.7777777777777778,\"#fb9f3a\"],[0.8888888888888888,\"#fdca26\"],[1.0,\"#f0f921\"]]}],\"mesh3d\":[{\"type\":\"mesh3d\",\"colorbar\":{\"outlinewidth\":0,\"ticks\":\"\"}}],\"scatter\":[{\"fillpattern\":{\"fillmode\":\"overlay\",\"size\":10,\"solidity\":0.2},\"type\":\"scatter\"}],\"parcoords\":[{\"type\":\"parcoords\",\"line\":{\"colorbar\":{\"outlinewidth\":0,\"ticks\":\"\"}}}],\"scatterpolargl\":[{\"type\":\"scatterpolargl\",\"marker\":{\"colorbar\":{\"outlinewidth\":0,\"ticks\":\"\"}}}],\"bar\":[{\"error_x\":{\"color\":\"#2a3f5f\"},\"error_y\":{\"color\":\"#2a3f5f\"},\"marker\":{\"line\":{\"color\":\"#E5ECF6\",\"width\":0.5},\"pattern\":{\"fillmode\":\"overlay\",\"size\":10,\"solidity\":0.2}},\"type\":\"bar\"}],\"scattergeo\":[{\"type\":\"scattergeo\",\"marker\":{\"colorbar\":{\"outlinewidth\":0,\"ticks\":\"\"}}}],\"scatterpolar\":[{\"type\":\"scatterpolar\",\"marker\":{\"colorbar\":{\"outlinewidth\":0,\"ticks\":\"\"}}}],\"histogram\":[{\"marker\":{\"pattern\":{\"fillmode\":\"overlay\",\"size\":10,\"solidity\":0.2}},\"type\":\"histogram\"}],\"scattergl\":[{\"type\":\"scattergl\",\"marker\":{\"colorbar\":{\"outlinewidth\":0,\"ticks\":\"\"}}}],\"scatter3d\":[{\"type\":\"scatter3d\",\"line\":{\"colorbar\":{\"outlinewidth\":0,\"ticks\":\"\"}},\"marker\":{\"colorbar\":{\"outlinewidth\":0,\"ticks\":\"\"}}}],\"scattermapbox\":[{\"type\":\"scattermapbox\",\"marker\":{\"colorbar\":{\"outlinewidth\":0,\"ticks\":\"\"}}}],\"scatterternary\":[{\"type\":\"scatterternary\",\"marker\":{\"colorbar\":{\"outlinewidth\":0,\"ticks\":\"\"}}}],\"scattercarpet\":[{\"type\":\"scattercarpet\",\"marker\":{\"colorbar\":{\"outlinewidth\":0,\"ticks\":\"\"}}}],\"carpet\":[{\"aaxis\":{\"endlinecolor\":\"#2a3f5f\",\"gridcolor\":\"white\",\"linecolor\":\"white\",\"minorgridcolor\":\"white\",\"startlinecolor\":\"#2a3f5f\"},\"baxis\":{\"endlinecolor\":\"#2a3f5f\",\"gridcolor\":\"white\",\"linecolor\":\"white\",\"minorgridcolor\":\"white\",\"startlinecolor\":\"#2a3f5f\"},\"type\":\"carpet\"}],\"table\":[{\"cells\":{\"fill\":{\"color\":\"#EBF0F8\"},\"line\":{\"color\":\"white\"}},\"header\":{\"fill\":{\"color\":\"#C8D4E3\"},\"line\":{\"color\":\"white\"}},\"type\":\"table\"}],\"barpolar\":[{\"marker\":{\"line\":{\"color\":\"#E5ECF6\",\"width\":0.5},\"pattern\":{\"fillmode\":\"overlay\",\"size\":10,\"solidity\":0.2}},\"type\":\"barpolar\"}],\"pie\":[{\"automargin\":true,\"type\":\"pie\"}]},\"layout\":{\"autotypenumbers\":\"strict\",\"colorway\":[\"#636efa\",\"#EF553B\",\"#00cc96\",\"#ab63fa\",\"#FFA15A\",\"#19d3f3\",\"#FF6692\",\"#B6E880\",\"#FF97FF\",\"#FECB52\"],\"font\":{\"color\":\"#2a3f5f\"},\"hovermode\":\"closest\",\"hoverlabel\":{\"align\":\"left\"},\"paper_bgcolor\":\"white\",\"plot_bgcolor\":\"#E5ECF6\",\"polar\":{\"bgcolor\":\"#E5ECF6\",\"angularaxis\":{\"gridcolor\":\"white\",\"linecolor\":\"white\",\"ticks\":\"\"},\"radialaxis\":{\"gridcolor\":\"white\",\"linecolor\":\"white\",\"ticks\":\"\"}},\"ternary\":{\"bgcolor\":\"#E5ECF6\",\"aaxis\":{\"gridcolor\":\"white\",\"linecolor\":\"white\",\"ticks\":\"\"},\"baxis\":{\"gridcolor\":\"white\",\"linecolor\":\"white\",\"ticks\":\"\"},\"caxis\":{\"gridcolor\":\"white\",\"linecolor\":\"white\",\"ticks\":\"\"}},\"coloraxis\":{\"colorbar\":{\"outlinewidth\":0,\"ticks\":\"\"}},\"colorscale\":{\"sequential\":[[0.0,\"#0d0887\"],[0.1111111111111111,\"#46039f\"],[0.2222222222222222,\"#7201a8\"],[0.3333333333333333,\"#9c179e\"],[0.4444444444444444,\"#bd3786\"],[0.5555555555555556,\"#d8576b\"],[0.6666666666666666,\"#ed7953\"],[0.7777777777777778,\"#fb9f3a\"],[0.8888888888888888,\"#fdca26\"],[1.0,\"#f0f921\"]],\"sequentialminus\":[[0.0,\"#0d0887\"],[0.1111111111111111,\"#46039f\"],[0.2222222222222222,\"#7201a8\"],[0.3333333333333333,\"#9c179e\"],[0.4444444444444444,\"#bd3786\"],[0.5555555555555556,\"#d8576b\"],[0.6666666666666666,\"#ed7953\"],[0.7777777777777778,\"#fb9f3a\"],[0.8888888888888888,\"#fdca26\"],[1.0,\"#f0f921\"]],\"diverging\":[[0,\"#8e0152\"],[0.1,\"#c51b7d\"],[0.2,\"#de77ae\"],[0.3,\"#f1b6da\"],[0.4,\"#fde0ef\"],[0.5,\"#f7f7f7\"],[0.6,\"#e6f5d0\"],[0.7,\"#b8e186\"],[0.8,\"#7fbc41\"],[0.9,\"#4d9221\"],[1,\"#276419\"]]},\"xaxis\":{\"gridcolor\":\"white\",\"linecolor\":\"white\",\"ticks\":\"\",\"title\":{\"standoff\":15},\"zerolinecolor\":\"white\",\"automargin\":true,\"zerolinewidth\":2},\"yaxis\":{\"gridcolor\":\"white\",\"linecolor\":\"white\",\"ticks\":\"\",\"title\":{\"standoff\":15},\"zerolinecolor\":\"white\",\"automargin\":true,\"zerolinewidth\":2},\"scene\":{\"xaxis\":{\"backgroundcolor\":\"#E5ECF6\",\"gridcolor\":\"white\",\"linecolor\":\"white\",\"showbackground\":true,\"ticks\":\"\",\"zerolinecolor\":\"white\",\"gridwidth\":2},\"yaxis\":{\"backgroundcolor\":\"#E5ECF6\",\"gridcolor\":\"white\",\"linecolor\":\"white\",\"showbackground\":true,\"ticks\":\"\",\"zerolinecolor\":\"white\",\"gridwidth\":2},\"zaxis\":{\"backgroundcolor\":\"#E5ECF6\",\"gridcolor\":\"white\",\"linecolor\":\"white\",\"showbackground\":true,\"ticks\":\"\",\"zerolinecolor\":\"white\",\"gridwidth\":2}},\"shapedefaults\":{\"line\":{\"color\":\"#2a3f5f\"}},\"annotationdefaults\":{\"arrowcolor\":\"#2a3f5f\",\"arrowhead\":0,\"arrowwidth\":1},\"geo\":{\"bgcolor\":\"white\",\"landcolor\":\"#E5ECF6\",\"subunitcolor\":\"white\",\"showland\":true,\"showlakes\":true,\"lakecolor\":\"white\"},\"title\":{\"x\":0.05},\"mapbox\":{\"style\":\"light\"}}},\"scene\":{\"xaxis\":{\"showbackground\":false,\"showgrid\":true,\"zeroline\":true,\"gridcolor\":\"red\",\"zerolinecolor\":\"green\"},\"yaxis\":{\"showbackground\":false,\"showgrid\":true,\"zeroline\":true,\"gridcolor\":\"red\",\"zerolinecolor\":\"green\"},\"zaxis\":{\"showbackground\":false,\"showgrid\":true,\"zeroline\":true,\"gridcolor\":\"red\",\"zerolinecolor\":\"green\"},\"aspectmode\":\"data\"},\"margin\":{\"l\":50,\"r\":50,\"b\":100,\"t\":100,\"pad\":10},\"showlegend\":false,\"width\":500,\"height\":500,\"autosize\":false,\"paper_bgcolor\":\"rgba(140,140,140,0.5)\",\"plot_bgcolor\":\"rgba(0,100,140,0.5)\"},                        {\"responsive\": true}                    ).then(function(){\n",
       "                            \n",
       "var gd = document.getElementById('e0df18bc-899c-4792-a78a-418728e79543');\n",
       "var x = new MutationObserver(function (mutations, observer) {{\n",
       "        var display = window.getComputedStyle(gd).display;\n",
       "        if (!display || display === 'none') {{\n",
       "            console.log([gd, 'removed!']);\n",
       "            Plotly.purge(gd);\n",
       "            observer.disconnect();\n",
       "        }}\n",
       "}});\n",
       "\n",
       "// Listen for the removal of the full notebook cells\n",
       "var notebookContainer = gd.closest('#notebook-container');\n",
       "if (notebookContainer) {{\n",
       "    x.observe(notebookContainer, {childList: true});\n",
       "}}\n",
       "\n",
       "// Listen for the clearing of the current output cell\n",
       "var outputEl = gd.closest('.output');\n",
       "if (outputEl) {{\n",
       "    x.observe(outputEl, {childList: true});\n",
       "}}\n",
       "\n",
       "                        })                };                });            </script>        </div>"
      ]
     },
     "metadata": {},
     "output_type": "display_data"
    },
    {
     "name": "stdout",
     "output_type": "stream",
     "text": [
      "shown below: HSO3_CF2_1_CF_CF2_5_CF3\n"
     ]
    },
    {
     "data": {
      "application/vnd.plotly.v1+json": {
       "config": {
        "plotlyServerURL": "https://plot.ly"
       },
       "data": [
        {
         "hoverinfo": "text",
         "marker": {
          "color": [
           "black",
           "lime",
           "lime",
           "lime",
           "black",
           "lime",
           "lime",
           "black",
           "lime",
           "lime",
           "black",
           "lime",
           "lime",
           "black",
           "lime",
           "lime",
           "black",
           "lime",
           "lime",
           "black",
           "lime",
           "black",
           "lime",
           "lime",
           "yellow",
           "red",
           "red",
           "red",
           "white"
          ],
          "colorscale": [
           [
            0,
            "#440154"
           ],
           [
            0.1111111111111111,
            "#482878"
           ],
           [
            0.2222222222222222,
            "#3e4989"
           ],
           [
            0.3333333333333333,
            "#31688e"
           ],
           [
            0.4444444444444444,
            "#26828e"
           ],
           [
            0.5555555555555556,
            "#1f9e89"
           ],
           [
            0.6666666666666666,
            "#35b779"
           ],
           [
            0.7777777777777778,
            "#6ece58"
           ],
           [
            0.8888888888888888,
            "#b5de2b"
           ],
           [
            1,
            "#fde725"
           ]
          ],
          "opacity": 0.8,
          "size": 3
         },
         "mode": "markers",
         "text": [
          "C1",
          "F2",
          "F3",
          "F4",
          "C5",
          "F6",
          "F7",
          "C8",
          "F9",
          "F10",
          "C11",
          "F12",
          "F13",
          "C14",
          "F15",
          "F16",
          "C17",
          "F18",
          "F19",
          "C20",
          "F22",
          "C23",
          "F24",
          "F25",
          "S26",
          "O27",
          "O28",
          "O29",
          "H30"
         ],
         "type": "scatter3d",
         "x": [
          0,
          -1.0169347302254699,
          -0.44557653768826,
          0.70940447840478,
          0.6876238827372908,
          1.7045586265728767,
          1.1332003676305231,
          0.03990545111099586,
          -0.9770292791144747,
          -0.4056710865772636,
          0.7275293338482864,
          1.744464077683873,
          1.1731058187415182,
          0.07981090222199161,
          -0.9371238280034792,
          -0.36576563546626717,
          0.7674347849592824,
          1.7843695287948687,
          1.2130112698525135,
          0.11971635333298702,
          -0.325860184355271,
          0.8073402360702788,
          1.827171697571174,
          1.25438093745456,
          -0.2457711283922004,
          -1.3353998791478827,
          0.5350911802599893,
          -0.8457892412131413,
          -1.279598195899887
         ],
         "y": [
          0,
          -0.75246221681069,
          1.09984321741231,
          0.30949213355259003,
          -0.5997526212234046,
          0.15270929465963212,
          -1.6995946713066508,
          -0.8823329621258713,
          -1.634795178936561,
          0.21751025528643853,
          -1.482085583349276,
          -0.7296236674662399,
          -2.5819276334325223,
          -1.7646659242517428,
          -2.5171281410624324,
          -0.6648227068394332,
          -2.3644185454751483,
          -1.6119566295921117,
          -3.464260595558395,
          -2.6469988863776157,
          -1.5471556689653054,
          -3.2467515076010205,
          -2.494341690966345,
          -4.3439074376567195,
          -3.756216277637847,
          -4.615765380581463,
          -4.601545813257569,
          -2.589962014461171,
          -4.716382390751652
         ],
         "z": [
          0,
          0.35634641152507,
          -0.5649302025294499,
          1.06221462745206,
          -0.7794037395502719,
          -1.1357507476742115,
          -0.21447122275294894,
          -1.7492538229482257,
          -1.3929074114231557,
          -2.3141840254776755,
          -2.5286575624984975,
          -2.8850045706224368,
          -1.963725045701175,
          -3.4985076458964524,
          -3.142161234371382,
          -4.063437848425902,
          -4.277911385446725,
          -4.634258393570664,
          -3.7129788686494027,
          -5.24776146884468,
          -5.81269167137413,
          -6.027165208394953,
          -6.385593222447593,
          -5.4198097277508195,
          -7.489074284593028,
          -6.725046932361814,
          -8.309775667977583,
          -8.016055486621168,
          -5.7736188975446225
         ]
        },
        {
         "line": {
          "color": "black",
          "width": 3
         },
         "mode": "lines",
         "type": "scatter3d",
         "x": [
          0,
          -1.0169347302254699
         ],
         "y": [
          0,
          -0.75246221681069
         ],
         "z": [
          0,
          0.35634641152507
         ]
        },
        {
         "line": {
          "color": "black",
          "width": 3
         },
         "mode": "lines",
         "type": "scatter3d",
         "x": [
          0,
          -0.44557653768826
         ],
         "y": [
          0,
          1.09984321741231
         ],
         "z": [
          0,
          -0.5649302025294499
         ]
        },
        {
         "line": {
          "color": "black",
          "width": 3
         },
         "mode": "lines",
         "type": "scatter3d",
         "x": [
          0,
          0.70940447840478
         ],
         "y": [
          0,
          0.30949213355259003
         ],
         "z": [
          0,
          1.06221462745206
         ]
        },
        {
         "line": {
          "color": "black",
          "width": 3
         },
         "mode": "lines",
         "type": "scatter3d",
         "x": [
          0,
          0.6876238827372908
         ],
         "y": [
          0,
          -0.5997526212234046
         ],
         "z": [
          0,
          -0.7794037395502719
         ]
        },
        {
         "line": {
          "color": "black",
          "width": 3
         },
         "mode": "lines",
         "type": "scatter3d",
         "x": [
          0.6876238827372908,
          1.7045586265728767
         ],
         "y": [
          -0.5997526212234046,
          0.15270929465963212
         ],
         "z": [
          -0.7794037395502719,
          -1.1357507476742115
         ]
        },
        {
         "line": {
          "color": "black",
          "width": 3
         },
         "mode": "lines",
         "type": "scatter3d",
         "x": [
          0.6876238827372908,
          1.1332003676305231
         ],
         "y": [
          -0.5997526212234046,
          -1.6995946713066508
         ],
         "z": [
          -0.7794037395502719,
          -0.21447122275294894
         ]
        },
        {
         "line": {
          "color": "black",
          "width": 3
         },
         "mode": "lines",
         "type": "scatter3d",
         "x": [
          0.6876238827372908,
          0.03990545111099586
         ],
         "y": [
          -0.5997526212234046,
          -0.8823329621258713
         ],
         "z": [
          -0.7794037395502719,
          -1.7492538229482257
         ]
        },
        {
         "line": {
          "color": "black",
          "width": 3
         },
         "mode": "lines",
         "type": "scatter3d",
         "x": [
          0.03990545111099586,
          -0.9770292791144747
         ],
         "y": [
          -0.8823329621258713,
          -1.634795178936561
         ],
         "z": [
          -1.7492538229482257,
          -1.3929074114231557
         ]
        },
        {
         "line": {
          "color": "black",
          "width": 3
         },
         "mode": "lines",
         "type": "scatter3d",
         "x": [
          0.03990545111099586,
          -0.4056710865772636
         ],
         "y": [
          -0.8823329621258713,
          0.21751025528643853
         ],
         "z": [
          -1.7492538229482257,
          -2.3141840254776755
         ]
        },
        {
         "line": {
          "color": "black",
          "width": 3
         },
         "mode": "lines",
         "type": "scatter3d",
         "x": [
          0.03990545111099586,
          0.7275293338482864
         ],
         "y": [
          -0.8823329621258713,
          -1.482085583349276
         ],
         "z": [
          -1.7492538229482257,
          -2.5286575624984975
         ]
        },
        {
         "line": {
          "color": "black",
          "width": 3
         },
         "mode": "lines",
         "type": "scatter3d",
         "x": [
          0.7275293338482864,
          1.744464077683873
         ],
         "y": [
          -1.482085583349276,
          -0.7296236674662399
         ],
         "z": [
          -2.5286575624984975,
          -2.8850045706224368
         ]
        },
        {
         "line": {
          "color": "black",
          "width": 3
         },
         "mode": "lines",
         "type": "scatter3d",
         "x": [
          0.7275293338482864,
          1.1731058187415182
         ],
         "y": [
          -1.482085583349276,
          -2.5819276334325223
         ],
         "z": [
          -2.5286575624984975,
          -1.963725045701175
         ]
        },
        {
         "line": {
          "color": "black",
          "width": 3
         },
         "mode": "lines",
         "type": "scatter3d",
         "x": [
          0.7275293338482864,
          0.07981090222199161
         ],
         "y": [
          -1.482085583349276,
          -1.7646659242517428
         ],
         "z": [
          -2.5286575624984975,
          -3.4985076458964524
         ]
        },
        {
         "line": {
          "color": "black",
          "width": 3
         },
         "mode": "lines",
         "type": "scatter3d",
         "x": [
          0.07981090222199161,
          -0.9371238280034792
         ],
         "y": [
          -1.7646659242517428,
          -2.5171281410624324
         ],
         "z": [
          -3.4985076458964524,
          -3.142161234371382
         ]
        },
        {
         "line": {
          "color": "black",
          "width": 3
         },
         "mode": "lines",
         "type": "scatter3d",
         "x": [
          0.07981090222199161,
          -0.36576563546626717
         ],
         "y": [
          -1.7646659242517428,
          -0.6648227068394332
         ],
         "z": [
          -3.4985076458964524,
          -4.063437848425902
         ]
        },
        {
         "line": {
          "color": "black",
          "width": 3
         },
         "mode": "lines",
         "type": "scatter3d",
         "x": [
          0.07981090222199161,
          0.7674347849592824
         ],
         "y": [
          -1.7646659242517428,
          -2.3644185454751483
         ],
         "z": [
          -3.4985076458964524,
          -4.277911385446725
         ]
        },
        {
         "line": {
          "color": "black",
          "width": 3
         },
         "mode": "lines",
         "type": "scatter3d",
         "x": [
          0.7674347849592824,
          1.7843695287948687
         ],
         "y": [
          -2.3644185454751483,
          -1.6119566295921117
         ],
         "z": [
          -4.277911385446725,
          -4.634258393570664
         ]
        },
        {
         "line": {
          "color": "black",
          "width": 3
         },
         "mode": "lines",
         "type": "scatter3d",
         "x": [
          0.7674347849592824,
          1.2130112698525135
         ],
         "y": [
          -2.3644185454751483,
          -3.464260595558395
         ],
         "z": [
          -4.277911385446725,
          -3.7129788686494027
         ]
        },
        {
         "line": {
          "color": "black",
          "width": 3
         },
         "mode": "lines",
         "type": "scatter3d",
         "x": [
          0.7674347849592824,
          0.11971635333298702
         ],
         "y": [
          -2.3644185454751483,
          -2.6469988863776157
         ],
         "z": [
          -4.277911385446725,
          -5.24776146884468
         ]
        },
        {
         "line": {
          "color": "black",
          "width": 3
         },
         "mode": "lines",
         "type": "scatter3d",
         "x": [
          0.11971635333298702,
          -0.325860184355271
         ],
         "y": [
          -2.6469988863776157,
          -1.5471556689653054
         ],
         "z": [
          -5.24776146884468,
          -5.81269167137413
         ]
        },
        {
         "line": {
          "color": "black",
          "width": 3
         },
         "mode": "lines",
         "type": "scatter3d",
         "x": [
          0.11971635333298702,
          0.8073402360702788
         ],
         "y": [
          -2.6469988863776157,
          -3.2467515076010205
         ],
         "z": [
          -5.24776146884468,
          -6.027165208394953
         ]
        },
        {
         "line": {
          "color": "black",
          "width": 3
         },
         "mode": "lines",
         "type": "scatter3d",
         "x": [
          0.8073402360702788,
          1.827171697571174
         ],
         "y": [
          -3.2467515076010205,
          -2.494341690966345
         ],
         "z": [
          -6.027165208394953,
          -6.385593222447593
         ]
        },
        {
         "line": {
          "color": "black",
          "width": 3
         },
         "mode": "lines",
         "type": "scatter3d",
         "x": [
          0.8073402360702788,
          1.25438093745456
         ],
         "y": [
          -3.2467515076010205,
          -4.3439074376567195
         ],
         "z": [
          -6.027165208394953,
          -5.4198097277508195
         ]
        },
        {
         "line": {
          "color": "black",
          "width": 3
         },
         "mode": "lines",
         "type": "scatter3d",
         "x": [
          -0.2457711283922004,
          -1.3353998791478827
         ],
         "y": [
          -3.756216277637847,
          -4.615765380581463
         ],
         "z": [
          -7.489074284593028,
          -6.725046932361814
         ]
        },
        {
         "line": {
          "color": "black",
          "width": 3
         },
         "mode": "lines",
         "type": "scatter3d",
         "x": [
          -0.2457711283922004,
          0.5350911802599893
         ],
         "y": [
          -3.756216277637847,
          -4.601545813257569
         ],
         "z": [
          -7.489074284593028,
          -8.309775667977583
         ]
        },
        {
         "line": {
          "color": "black",
          "width": 3
         },
         "mode": "lines",
         "type": "scatter3d",
         "x": [
          -0.2457711283922004,
          -0.8457892412131413
         ],
         "y": [
          -3.756216277637847,
          -2.589962014461171
         ],
         "z": [
          -7.489074284593028,
          -8.016055486621168
         ]
        },
        {
         "line": {
          "color": "black",
          "width": 3
         },
         "mode": "lines",
         "type": "scatter3d",
         "x": [
          -1.3353998791478827,
          -1.279598195899887
         ],
         "y": [
          -4.615765380581463,
          -4.716382390751652
         ],
         "z": [
          -6.725046932361814,
          -5.7736188975446225
         ]
        }
       ],
       "layout": {
        "autosize": false,
        "height": 500,
        "margin": {
         "b": 100,
         "l": 50,
         "pad": 10,
         "r": 50,
         "t": 100
        },
        "paper_bgcolor": "rgba(140,140,140,0.5)",
        "plot_bgcolor": "rgba(0,100,140,0.5)",
        "scene": {
         "aspectmode": "data",
         "aspectratio": {
          "x": 0.5682453416314863,
          "y": 1.0450492668835267,
          "z": 1.683942860423198
         },
         "xaxis": {
          "gridcolor": "red",
          "showbackground": false,
          "showgrid": true,
          "type": "linear",
          "zeroline": true,
          "zerolinecolor": "green"
         },
         "yaxis": {
          "gridcolor": "red",
          "showbackground": false,
          "showgrid": true,
          "type": "linear",
          "zeroline": true,
          "zerolinecolor": "green"
         },
         "zaxis": {
          "gridcolor": "red",
          "showbackground": false,
          "showgrid": true,
          "type": "linear",
          "zeroline": true,
          "zerolinecolor": "green"
         }
        },
        "showlegend": false,
        "template": {
         "data": {
          "bar": [
           {
            "error_x": {
             "color": "#2a3f5f"
            },
            "error_y": {
             "color": "#2a3f5f"
            },
            "marker": {
             "line": {
              "color": "#E5ECF6",
              "width": 0.5
             },
             "pattern": {
              "fillmode": "overlay",
              "size": 10,
              "solidity": 0.2
             }
            },
            "type": "bar"
           }
          ],
          "barpolar": [
           {
            "marker": {
             "line": {
              "color": "#E5ECF6",
              "width": 0.5
             },
             "pattern": {
              "fillmode": "overlay",
              "size": 10,
              "solidity": 0.2
             }
            },
            "type": "barpolar"
           }
          ],
          "carpet": [
           {
            "aaxis": {
             "endlinecolor": "#2a3f5f",
             "gridcolor": "white",
             "linecolor": "white",
             "minorgridcolor": "white",
             "startlinecolor": "#2a3f5f"
            },
            "baxis": {
             "endlinecolor": "#2a3f5f",
             "gridcolor": "white",
             "linecolor": "white",
             "minorgridcolor": "white",
             "startlinecolor": "#2a3f5f"
            },
            "type": "carpet"
           }
          ],
          "choropleth": [
           {
            "colorbar": {
             "outlinewidth": 0,
             "ticks": ""
            },
            "type": "choropleth"
           }
          ],
          "contour": [
           {
            "colorbar": {
             "outlinewidth": 0,
             "ticks": ""
            },
            "colorscale": [
             [
              0,
              "#0d0887"
             ],
             [
              0.1111111111111111,
              "#46039f"
             ],
             [
              0.2222222222222222,
              "#7201a8"
             ],
             [
              0.3333333333333333,
              "#9c179e"
             ],
             [
              0.4444444444444444,
              "#bd3786"
             ],
             [
              0.5555555555555556,
              "#d8576b"
             ],
             [
              0.6666666666666666,
              "#ed7953"
             ],
             [
              0.7777777777777778,
              "#fb9f3a"
             ],
             [
              0.8888888888888888,
              "#fdca26"
             ],
             [
              1,
              "#f0f921"
             ]
            ],
            "type": "contour"
           }
          ],
          "contourcarpet": [
           {
            "colorbar": {
             "outlinewidth": 0,
             "ticks": ""
            },
            "type": "contourcarpet"
           }
          ],
          "heatmap": [
           {
            "colorbar": {
             "outlinewidth": 0,
             "ticks": ""
            },
            "colorscale": [
             [
              0,
              "#0d0887"
             ],
             [
              0.1111111111111111,
              "#46039f"
             ],
             [
              0.2222222222222222,
              "#7201a8"
             ],
             [
              0.3333333333333333,
              "#9c179e"
             ],
             [
              0.4444444444444444,
              "#bd3786"
             ],
             [
              0.5555555555555556,
              "#d8576b"
             ],
             [
              0.6666666666666666,
              "#ed7953"
             ],
             [
              0.7777777777777778,
              "#fb9f3a"
             ],
             [
              0.8888888888888888,
              "#fdca26"
             ],
             [
              1,
              "#f0f921"
             ]
            ],
            "type": "heatmap"
           }
          ],
          "heatmapgl": [
           {
            "colorbar": {
             "outlinewidth": 0,
             "ticks": ""
            },
            "colorscale": [
             [
              0,
              "#0d0887"
             ],
             [
              0.1111111111111111,
              "#46039f"
             ],
             [
              0.2222222222222222,
              "#7201a8"
             ],
             [
              0.3333333333333333,
              "#9c179e"
             ],
             [
              0.4444444444444444,
              "#bd3786"
             ],
             [
              0.5555555555555556,
              "#d8576b"
             ],
             [
              0.6666666666666666,
              "#ed7953"
             ],
             [
              0.7777777777777778,
              "#fb9f3a"
             ],
             [
              0.8888888888888888,
              "#fdca26"
             ],
             [
              1,
              "#f0f921"
             ]
            ],
            "type": "heatmapgl"
           }
          ],
          "histogram": [
           {
            "marker": {
             "pattern": {
              "fillmode": "overlay",
              "size": 10,
              "solidity": 0.2
             }
            },
            "type": "histogram"
           }
          ],
          "histogram2d": [
           {
            "colorbar": {
             "outlinewidth": 0,
             "ticks": ""
            },
            "colorscale": [
             [
              0,
              "#0d0887"
             ],
             [
              0.1111111111111111,
              "#46039f"
             ],
             [
              0.2222222222222222,
              "#7201a8"
             ],
             [
              0.3333333333333333,
              "#9c179e"
             ],
             [
              0.4444444444444444,
              "#bd3786"
             ],
             [
              0.5555555555555556,
              "#d8576b"
             ],
             [
              0.6666666666666666,
              "#ed7953"
             ],
             [
              0.7777777777777778,
              "#fb9f3a"
             ],
             [
              0.8888888888888888,
              "#fdca26"
             ],
             [
              1,
              "#f0f921"
             ]
            ],
            "type": "histogram2d"
           }
          ],
          "histogram2dcontour": [
           {
            "colorbar": {
             "outlinewidth": 0,
             "ticks": ""
            },
            "colorscale": [
             [
              0,
              "#0d0887"
             ],
             [
              0.1111111111111111,
              "#46039f"
             ],
             [
              0.2222222222222222,
              "#7201a8"
             ],
             [
              0.3333333333333333,
              "#9c179e"
             ],
             [
              0.4444444444444444,
              "#bd3786"
             ],
             [
              0.5555555555555556,
              "#d8576b"
             ],
             [
              0.6666666666666666,
              "#ed7953"
             ],
             [
              0.7777777777777778,
              "#fb9f3a"
             ],
             [
              0.8888888888888888,
              "#fdca26"
             ],
             [
              1,
              "#f0f921"
             ]
            ],
            "type": "histogram2dcontour"
           }
          ],
          "mesh3d": [
           {
            "colorbar": {
             "outlinewidth": 0,
             "ticks": ""
            },
            "type": "mesh3d"
           }
          ],
          "parcoords": [
           {
            "line": {
             "colorbar": {
              "outlinewidth": 0,
              "ticks": ""
             }
            },
            "type": "parcoords"
           }
          ],
          "pie": [
           {
            "automargin": true,
            "type": "pie"
           }
          ],
          "scatter": [
           {
            "fillpattern": {
             "fillmode": "overlay",
             "size": 10,
             "solidity": 0.2
            },
            "type": "scatter"
           }
          ],
          "scatter3d": [
           {
            "line": {
             "colorbar": {
              "outlinewidth": 0,
              "ticks": ""
             }
            },
            "marker": {
             "colorbar": {
              "outlinewidth": 0,
              "ticks": ""
             }
            },
            "type": "scatter3d"
           }
          ],
          "scattercarpet": [
           {
            "marker": {
             "colorbar": {
              "outlinewidth": 0,
              "ticks": ""
             }
            },
            "type": "scattercarpet"
           }
          ],
          "scattergeo": [
           {
            "marker": {
             "colorbar": {
              "outlinewidth": 0,
              "ticks": ""
             }
            },
            "type": "scattergeo"
           }
          ],
          "scattergl": [
           {
            "marker": {
             "colorbar": {
              "outlinewidth": 0,
              "ticks": ""
             }
            },
            "type": "scattergl"
           }
          ],
          "scattermapbox": [
           {
            "marker": {
             "colorbar": {
              "outlinewidth": 0,
              "ticks": ""
             }
            },
            "type": "scattermapbox"
           }
          ],
          "scatterpolar": [
           {
            "marker": {
             "colorbar": {
              "outlinewidth": 0,
              "ticks": ""
             }
            },
            "type": "scatterpolar"
           }
          ],
          "scatterpolargl": [
           {
            "marker": {
             "colorbar": {
              "outlinewidth": 0,
              "ticks": ""
             }
            },
            "type": "scatterpolargl"
           }
          ],
          "scatterternary": [
           {
            "marker": {
             "colorbar": {
              "outlinewidth": 0,
              "ticks": ""
             }
            },
            "type": "scatterternary"
           }
          ],
          "surface": [
           {
            "colorbar": {
             "outlinewidth": 0,
             "ticks": ""
            },
            "colorscale": [
             [
              0,
              "#0d0887"
             ],
             [
              0.1111111111111111,
              "#46039f"
             ],
             [
              0.2222222222222222,
              "#7201a8"
             ],
             [
              0.3333333333333333,
              "#9c179e"
             ],
             [
              0.4444444444444444,
              "#bd3786"
             ],
             [
              0.5555555555555556,
              "#d8576b"
             ],
             [
              0.6666666666666666,
              "#ed7953"
             ],
             [
              0.7777777777777778,
              "#fb9f3a"
             ],
             [
              0.8888888888888888,
              "#fdca26"
             ],
             [
              1,
              "#f0f921"
             ]
            ],
            "type": "surface"
           }
          ],
          "table": [
           {
            "cells": {
             "fill": {
              "color": "#EBF0F8"
             },
             "line": {
              "color": "white"
             }
            },
            "header": {
             "fill": {
              "color": "#C8D4E3"
             },
             "line": {
              "color": "white"
             }
            },
            "type": "table"
           }
          ]
         },
         "layout": {
          "annotationdefaults": {
           "arrowcolor": "#2a3f5f",
           "arrowhead": 0,
           "arrowwidth": 1
          },
          "autotypenumbers": "strict",
          "coloraxis": {
           "colorbar": {
            "outlinewidth": 0,
            "ticks": ""
           }
          },
          "colorscale": {
           "diverging": [
            [
             0,
             "#8e0152"
            ],
            [
             0.1,
             "#c51b7d"
            ],
            [
             0.2,
             "#de77ae"
            ],
            [
             0.3,
             "#f1b6da"
            ],
            [
             0.4,
             "#fde0ef"
            ],
            [
             0.5,
             "#f7f7f7"
            ],
            [
             0.6,
             "#e6f5d0"
            ],
            [
             0.7,
             "#b8e186"
            ],
            [
             0.8,
             "#7fbc41"
            ],
            [
             0.9,
             "#4d9221"
            ],
            [
             1,
             "#276419"
            ]
           ],
           "sequential": [
            [
             0,
             "#0d0887"
            ],
            [
             0.1111111111111111,
             "#46039f"
            ],
            [
             0.2222222222222222,
             "#7201a8"
            ],
            [
             0.3333333333333333,
             "#9c179e"
            ],
            [
             0.4444444444444444,
             "#bd3786"
            ],
            [
             0.5555555555555556,
             "#d8576b"
            ],
            [
             0.6666666666666666,
             "#ed7953"
            ],
            [
             0.7777777777777778,
             "#fb9f3a"
            ],
            [
             0.8888888888888888,
             "#fdca26"
            ],
            [
             1,
             "#f0f921"
            ]
           ],
           "sequentialminus": [
            [
             0,
             "#0d0887"
            ],
            [
             0.1111111111111111,
             "#46039f"
            ],
            [
             0.2222222222222222,
             "#7201a8"
            ],
            [
             0.3333333333333333,
             "#9c179e"
            ],
            [
             0.4444444444444444,
             "#bd3786"
            ],
            [
             0.5555555555555556,
             "#d8576b"
            ],
            [
             0.6666666666666666,
             "#ed7953"
            ],
            [
             0.7777777777777778,
             "#fb9f3a"
            ],
            [
             0.8888888888888888,
             "#fdca26"
            ],
            [
             1,
             "#f0f921"
            ]
           ]
          },
          "colorway": [
           "#636efa",
           "#EF553B",
           "#00cc96",
           "#ab63fa",
           "#FFA15A",
           "#19d3f3",
           "#FF6692",
           "#B6E880",
           "#FF97FF",
           "#FECB52"
          ],
          "font": {
           "color": "#2a3f5f"
          },
          "geo": {
           "bgcolor": "white",
           "lakecolor": "white",
           "landcolor": "#E5ECF6",
           "showlakes": true,
           "showland": true,
           "subunitcolor": "white"
          },
          "hoverlabel": {
           "align": "left"
          },
          "hovermode": "closest",
          "mapbox": {
           "style": "light"
          },
          "paper_bgcolor": "white",
          "plot_bgcolor": "#E5ECF6",
          "polar": {
           "angularaxis": {
            "gridcolor": "white",
            "linecolor": "white",
            "ticks": ""
           },
           "bgcolor": "#E5ECF6",
           "radialaxis": {
            "gridcolor": "white",
            "linecolor": "white",
            "ticks": ""
           }
          },
          "scene": {
           "xaxis": {
            "backgroundcolor": "#E5ECF6",
            "gridcolor": "white",
            "gridwidth": 2,
            "linecolor": "white",
            "showbackground": true,
            "ticks": "",
            "zerolinecolor": "white"
           },
           "yaxis": {
            "backgroundcolor": "#E5ECF6",
            "gridcolor": "white",
            "gridwidth": 2,
            "linecolor": "white",
            "showbackground": true,
            "ticks": "",
            "zerolinecolor": "white"
           },
           "zaxis": {
            "backgroundcolor": "#E5ECF6",
            "gridcolor": "white",
            "gridwidth": 2,
            "linecolor": "white",
            "showbackground": true,
            "ticks": "",
            "zerolinecolor": "white"
           }
          },
          "shapedefaults": {
           "line": {
            "color": "#2a3f5f"
           }
          },
          "ternary": {
           "aaxis": {
            "gridcolor": "white",
            "linecolor": "white",
            "ticks": ""
           },
           "baxis": {
            "gridcolor": "white",
            "linecolor": "white",
            "ticks": ""
           },
           "bgcolor": "#E5ECF6",
           "caxis": {
            "gridcolor": "white",
            "linecolor": "white",
            "ticks": ""
           }
          },
          "title": {
           "x": 0.05
          },
          "xaxis": {
           "automargin": true,
           "gridcolor": "white",
           "linecolor": "white",
           "ticks": "",
           "title": {
            "standoff": 15
           },
           "zerolinecolor": "white",
           "zerolinewidth": 2
          },
          "yaxis": {
           "automargin": true,
           "gridcolor": "white",
           "linecolor": "white",
           "ticks": "",
           "title": {
            "standoff": 15
           },
           "zerolinecolor": "white",
           "zerolinewidth": 2
          }
         }
        },
        "width": 500
       }
      },
      "image/png": "[encoded data removed]",
      "text/html": [
       "<div>                            <div id=\"8c954d27-ff02-4f0a-8152-842d6ca6ac97\" class=\"plotly-graph-div\" style=\"height:500px; width:500px;\"></div>            <script type=\"text/javascript\">                require([\"plotly\"], function(Plotly) {                    window.PLOTLYENV=window.PLOTLYENV || {};                                    if (document.getElementById(\"8c954d27-ff02-4f0a-8152-842d6ca6ac97\")) {                    Plotly.newPlot(                        \"8c954d27-ff02-4f0a-8152-842d6ca6ac97\",                        [{\"hoverinfo\":\"text\",\"marker\":{\"color\":[\"black\",\"lime\",\"lime\",\"lime\",\"black\",\"lime\",\"lime\",\"black\",\"lime\",\"lime\",\"black\",\"lime\",\"lime\",\"black\",\"lime\",\"lime\",\"black\",\"lime\",\"lime\",\"black\",\"lime\",\"black\",\"lime\",\"lime\",\"yellow\",\"red\",\"red\",\"red\",\"white\"],\"colorscale\":[[0.0,\"#440154\"],[0.1111111111111111,\"#482878\"],[0.2222222222222222,\"#3e4989\"],[0.3333333333333333,\"#31688e\"],[0.4444444444444444,\"#26828e\"],[0.5555555555555556,\"#1f9e89\"],[0.6666666666666666,\"#35b779\"],[0.7777777777777778,\"#6ece58\"],[0.8888888888888888,\"#b5de2b\"],[1.0,\"#fde725\"]],\"opacity\":0.8,\"size\":3},\"mode\":\"markers\",\"text\":[\"C1\",\"F2\",\"F3\",\"F4\",\"C5\",\"F6\",\"F7\",\"C8\",\"F9\",\"F10\",\"C11\",\"F12\",\"F13\",\"C14\",\"F15\",\"F16\",\"C17\",\"F18\",\"F19\",\"C20\",\"F22\",\"C23\",\"F24\",\"F25\",\"S26\",\"O27\",\"O28\",\"O29\",\"H30\"],\"x\":[0.0,-1.0169347302254699,-0.44557653768826,0.70940447840478,0.6876238827372908,1.7045586265728767,1.1332003676305231,0.03990545111099586,-0.9770292791144747,-0.4056710865772636,0.7275293338482864,1.744464077683873,1.1731058187415182,0.07981090222199161,-0.9371238280034792,-0.36576563546626717,0.7674347849592824,1.7843695287948687,1.2130112698525135,0.11971635333298702,-0.325860184355271,0.8073402360702788,1.827171697571174,1.25438093745456,-0.2457711283922004,-1.3353998791478827,0.5350911802599893,-0.8457892412131413,-1.279598195899887],\"y\":[0.0,-0.75246221681069,1.09984321741231,0.30949213355259003,-0.5997526212234046,0.15270929465963212,-1.6995946713066508,-0.8823329621258713,-1.634795178936561,0.21751025528643853,-1.482085583349276,-0.7296236674662399,-2.5819276334325223,-1.7646659242517428,-2.5171281410624324,-0.6648227068394332,-2.3644185454751483,-1.6119566295921117,-3.464260595558395,-2.6469988863776157,-1.5471556689653054,-3.2467515076010205,-2.494341690966345,-4.3439074376567195,-3.756216277637847,-4.615765380581463,-4.601545813257569,-2.589962014461171,-4.716382390751652],\"z\":[0.0,0.35634641152507,-0.5649302025294499,1.06221462745206,-0.7794037395502719,-1.1357507476742115,-0.21447122275294894,-1.7492538229482257,-1.3929074114231557,-2.3141840254776755,-2.5286575624984975,-2.8850045706224368,-1.963725045701175,-3.4985076458964524,-3.142161234371382,-4.063437848425902,-4.277911385446725,-4.634258393570664,-3.7129788686494027,-5.24776146884468,-5.81269167137413,-6.027165208394953,-6.385593222447593,-5.4198097277508195,-7.489074284593028,-6.725046932361814,-8.309775667977583,-8.016055486621168,-5.7736188975446225],\"type\":\"scatter3d\"},{\"line\":{\"color\":\"black\",\"width\":3},\"mode\":\"lines\",\"x\":[0.0,-1.0169347302254699],\"y\":[0.0,-0.75246221681069],\"z\":[0.0,0.35634641152507],\"type\":\"scatter3d\"},{\"line\":{\"color\":\"black\",\"width\":3},\"mode\":\"lines\",\"x\":[0.0,-0.44557653768826],\"y\":[0.0,1.09984321741231],\"z\":[0.0,-0.5649302025294499],\"type\":\"scatter3d\"},{\"line\":{\"color\":\"black\",\"width\":3},\"mode\":\"lines\",\"x\":[0.0,0.70940447840478],\"y\":[0.0,0.30949213355259003],\"z\":[0.0,1.06221462745206],\"type\":\"scatter3d\"},{\"line\":{\"color\":\"black\",\"width\":3},\"mode\":\"lines\",\"x\":[0.0,0.6876238827372908],\"y\":[0.0,-0.5997526212234046],\"z\":[0.0,-0.7794037395502719],\"type\":\"scatter3d\"},{\"line\":{\"color\":\"black\",\"width\":3},\"mode\":\"lines\",\"x\":[0.6876238827372908,1.7045586265728767],\"y\":[-0.5997526212234046,0.15270929465963212],\"z\":[-0.7794037395502719,-1.1357507476742115],\"type\":\"scatter3d\"},{\"line\":{\"color\":\"black\",\"width\":3},\"mode\":\"lines\",\"x\":[0.6876238827372908,1.1332003676305231],\"y\":[-0.5997526212234046,-1.6995946713066508],\"z\":[-0.7794037395502719,-0.21447122275294894],\"type\":\"scatter3d\"},{\"line\":{\"color\":\"black\",\"width\":3},\"mode\":\"lines\",\"x\":[0.6876238827372908,0.03990545111099586],\"y\":[-0.5997526212234046,-0.8823329621258713],\"z\":[-0.7794037395502719,-1.7492538229482257],\"type\":\"scatter3d\"},{\"line\":{\"color\":\"black\",\"width\":3},\"mode\":\"lines\",\"x\":[0.03990545111099586,-0.9770292791144747],\"y\":[-0.8823329621258713,-1.634795178936561],\"z\":[-1.7492538229482257,-1.3929074114231557],\"type\":\"scatter3d\"},{\"line\":{\"color\":\"black\",\"width\":3},\"mode\":\"lines\",\"x\":[0.03990545111099586,-0.4056710865772636],\"y\":[-0.8823329621258713,0.21751025528643853],\"z\":[-1.7492538229482257,-2.3141840254776755],\"type\":\"scatter3d\"},{\"line\":{\"color\":\"black\",\"width\":3},\"mode\":\"lines\",\"x\":[0.03990545111099586,0.7275293338482864],\"y\":[-0.8823329621258713,-1.482085583349276],\"z\":[-1.7492538229482257,-2.5286575624984975],\"type\":\"scatter3d\"},{\"line\":{\"color\":\"black\",\"width\":3},\"mode\":\"lines\",\"x\":[0.7275293338482864,1.744464077683873],\"y\":[-1.482085583349276,-0.7296236674662399],\"z\":[-2.5286575624984975,-2.8850045706224368],\"type\":\"scatter3d\"},{\"line\":{\"color\":\"black\",\"width\":3},\"mode\":\"lines\",\"x\":[0.7275293338482864,1.1731058187415182],\"y\":[-1.482085583349276,-2.5819276334325223],\"z\":[-2.5286575624984975,-1.963725045701175],\"type\":\"scatter3d\"},{\"line\":{\"color\":\"black\",\"width\":3},\"mode\":\"lines\",\"x\":[0.7275293338482864,0.07981090222199161],\"y\":[-1.482085583349276,-1.7646659242517428],\"z\":[-2.5286575624984975,-3.4985076458964524],\"type\":\"scatter3d\"},{\"line\":{\"color\":\"black\",\"width\":3},\"mode\":\"lines\",\"x\":[0.07981090222199161,-0.9371238280034792],\"y\":[-1.7646659242517428,-2.5171281410624324],\"z\":[-3.4985076458964524,-3.142161234371382],\"type\":\"scatter3d\"},{\"line\":{\"color\":\"black\",\"width\":3},\"mode\":\"lines\",\"x\":[0.07981090222199161,-0.36576563546626717],\"y\":[-1.7646659242517428,-0.6648227068394332],\"z\":[-3.4985076458964524,-4.063437848425902],\"type\":\"scatter3d\"},{\"line\":{\"color\":\"black\",\"width\":3},\"mode\":\"lines\",\"x\":[0.07981090222199161,0.7674347849592824],\"y\":[-1.7646659242517428,-2.3644185454751483],\"z\":[-3.4985076458964524,-4.277911385446725],\"type\":\"scatter3d\"},{\"line\":{\"color\":\"black\",\"width\":3},\"mode\":\"lines\",\"x\":[0.7674347849592824,1.7843695287948687],\"y\":[-2.3644185454751483,-1.6119566295921117],\"z\":[-4.277911385446725,-4.634258393570664],\"type\":\"scatter3d\"},{\"line\":{\"color\":\"black\",\"width\":3},\"mode\":\"lines\",\"x\":[0.7674347849592824,1.2130112698525135],\"y\":[-2.3644185454751483,-3.464260595558395],\"z\":[-4.277911385446725,-3.7129788686494027],\"type\":\"scatter3d\"},{\"line\":{\"color\":\"black\",\"width\":3},\"mode\":\"lines\",\"x\":[0.7674347849592824,0.11971635333298702],\"y\":[-2.3644185454751483,-2.6469988863776157],\"z\":[-4.277911385446725,-5.24776146884468],\"type\":\"scatter3d\"},{\"line\":{\"color\":\"black\",\"width\":3},\"mode\":\"lines\",\"x\":[0.11971635333298702,-0.325860184355271],\"y\":[-2.6469988863776157,-1.5471556689653054],\"z\":[-5.24776146884468,-5.81269167137413],\"type\":\"scatter3d\"},{\"line\":{\"color\":\"black\",\"width\":3},\"mode\":\"lines\",\"x\":[0.11971635333298702,0.8073402360702788],\"y\":[-2.6469988863776157,-3.2467515076010205],\"z\":[-5.24776146884468,-6.027165208394953],\"type\":\"scatter3d\"},{\"line\":{\"color\":\"black\",\"width\":3},\"mode\":\"lines\",\"x\":[0.8073402360702788,1.827171697571174],\"y\":[-3.2467515076010205,-2.494341690966345],\"z\":[-6.027165208394953,-6.385593222447593],\"type\":\"scatter3d\"},{\"line\":{\"color\":\"black\",\"width\":3},\"mode\":\"lines\",\"x\":[0.8073402360702788,1.25438093745456],\"y\":[-3.2467515076010205,-4.3439074376567195],\"z\":[-6.027165208394953,-5.4198097277508195],\"type\":\"scatter3d\"},{\"line\":{\"color\":\"black\",\"width\":3},\"mode\":\"lines\",\"x\":[-0.2457711283922004,-1.3353998791478827],\"y\":[-3.756216277637847,-4.615765380581463],\"z\":[-7.489074284593028,-6.725046932361814],\"type\":\"scatter3d\"},{\"line\":{\"color\":\"black\",\"width\":3},\"mode\":\"lines\",\"x\":[-0.2457711283922004,0.5350911802599893],\"y\":[-3.756216277637847,-4.601545813257569],\"z\":[-7.489074284593028,-8.309775667977583],\"type\":\"scatter3d\"},{\"line\":{\"color\":\"black\",\"width\":3},\"mode\":\"lines\",\"x\":[-0.2457711283922004,-0.8457892412131413],\"y\":[-3.756216277637847,-2.589962014461171],\"z\":[-7.489074284593028,-8.016055486621168],\"type\":\"scatter3d\"},{\"line\":{\"color\":\"black\",\"width\":3},\"mode\":\"lines\",\"x\":[-1.3353998791478827,-1.279598195899887],\"y\":[-4.615765380581463,-4.716382390751652],\"z\":[-6.725046932361814,-5.7736188975446225],\"type\":\"scatter3d\"}],                        {\"template\":{\"data\":{\"histogram2dcontour\":[{\"type\":\"histogram2dcontour\",\"colorbar\":{\"outlinewidth\":0,\"ticks\":\"\"},\"colorscale\":[[0.0,\"#0d0887\"],[0.1111111111111111,\"#46039f\"],[0.2222222222222222,\"#7201a8\"],[0.3333333333333333,\"#9c179e\"],[0.4444444444444444,\"#bd3786\"],[0.5555555555555556,\"#d8576b\"],[0.6666666666666666,\"#ed7953\"],[0.7777777777777778,\"#fb9f3a\"],[0.8888888888888888,\"#fdca26\"],[1.0,\"#f0f921\"]]}],\"choropleth\":[{\"type\":\"choropleth\",\"colorbar\":{\"outlinewidth\":0,\"ticks\":\"\"}}],\"histogram2d\":[{\"type\":\"histogram2d\",\"colorbar\":{\"outlinewidth\":0,\"ticks\":\"\"},\"colorscale\":[[0.0,\"#0d0887\"],[0.1111111111111111,\"#46039f\"],[0.2222222222222222,\"#7201a8\"],[0.3333333333333333,\"#9c179e\"],[0.4444444444444444,\"#bd3786\"],[0.5555555555555556,\"#d8576b\"],[0.6666666666666666,\"#ed7953\"],[0.7777777777777778,\"#fb9f3a\"],[0.8888888888888888,\"#fdca26\"],[1.0,\"#f0f921\"]]}],\"heatmap\":[{\"type\":\"heatmap\",\"colorbar\":{\"outlinewidth\":0,\"ticks\":\"\"},\"colorscale\":[[0.0,\"#0d0887\"],[0.1111111111111111,\"#46039f\"],[0.2222222222222222,\"#7201a8\"],[0.3333333333333333,\"#9c179e\"],[0.4444444444444444,\"#bd3786\"],[0.5555555555555556,\"#d8576b\"],[0.6666666666666666,\"#ed7953\"],[0.7777777777777778,\"#fb9f3a\"],[0.8888888888888888,\"#fdca26\"],[1.0,\"#f0f921\"]]}],\"heatmapgl\":[{\"type\":\"heatmapgl\",\"colorbar\":{\"outlinewidth\":0,\"ticks\":\"\"},\"colorscale\":[[0.0,\"#0d0887\"],[0.1111111111111111,\"#46039f\"],[0.2222222222222222,\"#7201a8\"],[0.3333333333333333,\"#9c179e\"],[0.4444444444444444,\"#bd3786\"],[0.5555555555555556,\"#d8576b\"],[0.6666666666666666,\"#ed7953\"],[0.7777777777777778,\"#fb9f3a\"],[0.8888888888888888,\"#fdca26\"],[1.0,\"#f0f921\"]]}],\"contourcarpet\":[{\"type\":\"contourcarpet\",\"colorbar\":{\"outlinewidth\":0,\"ticks\":\"\"}}],\"contour\":[{\"type\":\"contour\",\"colorbar\":{\"outlinewidth\":0,\"ticks\":\"\"},\"colorscale\":[[0.0,\"#0d0887\"],[0.1111111111111111,\"#46039f\"],[0.2222222222222222,\"#7201a8\"],[0.3333333333333333,\"#9c179e\"],[0.4444444444444444,\"#bd3786\"],[0.5555555555555556,\"#d8576b\"],[0.6666666666666666,\"#ed7953\"],[0.7777777777777778,\"#fb9f3a\"],[0.8888888888888888,\"#fdca26\"],[1.0,\"#f0f921\"]]}],\"surface\":[{\"type\":\"surface\",\"colorbar\":{\"outlinewidth\":0,\"ticks\":\"\"},\"colorscale\":[[0.0,\"#0d0887\"],[0.1111111111111111,\"#46039f\"],[0.2222222222222222,\"#7201a8\"],[0.3333333333333333,\"#9c179e\"],[0.4444444444444444,\"#bd3786\"],[0.5555555555555556,\"#d8576b\"],[0.6666666666666666,\"#ed7953\"],[0.7777777777777778,\"#fb9f3a\"],[0.8888888888888888,\"#fdca26\"],[1.0,\"#f0f921\"]]}],\"mesh3d\":[{\"type\":\"mesh3d\",\"colorbar\":{\"outlinewidth\":0,\"ticks\":\"\"}}],\"scatter\":[{\"fillpattern\":{\"fillmode\":\"overlay\",\"size\":10,\"solidity\":0.2},\"type\":\"scatter\"}],\"parcoords\":[{\"type\":\"parcoords\",\"line\":{\"colorbar\":{\"outlinewidth\":0,\"ticks\":\"\"}}}],\"scatterpolargl\":[{\"type\":\"scatterpolargl\",\"marker\":{\"colorbar\":{\"outlinewidth\":0,\"ticks\":\"\"}}}],\"bar\":[{\"error_x\":{\"color\":\"#2a3f5f\"},\"error_y\":{\"color\":\"#2a3f5f\"},\"marker\":{\"line\":{\"color\":\"#E5ECF6\",\"width\":0.5},\"pattern\":{\"fillmode\":\"overlay\",\"size\":10,\"solidity\":0.2}},\"type\":\"bar\"}],\"scattergeo\":[{\"type\":\"scattergeo\",\"marker\":{\"colorbar\":{\"outlinewidth\":0,\"ticks\":\"\"}}}],\"scatterpolar\":[{\"type\":\"scatterpolar\",\"marker\":{\"colorbar\":{\"outlinewidth\":0,\"ticks\":\"\"}}}],\"histogram\":[{\"marker\":{\"pattern\":{\"fillmode\":\"overlay\",\"size\":10,\"solidity\":0.2}},\"type\":\"histogram\"}],\"scattergl\":[{\"type\":\"scattergl\",\"marker\":{\"colorbar\":{\"outlinewidth\":0,\"ticks\":\"\"}}}],\"scatter3d\":[{\"type\":\"scatter3d\",\"line\":{\"colorbar\":{\"outlinewidth\":0,\"ticks\":\"\"}},\"marker\":{\"colorbar\":{\"outlinewidth\":0,\"ticks\":\"\"}}}],\"scattermapbox\":[{\"type\":\"scattermapbox\",\"marker\":{\"colorbar\":{\"outlinewidth\":0,\"ticks\":\"\"}}}],\"scatterternary\":[{\"type\":\"scatterternary\",\"marker\":{\"colorbar\":{\"outlinewidth\":0,\"ticks\":\"\"}}}],\"scattercarpet\":[{\"type\":\"scattercarpet\",\"marker\":{\"colorbar\":{\"outlinewidth\":0,\"ticks\":\"\"}}}],\"carpet\":[{\"aaxis\":{\"endlinecolor\":\"#2a3f5f\",\"gridcolor\":\"white\",\"linecolor\":\"white\",\"minorgridcolor\":\"white\",\"startlinecolor\":\"#2a3f5f\"},\"baxis\":{\"endlinecolor\":\"#2a3f5f\",\"gridcolor\":\"white\",\"linecolor\":\"white\",\"minorgridcolor\":\"white\",\"startlinecolor\":\"#2a3f5f\"},\"type\":\"carpet\"}],\"table\":[{\"cells\":{\"fill\":{\"color\":\"#EBF0F8\"},\"line\":{\"color\":\"white\"}},\"header\":{\"fill\":{\"color\":\"#C8D4E3\"},\"line\":{\"color\":\"white\"}},\"type\":\"table\"}],\"barpolar\":[{\"marker\":{\"line\":{\"color\":\"#E5ECF6\",\"width\":0.5},\"pattern\":{\"fillmode\":\"overlay\",\"size\":10,\"solidity\":0.2}},\"type\":\"barpolar\"}],\"pie\":[{\"automargin\":true,\"type\":\"pie\"}]},\"layout\":{\"autotypenumbers\":\"strict\",\"colorway\":[\"#636efa\",\"#EF553B\",\"#00cc96\",\"#ab63fa\",\"#FFA15A\",\"#19d3f3\",\"#FF6692\",\"#B6E880\",\"#FF97FF\",\"#FECB52\"],\"font\":{\"color\":\"#2a3f5f\"},\"hovermode\":\"closest\",\"hoverlabel\":{\"align\":\"left\"},\"paper_bgcolor\":\"white\",\"plot_bgcolor\":\"#E5ECF6\",\"polar\":{\"bgcolor\":\"#E5ECF6\",\"angularaxis\":{\"gridcolor\":\"white\",\"linecolor\":\"white\",\"ticks\":\"\"},\"radialaxis\":{\"gridcolor\":\"white\",\"linecolor\":\"white\",\"ticks\":\"\"}},\"ternary\":{\"bgcolor\":\"#E5ECF6\",\"aaxis\":{\"gridcolor\":\"white\",\"linecolor\":\"white\",\"ticks\":\"\"},\"baxis\":{\"gridcolor\":\"white\",\"linecolor\":\"white\",\"ticks\":\"\"},\"caxis\":{\"gridcolor\":\"white\",\"linecolor\":\"white\",\"ticks\":\"\"}},\"coloraxis\":{\"colorbar\":{\"outlinewidth\":0,\"ticks\":\"\"}},\"colorscale\":{\"sequential\":[[0.0,\"#0d0887\"],[0.1111111111111111,\"#46039f\"],[0.2222222222222222,\"#7201a8\"],[0.3333333333333333,\"#9c179e\"],[0.4444444444444444,\"#bd3786\"],[0.5555555555555556,\"#d8576b\"],[0.6666666666666666,\"#ed7953\"],[0.7777777777777778,\"#fb9f3a\"],[0.8888888888888888,\"#fdca26\"],[1.0,\"#f0f921\"]],\"sequentialminus\":[[0.0,\"#0d0887\"],[0.1111111111111111,\"#46039f\"],[0.2222222222222222,\"#7201a8\"],[0.3333333333333333,\"#9c179e\"],[0.4444444444444444,\"#bd3786\"],[0.5555555555555556,\"#d8576b\"],[0.6666666666666666,\"#ed7953\"],[0.7777777777777778,\"#fb9f3a\"],[0.8888888888888888,\"#fdca26\"],[1.0,\"#f0f921\"]],\"diverging\":[[0,\"#8e0152\"],[0.1,\"#c51b7d\"],[0.2,\"#de77ae\"],[0.3,\"#f1b6da\"],[0.4,\"#fde0ef\"],[0.5,\"#f7f7f7\"],[0.6,\"#e6f5d0\"],[0.7,\"#b8e186\"],[0.8,\"#7fbc41\"],[0.9,\"#4d9221\"],[1,\"#276419\"]]},\"xaxis\":{\"gridcolor\":\"white\",\"linecolor\":\"white\",\"ticks\":\"\",\"title\":{\"standoff\":15},\"zerolinecolor\":\"white\",\"automargin\":true,\"zerolinewidth\":2},\"yaxis\":{\"gridcolor\":\"white\",\"linecolor\":\"white\",\"ticks\":\"\",\"title\":{\"standoff\":15},\"zerolinecolor\":\"white\",\"automargin\":true,\"zerolinewidth\":2},\"scene\":{\"xaxis\":{\"backgroundcolor\":\"#E5ECF6\",\"gridcolor\":\"white\",\"linecolor\":\"white\",\"showbackground\":true,\"ticks\":\"\",\"zerolinecolor\":\"white\",\"gridwidth\":2},\"yaxis\":{\"backgroundcolor\":\"#E5ECF6\",\"gridcolor\":\"white\",\"linecolor\":\"white\",\"showbackground\":true,\"ticks\":\"\",\"zerolinecolor\":\"white\",\"gridwidth\":2},\"zaxis\":{\"backgroundcolor\":\"#E5ECF6\",\"gridcolor\":\"white\",\"linecolor\":\"white\",\"showbackground\":true,\"ticks\":\"\",\"zerolinecolor\":\"white\",\"gridwidth\":2}},\"shapedefaults\":{\"line\":{\"color\":\"#2a3f5f\"}},\"annotationdefaults\":{\"arrowcolor\":\"#2a3f5f\",\"arrowhead\":0,\"arrowwidth\":1},\"geo\":{\"bgcolor\":\"white\",\"landcolor\":\"#E5ECF6\",\"subunitcolor\":\"white\",\"showland\":true,\"showlakes\":true,\"lakecolor\":\"white\"},\"title\":{\"x\":0.05},\"mapbox\":{\"style\":\"light\"}}},\"scene\":{\"xaxis\":{\"showbackground\":false,\"showgrid\":true,\"zeroline\":true,\"gridcolor\":\"red\",\"zerolinecolor\":\"green\"},\"yaxis\":{\"showbackground\":false,\"showgrid\":true,\"zeroline\":true,\"gridcolor\":\"red\",\"zerolinecolor\":\"green\"},\"zaxis\":{\"showbackground\":false,\"showgrid\":true,\"zeroline\":true,\"gridcolor\":\"red\",\"zerolinecolor\":\"green\"},\"aspectmode\":\"data\"},\"margin\":{\"l\":50,\"r\":50,\"b\":100,\"t\":100,\"pad\":10},\"showlegend\":false,\"width\":500,\"height\":500,\"autosize\":false,\"paper_bgcolor\":\"rgba(140,140,140,0.5)\",\"plot_bgcolor\":\"rgba(0,100,140,0.5)\"},                        {\"responsive\": true}                    ).then(function(){\n",
       "                            \n",
       "var gd = document.getElementById('8c954d27-ff02-4f0a-8152-842d6ca6ac97');\n",
       "var x = new MutationObserver(function (mutations, observer) {{\n",
       "        var display = window.getComputedStyle(gd).display;\n",
       "        if (!display || display === 'none') {{\n",
       "            console.log([gd, 'removed!']);\n",
       "            Plotly.purge(gd);\n",
       "            observer.disconnect();\n",
       "        }}\n",
       "}});\n",
       "\n",
       "// Listen for the removal of the full notebook cells\n",
       "var notebookContainer = gd.closest('#notebook-container');\n",
       "if (notebookContainer) {{\n",
       "    x.observe(notebookContainer, {childList: true});\n",
       "}}\n",
       "\n",
       "// Listen for the clearing of the current output cell\n",
       "var outputEl = gd.closest('.output');\n",
       "if (outputEl) {{\n",
       "    x.observe(outputEl, {childList: true});\n",
       "}}\n",
       "\n",
       "                        })                };                });            </script>        </div>"
      ]
     },
     "metadata": {},
     "output_type": "display_data"
    },
    {
     "name": "stdout",
     "output_type": "stream",
     "text": [
      "shown below: HSO3_CF2_0_CF_CF2_6_CF3\n"
     ]
    },
    {
     "data": {
      "application/vnd.plotly.v1+json": {
       "config": {
        "plotlyServerURL": "https://plot.ly"
       },
       "data": [
        {
         "hoverinfo": "text",
         "marker": {
          "color": [
           "black",
           "lime",
           "lime",
           "lime",
           "black",
           "lime",
           "lime",
           "black",
           "lime",
           "lime",
           "black",
           "lime",
           "lime",
           "black",
           "lime",
           "lime",
           "black",
           "lime",
           "lime",
           "black",
           "lime",
           "lime",
           "black",
           "lime",
           "yellow",
           "red",
           "red",
           "red",
           "white"
          ],
          "colorscale": [
           [
            0,
            "#440154"
           ],
           [
            0.1111111111111111,
            "#482878"
           ],
           [
            0.2222222222222222,
            "#3e4989"
           ],
           [
            0.3333333333333333,
            "#31688e"
           ],
           [
            0.4444444444444444,
            "#26828e"
           ],
           [
            0.5555555555555556,
            "#1f9e89"
           ],
           [
            0.6666666666666666,
            "#35b779"
           ],
           [
            0.7777777777777778,
            "#6ece58"
           ],
           [
            0.8888888888888888,
            "#b5de2b"
           ],
           [
            1,
            "#fde725"
           ]
          ],
          "opacity": 0.8,
          "size": 3
         },
         "mode": "markers",
         "text": [
          "C1",
          "F2",
          "F3",
          "F4",
          "C5",
          "F6",
          "F7",
          "C8",
          "F9",
          "F10",
          "C11",
          "F12",
          "F13",
          "C14",
          "F15",
          "F16",
          "C17",
          "F18",
          "F19",
          "C20",
          "F21",
          "F22",
          "C23",
          "F25",
          "S26",
          "O27",
          "O28",
          "O29",
          "H30"
         ],
         "type": "scatter3d",
         "x": [
          0,
          -1.0169347302254699,
          -0.44557653768826,
          0.70940447840478,
          0.6876238827372908,
          1.7045586265728767,
          1.1332003676305231,
          0.03990545111099586,
          -0.9770292791144747,
          -0.4056710865772636,
          0.7275293338482864,
          1.744464077683873,
          1.1731058187415182,
          0.07981090222199161,
          -0.9371238280034792,
          -0.36576563546626717,
          0.7674347849592824,
          1.7843695287948687,
          1.2130112698525135,
          0.11971635333298702,
          -0.8972183768924832,
          -0.325860184355271,
          0.8073402360702788,
          1.25438093745456,
          -0.2457711283922004,
          -1.3353998791478827,
          0.5350911802599893,
          -0.8457892412131413,
          -1.279598195899887
         ],
         "y": [
          0,
          -0.75246221681069,
          1.09984321741231,
          0.30949213355259003,
          -0.5997526212234046,
          0.15270929465963212,
          -1.6995946713066508,
          -0.8823329621258713,
          -1.634795178936561,
          0.21751025528643853,
          -1.482085583349276,
          -0.7296236674662399,
          -2.5819276334325223,
          -1.7646659242517428,
          -2.5171281410624324,
          -0.6648227068394332,
          -2.3644185454751483,
          -1.6119566295921117,
          -3.464260595558395,
          -2.6469988863776157,
          -3.3994611031883046,
          -1.5471556689653054,
          -3.2467515076010205,
          -4.3439074376567195,
          -3.756216277637847,
          -4.615765380581463,
          -4.601545813257569,
          -2.589962014461171,
          -4.716382390751652
         ],
         "z": [
          0,
          0.35634641152507,
          -0.5649302025294499,
          1.06221462745206,
          -0.7794037395502719,
          -1.1357507476742115,
          -0.21447122275294894,
          -1.7492538229482257,
          -1.3929074114231557,
          -2.3141840254776755,
          -2.5286575624984975,
          -2.8850045706224368,
          -1.963725045701175,
          -3.4985076458964524,
          -3.142161234371382,
          -4.063437848425902,
          -4.277911385446725,
          -4.634258393570664,
          -3.7129788686494027,
          -5.24776146884468,
          -4.891415057319609,
          -5.81269167137413,
          -6.027165208394953,
          -5.4198097277508195,
          -7.489074284593028,
          -6.725046932361814,
          -8.309775667977583,
          -8.016055486621168,
          -5.7736188975446225
         ]
        },
        {
         "line": {
          "color": "black",
          "width": 3
         },
         "mode": "lines",
         "type": "scatter3d",
         "x": [
          0,
          -1.0169347302254699
         ],
         "y": [
          0,
          -0.75246221681069
         ],
         "z": [
          0,
          0.35634641152507
         ]
        },
        {
         "line": {
          "color": "black",
          "width": 3
         },
         "mode": "lines",
         "type": "scatter3d",
         "x": [
          0,
          -0.44557653768826
         ],
         "y": [
          0,
          1.09984321741231
         ],
         "z": [
          0,
          -0.5649302025294499
         ]
        },
        {
         "line": {
          "color": "black",
          "width": 3
         },
         "mode": "lines",
         "type": "scatter3d",
         "x": [
          0,
          0.70940447840478
         ],
         "y": [
          0,
          0.30949213355259003
         ],
         "z": [
          0,
          1.06221462745206
         ]
        },
        {
         "line": {
          "color": "black",
          "width": 3
         },
         "mode": "lines",
         "type": "scatter3d",
         "x": [
          0,
          0.6876238827372908
         ],
         "y": [
          0,
          -0.5997526212234046
         ],
         "z": [
          0,
          -0.7794037395502719
         ]
        },
        {
         "line": {
          "color": "black",
          "width": 3
         },
         "mode": "lines",
         "type": "scatter3d",
         "x": [
          0.6876238827372908,
          1.7045586265728767
         ],
         "y": [
          -0.5997526212234046,
          0.15270929465963212
         ],
         "z": [
          -0.7794037395502719,
          -1.1357507476742115
         ]
        },
        {
         "line": {
          "color": "black",
          "width": 3
         },
         "mode": "lines",
         "type": "scatter3d",
         "x": [
          0.6876238827372908,
          1.1332003676305231
         ],
         "y": [
          -0.5997526212234046,
          -1.6995946713066508
         ],
         "z": [
          -0.7794037395502719,
          -0.21447122275294894
         ]
        },
        {
         "line": {
          "color": "black",
          "width": 3
         },
         "mode": "lines",
         "type": "scatter3d",
         "x": [
          0.6876238827372908,
          0.03990545111099586
         ],
         "y": [
          -0.5997526212234046,
          -0.8823329621258713
         ],
         "z": [
          -0.7794037395502719,
          -1.7492538229482257
         ]
        },
        {
         "line": {
          "color": "black",
          "width": 3
         },
         "mode": "lines",
         "type": "scatter3d",
         "x": [
          0.03990545111099586,
          -0.9770292791144747
         ],
         "y": [
          -0.8823329621258713,
          -1.634795178936561
         ],
         "z": [
          -1.7492538229482257,
          -1.3929074114231557
         ]
        },
        {
         "line": {
          "color": "black",
          "width": 3
         },
         "mode": "lines",
         "type": "scatter3d",
         "x": [
          0.03990545111099586,
          -0.4056710865772636
         ],
         "y": [
          -0.8823329621258713,
          0.21751025528643853
         ],
         "z": [
          -1.7492538229482257,
          -2.3141840254776755
         ]
        },
        {
         "line": {
          "color": "black",
          "width": 3
         },
         "mode": "lines",
         "type": "scatter3d",
         "x": [
          0.03990545111099586,
          0.7275293338482864
         ],
         "y": [
          -0.8823329621258713,
          -1.482085583349276
         ],
         "z": [
          -1.7492538229482257,
          -2.5286575624984975
         ]
        },
        {
         "line": {
          "color": "black",
          "width": 3
         },
         "mode": "lines",
         "type": "scatter3d",
         "x": [
          0.7275293338482864,
          1.744464077683873
         ],
         "y": [
          -1.482085583349276,
          -0.7296236674662399
         ],
         "z": [
          -2.5286575624984975,
          -2.8850045706224368
         ]
        },
        {
         "line": {
          "color": "black",
          "width": 3
         },
         "mode": "lines",
         "type": "scatter3d",
         "x": [
          0.7275293338482864,
          1.1731058187415182
         ],
         "y": [
          -1.482085583349276,
          -2.5819276334325223
         ],
         "z": [
          -2.5286575624984975,
          -1.963725045701175
         ]
        },
        {
         "line": {
          "color": "black",
          "width": 3
         },
         "mode": "lines",
         "type": "scatter3d",
         "x": [
          0.7275293338482864,
          0.07981090222199161
         ],
         "y": [
          -1.482085583349276,
          -1.7646659242517428
         ],
         "z": [
          -2.5286575624984975,
          -3.4985076458964524
         ]
        },
        {
         "line": {
          "color": "black",
          "width": 3
         },
         "mode": "lines",
         "type": "scatter3d",
         "x": [
          0.07981090222199161,
          -0.9371238280034792
         ],
         "y": [
          -1.7646659242517428,
          -2.5171281410624324
         ],
         "z": [
          -3.4985076458964524,
          -3.142161234371382
         ]
        },
        {
         "line": {
          "color": "black",
          "width": 3
         },
         "mode": "lines",
         "type": "scatter3d",
         "x": [
          0.07981090222199161,
          -0.36576563546626717
         ],
         "y": [
          -1.7646659242517428,
          -0.6648227068394332
         ],
         "z": [
          -3.4985076458964524,
          -4.063437848425902
         ]
        },
        {
         "line": {
          "color": "black",
          "width": 3
         },
         "mode": "lines",
         "type": "scatter3d",
         "x": [
          0.07981090222199161,
          0.7674347849592824
         ],
         "y": [
          -1.7646659242517428,
          -2.3644185454751483
         ],
         "z": [
          -3.4985076458964524,
          -4.277911385446725
         ]
        },
        {
         "line": {
          "color": "black",
          "width": 3
         },
         "mode": "lines",
         "type": "scatter3d",
         "x": [
          0.7674347849592824,
          1.7843695287948687
         ],
         "y": [
          -2.3644185454751483,
          -1.6119566295921117
         ],
         "z": [
          -4.277911385446725,
          -4.634258393570664
         ]
        },
        {
         "line": {
          "color": "black",
          "width": 3
         },
         "mode": "lines",
         "type": "scatter3d",
         "x": [
          0.7674347849592824,
          1.2130112698525135
         ],
         "y": [
          -2.3644185454751483,
          -3.464260595558395
         ],
         "z": [
          -4.277911385446725,
          -3.7129788686494027
         ]
        },
        {
         "line": {
          "color": "black",
          "width": 3
         },
         "mode": "lines",
         "type": "scatter3d",
         "x": [
          0.7674347849592824,
          0.11971635333298702
         ],
         "y": [
          -2.3644185454751483,
          -2.6469988863776157
         ],
         "z": [
          -4.277911385446725,
          -5.24776146884468
         ]
        },
        {
         "line": {
          "color": "black",
          "width": 3
         },
         "mode": "lines",
         "type": "scatter3d",
         "x": [
          0.11971635333298702,
          -0.8972183768924832
         ],
         "y": [
          -2.6469988863776157,
          -3.3994611031883046
         ],
         "z": [
          -5.24776146884468,
          -4.891415057319609
         ]
        },
        {
         "line": {
          "color": "black",
          "width": 3
         },
         "mode": "lines",
         "type": "scatter3d",
         "x": [
          0.11971635333298702,
          -0.325860184355271
         ],
         "y": [
          -2.6469988863776157,
          -1.5471556689653054
         ],
         "z": [
          -5.24776146884468,
          -5.81269167137413
         ]
        },
        {
         "line": {
          "color": "black",
          "width": 3
         },
         "mode": "lines",
         "type": "scatter3d",
         "x": [
          0.11971635333298702,
          0.8073402360702788
         ],
         "y": [
          -2.6469988863776157,
          -3.2467515076010205
         ],
         "z": [
          -5.24776146884468,
          -6.027165208394953
         ]
        },
        {
         "line": {
          "color": "black",
          "width": 3
         },
         "mode": "lines",
         "type": "scatter3d",
         "x": [
          -0.8972183768924832,
          -1.279598195899887
         ],
         "y": [
          -3.3994611031883046,
          -4.716382390751652
         ],
         "z": [
          -4.891415057319609,
          -5.7736188975446225
         ]
        },
        {
         "line": {
          "color": "black",
          "width": 3
         },
         "mode": "lines",
         "type": "scatter3d",
         "x": [
          0.8073402360702788,
          1.25438093745456
         ],
         "y": [
          -3.2467515076010205,
          -4.3439074376567195
         ],
         "z": [
          -6.027165208394953,
          -5.4198097277508195
         ]
        },
        {
         "line": {
          "color": "black",
          "width": 3
         },
         "mode": "lines",
         "type": "scatter3d",
         "x": [
          -0.2457711283922004,
          -1.3353998791478827
         ],
         "y": [
          -3.756216277637847,
          -4.615765380581463
         ],
         "z": [
          -7.489074284593028,
          -6.725046932361814
         ]
        },
        {
         "line": {
          "color": "black",
          "width": 3
         },
         "mode": "lines",
         "type": "scatter3d",
         "x": [
          -0.2457711283922004,
          0.5350911802599893
         ],
         "y": [
          -3.756216277637847,
          -4.601545813257569
         ],
         "z": [
          -7.489074284593028,
          -8.309775667977583
         ]
        },
        {
         "line": {
          "color": "black",
          "width": 3
         },
         "mode": "lines",
         "type": "scatter3d",
         "x": [
          -0.2457711283922004,
          -0.8457892412131413
         ],
         "y": [
          -3.756216277637847,
          -2.589962014461171
         ],
         "z": [
          -7.489074284593028,
          -8.016055486621168
         ]
        },
        {
         "line": {
          "color": "black",
          "width": 3
         },
         "mode": "lines",
         "type": "scatter3d",
         "x": [
          -1.3353998791478827,
          -1.279598195899887
         ],
         "y": [
          -4.615765380581463,
          -4.716382390751652
         ],
         "z": [
          -6.725046932361814,
          -5.7736188975446225
         ]
        }
       ],
       "layout": {
        "autosize": false,
        "height": 500,
        "margin": {
         "b": 100,
         "l": 50,
         "pad": 10,
         "r": 50,
         "t": 100
        },
        "paper_bgcolor": "rgba(140,140,140,0.5)",
        "plot_bgcolor": "rgba(0,100,140,0.5)",
        "scene": {
         "aspectmode": "data",
         "aspectratio": {
          "x": 0.5631066272258529,
          "y": 1.0498068149073738,
          "z": 1.691608947833382
         },
         "xaxis": {
          "gridcolor": "red",
          "showbackground": false,
          "showgrid": true,
          "type": "linear",
          "zeroline": true,
          "zerolinecolor": "green"
         },
         "yaxis": {
          "gridcolor": "red",
          "showbackground": false,
          "showgrid": true,
          "type": "linear",
          "zeroline": true,
          "zerolinecolor": "green"
         },
         "zaxis": {
          "gridcolor": "red",
          "showbackground": false,
          "showgrid": true,
          "type": "linear",
          "zeroline": true,
          "zerolinecolor": "green"
         }
        },
        "showlegend": false,
        "template": {
         "data": {
          "bar": [
           {
            "error_x": {
             "color": "#2a3f5f"
            },
            "error_y": {
             "color": "#2a3f5f"
            },
            "marker": {
             "line": {
              "color": "#E5ECF6",
              "width": 0.5
             },
             "pattern": {
              "fillmode": "overlay",
              "size": 10,
              "solidity": 0.2
             }
            },
            "type": "bar"
           }
          ],
          "barpolar": [
           {
            "marker": {
             "line": {
              "color": "#E5ECF6",
              "width": 0.5
             },
             "pattern": {
              "fillmode": "overlay",
              "size": 10,
              "solidity": 0.2
             }
            },
            "type": "barpolar"
           }
          ],
          "carpet": [
           {
            "aaxis": {
             "endlinecolor": "#2a3f5f",
             "gridcolor": "white",
             "linecolor": "white",
             "minorgridcolor": "white",
             "startlinecolor": "#2a3f5f"
            },
            "baxis": {
             "endlinecolor": "#2a3f5f",
             "gridcolor": "white",
             "linecolor": "white",
             "minorgridcolor": "white",
             "startlinecolor": "#2a3f5f"
            },
            "type": "carpet"
           }
          ],
          "choropleth": [
           {
            "colorbar": {
             "outlinewidth": 0,
             "ticks": ""
            },
            "type": "choropleth"
           }
          ],
          "contour": [
           {
            "colorbar": {
             "outlinewidth": 0,
             "ticks": ""
            },
            "colorscale": [
             [
              0,
              "#0d0887"
             ],
             [
              0.1111111111111111,
              "#46039f"
             ],
             [
              0.2222222222222222,
              "#7201a8"
             ],
             [
              0.3333333333333333,
              "#9c179e"
             ],
             [
              0.4444444444444444,
              "#bd3786"
             ],
             [
              0.5555555555555556,
              "#d8576b"
             ],
             [
              0.6666666666666666,
              "#ed7953"
             ],
             [
              0.7777777777777778,
              "#fb9f3a"
             ],
             [
              0.8888888888888888,
              "#fdca26"
             ],
             [
              1,
              "#f0f921"
             ]
            ],
            "type": "contour"
           }
          ],
          "contourcarpet": [
           {
            "colorbar": {
             "outlinewidth": 0,
             "ticks": ""
            },
            "type": "contourcarpet"
           }
          ],
          "heatmap": [
           {
            "colorbar": {
             "outlinewidth": 0,
             "ticks": ""
            },
            "colorscale": [
             [
              0,
              "#0d0887"
             ],
             [
              0.1111111111111111,
              "#46039f"
             ],
             [
              0.2222222222222222,
              "#7201a8"
             ],
             [
              0.3333333333333333,
              "#9c179e"
             ],
             [
              0.4444444444444444,
              "#bd3786"
             ],
             [
              0.5555555555555556,
              "#d8576b"
             ],
             [
              0.6666666666666666,
              "#ed7953"
             ],
             [
              0.7777777777777778,
              "#fb9f3a"
             ],
             [
              0.8888888888888888,
              "#fdca26"
             ],
             [
              1,
              "#f0f921"
             ]
            ],
            "type": "heatmap"
           }
          ],
          "heatmapgl": [
           {
            "colorbar": {
             "outlinewidth": 0,
             "ticks": ""
            },
            "colorscale": [
             [
              0,
              "#0d0887"
             ],
             [
              0.1111111111111111,
              "#46039f"
             ],
             [
              0.2222222222222222,
              "#7201a8"
             ],
             [
              0.3333333333333333,
              "#9c179e"
             ],
             [
              0.4444444444444444,
              "#bd3786"
             ],
             [
              0.5555555555555556,
              "#d8576b"
             ],
             [
              0.6666666666666666,
              "#ed7953"
             ],
             [
              0.7777777777777778,
              "#fb9f3a"
             ],
             [
              0.8888888888888888,
              "#fdca26"
             ],
             [
              1,
              "#f0f921"
             ]
            ],
            "type": "heatmapgl"
           }
          ],
          "histogram": [
           {
            "marker": {
             "pattern": {
              "fillmode": "overlay",
              "size": 10,
              "solidity": 0.2
             }
            },
            "type": "histogram"
           }
          ],
          "histogram2d": [
           {
            "colorbar": {
             "outlinewidth": 0,
             "ticks": ""
            },
            "colorscale": [
             [
              0,
              "#0d0887"
             ],
             [
              0.1111111111111111,
              "#46039f"
             ],
             [
              0.2222222222222222,
              "#7201a8"
             ],
             [
              0.3333333333333333,
              "#9c179e"
             ],
             [
              0.4444444444444444,
              "#bd3786"
             ],
             [
              0.5555555555555556,
              "#d8576b"
             ],
             [
              0.6666666666666666,
              "#ed7953"
             ],
             [
              0.7777777777777778,
              "#fb9f3a"
             ],
             [
              0.8888888888888888,
              "#fdca26"
             ],
             [
              1,
              "#f0f921"
             ]
            ],
            "type": "histogram2d"
           }
          ],
          "histogram2dcontour": [
           {
            "colorbar": {
             "outlinewidth": 0,
             "ticks": ""
            },
            "colorscale": [
             [
              0,
              "#0d0887"
             ],
             [
              0.1111111111111111,
              "#46039f"
             ],
             [
              0.2222222222222222,
              "#7201a8"
             ],
             [
              0.3333333333333333,
              "#9c179e"
             ],
             [
              0.4444444444444444,
              "#bd3786"
             ],
             [
              0.5555555555555556,
              "#d8576b"
             ],
             [
              0.6666666666666666,
              "#ed7953"
             ],
             [
              0.7777777777777778,
              "#fb9f3a"
             ],
             [
              0.8888888888888888,
              "#fdca26"
             ],
             [
              1,
              "#f0f921"
             ]
            ],
            "type": "histogram2dcontour"
           }
          ],
          "mesh3d": [
           {
            "colorbar": {
             "outlinewidth": 0,
             "ticks": ""
            },
            "type": "mesh3d"
           }
          ],
          "parcoords": [
           {
            "line": {
             "colorbar": {
              "outlinewidth": 0,
              "ticks": ""
             }
            },
            "type": "parcoords"
           }
          ],
          "pie": [
           {
            "automargin": true,
            "type": "pie"
           }
          ],
          "scatter": [
           {
            "fillpattern": {
             "fillmode": "overlay",
             "size": 10,
             "solidity": 0.2
            },
            "type": "scatter"
           }
          ],
          "scatter3d": [
           {
            "line": {
             "colorbar": {
              "outlinewidth": 0,
              "ticks": ""
             }
            },
            "marker": {
             "colorbar": {
              "outlinewidth": 0,
              "ticks": ""
             }
            },
            "type": "scatter3d"
           }
          ],
          "scattercarpet": [
           {
            "marker": {
             "colorbar": {
              "outlinewidth": 0,
              "ticks": ""
             }
            },
            "type": "scattercarpet"
           }
          ],
          "scattergeo": [
           {
            "marker": {
             "colorbar": {
              "outlinewidth": 0,
              "ticks": ""
             }
            },
            "type": "scattergeo"
           }
          ],
          "scattergl": [
           {
            "marker": {
             "colorbar": {
              "outlinewidth": 0,
              "ticks": ""
             }
            },
            "type": "scattergl"
           }
          ],
          "scattermapbox": [
           {
            "marker": {
             "colorbar": {
              "outlinewidth": 0,
              "ticks": ""
             }
            },
            "type": "scattermapbox"
           }
          ],
          "scatterpolar": [
           {
            "marker": {
             "colorbar": {
              "outlinewidth": 0,
              "ticks": ""
             }
            },
            "type": "scatterpolar"
           }
          ],
          "scatterpolargl": [
           {
            "marker": {
             "colorbar": {
              "outlinewidth": 0,
              "ticks": ""
             }
            },
            "type": "scatterpolargl"
           }
          ],
          "scatterternary": [
           {
            "marker": {
             "colorbar": {
              "outlinewidth": 0,
              "ticks": ""
             }
            },
            "type": "scatterternary"
           }
          ],
          "surface": [
           {
            "colorbar": {
             "outlinewidth": 0,
             "ticks": ""
            },
            "colorscale": [
             [
              0,
              "#0d0887"
             ],
             [
              0.1111111111111111,
              "#46039f"
             ],
             [
              0.2222222222222222,
              "#7201a8"
             ],
             [
              0.3333333333333333,
              "#9c179e"
             ],
             [
              0.4444444444444444,
              "#bd3786"
             ],
             [
              0.5555555555555556,
              "#d8576b"
             ],
             [
              0.6666666666666666,
              "#ed7953"
             ],
             [
              0.7777777777777778,
              "#fb9f3a"
             ],
             [
              0.8888888888888888,
              "#fdca26"
             ],
             [
              1,
              "#f0f921"
             ]
            ],
            "type": "surface"
           }
          ],
          "table": [
           {
            "cells": {
             "fill": {
              "color": "#EBF0F8"
             },
             "line": {
              "color": "white"
             }
            },
            "header": {
             "fill": {
              "color": "#C8D4E3"
             },
             "line": {
              "color": "white"
             }
            },
            "type": "table"
           }
          ]
         },
         "layout": {
          "annotationdefaults": {
           "arrowcolor": "#2a3f5f",
           "arrowhead": 0,
           "arrowwidth": 1
          },
          "autotypenumbers": "strict",
          "coloraxis": {
           "colorbar": {
            "outlinewidth": 0,
            "ticks": ""
           }
          },
          "colorscale": {
           "diverging": [
            [
             0,
             "#8e0152"
            ],
            [
             0.1,
             "#c51b7d"
            ],
            [
             0.2,
             "#de77ae"
            ],
            [
             0.3,
             "#f1b6da"
            ],
            [
             0.4,
             "#fde0ef"
            ],
            [
             0.5,
             "#f7f7f7"
            ],
            [
             0.6,
             "#e6f5d0"
            ],
            [
             0.7,
             "#b8e186"
            ],
            [
             0.8,
             "#7fbc41"
            ],
            [
             0.9,
             "#4d9221"
            ],
            [
             1,
             "#276419"
            ]
           ],
           "sequential": [
            [
             0,
             "#0d0887"
            ],
            [
             0.1111111111111111,
             "#46039f"
            ],
            [
             0.2222222222222222,
             "#7201a8"
            ],
            [
             0.3333333333333333,
             "#9c179e"
            ],
            [
             0.4444444444444444,
             "#bd3786"
            ],
            [
             0.5555555555555556,
             "#d8576b"
            ],
            [
             0.6666666666666666,
             "#ed7953"
            ],
            [
             0.7777777777777778,
             "#fb9f3a"
            ],
            [
             0.8888888888888888,
             "#fdca26"
            ],
            [
             1,
             "#f0f921"
            ]
           ],
           "sequentialminus": [
            [
             0,
             "#0d0887"
            ],
            [
             0.1111111111111111,
             "#46039f"
            ],
            [
             0.2222222222222222,
             "#7201a8"
            ],
            [
             0.3333333333333333,
             "#9c179e"
            ],
            [
             0.4444444444444444,
             "#bd3786"
            ],
            [
             0.5555555555555556,
             "#d8576b"
            ],
            [
             0.6666666666666666,
             "#ed7953"
            ],
            [
             0.7777777777777778,
             "#fb9f3a"
            ],
            [
             0.8888888888888888,
             "#fdca26"
            ],
            [
             1,
             "#f0f921"
            ]
           ]
          },
          "colorway": [
           "#636efa",
           "#EF553B",
           "#00cc96",
           "#ab63fa",
           "#FFA15A",
           "#19d3f3",
           "#FF6692",
           "#B6E880",
           "#FF97FF",
           "#FECB52"
          ],
          "font": {
           "color": "#2a3f5f"
          },
          "geo": {
           "bgcolor": "white",
           "lakecolor": "white",
           "landcolor": "#E5ECF6",
           "showlakes": true,
           "showland": true,
           "subunitcolor": "white"
          },
          "hoverlabel": {
           "align": "left"
          },
          "hovermode": "closest",
          "mapbox": {
           "style": "light"
          },
          "paper_bgcolor": "white",
          "plot_bgcolor": "#E5ECF6",
          "polar": {
           "angularaxis": {
            "gridcolor": "white",
            "linecolor": "white",
            "ticks": ""
           },
           "bgcolor": "#E5ECF6",
           "radialaxis": {
            "gridcolor": "white",
            "linecolor": "white",
            "ticks": ""
           }
          },
          "scene": {
           "xaxis": {
            "backgroundcolor": "#E5ECF6",
            "gridcolor": "white",
            "gridwidth": 2,
            "linecolor": "white",
            "showbackground": true,
            "ticks": "",
            "zerolinecolor": "white"
           },
           "yaxis": {
            "backgroundcolor": "#E5ECF6",
            "gridcolor": "white",
            "gridwidth": 2,
            "linecolor": "white",
            "showbackground": true,
            "ticks": "",
            "zerolinecolor": "white"
           },
           "zaxis": {
            "backgroundcolor": "#E5ECF6",
            "gridcolor": "white",
            "gridwidth": 2,
            "linecolor": "white",
            "showbackground": true,
            "ticks": "",
            "zerolinecolor": "white"
           }
          },
          "shapedefaults": {
           "line": {
            "color": "#2a3f5f"
           }
          },
          "ternary": {
           "aaxis": {
            "gridcolor": "white",
            "linecolor": "white",
            "ticks": ""
           },
           "baxis": {
            "gridcolor": "white",
            "linecolor": "white",
            "ticks": ""
           },
           "bgcolor": "#E5ECF6",
           "caxis": {
            "gridcolor": "white",
            "linecolor": "white",
            "ticks": ""
           }
          },
          "title": {
           "x": 0.05
          },
          "xaxis": {
           "automargin": true,
           "gridcolor": "white",
           "linecolor": "white",
           "ticks": "",
           "title": {
            "standoff": 15
           },
           "zerolinecolor": "white",
           "zerolinewidth": 2
          },
          "yaxis": {
           "automargin": true,
           "gridcolor": "white",
           "linecolor": "white",
           "ticks": "",
           "title": {
            "standoff": 15
           },
           "zerolinecolor": "white",
           "zerolinewidth": 2
          }
         }
        },
        "width": 500
       }
      },
      "image/png": "[encoded data removed]",
      "text/html": [
       "<div>                            <div id=\"46ae25d2-cc46-44e8-82b6-e13a6190602c\" class=\"plotly-graph-div\" style=\"height:500px; width:500px;\"></div>            <script type=\"text/javascript\">                require([\"plotly\"], function(Plotly) {                    window.PLOTLYENV=window.PLOTLYENV || {};                                    if (document.getElementById(\"46ae25d2-cc46-44e8-82b6-e13a6190602c\")) {                    Plotly.newPlot(                        \"46ae25d2-cc46-44e8-82b6-e13a6190602c\",                        [{\"hoverinfo\":\"text\",\"marker\":{\"color\":[\"black\",\"lime\",\"lime\",\"lime\",\"black\",\"lime\",\"lime\",\"black\",\"lime\",\"lime\",\"black\",\"lime\",\"lime\",\"black\",\"lime\",\"lime\",\"black\",\"lime\",\"lime\",\"black\",\"lime\",\"lime\",\"black\",\"lime\",\"yellow\",\"red\",\"red\",\"red\",\"white\"],\"colorscale\":[[0.0,\"#440154\"],[0.1111111111111111,\"#482878\"],[0.2222222222222222,\"#3e4989\"],[0.3333333333333333,\"#31688e\"],[0.4444444444444444,\"#26828e\"],[0.5555555555555556,\"#1f9e89\"],[0.6666666666666666,\"#35b779\"],[0.7777777777777778,\"#6ece58\"],[0.8888888888888888,\"#b5de2b\"],[1.0,\"#fde725\"]],\"opacity\":0.8,\"size\":3},\"mode\":\"markers\",\"text\":[\"C1\",\"F2\",\"F3\",\"F4\",\"C5\",\"F6\",\"F7\",\"C8\",\"F9\",\"F10\",\"C11\",\"F12\",\"F13\",\"C14\",\"F15\",\"F16\",\"C17\",\"F18\",\"F19\",\"C20\",\"F21\",\"F22\",\"C23\",\"F25\",\"S26\",\"O27\",\"O28\",\"O29\",\"H30\"],\"x\":[0.0,-1.0169347302254699,-0.44557653768826,0.70940447840478,0.6876238827372908,1.7045586265728767,1.1332003676305231,0.03990545111099586,-0.9770292791144747,-0.4056710865772636,0.7275293338482864,1.744464077683873,1.1731058187415182,0.07981090222199161,-0.9371238280034792,-0.36576563546626717,0.7674347849592824,1.7843695287948687,1.2130112698525135,0.11971635333298702,-0.8972183768924832,-0.325860184355271,0.8073402360702788,1.25438093745456,-0.2457711283922004,-1.3353998791478827,0.5350911802599893,-0.8457892412131413,-1.279598195899887],\"y\":[0.0,-0.75246221681069,1.09984321741231,0.30949213355259003,-0.5997526212234046,0.15270929465963212,-1.6995946713066508,-0.8823329621258713,-1.634795178936561,0.21751025528643853,-1.482085583349276,-0.7296236674662399,-2.5819276334325223,-1.7646659242517428,-2.5171281410624324,-0.6648227068394332,-2.3644185454751483,-1.6119566295921117,-3.464260595558395,-2.6469988863776157,-3.3994611031883046,-1.5471556689653054,-3.2467515076010205,-4.3439074376567195,-3.756216277637847,-4.615765380581463,-4.601545813257569,-2.589962014461171,-4.716382390751652],\"z\":[0.0,0.35634641152507,-0.5649302025294499,1.06221462745206,-0.7794037395502719,-1.1357507476742115,-0.21447122275294894,-1.7492538229482257,-1.3929074114231557,-2.3141840254776755,-2.5286575624984975,-2.8850045706224368,-1.963725045701175,-3.4985076458964524,-3.142161234371382,-4.063437848425902,-4.277911385446725,-4.634258393570664,-3.7129788686494027,-5.24776146884468,-4.891415057319609,-5.81269167137413,-6.027165208394953,-5.4198097277508195,-7.489074284593028,-6.725046932361814,-8.309775667977583,-8.016055486621168,-5.7736188975446225],\"type\":\"scatter3d\"},{\"line\":{\"color\":\"black\",\"width\":3},\"mode\":\"lines\",\"x\":[0.0,-1.0169347302254699],\"y\":[0.0,-0.75246221681069],\"z\":[0.0,0.35634641152507],\"type\":\"scatter3d\"},{\"line\":{\"color\":\"black\",\"width\":3},\"mode\":\"lines\",\"x\":[0.0,-0.44557653768826],\"y\":[0.0,1.09984321741231],\"z\":[0.0,-0.5649302025294499],\"type\":\"scatter3d\"},{\"line\":{\"color\":\"black\",\"width\":3},\"mode\":\"lines\",\"x\":[0.0,0.70940447840478],\"y\":[0.0,0.30949213355259003],\"z\":[0.0,1.06221462745206],\"type\":\"scatter3d\"},{\"line\":{\"color\":\"black\",\"width\":3},\"mode\":\"lines\",\"x\":[0.0,0.6876238827372908],\"y\":[0.0,-0.5997526212234046],\"z\":[0.0,-0.7794037395502719],\"type\":\"scatter3d\"},{\"line\":{\"color\":\"black\",\"width\":3},\"mode\":\"lines\",\"x\":[0.6876238827372908,1.7045586265728767],\"y\":[-0.5997526212234046,0.15270929465963212],\"z\":[-0.7794037395502719,-1.1357507476742115],\"type\":\"scatter3d\"},{\"line\":{\"color\":\"black\",\"width\":3},\"mode\":\"lines\",\"x\":[0.6876238827372908,1.1332003676305231],\"y\":[-0.5997526212234046,-1.6995946713066508],\"z\":[-0.7794037395502719,-0.21447122275294894],\"type\":\"scatter3d\"},{\"line\":{\"color\":\"black\",\"width\":3},\"mode\":\"lines\",\"x\":[0.6876238827372908,0.03990545111099586],\"y\":[-0.5997526212234046,-0.8823329621258713],\"z\":[-0.7794037395502719,-1.7492538229482257],\"type\":\"scatter3d\"},{\"line\":{\"color\":\"black\",\"width\":3},\"mode\":\"lines\",\"x\":[0.03990545111099586,-0.9770292791144747],\"y\":[-0.8823329621258713,-1.634795178936561],\"z\":[-1.7492538229482257,-1.3929074114231557],\"type\":\"scatter3d\"},{\"line\":{\"color\":\"black\",\"width\":3},\"mode\":\"lines\",\"x\":[0.03990545111099586,-0.4056710865772636],\"y\":[-0.8823329621258713,0.21751025528643853],\"z\":[-1.7492538229482257,-2.3141840254776755],\"type\":\"scatter3d\"},{\"line\":{\"color\":\"black\",\"width\":3},\"mode\":\"lines\",\"x\":[0.03990545111099586,0.7275293338482864],\"y\":[-0.8823329621258713,-1.482085583349276],\"z\":[-1.7492538229482257,-2.5286575624984975],\"type\":\"scatter3d\"},{\"line\":{\"color\":\"black\",\"width\":3},\"mode\":\"lines\",\"x\":[0.7275293338482864,1.744464077683873],\"y\":[-1.482085583349276,-0.7296236674662399],\"z\":[-2.5286575624984975,-2.8850045706224368],\"type\":\"scatter3d\"},{\"line\":{\"color\":\"black\",\"width\":3},\"mode\":\"lines\",\"x\":[0.7275293338482864,1.1731058187415182],\"y\":[-1.482085583349276,-2.5819276334325223],\"z\":[-2.5286575624984975,-1.963725045701175],\"type\":\"scatter3d\"},{\"line\":{\"color\":\"black\",\"width\":3},\"mode\":\"lines\",\"x\":[0.7275293338482864,0.07981090222199161],\"y\":[-1.482085583349276,-1.7646659242517428],\"z\":[-2.5286575624984975,-3.4985076458964524],\"type\":\"scatter3d\"},{\"line\":{\"color\":\"black\",\"width\":3},\"mode\":\"lines\",\"x\":[0.07981090222199161,-0.9371238280034792],\"y\":[-1.7646659242517428,-2.5171281410624324],\"z\":[-3.4985076458964524,-3.142161234371382],\"type\":\"scatter3d\"},{\"line\":{\"color\":\"black\",\"width\":3},\"mode\":\"lines\",\"x\":[0.07981090222199161,-0.36576563546626717],\"y\":[-1.7646659242517428,-0.6648227068394332],\"z\":[-3.4985076458964524,-4.063437848425902],\"type\":\"scatter3d\"},{\"line\":{\"color\":\"black\",\"width\":3},\"mode\":\"lines\",\"x\":[0.07981090222199161,0.7674347849592824],\"y\":[-1.7646659242517428,-2.3644185454751483],\"z\":[-3.4985076458964524,-4.277911385446725],\"type\":\"scatter3d\"},{\"line\":{\"color\":\"black\",\"width\":3},\"mode\":\"lines\",\"x\":[0.7674347849592824,1.7843695287948687],\"y\":[-2.3644185454751483,-1.6119566295921117],\"z\":[-4.277911385446725,-4.634258393570664],\"type\":\"scatter3d\"},{\"line\":{\"color\":\"black\",\"width\":3},\"mode\":\"lines\",\"x\":[0.7674347849592824,1.2130112698525135],\"y\":[-2.3644185454751483,-3.464260595558395],\"z\":[-4.277911385446725,-3.7129788686494027],\"type\":\"scatter3d\"},{\"line\":{\"color\":\"black\",\"width\":3},\"mode\":\"lines\",\"x\":[0.7674347849592824,0.11971635333298702],\"y\":[-2.3644185454751483,-2.6469988863776157],\"z\":[-4.277911385446725,-5.24776146884468],\"type\":\"scatter3d\"},{\"line\":{\"color\":\"black\",\"width\":3},\"mode\":\"lines\",\"x\":[0.11971635333298702,-0.8972183768924832],\"y\":[-2.6469988863776157,-3.3994611031883046],\"z\":[-5.24776146884468,-4.891415057319609],\"type\":\"scatter3d\"},{\"line\":{\"color\":\"black\",\"width\":3},\"mode\":\"lines\",\"x\":[0.11971635333298702,-0.325860184355271],\"y\":[-2.6469988863776157,-1.5471556689653054],\"z\":[-5.24776146884468,-5.81269167137413],\"type\":\"scatter3d\"},{\"line\":{\"color\":\"black\",\"width\":3},\"mode\":\"lines\",\"x\":[0.11971635333298702,0.8073402360702788],\"y\":[-2.6469988863776157,-3.2467515076010205],\"z\":[-5.24776146884468,-6.027165208394953],\"type\":\"scatter3d\"},{\"line\":{\"color\":\"black\",\"width\":3},\"mode\":\"lines\",\"x\":[-0.8972183768924832,-1.279598195899887],\"y\":[-3.3994611031883046,-4.716382390751652],\"z\":[-4.891415057319609,-5.7736188975446225],\"type\":\"scatter3d\"},{\"line\":{\"color\":\"black\",\"width\":3},\"mode\":\"lines\",\"x\":[0.8073402360702788,1.25438093745456],\"y\":[-3.2467515076010205,-4.3439074376567195],\"z\":[-6.027165208394953,-5.4198097277508195],\"type\":\"scatter3d\"},{\"line\":{\"color\":\"black\",\"width\":3},\"mode\":\"lines\",\"x\":[-0.2457711283922004,-1.3353998791478827],\"y\":[-3.756216277637847,-4.615765380581463],\"z\":[-7.489074284593028,-6.725046932361814],\"type\":\"scatter3d\"},{\"line\":{\"color\":\"black\",\"width\":3},\"mode\":\"lines\",\"x\":[-0.2457711283922004,0.5350911802599893],\"y\":[-3.756216277637847,-4.601545813257569],\"z\":[-7.489074284593028,-8.309775667977583],\"type\":\"scatter3d\"},{\"line\":{\"color\":\"black\",\"width\":3},\"mode\":\"lines\",\"x\":[-0.2457711283922004,-0.8457892412131413],\"y\":[-3.756216277637847,-2.589962014461171],\"z\":[-7.489074284593028,-8.016055486621168],\"type\":\"scatter3d\"},{\"line\":{\"color\":\"black\",\"width\":3},\"mode\":\"lines\",\"x\":[-1.3353998791478827,-1.279598195899887],\"y\":[-4.615765380581463,-4.716382390751652],\"z\":[-6.725046932361814,-5.7736188975446225],\"type\":\"scatter3d\"}],                        {\"template\":{\"data\":{\"histogram2dcontour\":[{\"type\":\"histogram2dcontour\",\"colorbar\":{\"outlinewidth\":0,\"ticks\":\"\"},\"colorscale\":[[0.0,\"#0d0887\"],[0.1111111111111111,\"#46039f\"],[0.2222222222222222,\"#7201a8\"],[0.3333333333333333,\"#9c179e\"],[0.4444444444444444,\"#bd3786\"],[0.5555555555555556,\"#d8576b\"],[0.6666666666666666,\"#ed7953\"],[0.7777777777777778,\"#fb9f3a\"],[0.8888888888888888,\"#fdca26\"],[1.0,\"#f0f921\"]]}],\"choropleth\":[{\"type\":\"choropleth\",\"colorbar\":{\"outlinewidth\":0,\"ticks\":\"\"}}],\"histogram2d\":[{\"type\":\"histogram2d\",\"colorbar\":{\"outlinewidth\":0,\"ticks\":\"\"},\"colorscale\":[[0.0,\"#0d0887\"],[0.1111111111111111,\"#46039f\"],[0.2222222222222222,\"#7201a8\"],[0.3333333333333333,\"#9c179e\"],[0.4444444444444444,\"#bd3786\"],[0.5555555555555556,\"#d8576b\"],[0.6666666666666666,\"#ed7953\"],[0.7777777777777778,\"#fb9f3a\"],[0.8888888888888888,\"#fdca26\"],[1.0,\"#f0f921\"]]}],\"heatmap\":[{\"type\":\"heatmap\",\"colorbar\":{\"outlinewidth\":0,\"ticks\":\"\"},\"colorscale\":[[0.0,\"#0d0887\"],[0.1111111111111111,\"#46039f\"],[0.2222222222222222,\"#7201a8\"],[0.3333333333333333,\"#9c179e\"],[0.4444444444444444,\"#bd3786\"],[0.5555555555555556,\"#d8576b\"],[0.6666666666666666,\"#ed7953\"],[0.7777777777777778,\"#fb9f3a\"],[0.8888888888888888,\"#fdca26\"],[1.0,\"#f0f921\"]]}],\"heatmapgl\":[{\"type\":\"heatmapgl\",\"colorbar\":{\"outlinewidth\":0,\"ticks\":\"\"},\"colorscale\":[[0.0,\"#0d0887\"],[0.1111111111111111,\"#46039f\"],[0.2222222222222222,\"#7201a8\"],[0.3333333333333333,\"#9c179e\"],[0.4444444444444444,\"#bd3786\"],[0.5555555555555556,\"#d8576b\"],[0.6666666666666666,\"#ed7953\"],[0.7777777777777778,\"#fb9f3a\"],[0.8888888888888888,\"#fdca26\"],[1.0,\"#f0f921\"]]}],\"contourcarpet\":[{\"type\":\"contourcarpet\",\"colorbar\":{\"outlinewidth\":0,\"ticks\":\"\"}}],\"contour\":[{\"type\":\"contour\",\"colorbar\":{\"outlinewidth\":0,\"ticks\":\"\"},\"colorscale\":[[0.0,\"#0d0887\"],[0.1111111111111111,\"#46039f\"],[0.2222222222222222,\"#7201a8\"],[0.3333333333333333,\"#9c179e\"],[0.4444444444444444,\"#bd3786\"],[0.5555555555555556,\"#d8576b\"],[0.6666666666666666,\"#ed7953\"],[0.7777777777777778,\"#fb9f3a\"],[0.8888888888888888,\"#fdca26\"],[1.0,\"#f0f921\"]]}],\"surface\":[{\"type\":\"surface\",\"colorbar\":{\"outlinewidth\":0,\"ticks\":\"\"},\"colorscale\":[[0.0,\"#0d0887\"],[0.1111111111111111,\"#46039f\"],[0.2222222222222222,\"#7201a8\"],[0.3333333333333333,\"#9c179e\"],[0.4444444444444444,\"#bd3786\"],[0.5555555555555556,\"#d8576b\"],[0.6666666666666666,\"#ed7953\"],[0.7777777777777778,\"#fb9f3a\"],[0.8888888888888888,\"#fdca26\"],[1.0,\"#f0f921\"]]}],\"mesh3d\":[{\"type\":\"mesh3d\",\"colorbar\":{\"outlinewidth\":0,\"ticks\":\"\"}}],\"scatter\":[{\"fillpattern\":{\"fillmode\":\"overlay\",\"size\":10,\"solidity\":0.2},\"type\":\"scatter\"}],\"parcoords\":[{\"type\":\"parcoords\",\"line\":{\"colorbar\":{\"outlinewidth\":0,\"ticks\":\"\"}}}],\"scatterpolargl\":[{\"type\":\"scatterpolargl\",\"marker\":{\"colorbar\":{\"outlinewidth\":0,\"ticks\":\"\"}}}],\"bar\":[{\"error_x\":{\"color\":\"#2a3f5f\"},\"error_y\":{\"color\":\"#2a3f5f\"},\"marker\":{\"line\":{\"color\":\"#E5ECF6\",\"width\":0.5},\"pattern\":{\"fillmode\":\"overlay\",\"size\":10,\"solidity\":0.2}},\"type\":\"bar\"}],\"scattergeo\":[{\"type\":\"scattergeo\",\"marker\":{\"colorbar\":{\"outlinewidth\":0,\"ticks\":\"\"}}}],\"scatterpolar\":[{\"type\":\"scatterpolar\",\"marker\":{\"colorbar\":{\"outlinewidth\":0,\"ticks\":\"\"}}}],\"histogram\":[{\"marker\":{\"pattern\":{\"fillmode\":\"overlay\",\"size\":10,\"solidity\":0.2}},\"type\":\"histogram\"}],\"scattergl\":[{\"type\":\"scattergl\",\"marker\":{\"colorbar\":{\"outlinewidth\":0,\"ticks\":\"\"}}}],\"scatter3d\":[{\"type\":\"scatter3d\",\"line\":{\"colorbar\":{\"outlinewidth\":0,\"ticks\":\"\"}},\"marker\":{\"colorbar\":{\"outlinewidth\":0,\"ticks\":\"\"}}}],\"scattermapbox\":[{\"type\":\"scattermapbox\",\"marker\":{\"colorbar\":{\"outlinewidth\":0,\"ticks\":\"\"}}}],\"scatterternary\":[{\"type\":\"scatterternary\",\"marker\":{\"colorbar\":{\"outlinewidth\":0,\"ticks\":\"\"}}}],\"scattercarpet\":[{\"type\":\"scattercarpet\",\"marker\":{\"colorbar\":{\"outlinewidth\":0,\"ticks\":\"\"}}}],\"carpet\":[{\"aaxis\":{\"endlinecolor\":\"#2a3f5f\",\"gridcolor\":\"white\",\"linecolor\":\"white\",\"minorgridcolor\":\"white\",\"startlinecolor\":\"#2a3f5f\"},\"baxis\":{\"endlinecolor\":\"#2a3f5f\",\"gridcolor\":\"white\",\"linecolor\":\"white\",\"minorgridcolor\":\"white\",\"startlinecolor\":\"#2a3f5f\"},\"type\":\"carpet\"}],\"table\":[{\"cells\":{\"fill\":{\"color\":\"#EBF0F8\"},\"line\":{\"color\":\"white\"}},\"header\":{\"fill\":{\"color\":\"#C8D4E3\"},\"line\":{\"color\":\"white\"}},\"type\":\"table\"}],\"barpolar\":[{\"marker\":{\"line\":{\"color\":\"#E5ECF6\",\"width\":0.5},\"pattern\":{\"fillmode\":\"overlay\",\"size\":10,\"solidity\":0.2}},\"type\":\"barpolar\"}],\"pie\":[{\"automargin\":true,\"type\":\"pie\"}]},\"layout\":{\"autotypenumbers\":\"strict\",\"colorway\":[\"#636efa\",\"#EF553B\",\"#00cc96\",\"#ab63fa\",\"#FFA15A\",\"#19d3f3\",\"#FF6692\",\"#B6E880\",\"#FF97FF\",\"#FECB52\"],\"font\":{\"color\":\"#2a3f5f\"},\"hovermode\":\"closest\",\"hoverlabel\":{\"align\":\"left\"},\"paper_bgcolor\":\"white\",\"plot_bgcolor\":\"#E5ECF6\",\"polar\":{\"bgcolor\":\"#E5ECF6\",\"angularaxis\":{\"gridcolor\":\"white\",\"linecolor\":\"white\",\"ticks\":\"\"},\"radialaxis\":{\"gridcolor\":\"white\",\"linecolor\":\"white\",\"ticks\":\"\"}},\"ternary\":{\"bgcolor\":\"#E5ECF6\",\"aaxis\":{\"gridcolor\":\"white\",\"linecolor\":\"white\",\"ticks\":\"\"},\"baxis\":{\"gridcolor\":\"white\",\"linecolor\":\"white\",\"ticks\":\"\"},\"caxis\":{\"gridcolor\":\"white\",\"linecolor\":\"white\",\"ticks\":\"\"}},\"coloraxis\":{\"colorbar\":{\"outlinewidth\":0,\"ticks\":\"\"}},\"colorscale\":{\"sequential\":[[0.0,\"#0d0887\"],[0.1111111111111111,\"#46039f\"],[0.2222222222222222,\"#7201a8\"],[0.3333333333333333,\"#9c179e\"],[0.4444444444444444,\"#bd3786\"],[0.5555555555555556,\"#d8576b\"],[0.6666666666666666,\"#ed7953\"],[0.7777777777777778,\"#fb9f3a\"],[0.8888888888888888,\"#fdca26\"],[1.0,\"#f0f921\"]],\"sequentialminus\":[[0.0,\"#0d0887\"],[0.1111111111111111,\"#46039f\"],[0.2222222222222222,\"#7201a8\"],[0.3333333333333333,\"#9c179e\"],[0.4444444444444444,\"#bd3786\"],[0.5555555555555556,\"#d8576b\"],[0.6666666666666666,\"#ed7953\"],[0.7777777777777778,\"#fb9f3a\"],[0.8888888888888888,\"#fdca26\"],[1.0,\"#f0f921\"]],\"diverging\":[[0,\"#8e0152\"],[0.1,\"#c51b7d\"],[0.2,\"#de77ae\"],[0.3,\"#f1b6da\"],[0.4,\"#fde0ef\"],[0.5,\"#f7f7f7\"],[0.6,\"#e6f5d0\"],[0.7,\"#b8e186\"],[0.8,\"#7fbc41\"],[0.9,\"#4d9221\"],[1,\"#276419\"]]},\"xaxis\":{\"gridcolor\":\"white\",\"linecolor\":\"white\",\"ticks\":\"\",\"title\":{\"standoff\":15},\"zerolinecolor\":\"white\",\"automargin\":true,\"zerolinewidth\":2},\"yaxis\":{\"gridcolor\":\"white\",\"linecolor\":\"white\",\"ticks\":\"\",\"title\":{\"standoff\":15},\"zerolinecolor\":\"white\",\"automargin\":true,\"zerolinewidth\":2},\"scene\":{\"xaxis\":{\"backgroundcolor\":\"#E5ECF6\",\"gridcolor\":\"white\",\"linecolor\":\"white\",\"showbackground\":true,\"ticks\":\"\",\"zerolinecolor\":\"white\",\"gridwidth\":2},\"yaxis\":{\"backgroundcolor\":\"#E5ECF6\",\"gridcolor\":\"white\",\"linecolor\":\"white\",\"showbackground\":true,\"ticks\":\"\",\"zerolinecolor\":\"white\",\"gridwidth\":2},\"zaxis\":{\"backgroundcolor\":\"#E5ECF6\",\"gridcolor\":\"white\",\"linecolor\":\"white\",\"showbackground\":true,\"ticks\":\"\",\"zerolinecolor\":\"white\",\"gridwidth\":2}},\"shapedefaults\":{\"line\":{\"color\":\"#2a3f5f\"}},\"annotationdefaults\":{\"arrowcolor\":\"#2a3f5f\",\"arrowhead\":0,\"arrowwidth\":1},\"geo\":{\"bgcolor\":\"white\",\"landcolor\":\"#E5ECF6\",\"subunitcolor\":\"white\",\"showland\":true,\"showlakes\":true,\"lakecolor\":\"white\"},\"title\":{\"x\":0.05},\"mapbox\":{\"style\":\"light\"}}},\"scene\":{\"xaxis\":{\"showbackground\":false,\"showgrid\":true,\"zeroline\":true,\"gridcolor\":\"red\",\"zerolinecolor\":\"green\"},\"yaxis\":{\"showbackground\":false,\"showgrid\":true,\"zeroline\":true,\"gridcolor\":\"red\",\"zerolinecolor\":\"green\"},\"zaxis\":{\"showbackground\":false,\"showgrid\":true,\"zeroline\":true,\"gridcolor\":\"red\",\"zerolinecolor\":\"green\"},\"aspectmode\":\"data\"},\"margin\":{\"l\":50,\"r\":50,\"b\":100,\"t\":100,\"pad\":10},\"showlegend\":false,\"width\":500,\"height\":500,\"autosize\":false,\"paper_bgcolor\":\"rgba(140,140,140,0.5)\",\"plot_bgcolor\":\"rgba(0,100,140,0.5)\"},                        {\"responsive\": true}                    ).then(function(){\n",
       "                            \n",
       "var gd = document.getElementById('46ae25d2-cc46-44e8-82b6-e13a6190602c');\n",
       "var x = new MutationObserver(function (mutations, observer) {{\n",
       "        var display = window.getComputedStyle(gd).display;\n",
       "        if (!display || display === 'none') {{\n",
       "            console.log([gd, 'removed!']);\n",
       "            Plotly.purge(gd);\n",
       "            observer.disconnect();\n",
       "        }}\n",
       "}});\n",
       "\n",
       "// Listen for the removal of the full notebook cells\n",
       "var notebookContainer = gd.closest('#notebook-container');\n",
       "if (notebookContainer) {{\n",
       "    x.observe(notebookContainer, {childList: true});\n",
       "}}\n",
       "\n",
       "// Listen for the clearing of the current output cell\n",
       "var outputEl = gd.closest('.output');\n",
       "if (outputEl) {{\n",
       "    x.observe(outputEl, {childList: true});\n",
       "}}\n",
       "\n",
       "                        })                };                });            </script>        </div>"
      ]
     },
     "metadata": {},
     "output_type": "display_data"
    }
   ],
   "source": [
    "################################C-F BDEs########################## \n",
    "\n",
    "def iterate_write_remove_fluoride(chain,head_name,\\\n",
    "                                        chain_length,write_directory):\n",
    "    i = chain_length - 2\n",
    "    for j in range(0,i+1):\n",
    "        mol_accum = chain.copy()\n",
    "        name = f\"{head_name}_CF2_{i-j}_CF_CF2_{j}_CF3\"\n",
    "        cf_bde = mol_accum.remove_atoms([f\"F{(j+2)*3}\"])\n",
    "        cf_bde.set_name(name).write_xyz(directory=write_directory)\n",
    "        print(f\"shown below: {name}\")\n",
    "        cf_bde.show()\n",
    "        \n",
    "    \n",
    "#all of the radicals formed by breaking off a (non-terminal) fluorine\n",
    "def iterate_write_cf_bdes_all_lengths(starting_structure,chain_group,\\\n",
    "                      head_name,min_chain_length,max_chain_length,write_directory):\n",
    "    counter = 0\n",
    "    \n",
    "    mol_accum = starting_structure.copy()\n",
    "    if min_chain_length < 2:\n",
    "        raise ValueError('Minimum chain length must be at least 2')\n",
    "    for chain_length in range(2,max_chain_length + 1):\n",
    "        mol_accum = chain_group.bs('1').join(mol_accum.bs('2'))\n",
    "        if chain_length >= min_chain_length:\n",
    "            iterate_write_remove_fluoride(mol_accum,head_name,chain_length,write_directory)\n",
    "\n",
    "root = 'data/kimberley/'\n",
    "n_8_sulfonic_acid_cf_bdes_dir = root + 'n_8_sulfonic_acid_cf_bdes'\n",
    "os.makedirs(n_8_sulfonic_acid_cf_bdes_dir,exist_ok=True)\n",
    "#RSO3H(mol_accum,head_name,\n",
    "iterate_write_cf_bdes_all_lengths(cf3so3h,cf4,'HSO3',8,8,n_8_sulfonic_acid_cf_bdes_dir)\n",
    "\n",
    "\n",
    "# n_8_sulfonate_cf_bdes_dir = root + 'n_8_sulfonate_cf_bdes'\n",
    "# os.makedirs(n_8_sulfonate_cf_bdes_dir,exist_ok=True)\n",
    "# #RSO3\n",
    "# iterate_write_cf_bdes_all_lengths(cf3so3,cf4,'SO3',8,8,n_8_sulfonate_cf_bdes_dir)\n",
    "\n",
    "\n",
    "# n_8_carboxylic_acid_cf_bdes_dir = root + 'n_8_carboxylic_acid_cf_bdes'\n",
    "# os.makedirs(n_8_carboxylic_acid_cf_bdes_dir,exist_ok=True)\n",
    "# #RCO2H\n",
    "# iterate_write_cf_bdes_all_lengths(cf3co2h,cf4,'HCO2',8,8,n_8_carboxylic_acid_cf_bdes_dir)\n",
    "\n",
    "# n_8_carboxylate_cf_bdes_dir = root + 'n_8_carboxylate_cf_bdes'\n",
    "# os.makedirs(n_8_carboxylate_cf_bdes_dir,exist_ok=True)\n",
    "# #RCO2\n",
    "# iterate_write_cf_bdes_all_lengths(cf3co2,cf4,'CO2',8,8,n8_carboxylate_cf_bdes_dir)"
   ]
  },
  {
   "cell_type": "code",
   "execution_count": null,
   "id": "c7dfb6f0-b8b5-4876-9eb9-33eea8bc8972",
   "metadata": {},
   "outputs": [],
   "source": [
    "#we have done it! the 184 iterable structures.\n",
    "#now we have to make the miscellaneous ones,\n",
    "#such as the fluoride ions and radicals,\n",
    "#acid acceptors,\n",
    "#electron donors, etc.\n",
    "#ask Kimberly what she used, and check literature for these as well.\n",
    "\n",
    "#next time I sit down to work, will do that ^, and will\n",
    "#start all these calculations,\n",
    "\n",
    "#and will start calculations for Michael as well."
   ]
  }
 ],
 "metadata": {
  "kernelspec": {
   "display_name": "Python 3 (ipykernel)",
   "language": "python",
   "name": "python3"
  },
  "language_info": {
   "codemirror_mode": {
    "name": "ipython",
    "version": 3
   },
   "file_extension": ".py",
   "mimetype": "text/x-python",
   "name": "python",
   "nbconvert_exporter": "python",
   "pygments_lexer": "ipython3",
   "version": "3.11.5"
  }
 },
 "nbformat": 4,
 "nbformat_minor": 5
}
