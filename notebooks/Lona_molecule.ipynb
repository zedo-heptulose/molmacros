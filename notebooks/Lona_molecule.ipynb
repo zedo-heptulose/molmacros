{
 "cells": [
  {
   "cell_type": "code",
   "execution_count": null,
   "id": "b738a424-f70c-406d-8bfe-030cf21ba795",
   "metadata": {},
   "outputs": [],
   "source": [
    "cd MolMakerClean"
   ]
  },
  {
   "cell_type": "code",
   "execution_count": null,
   "id": "92d8df4a-62f9-4f1f-a71f-62fc7ffcaddf",
   "metadata": {},
   "outputs": [],
   "source": [
    "import molecule as mol\n",
    "import os\n",
    "import numpy as np"
   ]
  },
  {
   "cell_type": "code",
   "execution_count": null,
   "id": "b49f67c2-e2e4-4eef-ab16-836ffa982414",
   "metadata": {},
   "outputs": [],
   "source": [
    "molecules = {}\n",
    "directory = '../data/lib/gen'\n",
    "filenames = os.listdir(directory)\n",
    "filenames = [filename for filename in filenames if not filename.startswith('.')]\n",
    "for filename in filenames:\n",
    "    basename = os.path.basename(filename)\n",
    "    basename = os.path.splitext(filename)[0]\n",
    "    path = os.path.join(directory,filename)\n",
    "    print(path)\n",
    "    molecules[basename] = mol.Molecule(filename=path)"
   ]
  },
  {
   "cell_type": "code",
   "execution_count": null,
   "id": "5d9d516e-cb25-44e2-8c7c-d13238c1d788",
   "metadata": {},
   "outputs": [],
   "source": [
    "benzene = molecules['benzene'].copy()\n",
    "benzene.show()"
   ]
  },
  {
   "cell_type": "code",
   "execution_count": null,
   "id": "6a52051a-86b7-4811-a29a-ab6a54e0d0e5",
   "metadata": {},
   "outputs": [],
   "source": [
    "benzene.active_site = '1b'\n",
    "coronene = benzene.copy()\n",
    "for i in range(1,7):\n",
    "    coronene.active_site=(f\"{i}b\")\n",
    "    coronene = coronene.add_across_bond(benzene)\n",
    "coronene.show()"
   ]
  },
  {
   "cell_type": "code",
   "execution_count": null,
   "id": "a34834cd-4942-42b6-9ea3-907d68e5232d",
   "metadata": {},
   "outputs": [],
   "source": [
    "coronene.name = 'coronene'\n",
    "coronene.inplace=True\n",
    "coronene.add_bonding_site('1b',['C28','C29','C22'],update=True)\n",
    "coronene.add_bonding_site('2b',['C36','C37','C30'],update=True)\n",
    "coronene.add_bonding_site('3b',['C44','C45','C38'],update=True)\n",
    "coronene.add_bonding_site('4b',['C52','C53','C46'],update=True)\n",
    "coronene.add_bonding_site('5b',['C12','C13','C11'],update=True)\n",
    "coronene.add_bonding_site('6b',['C20','C21','C14'],update=True)\n",
    "\n",
    "for i in range(1,7):\n",
    "    coronene.remove_bonding_site(f\"{i}\")\n",
    "coronene.inplace=False"
   ]
  },
  {
   "cell_type": "code",
   "execution_count": null,
   "id": "0bc994cb-d33d-44a7-bb2c-e2adb7989c19",
   "metadata": {},
   "outputs": [],
   "source": [
    "coronene.write_json()"
   ]
  },
  {
   "cell_type": "code",
   "execution_count": null,
   "id": "a73b9be4-c423-406d-beee-1625f023c03e",
   "metadata": {},
   "outputs": [],
   "source": [
    "coronene = mol.Molecule(filename='../data/lib/gen/coronene.json')"
   ]
  },
  {
   "cell_type": "code",
   "execution_count": null,
   "id": "9800353f-05cd-4ccd-afa3-f6729c08dfd3",
   "metadata": {},
   "outputs": [],
   "source": [
    "coronene.sites"
   ]
  },
  {
   "cell_type": "code",
   "execution_count": null,
   "id": "139d53c2-9695-485a-b9df-647bf34680fb",
   "metadata": {},
   "outputs": [],
   "source": [
    "alkyne = molecules['alkyne'].copy()\n",
    "alkyne.active_site='1'\n",
    "tbu = molecules['tbu'].copy()\n",
    "tbu.active_site='1'"
   ]
  },
  {
   "cell_type": "code",
   "execution_count": null,
   "id": "b8f31049-25cf-49c2-9d55-314055448b2a",
   "metadata": {},
   "outputs": [],
   "source": [
    "triphenylene = benzene.copy()\n",
    "triphenylene.inplace = True\n",
    "for i in range(1,7,2):\n",
    "    triphenylene.active_site = f\"{i}b\"\n",
    "    triphenylene.add_across_bond(benzene)\n",
    "triphenylene.inplace = False\n",
    "triphenylene.show()"
   ]
  },
  {
   "cell_type": "code",
   "execution_count": null,
   "id": "62858863-707a-4963-9c6d-1c354618e1ba",
   "metadata": {},
   "outputs": [],
   "source": [
    "triphenylene.name = 'triphenylene'\n",
    "triphenylene.inplace=True\n",
    "triphenylene.add_bonding_site('1b',['C19','C20','C4'],update=True)\n",
    "triphenylene.add_bonding_site('2b',['C19','C20','C4'],update=True)\n",
    "triphenylene.add_bonding_site('3b',['C20','C21','C19'],update=True)\n",
    "triphenylene.add_bonding_site('4b',['C27','C28','C2'],update=True)\n",
    "triphenylene.add_bonding_site('5b',['C28','C29','C27'],update=True)\n",
    "triphenylene.add_bonding_site('6b',['C29','C30','C28'],update=True)\n",
    "triphenylene.add_bonding_site('7b',['C11','C12','C6'],update=True)\n",
    "triphenylene.add_bonding_site('8b',['C12','C13','C11'],update=True)\n",
    "triphenylene.add_bonding_site('9b',['C13','C14','C12'],update=True)\n",
    "triphenylene.inplace=False\n",
    "triphenylene.write_json()\n",
    "triphenylene = mol.Molecule(filename='../data/lib/gen/triphenylene.json')\n",
    "triphenylene.show()\n",
    "triphenylene.sites\n",
    "    "
   ]
  },
  {
   "cell_type": "code",
   "execution_count": null,
   "id": "199bea90-62de-4c2c-a6c1-7dd8c79d1dae",
   "metadata": {},
   "outputs": [],
   "source": [
    "frag = benzene.copy()\n",
    "frag.active_site = '1'\n",
    "frag = frag.add_group(tbu)"
   ]
  },
  {
   "cell_type": "code",
   "execution_count": null,
   "id": "9f6a8f6f-f1df-47a0-9137-abb6c839c2b1",
   "metadata": {},
   "outputs": [],
   "source": [
    "cap = benzene.copy()\n",
    "frag.active_site = '3b'\n",
    "cap.active_site = '1b'\n",
    "cap1 = cap.add_across_bond(frag)\n",
    "cap1.active_site = '4b'\n",
    "cap2 = cap1.add_across_bond(frag)\n",
    "cap2.active_site = '6'\n",
    "cap3 = cap2.add_group(alkyne)\n",
    "cap3.show()"
   ]
  },
  {
   "cell_type": "code",
   "execution_count": null,
   "id": "6349ba97-75cb-434f-969d-d8f1465ae402",
   "metadata": {},
   "outputs": [],
   "source": [
    "def distort1(array):\n",
    "    x = array[0]\n",
    "    y = array[1]\n",
    "    z = array[2]\n",
    "    y -= 0.4 * (np.cos(0.5 *x) + np.cos(0.5 * z))\n",
    "    return np.array([x,y,z]) \n",
    "    \n",
    "def distort2(array):\n",
    "    x = array[0]\n",
    "    y = array[1]\n",
    "    z = array[2]\n",
    "    y -= 0.6 * (np.cos(0.5 *x) + np.cos(0.5 * z))\n",
    "    return np.array([x,y,z])\n",
    "\n",
    "cap3.active_site = '2b'\n",
    "triphenylene.active_site = '3b'\n",
    "cap4 = cap3.distort(distort1)\n",
    "triphenylene1 = triphenylene.distort(distort2)\n",
    "cap5 = triphenylene1.add_across_bond(cap4)\n",
    "del cap5['H23']\n",
    "cap5.show()"
   ]
  },
  {
   "cell_type": "code",
   "execution_count": null,
   "id": "4e835ba3-645d-4d51-9170-8079a8fccb79",
   "metadata": {},
   "outputs": [],
   "source": [
    "cap5.inplace=True\n",
    "cap5.add_bonding_site('1',['H16','C12','C11'],update=True)\n",
    "cap5.inplace=False\n",
    "cap5.active_site = '1'\n",
    "cap6 = cap5.add_group(tbu)\n",
    "cap6.show()"
   ]
  },
  {
   "cell_type": "code",
   "execution_count": null,
   "id": "5c3ced75-e818-4f4e-ba56-4f4b79cdc415",
   "metadata": {},
   "outputs": [],
   "source": [
    "def distort3(array):\n",
    "    x = array[0]\n",
    "    y = array[1]\n",
    "    z = array[2]\n",
    "    y -= 0.5\n",
    "    return np.array([x,y,z]) \n",
    "    \n",
    "def distort4(array):\n",
    "    x = array[0]\n",
    "    y = array[1]\n",
    "    z = array[2]\n",
    "    y += 0.5\n",
    "    return np.array([x,y,z])\n",
    "\n",
    "\n",
    "cap6.active_site = '4b'\n",
    "benzene.active_site = '1b'\n",
    "cap7 = benzene.add_across_bond(cap6)\n",
    "cap7.show()"
   ]
  },
  {
   "cell_type": "code",
   "execution_count": null,
   "id": "de531c48-b812-48a5-ae43-1624c3732c80",
   "metadata": {},
   "outputs": [],
   "source": [
    "cap8 = cap7.distort(distort3,atom_mask=['C1','H7'])\n",
    "cap8 = cap8.distort(distort3,atom_mask=['H7'])\n",
    "cap8 = cap8.distort(distort3,atom_mask=['H7'])\n",
    "cap9 = cap8.distort(distort4,atom_mask=['C27','H28'])\n",
    "cap9 = cap9.distort(distort4,atom_mask=['H28'])\n",
    "\n",
    "cap9.show()"
   ]
  },
  {
   "cell_type": "code",
   "execution_count": 100,
   "id": "a6ef15ae-254e-49fc-91bf-ffdd1d2607d5",
   "metadata": {},
   "outputs": [],
   "source": [
    "cap9.active_site = '2b'\n",
    "coronene.active_site = '1b'\n",
    "glass_half_full = coronene.add_across_bond(cap9)\n",
    "del glass_half_full['H86']\n",
    "glass_half_full.active_site = '4b'\n",
    "glass_mostly_full = glass_half_full.add_across_bond(cap9)\n",
    "del glass_mostly_full['H173']\n",
    "glass_mostly_full.active_site = '2b'\n",
    "glass_mostly_full = glass_mostly_full.add_across_bond(benzene)\n",
    "glass_mostly_full.active_site = '5b'\n",
    "glass_mostly_full = glass_mostly_full.add_across_bond(benzene)\n",
    "glass_mostly_full = glass_mostly_full.distort(distort3,atom_mask=['C232','H236','C240','H244'])\n",
    "glass_mostly_full = glass_mostly_full.distort(distort4,atom_mask=['H64','C60','H151','C147'])\n",
    "glass_mostly_full = glass_mostly_full.distort(distort3,atom_mask=['C232','H236','C240','H244'])\n",
    "glass_mostly_full = glass_mostly_full.distort(distort4,atom_mask=['H64','C60','H151','C147'])\n",
    "glass_mostly_full = glass_mostly_full.distort(distort3,atom_mask=['C232','H236','C240','H244'])\n",
    "glass_mostly_full = glass_mostly_full.distort(distort4,atom_mask=['H64','C60','H151','C147'])\n",
    "glass_mostly_full.write_xyz('../data/lib/stgaps_xyz/lona_molecule.xyz')"
   ]
  },
  {
   "cell_type": "code",
   "execution_count": null,
   "id": "4dbb1547-48fa-4b1f-8be3-63ec1e916295",
   "metadata": {},
   "outputs": [],
   "source": []
  }
 ],
 "metadata": {
  "kernelspec": {
   "display_name": "Python 3 (ipykernel)",
   "language": "python",
   "name": "python3"
  },
  "language_info": {
   "codemirror_mode": {
    "name": "ipython",
    "version": 3
   },
   "file_extension": ".py",
   "mimetype": "text/x-python",
   "name": "python",
   "nbconvert_exporter": "python",
   "pygments_lexer": "ipython3",
   "version": "3.11.5"
  }
 },
 "nbformat": 4,
 "nbformat_minor": 5
}
