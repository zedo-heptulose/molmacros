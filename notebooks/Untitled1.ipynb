{
 "cells": [
  {
   "cell_type": "code",
   "execution_count": 10,
   "id": "259a78cf-59dc-41d8-9a5a-45b5467faeb9",
   "metadata": {},
   "outputs": [
    {
     "data": {
      "application/vnd.jupyter.widget-view+json": {
       "model_id": "4fc913088af345c2899ee818820b71d8",
       "version_major": 2,
       "version_minor": 0
      },
      "text/plain": [
       "Text(value='', description='Test:', placeholder='Type something')"
      ]
     },
     "metadata": {},
     "output_type": "display_data"
    },
    {
     "data": {
      "application/vnd.jupyter.widget-view+json": {
       "model_id": "1e01213f19154882a09df76edab07061",
       "version_major": 2,
       "version_minor": 0
      },
      "text/plain": [
       "Button(description='Click me', style=ButtonStyle())"
      ]
     },
     "metadata": {},
     "output_type": "display_data"
    }
   ],
   "source": [
    "import ipywidgets as widgets\n",
    "from IPython.display import display\n",
    "\n",
    "# Simple test widget\n",
    "text_input = widgets.Text(\n",
    "    value='',\n",
    "    placeholder='Type something',\n",
    "    description='Test:',\n",
    "    disabled=False\n",
    ")\n",
    "\n",
    "display(text_input)\n",
    "\n",
    "button = widgets.Button(description=\"Click me\")\n",
    "display(button)"
   ]
  },
  {
   "cell_type": "code",
   "execution_count": 9,
   "id": "51b3f28e-8b5f-45fc-a4cc-f256575e9b46",
   "metadata": {},
   "outputs": [
    {
     "name": "stdout",
     "output_type": "stream",
     "text": [
      "Enabling notebook extension jupyter-js-widgets/extension...\n",
      "      - Validating: \u001b[32mOK\u001b[0m\n"
     ]
    }
   ],
   "source": []
  },
  {
   "cell_type": "code",
   "execution_count": 12,
   "id": "1eeb4c64-d111-41c3-b1dc-516898d09619",
   "metadata": {},
   "outputs": [
    {
     "name": "stdout",
     "output_type": "stream",
     "text": [
      "Enabling notebook extension jupyter-js-widgets/extension...\n",
      "Traceback (most recent call last):\n",
      "  File \"/gpfs/research/software/python/anaconda311/bin/jupyter-nbextension\", line 11, in <module>\n",
      "    sys.exit(main())\n",
      "             ^^^^^^\n",
      "  File \"/gpfs/research/software/python/anaconda311/lib/python3.11/site-packages/jupyter_core/application.py\", line 277, in launch_instance\n",
      "    return super().launch_instance(argv=argv, **kwargs)\n",
      "           ^^^^^^^^^^^^^^^^^^^^^^^^^^^^^^^^^^^^^^^^^^^^\n",
      "  File \"/gpfs/research/software/python/anaconda311/lib/python3.11/site-packages/traitlets/config/application.py\", line 992, in launch_instance\n",
      "    app.start()\n",
      "  File \"/gpfs/research/software/python/anaconda311/lib/python3.11/site-packages/notebook/nbextensions.py\", line 972, in start\n",
      "    super().start()\n",
      "  File \"/gpfs/research/software/python/anaconda311/lib/python3.11/site-packages/jupyter_core/application.py\", line 266, in start\n",
      "    self.subapp.start()\n",
      "  File \"/gpfs/research/software/python/anaconda311/lib/python3.11/site-packages/notebook/nbextensions.py\", line 882, in start\n",
      "    self.toggle_nbextension_python(self.extra_args[0])\n",
      "  File \"/gpfs/research/software/python/anaconda311/lib/python3.11/site-packages/notebook/nbextensions.py\", line 855, in toggle_nbextension_python\n",
      "    return toggle(module,\n",
      "           ^^^^^^^^^^^^^^\n",
      "  File \"/gpfs/research/software/python/anaconda311/lib/python3.11/site-packages/notebook/nbextensions.py\", line 470, in enable_nbextension_python\n",
      "    return _set_nbextension_state_python(True, module, user, sys_prefix,\n",
      "           ^^^^^^^^^^^^^^^^^^^^^^^^^^^^^^^^^^^^^^^^^^^^^^^^^^^^^^^^^^^^^\n",
      "  File \"/gpfs/research/software/python/anaconda311/lib/python3.11/site-packages/notebook/nbextensions.py\", line 369, in _set_nbextension_state_python\n",
      "    return [_set_nbextension_state(section=nbext[\"section\"],\n",
      "           ^^^^^^^^^^^^^^^^^^^^^^^^^^^^^^^^^^^^^^^^^^^^^^^^^\n",
      "  File \"/gpfs/research/software/python/anaconda311/lib/python3.11/site-packages/notebook/nbextensions.py\", line 369, in <listcomp>\n",
      "    return [_set_nbextension_state(section=nbext[\"section\"],\n",
      "            ^^^^^^^^^^^^^^^^^^^^^^^^^^^^^^^^^^^^^^^^^^^^^^^^\n",
      "  File \"/gpfs/research/software/python/anaconda311/lib/python3.11/site-packages/notebook/nbextensions.py\", line 339, in _set_nbextension_state\n",
      "    cm.update(section, {\"load_extensions\": {require: state}})\n",
      "  File \"/gpfs/research/software/python/anaconda311/lib/python3.11/site-packages/notebook/config_manager.py\", line 130, in update\n",
      "    self.set(section_name, data)\n",
      "  File \"/gpfs/research/software/python/anaconda311/lib/python3.11/site-packages/notebook/config_manager.py\", line 119, in set\n",
      "    f = open(filename, 'w', encoding='utf-8')\n",
      "        ^^^^^^^^^^^^^^^^^^^^^^^^^^^^^^^^^^^^^\n",
      "PermissionError: [Errno 13] Permission denied: '/gpfs/research/software/python/anaconda311/etc/jupyter/nbconfig/notebook.json'\n"
     ]
    }
   ],
   "source": []
  },
  {
   "cell_type": "code",
   "execution_count": 13,
   "id": "ebd7a226-27ec-4ae5-8e35-b523acef9d8b",
   "metadata": {},
   "outputs": [
    {
     "name": "stdout",
     "output_type": "stream",
     "text": [
      "\u001b[33m(Deprecated) Installing extensions with the jupyter labextension install command is now deprecated and will be removed in a future major version of JupyterLab.\n",
      "\n",
      "Users should manage prebuilt extensions with package managers like pip and conda, and extension authors are encouraged to distribute their extensions as prebuilt packages \u001b[0m\n",
      "/gpfs/home/gdb20/jupyterenv/lib/python3.11/site-packages/jupyterlab/debuglog.py:54: UserWarning: An error occurred.\n",
      "  warnings.warn(\"An error occurred.\")\n",
      "/gpfs/home/gdb20/jupyterenv/lib/python3.11/site-packages/jupyterlab/debuglog.py:55: UserWarning: ValueError: Please install Node.js and npm before continuing installation. You may be able to install Node.js from your package manager, from conda, or directly from the Node.js website (https://nodejs.org).\n",
      "  warnings.warn(msg[-1].strip())\n",
      "/gpfs/home/gdb20/jupyterenv/lib/python3.11/site-packages/jupyterlab/debuglog.py:56: UserWarning: See the log file for details: /tmp/jupyterlab-debug-2ue7cum_.log\n",
      "  warnings.warn(f\"See the log file for details: {log_path!s}\")\n"
     ]
    }
   ],
   "source": [
    "!jupyter labextension install @jupyter-widgets/jupyterlab-manager"
   ]
  },
  {
   "cell_type": "code",
   "execution_count": 14,
   "id": "b004d6aa-9313-4214-980b-56bcd5dcb0a1",
   "metadata": {},
   "outputs": [
    {
     "data": {
      "application/vnd.jupyter.widget-view+json": {
       "model_id": "4fc913088af345c2899ee818820b71d8",
       "version_major": 2,
       "version_minor": 0
      },
      "text/plain": [
       "Text(value='', description='Test:', placeholder='Type something')"
      ]
     },
     "metadata": {},
     "output_type": "display_data"
    }
   ],
   "source": [
    "display(text_input)"
   ]
  },
  {
   "cell_type": "code",
   "execution_count": 7,
   "id": "84c294f8-97c3-48d8-aa68-361fa6369894",
   "metadata": {},
   "outputs": [],
   "source": [
    "w = widgets.IntSlider()"
   ]
  },
  {
   "cell_type": "code",
   "execution_count": 8,
   "id": "afb3f0df-6091-494e-8ade-b453ec3de17d",
   "metadata": {},
   "outputs": [
    {
     "data": {
      "application/vnd.jupyter.widget-view+json": {
       "model_id": "fd81c4433b094aa49deb97ff98354d12",
       "version_major": 2,
       "version_minor": 0
      },
      "text/plain": [
       "IntSlider(value=0)"
      ]
     },
     "metadata": {},
     "output_type": "display_data"
    }
   ],
   "source": [
    "display(w)"
   ]
  },
  {
   "cell_type": "code",
   "execution_count": null,
   "id": "4514cdd9-76f0-450c-bcb6-dde0bf36775a",
   "metadata": {},
   "outputs": [],
   "source": []
  }
 ],
 "metadata": {
  "kernelspec": {
   "display_name": "Python 3 (ipykernel)",
   "language": "python",
   "name": "python3"
  },
  "language_info": {
   "codemirror_mode": {
    "name": "ipython",
    "version": 3
   },
   "file_extension": ".py",
   "mimetype": "text/x-python",
   "name": "python",
   "nbconvert_exporter": "python",
   "pygments_lexer": "ipython3",
   "version": "3.11.5"
  }
 },
 "nbformat": 4,
 "nbformat_minor": 5
}
