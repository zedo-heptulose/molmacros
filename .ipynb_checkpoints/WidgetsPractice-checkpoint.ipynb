{
 "cells": [
  {
   "cell_type": "code",
   "execution_count": 1,
   "id": "3ef400bf-12a8-48a0-b989-f6bd54bba122",
   "metadata": {},
   "outputs": [],
   "source": [
    "import ipywidgets as widgets\n",
    "from IPython.display import display\n"
   ]
  },
  {
   "cell_type": "code",
   "execution_count": 14,
   "id": "a8a802e6-bdbd-498a-9875-a6d95ae852b2",
   "metadata": {},
   "outputs": [],
   "source": [
    "w = widgets.IntSlider()"
   ]
  },
  {
   "cell_type": "code",
   "execution_count": 15,
   "id": "15dd92d0-b239-4417-8f85-9c1700ca7415",
   "metadata": {},
   "outputs": [
    {
     "data": {
      "application/vnd.jupyter.widget-view+json": {
       "model_id": "1acbd7b6fe4a48e59f6a221e649593b2",
       "version_major": 2,
       "version_minor": 0
      },
      "text/plain": [
       "IntSlider(value=0)"
      ]
     },
     "metadata": {},
     "output_type": "display_data"
    }
   ],
   "source": [
    "display(w)"
   ]
  },
  {
   "cell_type": "code",
   "execution_count": 16,
   "id": "3c41387c-0a38-49a2-8a07-85357dc92791",
   "metadata": {},
   "outputs": [],
   "source": [
    "w.value = 40"
   ]
  },
  {
   "cell_type": "code",
   "execution_count": 21,
   "id": "542f0ae1-7240-4a17-8fb3-6f1b4254b47b",
   "metadata": {},
   "outputs": [
    {
     "data": {
      "application/vnd.jupyter.widget-view+json": {
       "model_id": "6b4bab5d93834602933c1de39b4a623d",
       "version_major": 2,
       "version_minor": 0
      },
      "text/plain": [
       "Text(value='Hello World!')"
      ]
     },
     "metadata": {},
     "output_type": "display_data"
    }
   ],
   "source": [
    "b = widgets.Text(value='Hello World!',disabled=False)\n",
    "display(b)"
   ]
  },
  {
   "cell_type": "code",
   "execution_count": null,
   "id": "652ded98-4721-4574-a6dd-e72f3a99dfc2",
   "metadata": {},
   "outputs": [],
   "source": []
  },
  {
   "cell_type": "code",
   "execution_count": 22,
   "id": "b8fd01cf-8447-4013-89da-212e8c7df26f",
   "metadata": {},
   "outputs": [
    {
     "data": {
      "text/plain": [
       "'Goodbye Space!'"
      ]
     },
     "execution_count": 22,
     "metadata": {},
     "output_type": "execute_result"
    }
   ],
   "source": [
    "b.value"
   ]
  },
  {
   "cell_type": "code",
   "execution_count": 23,
   "id": "f0862c96-ca88-44e7-9dc7-4b1e8e75d26b",
   "metadata": {},
   "outputs": [
    {
     "data": {
      "application/vnd.jupyter.widget-view+json": {
       "model_id": "9f74cf4766344da1be3d1d2023eb1d89",
       "version_major": 2,
       "version_minor": 0
      },
      "text/plain": [
       "FloatText(value=0.0)"
      ]
     },
     "metadata": {},
     "output_type": "display_data"
    },
    {
     "data": {
      "application/vnd.jupyter.widget-view+json": {
       "model_id": "e3bbc08edef14b05b9659dd5eeee6c7f",
       "version_major": 2,
       "version_minor": 0
      },
      "text/plain": [
       "FloatSlider(value=0.0)"
      ]
     },
     "metadata": {},
     "output_type": "display_data"
    }
   ],
   "source": [
    "a = widgets.FloatText()\n",
    "b = widgets.FloatSlider()\n",
    "display(a,b)\n",
    "mylink = widgets.jslink((a, 'value'),(b,'value'))"
   ]
  },
  {
   "cell_type": "code",
   "execution_count": 24,
   "id": "a2b2b6fa-284c-4b65-b6cb-ec142bc8f620",
   "metadata": {},
   "outputs": [],
   "source": [
    "mylink.unlink()"
   ]
  },
  {
   "cell_type": "code",
   "execution_count": 40,
   "id": "1599f1e0-c8a3-4b64-9cd9-49a03a86fc68",
   "metadata": {},
   "outputs": [
    {
     "data": {
      "application/vnd.jupyter.widget-view+json": {
       "model_id": "ef7c84adf1184b7b9c0217f8efaca8cd",
       "version_major": 2,
       "version_minor": 0
      },
      "text/plain": [
       "Output(layout=Layout(border_bottom='1px solid black', border_left='1px solid black', border_right='1px solid b…"
      ]
     },
     "metadata": {},
     "output_type": "display_data"
    }
   ],
   "source": [
    "\n",
    "\n",
    "button = widgets.Button(\n",
    "    description = 'Submit?',\n",
    "    disabled = False,\n",
    "    button_style='',\n",
    "    tooltip='click it',\n",
    ")\n",
    "\n",
    "\n",
    "out = widgets.Output(layout={'border':'1px solid black'})\n",
    "display(out)\n",
    "\n",
    "def foo(b):\n",
    "    with out:\n",
    "        print('cringe')\n",
    "\n",
    "button.on_click(foo)\n",
    "\n",
    "with out:\n",
    "    for i in range(10):\n",
    "        print(i,'Hellow world!')"
   ]
  },
  {
   "cell_type": "code",
   "execution_count": 42,
   "id": "7e08a073-bded-4c1a-9a90-297aa3b1359a",
   "metadata": {},
   "outputs": [],
   "source": [
    "with out:\n",
    "    display(widgets.IntSlider(),button)"
   ]
  },
  {
   "cell_type": "code",
   "execution_count": null,
   "id": "397d21e2-5c40-4746-a1e2-31ff9a0e9f8f",
   "metadata": {},
   "outputs": [],
   "source": []
  }
 ],
 "metadata": {
  "kernelspec": {
   "display_name": "Python 3 (ipykernel)",
   "language": "python",
   "name": "python3"
  },
  "language_info": {
   "codemirror_mode": {
    "name": "ipython",
    "version": 3
   },
   "file_extension": ".py",
   "mimetype": "text/x-python",
   "name": "python",
   "nbconvert_exporter": "python",
   "pygments_lexer": "ipython3",
   "version": "3.11.5"
  }
 },
 "nbformat": 4,
 "nbformat_minor": 5
}
