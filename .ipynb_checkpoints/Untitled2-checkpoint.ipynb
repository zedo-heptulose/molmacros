{
 "cells": [
  {
   "cell_type": "code",
   "execution_count": 2,
   "id": "6f63480b-b55d-4691-a804-c3f9d494cbba",
   "metadata": {},
   "outputs": [
    {
     "name": "stdout",
     "output_type": "stream",
     "text": [
      "/gpfs/home/gdb20/code/mol_maker/MolMakerClean\n"
     ]
    }
   ],
   "source": [
    "cd MolMakerClean"
   ]
  },
  {
   "cell_type": "code",
   "execution_count": 3,
   "id": "090acd74-c2a5-4bc5-9ab9-ddda77655be8",
   "metadata": {},
   "outputs": [],
   "source": [
    "import numpy as np\n",
    "import os\n",
    "import molecule as mol\n",
    "import utilities as util\n",
    "import mol_tree as mt"
   ]
  },
  {
   "cell_type": "code",
   "execution_count": null,
   "id": "19ef7aa4-4799-469a-b2e4-8b26bc8c4400",
   "metadata": {},
   "outputs": [],
   "source": []
  }
 ],
 "metadata": {
  "kernelspec": {
   "display_name": "Python 3 (ipykernel)",
   "language": "python",
   "name": "python3"
  },
  "language_info": {
   "codemirror_mode": {
    "name": "ipython",
    "version": 3
   },
   "file_extension": ".py",
   "mimetype": "text/x-python",
   "name": "python",
   "nbconvert_exporter": "python",
   "pygments_lexer": "ipython3",
   "version": "3.11.5"
  }
 },
 "nbformat": 4,
 "nbformat_minor": 5
}
