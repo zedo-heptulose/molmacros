{
 "cells": [
  {
   "cell_type": "code",
   "execution_count": 1,
   "id": "a0763a33-8d42-4d3a-9dc9-496c7fdb877a",
   "metadata": {},
   "outputs": [
    {
     "data": {
      "text/plain": [
       "'/gpfs/home/gdb20/code/mol_maker/data/lib/stgaps_xyz'"
      ]
     },
     "execution_count": 1,
     "metadata": {},
     "output_type": "execute_result"
    }
   ],
   "source": [
    "pwd"
   ]
  },
  {
   "cell_type": "code",
   "execution_count": 2,
   "id": "6a8d908c-ae1e-49ef-bf65-fbe60605a75c",
   "metadata": {},
   "outputs": [
    {
     "name": "stdout",
     "output_type": "stream",
     "text": [
      "/gpfs/home/gdb20/code/input_macros\n"
     ]
    }
   ],
   "source": [
    "cd ../../../../input_macros/"
   ]
  },
  {
   "cell_type": "code",
   "execution_count": 7,
   "id": "b05742a6-e9f4-4776-bc9e-a9cb07727f7b",
   "metadata": {},
   "outputs": [],
   "source": [
    "import xtb_input "
   ]
  },
  {
   "cell_type": "code",
   "execution_count": 8,
   "id": "43b61906-29b1-47dc-9d67-173e220a9f01",
   "metadata": {},
   "outputs": [],
   "source": [
    "builder = xtb_input.xTBInputBuilder()"
   ]
  },
  {
   "cell_type": "code",
   "execution_count": 12,
   "id": "d97d7c31-66ee-4c54-aebf-41a93e9e1dde",
   "metadata": {},
   "outputs": [],
   "source": [
    "builder\\\n",
    ".change_params({\n",
    "    'xyz_file' : 'boss-dirad.xyz',\n",
    "    'xyz_directory' : '../mol_maker/data/lib/stgaps_xyz',\n",
    "    'job_name' : 'boss-dirad_xtb_opt',\n",
    "    'write_directory' : 'output/'\n",
    "})\\\n",
    ".build()\\\n",
    ".create_directory()"
   ]
  },
  {
   "cell_type": "code",
   "execution_count": 13,
   "id": "860c5787-a813-4cfa-bdbd-4820fde3a27f",
   "metadata": {},
   "outputs": [],
   "source": [
    "import orca_input\n"
   ]
  },
  {
   "cell_type": "code",
   "execution_count": 14,
   "id": "ccb63159-a653-49d8-9621-15052cbe30d3",
   "metadata": {},
   "outputs": [],
   "source": [
    "obuilder = orca_input.ORCAInputBuilder()\n"
   ]
  },
  {
   "cell_type": "code",
   "execution_count": 17,
   "id": "75602d88-0d4c-41af-943e-1e9891596271",
   "metadata": {},
   "outputs": [],
   "source": [
    "obuilder\\\n",
    ".change_params({\n",
    "    'xyz_file' : 'boss-dirad-optgfn2.xyz',\n",
    "    'xyz_directory' : '../mol_maker/data/lib/stgaps_xyz/',\n",
    "    'job_name' : 'boss-dirad_xtb_opt',\n",
    "    'write_directory' : './output/boss-dirad-optgfn2.xyz',\n",
    "    'uks' : True,\n",
    "    'broken_symmetry' : True,\n",
    "    'run_type' : '',\n",
    "    'natural_orbitals' : True,\n",
    "})\\\n",
    ".build()\\\n",
    ".create_directory()"
   ]
  },
  {
   "cell_type": "code",
   "execution_count": null,
   "id": "f6dc1ed3-3a96-402e-ac90-d235934b11b0",
   "metadata": {},
   "outputs": [],
   "source": []
  }
 ],
 "metadata": {
  "kernelspec": {
   "display_name": "Python 3 (ipykernel)",
   "language": "python",
   "name": "python3"
  },
  "language_info": {
   "codemirror_mode": {
    "name": "ipython",
    "version": 3
   },
   "file_extension": ".py",
   "mimetype": "text/x-python",
   "name": "python",
   "nbconvert_exporter": "python",
   "pygments_lexer": "ipython3",
   "version": "3.11.5"
  }
 },
 "nbformat": 4,
 "nbformat_minor": 5
}
